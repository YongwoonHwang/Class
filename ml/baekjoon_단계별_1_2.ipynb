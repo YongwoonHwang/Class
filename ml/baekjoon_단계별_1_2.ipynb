{
 "cells": [
  {
   "cell_type": "code",
   "execution_count": 41,
   "id": "41ddecce",
   "metadata": {},
   "outputs": [
    {
     "name": "stdout",
     "output_type": "stream",
     "text": [
      "1 2\n",
      "3\n"
     ]
    }
   ],
   "source": [
    "a , b = input( ).split()\n",
    "a = int(a)\n",
    "b = int(b)\n",
    "print(a + b)"
   ]
  },
  {
   "cell_type": "code",
   "execution_count": 47,
   "id": "5ccd4c05",
   "metadata": {},
   "outputs": [
    {
     "name": "stdout",
     "output_type": "stream",
     "text": [
      "4 5\n",
      "0.8\n"
     ]
    }
   ],
   "source": [
    "a , b = input( ).split()\n",
    "a = int(a)\n",
    "b = int(b)\n",
    "print(a / b)"
   ]
  },
  {
   "cell_type": "code",
   "execution_count": 54,
   "id": "fdd84307",
   "metadata": {
    "scrolled": true
   },
   "outputs": [
    {
     "name": "stdout",
     "output_type": "stream",
     "text": [
      "7 3\n",
      "10\n",
      "4\n",
      "21\n",
      "2\n",
      "1\n"
     ]
    }
   ],
   "source": [
    "a, b = input().split()\n",
    "a = int(a)\n",
    "b = int(b)\n",
    "\n",
    "print(a + b)\n",
    "print(a - b)\n",
    "print(a * b)\n",
    "print(a // b)\n",
    "print(a % b)"
   ]
  },
  {
   "cell_type": "code",
   "execution_count": 58,
   "id": "6576eaf9",
   "metadata": {},
   "outputs": [
    {
     "name": "stdout",
     "output_type": "stream",
     "text": [
      "joonas\n",
      "joonas??!\n"
     ]
    }
   ],
   "source": [
    "a = str(input())\n",
    "print(\"%s??!\"%a)\n",
    "# print(a+\"??!\")\n",
    "\n",
    "print(input()+'??!')\n",
    "\n",
    "a = input()\n",
    "if a == 'joonas':\n",
    "    print('joonas??!')"
   ]
  },
  {
   "cell_type": "code",
   "execution_count": 66,
   "id": "ffe3581f",
   "metadata": {},
   "outputs": [
    {
     "name": "stdout",
     "output_type": "stream",
     "text": [
      "2541\n",
      "1998\n"
     ]
    }
   ],
   "source": [
    "print(2541-1998)\n",
    "print(int(input())-543)"
   ]
  },
  {
   "cell_type": "code",
   "execution_count": 80,
   "id": "d8359daa",
   "metadata": {},
   "outputs": [
    {
     "name": "stdout",
     "output_type": "stream",
     "text": [
      "3 5  6\n",
      "3\n",
      "2\n",
      "2\n",
      "3\n"
     ]
    }
   ],
   "source": [
    "a, b, c = input().split()\n",
    "a = int(a)\n",
    "b = int(b)\n",
    "c = int(c)\n",
    "\n",
    "print((a+b)%c)\n",
    "print(((a%c)+(b%c))%c)\n",
    "print((a*b)%c)\n",
    "print(((a%c)*(b%c))%c)"
   ]
  },
  {
   "cell_type": "code",
   "execution_count": 101,
   "id": "3ae3c552",
   "metadata": {},
   "outputs": [
    {
     "name": "stdout",
     "output_type": "stream",
     "text": [
      "|\\_/|\n",
      "|q p|   /}\n",
      "( 0 )\"\"\"\\\n",
      "|\"^\"`    |\n",
      "||_/=\\\\__|\n"
     ]
    }
   ],
   "source": [
    "print('|\\_/|')\n",
    "print('|q p|   /}')\n",
    "print('( 0 )\"\"\"\\\\')\n",
    "print('|\"^\"`    |')\n",
    "print('||_/=\\\\\\__|')\n"
   ]
  },
  {
   "cell_type": "code",
   "execution_count": 111,
   "id": "ec8a1b71",
   "metadata": {},
   "outputs": [
    {
     "name": "stdout",
     "output_type": "stream",
     "text": [
      "472\n",
      "385\n",
      "2360\n",
      "3776\n",
      "1416\n",
      "181720\n"
     ]
    }
   ],
   "source": [
    "a = int(input())\n",
    "b = input()\n",
    "\n",
    "c = b[-1]\n",
    "d = b[-2]\n",
    "e = b[-3]\n",
    "\n",
    "print(a * int(c))\n",
    "print(a * int(d))\n",
    "print(a * int(e))\n",
    "print(a * int(b))"
   ]
  },
  {
   "cell_type": "code",
   "execution_count": 115,
   "id": "a2b70050",
   "metadata": {
    "scrolled": true
   },
   "outputs": [
    {
     "name": "stdout",
     "output_type": "stream",
     "text": [
      "         ,r'\"7\n",
      "r`-_   ,'  ,/\n",
      " \\. \". L_r'\n",
      "   `~\\/\n",
      "      |\n",
      "      |\n",
      "\n"
     ]
    }
   ],
   "source": [
    "print('''         ,r'\"7\n",
    "r`-_   ,'  ,/\n",
    " \\. \". L_r'\n",
    "   `~\\/\n",
    "      |\n",
    "      |\n",
    "''')\n"
   ]
  },
  {
   "cell_type": "code",
   "execution_count": 126,
   "id": "e299cef1",
   "metadata": {},
   "outputs": [
    {
     "name": "stdout",
     "output_type": "stream",
     "text": [
      "3 1\n",
      ">\n"
     ]
    }
   ],
   "source": [
    "a, b = input().split()\n",
    "\n",
    "a = int(a)\n",
    "b = int(b)\n",
    "\n",
    "if b > a :\n",
    "    print(\"<\")\n",
    "elif a > b :\n",
    "    print(\">\")\n",
    "elif a == b :\n",
    "    print(\"==\")"
   ]
  },
  {
   "cell_type": "code",
   "execution_count": 151,
   "id": "880bfe52",
   "metadata": {},
   "outputs": [
    {
     "ename": "SyntaxError",
     "evalue": "invalid syntax (3097037861.py, line 1)",
     "output_type": "error",
     "traceback": [
      "\u001b[1;36m  Input \u001b[1;32mIn [151]\u001b[1;36m\u001b[0m\n\u001b[1;33m    a = int(input().def(a >= 0 and a <=100))\u001b[0m\n\u001b[1;37m                    ^\u001b[0m\n\u001b[1;31mSyntaxError\u001b[0m\u001b[1;31m:\u001b[0m invalid syntax\n"
     ]
    }
   ],
   "source": [
    "a = int(input())\n",
    "\n",
    "if a >= 90 and a <=100:\n",
    "    print(\"A\")\n",
    "elif a >=80 and a <=89:\n",
    "    print(\"B\")\n",
    "elif a >=70 and a <=79:\n",
    "    print(\"C\")\n",
    "elif a >=60 and a <=69:\n",
    "    print(\"D\")\n",
    "else:\n",
    "    print(\"F\")\n",
    "\n"
   ]
  },
  {
   "cell_type": "code",
   "execution_count": 153,
   "id": "624bae94",
   "metadata": {},
   "outputs": [
    {
     "name": "stdout",
     "output_type": "stream",
     "text": [
      "1999\n",
      "0\n"
     ]
    }
   ],
   "source": [
    "a = int(input())\n",
    "\n",
    "if a%4 == 0 and a%100 != 0 or a%400 ==0:\n",
    "    print(\"1\")\n",
    "else:\n",
    "    print(\"0\")"
   ]
  },
  {
   "cell_type": "code",
   "execution_count": 158,
   "id": "5ab9a8cf",
   "metadata": {},
   "outputs": [
    {
     "name": "stdout",
     "output_type": "stream",
     "text": [
      "-13\n",
      "-13\n",
      "3\n"
     ]
    }
   ],
   "source": [
    "x = int(input())\n",
    "y = int(input())\n",
    "\n",
    "if x > 0 and y > 0:\n",
    "    print(\"1\")\n",
    "elif x < 0 and y > 0:\n",
    "    print(\"2\")\n",
    "elif x < 0 and y < 0:\n",
    "    print(\"3\")\n",
    "elif x > 0 and y < 0:\n",
    "    print(\"4\")"
   ]
  },
  {
   "cell_type": "code",
   "execution_count": 184,
   "id": "49986114",
   "metadata": {
    "scrolled": true
   },
   "outputs": [
    {
     "name": "stdout",
     "output_type": "stream",
     "text": [
      "0 46\n",
      "0 1\n"
     ]
    }
   ],
   "source": [
    "H, M = input().split()\n",
    "H = int(H)\n",
    "M = int(M)\n",
    "\n",
    "if 1 <= H <= 23 and 0 <= M < 45:\n",
    "    print(H-1, 60-(45-M))\n",
    "elif H == 0 and 0 <= M < 45:\n",
    "    print(23, 60-(45-M))\n",
    "elif 1 <= H <= 23 and 45 <= M <= 59:\n",
    "    print(H, M-45)\n",
    "elif H ==0 and 45 <= M <= 59:\n",
    "    print(H, M-45)"
   ]
  },
  {
   "cell_type": "code",
   "execution_count": 375,
   "id": "e31afda6",
   "metadata": {
    "scrolled": true
   },
   "outputs": [
    {
     "name": "stdout",
     "output_type": "stream",
     "text": [
      "21 30\n",
      "360\n",
      "3 30\n"
     ]
    }
   ],
   "source": [
    "A, B = input().split()\n",
    "A = int(A)\n",
    "B = int(B)\n",
    "C = int(input())\n",
    "\n",
    "a = (C+B)//60\n",
    "b = (C+B)%60\n",
    "c = A+a\n",
    "\n",
    "if A+a > 23:\n",
    "    c = 0 + ((A+a)-24)\n",
    "if b >= 60:\n",
    "    b = 0\n",
    "if B+C >= 60:\n",
    "    b = 0+b\n",
    "\n",
    "\n",
    "if 0 <= A <= 23 and 0 <= B <= 59 and 0 <= C <= 1000:\n",
    "    if B+C >= 60:\n",
    "        print(c, b)\n",
    "    elif B+C < 60:\n",
    "        print(A, B+C)\n",
    "        "
   ]
  },
  {
   "cell_type": "code",
   "execution_count": 378,
   "id": "b096c931",
   "metadata": {},
   "outputs": [
    {
     "name": "stdout",
     "output_type": "stream",
     "text": [
      "1 1 5\n",
      "1100\n"
     ]
    }
   ],
   "source": [
    "a, b, c = input().split()\n",
    "\n",
    "a = int(a)\n",
    "b = int(b)\n",
    "c = int(c)\n",
    "\n",
    "if a == b == c:\n",
    "    print(10000 + a * 1000)\n",
    "elif a == b:\n",
    "    print(1000 + a * 100)\n",
    "elif b == c:\n",
    "    print(1000 + b * 100)\n",
    "elif c == a:\n",
    "    print(1000 + c * 100)\n",
    "elif a != b != c:\n",
    "    print(max(a, b, c)*100)"
   ]
  }
 ],
 "metadata": {
  "kernelspec": {
   "display_name": "Python 3 (ipykernel)",
   "language": "python",
   "name": "python3"
  },
  "language_info": {
   "codemirror_mode": {
    "name": "ipython",
    "version": 3
   },
   "file_extension": ".py",
   "mimetype": "text/x-python",
   "name": "python",
   "nbconvert_exporter": "python",
   "pygments_lexer": "ipython3",
   "version": "3.9.12"
  }
 },
 "nbformat": 4,
 "nbformat_minor": 5
}
