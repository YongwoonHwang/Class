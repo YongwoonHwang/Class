{
 "cells": [
  {
   "cell_type": "code",
   "execution_count": null,
   "metadata": {},
   "outputs": [
    {
     "name": "stdout",
     "output_type": "stream",
     "text": [
      "계산식 : 11\n",
      "계산식을 다시 입력 (ex: 3 + 4 형식으로)\n",
      "계산식 : 1 1\n",
      "계산식을 다시 입력 (ex: 3 + 4 형식으로)\n",
      "계산식 :  1\n",
      "계산식을 다시 입력 (ex: 3 + 4 형식으로)\n",
      "계산식 : 11 11\n",
      "계산식을 다시 입력 (ex: 3 + 4 형식으로)\n",
      "계산식 : 1 & 1\n",
      "부호 오류입니다\n",
      "계산식 : 1  &1\n",
      "계산식을 다시 입력 (ex: 3 + 4 형식으로)\n"
     ]
    }
   ],
   "source": [
    "# 3 + 4 -> 7 계산기 프로그램 작성\n",
    "# 반복해서 작성\n",
    "# 처음 문자에 'q'가 입력되면 프로그램 종료\n",
    "# 1. 문자열 입력 -> 리스트에 저장\n",
    "# 2. 리스트의 자료를 가져 옴\n",
    "# 3. 리스트의 처음 자료가 'q'이면 프로그램 종료\n",
    "# 4. 계속 입력 -> 리스트에 저장\n",
    "\n",
    "while True:\n",
    "    input_data = input('계산식 : ').split()\n",
    "    if input_data[0] == 'q' :\n",
    "        print('program end !!')\n",
    "        break\n",
    "        #입력 받은 자료가 숫자가 아니면 재 입력\n",
    "    if len(input_data) !=3 or not input_data[0].isnumeric() or \\\n",
    "       not input_data[2].isnumeric() :\n",
    "        print(\"계산식을 다시 입력 (ex: 3 + 4 형식으로)\")\n",
    "        continue\n",
    "    \n",
    "    if not input_data[1] in '+-*/':\n",
    "        print(\"부호 오류입니다\")\n",
    "        continue\n",
    "        \n",
    "    if input_data[1] == '+':\n",
    "        result = int(input_data[0]) + int(input_data[2])\n",
    "    elif input_data[1] == '-':\n",
    "        result = int(input_data[0]) - int(input_data[2])\n",
    "    elif input_data[1] == '*':\n",
    "        result = int(input_data[0]) * int(input_data[2])\n",
    "    else:\n",
    "        result = int(input_data[0]) / int(input_data[2])\n",
    "        \n",
    "    print(f\"{input_data[0]} {input_data[1]} {input_data[2]} = {result}\")\n",
    "    \n",
    "    "
   ]
  },
  {
   "cell_type": "code",
   "execution_count": 6,
   "metadata": {},
   "outputs": [
    {
     "name": "stdout",
     "output_type": "stream",
     "text": [
      "계산식 : 10 - 4\n",
      "10 - 4 = 6\n",
      "계산식 : 10 * 5\n",
      "10 * 5 = 50\n",
      "계산식 : 10 / 2\n",
      "10 / 2 = 5.0\n",
      "계산식 : q\n",
      "program end !!\n"
     ]
    }
   ],
   "source": [
    "def add_func(a,b):\n",
    "    return a + b\n",
    "def sub_func(a,b):\n",
    "    return a - b\n",
    "def mul_func(a,b):\n",
    "    return a * b\n",
    "def div_func(a,b):\n",
    "    return a / b\n",
    "\n",
    "func_list = {'+':'add_func', '-':'sub_func',\n",
    "            '*':'mul_func', '/':'div_func'}\n",
    "\n",
    "while True:\n",
    "    input_data = input('계산식 : ').split()\n",
    "    if input_data[0] == 'q' :\n",
    "        print('program end !!')\n",
    "        break\n",
    "        #입력 받은 자료가 숫자가 아니면 재 입력\n",
    "    if len(input_data) !=3 or not input_data[0].isnumeric() or \\\n",
    "       not input_data[2].isnumeric() :\n",
    "        print(\"계산식을 다시 입력 (ex: 3 + 4 형식으로)\")\n",
    "        continue\n",
    "    \n",
    "    if not input_data[1] in '+-*/':\n",
    "        print(\"부호 오류입니다\")\n",
    "        continue\n",
    "\n",
    "    num1 = int(input_data[0])\n",
    "    num2 = int(input_data[2])\n",
    "    result = locals()[func_list[input_data[1]]](num1, num2)    \n",
    "        \n",
    "    print(f\"{num1} {input_data[1]} {num2} = {result}\")"
   ]
  }
 ],
 "metadata": {
  "kernelspec": {
   "display_name": "Python 3",
   "language": "python",
   "name": "python3"
  },
  "language_info": {
   "codemirror_mode": {
    "name": "ipython",
    "version": 3
   },
   "file_extension": ".py",
   "mimetype": "text/x-python",
   "name": "python",
   "nbconvert_exporter": "python",
   "pygments_lexer": "ipython3",
   "version": "3.7.6"
  }
 },
 "nbformat": 4,
 "nbformat_minor": 4
}
