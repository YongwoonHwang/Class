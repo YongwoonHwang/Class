{
 "cells": [
  {
   "cell_type": "code",
   "execution_count": 5,
   "metadata": {},
   "outputs": [
    {
     "name": "stdout",
     "output_type": "stream",
     "text": [
      "1 2 <class 'int'>\n"
     ]
    }
   ],
   "source": [
    "print(\"{} {} {}\".format(1, 2, type(3)) )"
   ]
  },
  {
   "cell_type": "code",
   "execution_count": 50,
   "metadata": {
    "scrolled": true
   },
   "outputs": [
    {
     "name": "stdout",
     "output_type": "stream",
     "text": [
      "> 1번째 숫자: 100\n",
      "> 2번째 숫자: 200\n",
      "\n",
      "100 + 200 = 300\n"
     ]
    }
   ],
   "source": [
    "a = input(\"> 1번째 숫자: \")\n",
    "b = input(\"> 2번째 숫자: \")\n",
    "print()\n",
    "\n",
    "print(\"{} + {} = {}\".format(a, b, int(a) + int(b)))"
   ]
  },
  {
   "cell_type": "code",
   "execution_count": 52,
   "metadata": {},
   "outputs": [
    {
     "name": "stdout",
     "output_type": "stream",
     "text": [
      "A지점: hello\n",
      "B지점: HELLO\n"
     ]
    }
   ],
   "source": [
    "string = \"hello\"\n",
    "string.upper()\n",
    "print(\"A지점:\", string)\n",
    "print(\"B지점:\", string.upper())"
   ]
  },
  {
   "cell_type": "markdown",
   "metadata": {},
   "source": [
    "## 1. 구의 부피와 겉넓이"
   ]
  },
  {
   "cell_type": "code",
   "execution_count": 56,
   "metadata": {},
   "outputs": [
    {
     "name": "stdout",
     "output_type": "stream",
     "text": [
      "523.5986666666666\n",
      "314.1592\n"
     ]
    }
   ],
   "source": [
    "# 구의 반지름을 r 이라고 할 때 \n",
    "# 부피 = 4/3 파이r**3\n",
    "# 겉넓이 = 4파이r**2\n",
    "\n",
    "# 구의 반지름을 입력해주세요 : 5\n",
    "# 구의 부피는 523.59866666666입니다.\n",
    "# 구의 겉넓이는 314.1592입니다.\n",
    "\n",
    "r = 5 \n",
    "pi = 3.141592\n",
    "vol = 4/3 * pi * r**3\n",
    "area = 4* pi * r**2\n",
    "\n",
    "print(vol)\n",
    "print(area)"
   ]
  },
  {
   "cell_type": "markdown",
   "metadata": {},
   "source": [
    "## 2. 피타고라스의 정리"
   ]
  },
  {
   "cell_type": "code",
   "execution_count": 62,
   "metadata": {},
   "outputs": [
    {
     "name": "stdout",
     "output_type": "stream",
     "text": [
      "5.0\n"
     ]
    }
   ],
   "source": [
    "# a**2 + b**2 = c**2\n",
    "# 밑변의 길이를 입력해주세요: 3.0\n",
    "# 높이의 길이를 입력해주세요: 4.0\n",
    "# = 빗변의 길이는 5.0입니다.\n",
    "a = 3.0\n",
    "b = 4.0\n",
    "\n",
    "c = (a**2 + b**2)** (1/2)\n",
    "print(c)"
   ]
  },
  {
   "cell_type": "markdown",
   "metadata": {},
   "source": [
    "## 3 확인문제 "
   ]
  },
  {
   "cell_type": "code",
   "execution_count": 71,
   "metadata": {},
   "outputs": [
    {
     "name": "stdout",
     "output_type": "stream",
     "text": [
      "False\n",
      "True\n",
      "False\n",
      "True\n",
      "True\n",
      "False\n",
      "참입니다\n",
      "> 1번째 숫자:2\n",
      "> 2번째 숫자:1\n",
      "\n",
      "처음 입력했던 2가 1보다 더 큽니다\n"
     ]
    }
   ],
   "source": [
    "# 비교 연산자 확인\n",
    "print(10 == 100)\n",
    "print(10 != 100)\n",
    "print(10 > 100)\n",
    "print(10 < 100)\n",
    "print(10 <= 100)\n",
    "print(10 >= 100)\n",
    "\n",
    "# 참 거짓 \n",
    "x = 10\n",
    "if x > 4:\n",
    "    print(\"참입니다\")\n",
    "\n",
    "# 사용자로부터 숫자 두개를 입력받고 첫 번째 입력받은 숫자가 큰지,\n",
    "# 두 번째 입력받은 숫자가 큰지를 구하는 프로그램을 다음 빈칸을 채워 완성해 보세요.\n",
    "a = int(input(\"> 1번째 숫자:\"))\n",
    "b = int(input(\"> 2번째 숫자:\"))\n",
    "print()\n",
    "\n",
    "if a > b:\n",
    "    print(\"처음 입력했던 {}가 {}보다 더 큽니다\". format(a, b))\n",
    "if b > a:\n",
    "    print(\"두 번째로 입력했던 {}가 {}보다 더 큽니다\". format(b, a))"
   ]
  },
  {
   "cell_type": "markdown",
   "metadata": {},
   "source": [
    "## 4. 확인문제"
   ]
  },
  {
   "cell_type": "code",
   "execution_count": 92,
   "metadata": {},
   "outputs": [
    {
     "name": "stdout",
     "output_type": "stream",
     "text": [
      "12\n"
     ]
    }
   ],
   "source": [
    "# 다음 코드의 실행 결과를 예측해 빈칸에 결괏값을 입력하세요.\n",
    "# 1.\n",
    "x = 2\n",
    "y = 10\n",
    "\n",
    "if x > 4:\n",
    "    if y > 2:\n",
    "        print(x * y)\n",
    "        \n",
    "else:\n",
    "        print(x + y)"
   ]
  },
  {
   "cell_type": "code",
   "execution_count": 76,
   "metadata": {},
   "outputs": [
    {
     "name": "stdout",
     "output_type": "stream",
     "text": [
      "5\n"
     ]
    }
   ],
   "source": [
    "# 2.\n",
    "x = 1\n",
    "y = 4\n",
    "\n",
    "if x > 4:\n",
    "    if y > 2:\n",
    "        print(x * y)\n",
    "        \n",
    "else:\n",
    "    print(x + y)"
   ]
  },
  {
   "cell_type": "code",
   "execution_count": 79,
   "metadata": {},
   "outputs": [],
   "source": [
    "# 3.\n",
    "x = 10\n",
    "y = 2\n",
    "\n",
    "if x > 4:\n",
    "    if y > 2:\n",
    "        print(x * y)\n",
    "        \n",
    "else:\n",
    "    print(x + y)"
   ]
  },
  {
   "cell_type": "code",
   "execution_count": 90,
   "metadata": {},
   "outputs": [
    {
     "name": "stdout",
     "output_type": "stream",
     "text": [
      "여기 입력: 1\n"
     ]
    }
   ],
   "source": [
    "# 다음 중첩 조건문에 논리 연산자를 적용해 하나의 if 조건문으로 만들어 주세요.\n",
    "x = int(input(\"여기 입력: \"))\n",
    "\n",
    "if x > 10 and x < 20:\n",
    "    print(\"조건에 맞습니다.\")"
   ]
  },
  {
   "cell_type": "code",
   "execution_count": 107,
   "metadata": {},
   "outputs": [
    {
     "name": "stdout",
     "output_type": "stream",
     "text": [
      "태어난 해를 입력하세요: 1989\n",
      "뱀 띠입니다.\n"
     ]
    }
   ],
   "source": [
    "# 사용자에게 태어난 연도를 입력받아 띠를 출력하는 프로그램을 작성해주세요.\n",
    "# 작성시 입력받은 연도를 12로 나눈 나머지를 사용합니다. \n",
    "# 나머지가 0,1,2,3,4,5,6,7,8,9,10,11 일 때 각각 \n",
    "# 원숭이, 닭, 개 , 돼지, 쥐, 소, 범, 토끼, 용, 뱀, 말, 양띠 입니다.\n",
    "\n",
    "str_input = input(\"태어난 해를 입력하세요: \")\n",
    "birth_year = int(str_input) % 12\n",
    "\n",
    "if birth_year == 0:\n",
    "    print(\"원숭이 띠입니다.\")\n",
    "elif birth_year == 1:\n",
    "    print(\"닭 띠입니다.\")\n",
    "elif birth_year == 2:\n",
    "    print(\"개 띠입니다.\")\n",
    "elif birth_year == 3:\n",
    "    print(\"돼지 띠입니다.\")\n",
    "elif birth_year == 4:\n",
    "    print(\"쥐 띠입니다.\")\n",
    "elif birth_year == 5:\n",
    "    print(\"소 띠입니다.\")\n",
    "elif birth_year == 6:\n",
    "    print(\"범 띠입니다.\")\n",
    "elif birth_year == 7:\n",
    "    print(\"토끼 띠입니다.\")\n",
    "elif birth_year == 8:\n",
    "    print(\"용 띠입니다.\")\n",
    "elif birth_year == 9:\n",
    "    print(\"뱀 띠입니다.\")\n",
    "elif birth_year == 10:\n",
    "    print(\"말 띠입니다.\")\n",
    "elif birth_year == 11:\n",
    "    print(\"양 띠입니다.\")\n"
   ]
  },
  {
   "cell_type": "markdown",
   "metadata": {},
   "source": [
    "## 간단한 대화 프로그램"
   ]
  },
  {
   "cell_type": "code",
   "execution_count": 138,
   "metadata": {},
   "outputs": [
    {
     "name": "stdout",
     "output_type": "stream",
     "text": [
      "입력: 잘 지내?\n",
      "잘 지내?\n"
     ]
    }
   ],
   "source": [
    "# 조건문을 사용해서 한 마디 대화를 나눌 수 있는 프로그램을 만들어 보세요.\n",
    "# 간단하게 \"안녕\" 또는 \"안녕하세요\"를 입력하면 프로그램이 \"안녕하세요\" \n",
    "# 정도의 인사를 할 수 있게 해보고,\"지금 몇 시야?\" 또는 \"지금 몇시에요?\"처럼 \n",
    "# 시간을 물어보면 시간을 응답하게 구현해 보세요.\n",
    "\n",
    "ai_a = input(\"입력: \")\n",
    "import time\n",
    "now = time.localtime()\n",
    "time_a = time.strftime('%H', now)\n",
    "\n",
    "if ai_a == \"안녕\":\n",
    "    print(\"> 안녕하세요.\")\n",
    "elif ai_a == \"안녕하세요\":\n",
    "    print(\"> 안녕하세요.\")\n",
    "elif ai_a == \"안녕하세요.\":\n",
    "    print(\"> 안녕하세요.\")\n",
    "elif ai_a == \"지금 몇 시야?\":\n",
    "    print(\"> 지금은\", time_a, \"시 입니다.\")\n",
    "elif ai_a == \"지금 몇 시에요?\":\n",
    "    print(\"> 지금은\", time_a, \"시 입니다.\")\n",
    "else:\n",
    "    print(ai_a)"
   ]
  },
  {
   "cell_type": "markdown",
   "metadata": {},
   "source": [
    "## 나누어 떨어지는 숫자"
   ]
  },
  {
   "cell_type": "code",
   "execution_count": 215,
   "metadata": {},
   "outputs": [
    {
     "name": "stdout",
     "output_type": "stream",
     "text": [
      "숫자 입력: 20\n",
      "20 은(는) 2로 나누어 떨어집니다.\n",
      "20 은(는) 3으로 나누어 떨어지지 않습니다.\n",
      "20 은(는) 4로 나누어 떨어집니다.\n",
      "20 은(는) 5로 나누어 떨어집니다.\n"
     ]
    }
   ],
   "source": [
    "# 본문에서 홀수 짝수를 구분하는 방법에 대해 배웠습니다. \n",
    "# 이를 응용해서 숫자를 입력하면 그 숫자가 2,3,4,5로 나누어 떨어지는지 확인하고\n",
    "# 출력하는 프로그램을 구현해 보세요.\n",
    "\n",
    "dis_a = int(input(\"숫자 입력: \"))\n",
    "\n",
    "if dis_a%2 == 0:\n",
    "    print(dis_a, \"은(는) 2로 나누어 떨어집니다.\")\n",
    "else:\n",
    "    print(dis_a, \"은(는) 2로 나누어 떨어지지 않습니다.\")\n",
    "if dis_a%3 == 0:\n",
    "    print(dis_a, \"은(는) 3으로 나누어 떨어집니다.\")\n",
    "else:\n",
    "    print(dis_a, \"은(는) 3으로 나누어 떨어지지 않습니다.\")\n",
    "if dis_a%4 == 0:\n",
    "    print(dis_a, \"은(는) 4로 나누어 떨어집니다.\")\n",
    "else:\n",
    "    print(dis_a, \"은(는) 4로 나누어 떨어지지 않습니다.\")\n",
    "if dis_a%5 == 0:\n",
    "    print(dis_a, \"은(는) 5로 나누어 떨어집니다.\")\n",
    "else:\n",
    "    print(dis_a, \"은(는) 5로 나누어 떨어지지 않습니다.\")\n"
   ]
  },
  {
   "cell_type": "markdown",
   "metadata": {},
   "source": [
    "## 확인문제 "
   ]
  },
  {
   "cell_type": "code",
   "execution_count": 165,
   "metadata": {},
   "outputs": [
    {
     "name": "stdout",
     "output_type": "stream",
     "text": [
      "[0, 1, 2, 3, 4, 5, 6, 7, 0, 1, 2, 3, 4, 5, 6, 7]\n"
     ]
    }
   ],
   "source": [
    "# list_a = [0,1,2,3,4,5,6,7]입니다. \n",
    "# 다음 표의 함수들을 실행했을 때 list_a의 결과가 어떻게 나오는지 적어보세요.\n",
    "\n",
    "list_a = [0,1,2,3,4,5,6,7]\n",
    "\n",
    "list_a.extend(list_a)\n",
    "\n",
    "print(list_a)"
   ]
  },
  {
   "cell_type": "code",
   "execution_count": 166,
   "metadata": {},
   "outputs": [
    {
     "name": "stdout",
     "output_type": "stream",
     "text": [
      "[0, 1, 2, 3, 4, 5, 6, 7, 0, 1, 2, 3, 4, 5, 6, 7, 10]\n"
     ]
    }
   ],
   "source": [
    "list_a.append(10)\n",
    "print(list_a)"
   ]
  },
  {
   "cell_type": "code",
   "execution_count": 167,
   "metadata": {},
   "outputs": [
    {
     "name": "stdout",
     "output_type": "stream",
     "text": [
      "[0, 1, 2, 0, 3, 4, 5, 6, 7, 0, 1, 2, 3, 4, 5, 6, 7, 10]\n"
     ]
    }
   ],
   "source": [
    "list_a.insert(3,0)\n",
    "print(list_a)"
   ]
  },
  {
   "cell_type": "code",
   "execution_count": 168,
   "metadata": {},
   "outputs": [
    {
     "name": "stdout",
     "output_type": "stream",
     "text": [
      "[0, 1, 2, 0, 4, 5, 6, 7, 0, 1, 2, 3, 4, 5, 6, 7, 10]\n"
     ]
    }
   ],
   "source": [
    "list_a.remove(3)\n",
    "print(list_a)"
   ]
  },
  {
   "cell_type": "code",
   "execution_count": 169,
   "metadata": {},
   "outputs": [
    {
     "name": "stdout",
     "output_type": "stream",
     "text": [
      "[0, 1, 2, 4, 5, 6, 7, 0, 1, 2, 3, 4, 5, 6, 7, 10]\n"
     ]
    }
   ],
   "source": [
    "list_a.pop(3)\n",
    "print(list_a)"
   ]
  },
  {
   "cell_type": "code",
   "execution_count": 170,
   "metadata": {},
   "outputs": [
    {
     "name": "stdout",
     "output_type": "stream",
     "text": [
      "[]\n"
     ]
    }
   ],
   "source": [
    "list_a.clear()\n",
    "print(list_a)"
   ]
  },
  {
   "cell_type": "code",
   "execution_count": 219,
   "metadata": {},
   "outputs": [
    {
     "name": "stdout",
     "output_type": "stream",
     "text": [
      "-100 이상의 수: 273\n",
      "-100 이상의 수: 103\n",
      "-100 이상의 수: 800\n"
     ]
    }
   ],
   "source": [
    "# 다음 반복문 내부에 if 조건문의 조건식을 채워서 \n",
    "# 100 이상의 숫자만 출력하게 만들어 보세요.\n",
    "# if 조건문과 for 반복문을 조합하는 코드는 굉장히 많이 사용합니다.\n",
    "\n",
    "numbers = [273, 103, 5, 32, 65, 9, 72, 800, 99]\n",
    "\n",
    "for number in numbers:\n",
    "    if number >= 100:\n",
    "        print(\"-100 이상의 수:\", number)"
   ]
  },
  {
   "cell_type": "code",
   "execution_count": 248,
   "metadata": {},
   "outputs": [
    {
     "name": "stdout",
     "output_type": "stream",
     "text": [
      "273 는 홀수입니다.\n",
      "103 는 홀수입니다.\n",
      "5 는 홀수입니다.\n",
      "32 는 짝수 입니다.\n",
      "65 는 홀수입니다.\n",
      "9 는 홀수입니다.\n",
      "72 는 짝수 입니다.\n",
      "800 는 짝수 입니다.\n",
      "99 는 홀수입니다.\n",
      "273 는 3 자리수 입니다.\n",
      "103 는 3 자리수 입니다.\n",
      "5 는 1 자리수 입니다.\n",
      "32 는 2 자리수 입니다.\n",
      "65 는 2 자리수 입니다.\n",
      "9 는 1 자리수 입니다.\n",
      "72 는 2 자리수 입니다.\n",
      "800 는 3 자리수 입니다.\n",
      "99 는 2 자리수 입니다.\n"
     ]
    }
   ],
   "source": [
    "#다음 빈칸을 채워서 실행 결과에 해당하는 프로그램들을 완성해 보세요.\n",
    "\n",
    "numbers = [273, 103, 5, 32, 65, 9, 72, 800, 99]\n",
    "\n",
    "for number in numbers:\n",
    "    if number%2 == 1:\n",
    "        print(number, \"는 홀수입니다.\")\n",
    "    else:\n",
    "        print(number, \"는 짝수 입니다.\")\n",
    "        \n",
    "\n",
    "for number in numbers:\n",
    "    print(number, \"는\", len(str(number)), \"자리수 입니다.\")\n",
    "        "
   ]
  },
  {
   "cell_type": "code",
   "execution_count": 307,
   "metadata": {},
   "outputs": [
    {
     "name": "stdout",
     "output_type": "stream",
     "text": [
      "[[1, 4, 7], [2, 5, 8], [3, 6, 9]]\n"
     ]
    }
   ],
   "source": [
    "#다음 코드의 빈칸을 채워서 실행 결과처럼 출력되도록 완성해 보세요.\n",
    "\n",
    "numbers = [1, 2, 3, 4, 5, 6, 7, 8, 9]\n",
    "output = [[], [], []]\n",
    "\n",
    "for number in numbers:\n",
    "    output[(number+2) % 3].append(number)\n",
    "    \n",
    "print(output)"
   ]
  },
  {
   "cell_type": "code",
   "execution_count": 324,
   "metadata": {},
   "outputs": [
    {
     "name": "stdout",
     "output_type": "stream",
     "text": [
      "i = 0, j = 1\n",
      "i = 1, j = 3\n",
      "i = 2, j = 5\n",
      "i = 3, j = 7\n",
      "[1, 4, 3, 16, 5, 36, 7, 64, 9]\n"
     ]
    }
   ],
   "source": [
    "# 다음 코드의 빈칸을 채워서 실행 결과처럼 출력되도록 완성해 보세요.\n",
    "# 짝수 번째 요소를 제곱하는 것입니다.\n",
    "\n",
    "numbers = [1, 2, 3, 4, 5, 6, 7, 8, 9]\n",
    "\n",
    "for i in range(0, len(numbers) // 2):\n",
    "    # 가 1, 3, 5, 7이 나오려면\n",
    "    # 어떤 식을 사용해야 할까요?\n",
    "    j = (i * 2) + 1\n",
    "    print(f\"i = {i}, j = {j}\")\n",
    "    numbers[j] = numbers[j] ** 2\n",
    "    \n",
    "print(numbers)\n"
   ]
  }
 ],
 "metadata": {
  "kernelspec": {
   "display_name": "Python 3",
   "language": "python",
   "name": "python3"
  },
  "language_info": {
   "codemirror_mode": {
    "name": "ipython",
    "version": 3
   },
   "file_extension": ".py",
   "mimetype": "text/x-python",
   "name": "python",
   "nbconvert_exporter": "python",
   "pygments_lexer": "ipython3",
   "version": "3.7.6"
  }
 },
 "nbformat": 4,
 "nbformat_minor": 4
}
