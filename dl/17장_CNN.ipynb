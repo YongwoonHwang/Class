{
  "nbformat": 4,
  "nbformat_minor": 0,
  "metadata": {
    "colab": {
      "name": "17장_CNN.ipynb",
      "provenance": [],
      "collapsed_sections": []
    },
    "kernelspec": {
      "name": "python3",
      "display_name": "Python 3"
    },
    "language_info": {
      "name": "python"
    },
    "accelerator": "GPU",
    "gpuClass": "standard"
  },
  "cells": [
    {
      "cell_type": "code",
      "execution_count": 23,
      "metadata": {
        "id": "M3_6Cj4EaO-n"
      },
      "outputs": [],
      "source": [
        "from tensorflow.keras.models import Sequential\n",
        "from tensorflow.keras.layers import Dense, Dropout, Flatten, Conv2D, MaxPooling2D\n",
        "from tensorflow.keras.callbacks import ModelCheckpoint, EarlyStopping\n",
        "from tensorflow.keras.datasets import mnist\n",
        "from tensorflow.keras.utils import to_categorical\n",
        "import matplotlib.pyplot as plt\n",
        "import numpy as np"
      ]
    },
    {
      "cell_type": "code",
      "source": [
        "(X_train, y_train), (X_test, y_test) = mnist.load_data()\n",
        "X_train = X_train.reshape(X_train.shape[0], 28, 28, 1).astype('float32') / 255\n",
        "X_test = X_test.reshape(X_test.shape[0],28, 28, 1).astype('float32') / 255\n",
        "y_train = to_categorical(y_train)\n",
        "y_test = to_categorical (y_test)"
      ],
      "metadata": {
        "id": "1Dxn2tJqbkkH"
      },
      "execution_count": 24,
      "outputs": []
    },
    {
      "cell_type": "code",
      "source": [
        "model = Sequential()\n",
        "model.add(Conv2D(32, kernel_size=(3,3), input_shape=(28, 28, 1), activation = 'relu'))\n",
        "model.add(Conv2D(64, (3,3), activation='relu'))\n",
        "model.add(MaxPooling2D(pool_size=(2,2)))\n",
        "model.add(Dropout(0.25))\n",
        "model.add(Flatten())\n",
        "model.add(Dense(128, activation='relu'))\n",
        "model.add(Dropout(0.5))\n",
        "model.add(Dense(10, activation='softmax'))"
      ],
      "metadata": {
        "id": "WDedMt7KcUig"
      },
      "execution_count": 25,
      "outputs": []
    },
    {
      "cell_type": "code",
      "source": [
        "model.compile(loss='categorical_crossentropy', optimizer='adam', metrics=['accuracy'])"
      ],
      "metadata": {
        "id": "VqBI1E1hdCBs"
      },
      "execution_count": 26,
      "outputs": []
    },
    {
      "cell_type": "code",
      "source": [
        "modelpath = \"./MNIST_CNN.hdf5\"\n",
        "checkpointer = ModelCheckpoint(filepath=modelpath, monitor='val_loss', verbose=1, save_best_only=True)\n",
        "early_stopping_callback = EarlyStopping(monitor='val_loss', patience=10)"
      ],
      "metadata": {
        "id": "fB_rKG81dRBo"
      },
      "execution_count": 27,
      "outputs": []
    },
    {
      "cell_type": "code",
      "source": [
        "history = model.fit(X_train, y_train, validation_split=0.25, epochs=30, batch_size=200, verbose=0, callbacks=[early_stopping_callback, checkpointer])"
      ],
      "metadata": {
        "colab": {
          "base_uri": "https://localhost:8080/"
        },
        "id": "UgHVO-Q4dtrG",
        "outputId": "122c652e-7235-4d7d-9dad-36c3eafaac66"
      },
      "execution_count": 28,
      "outputs": [
        {
          "output_type": "stream",
          "name": "stdout",
          "text": [
            "\n",
            "Epoch 1: val_loss improved from inf to 0.07783, saving model to ./MNIST_CNN.hdf5\n",
            "\n",
            "Epoch 2: val_loss improved from 0.07783 to 0.06132, saving model to ./MNIST_CNN.hdf5\n",
            "\n",
            "Epoch 3: val_loss improved from 0.06132 to 0.04980, saving model to ./MNIST_CNN.hdf5\n",
            "\n",
            "Epoch 4: val_loss improved from 0.04980 to 0.04721, saving model to ./MNIST_CNN.hdf5\n",
            "\n",
            "Epoch 5: val_loss improved from 0.04721 to 0.04414, saving model to ./MNIST_CNN.hdf5\n",
            "\n",
            "Epoch 6: val_loss improved from 0.04414 to 0.04023, saving model to ./MNIST_CNN.hdf5\n",
            "\n",
            "Epoch 7: val_loss did not improve from 0.04023\n",
            "\n",
            "Epoch 8: val_loss did not improve from 0.04023\n",
            "\n",
            "Epoch 9: val_loss improved from 0.04023 to 0.03950, saving model to ./MNIST_CNN.hdf5\n",
            "\n",
            "Epoch 10: val_loss improved from 0.03950 to 0.03768, saving model to ./MNIST_CNN.hdf5\n",
            "\n",
            "Epoch 11: val_loss did not improve from 0.03768\n",
            "\n",
            "Epoch 12: val_loss did not improve from 0.03768\n",
            "\n",
            "Epoch 13: val_loss did not improve from 0.03768\n",
            "\n",
            "Epoch 14: val_loss did not improve from 0.03768\n",
            "\n",
            "Epoch 15: val_loss did not improve from 0.03768\n",
            "\n",
            "Epoch 16: val_loss did not improve from 0.03768\n",
            "\n",
            "Epoch 17: val_loss did not improve from 0.03768\n",
            "\n",
            "Epoch 18: val_loss did not improve from 0.03768\n",
            "\n",
            "Epoch 19: val_loss did not improve from 0.03768\n",
            "\n",
            "Epoch 20: val_loss did not improve from 0.03768\n"
          ]
        }
      ]
    },
    {
      "cell_type": "code",
      "source": [
        "print(\"\\n Test Accuracy: %.4f\" % (model.evaluate(X_test, y_test)[1]))"
      ],
      "metadata": {
        "colab": {
          "base_uri": "https://localhost:8080/"
        },
        "id": "gzqLlOWVd-br",
        "outputId": "a0ef9562-ff32-4bbc-8539-6f081ad54d1d"
      },
      "execution_count": 29,
      "outputs": [
        {
          "output_type": "stream",
          "name": "stdout",
          "text": [
            "313/313 [==============================] - 1s 3ms/step - loss: 0.0329 - accuracy: 0.9917\n",
            "\n",
            " Test Accuracy: 0.9917\n"
          ]
        }
      ]
    },
    {
      "cell_type": "code",
      "source": [
        "y_vloss = history.history['val_loss']\n",
        "y_loss = history.history['loss']"
      ],
      "metadata": {
        "id": "b5bneSQpeOMT"
      },
      "execution_count": 30,
      "outputs": []
    },
    {
      "cell_type": "code",
      "source": [
        "x_len = np.arange(len(y_loss))\n",
        "plt.plot(x_len, y_vloss, marker='.', c=\"red\", label='Testset_loss')\n",
        "plt.plot(x_len, y_loss, marker='.', c='blue', label='Trainset_loss')\n",
        "\n",
        "plt.legend(loc='upper right')\n",
        "plt.grid()\n",
        "plt.xlabel('epoch')\n",
        "plt.ylabel('loss')\n",
        "plt.show()"
      ],
      "metadata": {
        "colab": {
          "base_uri": "https://localhost:8080/",
          "height": 279
        },
        "id": "r_afP3c6ef7e",
        "outputId": "79f3ced6-f47f-4136-d6dd-45e553b3bcfd"
      },
      "execution_count": 33,
      "outputs": [
        {
          "output_type": "display_data",
          "data": {
            "text/plain": [
              "<Figure size 432x288 with 1 Axes>"
            ],
            "image/png": "[encoded data removed]"
          },
          "metadata": {
            "needs_background": "light"
          }
        }
      ]
    },
    {
      "cell_type": "code",
      "source": [
        ""
      ],
      "metadata": {
        "id": "K4rCw5qefNxi"
      },
      "execution_count": 32,
      "outputs": []
    }
  ]
}