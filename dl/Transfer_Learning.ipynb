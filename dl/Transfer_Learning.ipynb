{
  "nbformat": 4,
  "nbformat_minor": 0,
  "metadata": {
    "colab": {
      "name": "Transfer_Learning.ipynb",
      "provenance": [],
      "collapsed_sections": []
    },
    "kernelspec": {
      "name": "python3",
      "display_name": "Python 3"
    },
    "language_info": {
      "name": "python"
    },
    "accelerator": "GPU",
    "gpuClass": "standard"
  },
  "cells": [
    {
      "cell_type": "code",
      "execution_count": 1,
      "metadata": {
        "id": "semyfGraPpYw"
      },
      "outputs": [],
      "source": [
        "from tensorflow.keras.preprocessing.image import ImageDataGenerator\n",
        "from tensorflow.keras import Input, models, layers, optimizers, metrics\n",
        "from tensorflow.keras.layers import Dense, Flatten, Activation, Dropout\n",
        "from tensorflow.keras.applications import VGG16\n",
        "from tensorflow.keras.callbacks import EarlyStopping\n",
        "\n",
        "import numpy as np\n",
        "import matplotlib.pyplot as plt"
      ]
    },
    {
      "cell_type": "code",
      "source": [
        "!git clone https://github.com/taehojo/data-ch20.git"
      ],
      "metadata": {
        "colab": {
          "base_uri": "https://localhost:8080/"
        },
        "id": "ZH548zXCQjyk",
        "outputId": "edfe1bf2-fdb9-42ad-eebb-5216c137c652"
      },
      "execution_count": 2,
      "outputs": [
        {
          "output_type": "stream",
          "name": "stdout",
          "text": [
            "Cloning into 'data-ch20'...\n",
            "remote: Enumerating objects: 265, done.\u001b[K\n",
            "remote: Counting objects: 100% (265/265), done.\u001b[K\n",
            "remote: Compressing objects: 100% (265/265), done.\u001b[K\n",
            "remote: Total 265 (delta 0), reused 265 (delta 0), pack-reused 0\u001b[K\n",
            "Receiving objects: 100% (265/265), 1.86 MiB | 7.75 MiB/s, done.\n"
          ]
        }
      ]
    },
    {
      "cell_type": "code",
      "source": [
        "train_datagen = ImageDataGenerator(rescale=1./255,\n",
        "                                   horizontal_flip=True,\n",
        "                                   width_shift_range=0.1,\n",
        "                                   height_shift_range=0.1,)"
      ],
      "metadata": {
        "id": "c2l35Ii0Qqic"
      },
      "execution_count": 3,
      "outputs": []
    },
    {
      "cell_type": "code",
      "source": [
        "train_generator = train_datagen.flow_from_directory(\n",
        "    './data-ch20/train',\n",
        "    target_size = (150, 150),\n",
        "    batch_size=5,\n",
        "    class_mode='binary'\n",
        ")"
      ],
      "metadata": {
        "colab": {
          "base_uri": "https://localhost:8080/"
        },
        "id": "qYUJByBrQ7xz",
        "outputId": "2e75bd7f-bd9d-430c-d712-32333e6e4b1a"
      },
      "execution_count": 4,
      "outputs": [
        {
          "output_type": "stream",
          "name": "stdout",
          "text": [
            "Found 160 images belonging to 2 classes.\n"
          ]
        }
      ]
    },
    {
      "cell_type": "code",
      "source": [
        "test_datagen=ImageDataGenerator(rescale=1./255)\n",
        "\n",
        "test_generator = test_datagen.flow_from_directory(\n",
        "    './data-ch20/test',\n",
        "    target_size = (150, 150),\n",
        "    batch_size=5,\n",
        "    class_mode='binary'\n",
        ")"
      ],
      "metadata": {
        "colab": {
          "base_uri": "https://localhost:8080/"
        },
        "id": "6ui8mjLjRMoF",
        "outputId": "3f98d81d-5950-4ffc-f538-09a3fbfcb18b"
      },
      "execution_count": 6,
      "outputs": [
        {
          "output_type": "stream",
          "name": "stdout",
          "text": [
            "Found 120 images belonging to 2 classes.\n"
          ]
        }
      ]
    },
    {
      "cell_type": "code",
      "source": [
        "transfer_model = VGG16(weights='imagenet', include_top=False, input_shape=(150, 150, 3))\n",
        "transfer_model.trainable = False"
      ],
      "metadata": {
        "colab": {
          "base_uri": "https://localhost:8080/"
        },
        "id": "HSUF7wMuRdhl",
        "outputId": "5d53e6ba-6e89-41de-f47d-088a169f7a13"
      },
      "execution_count": 7,
      "outputs": [
        {
          "output_type": "stream",
          "name": "stdout",
          "text": [
            "Downloading data from https://storage.googleapis.com/tensorflow/keras-applications/vgg16/vgg16_weights_tf_dim_ordering_tf_kernels_notop.h5\n",
            "58892288/58889256 [==============================] - 0s 0us/step\n",
            "58900480/58889256 [==============================] - 0s 0us/step\n"
          ]
        }
      ]
    },
    {
      "cell_type": "code",
      "source": [
        "finetune_model = models.Sequential()\n",
        "finetune_model.add(transfer_model)\n",
        "finetune_model.add(Flatten())\n",
        "finetune_model.add(Dense(64))\n",
        "finetune_model.add(Activation('relu'))\n",
        "finetune_model.add(Dropout(0.5))\n",
        "finetune_model.add(Dense(1))\n",
        "finetune_model.add(Activation('sigmoid'))\n",
        "finetune_model.summary()"
      ],
      "metadata": {
        "colab": {
          "base_uri": "https://localhost:8080/"
        },
        "id": "LhFCKhp6RvxG",
        "outputId": "9e896a05-e9ec-4a29-e65c-dc29e11f428b"
      },
      "execution_count": 8,
      "outputs": [
        {
          "output_type": "stream",
          "name": "stdout",
          "text": [
            "Model: \"sequential\"\n",
            "_________________________________________________________________\n",
            " Layer (type)                Output Shape              Param #   \n",
            "=================================================================\n",
            " vgg16 (Functional)          (None, 4, 4, 512)         14714688  \n",
            "                                                                 \n",
            " flatten (Flatten)           (None, 8192)              0         \n",
            "                                                                 \n",
            " dense (Dense)               (None, 64)                524352    \n",
            "                                                                 \n",
            " activation (Activation)     (None, 64)                0         \n",
            "                                                                 \n",
            " dropout (Dropout)           (None, 64)                0         \n",
            "                                                                 \n",
            " dense_1 (Dense)             (None, 1)                 65        \n",
            "                                                                 \n",
            " activation_1 (Activation)   (None, 1)                 0         \n",
            "                                                                 \n",
            "=================================================================\n",
            "Total params: 15,239,105\n",
            "Trainable params: 524,417\n",
            "Non-trainable params: 14,714,688\n",
            "_________________________________________________________________\n"
          ]
        }
      ]
    },
    {
      "cell_type": "code",
      "source": [
        "finetune_model.compile(loss='binary_crossentropy', optimizer=optimizers.Adam(learning_rate=0.0002), metrics=['accuracy'])"
      ],
      "metadata": {
        "id": "Beg1ltILSIi6"
      },
      "execution_count": 9,
      "outputs": []
    },
    {
      "cell_type": "code",
      "source": [
        "early_stopping_callback = EarlyStopping(monitor='val_loss', patience=5)"
      ],
      "metadata": {
        "id": "xmh8poJDSXLn"
      },
      "execution_count": 10,
      "outputs": []
    },
    {
      "cell_type": "code",
      "source": [
        "history = finetune_model.fit(\n",
        "    train_generator,\n",
        "    epochs=20,\n",
        "    validation_data=test_generator,\n",
        "    validation_steps=10,\n",
        "    callbacks=[early_stopping_callback]\n",
        ")"
      ],
      "metadata": {
        "colab": {
          "base_uri": "https://localhost:8080/"
        },
        "id": "ctpYkwVGSeJl",
        "outputId": "45f6857f-b8bc-4788-c8a7-527ec2695de6"
      },
      "execution_count": 11,
      "outputs": [
        {
          "output_type": "stream",
          "name": "stdout",
          "text": [
            "Epoch 1/20\n",
            "32/32 [==============================] - 61s 2s/step - loss: 0.7202 - accuracy: 0.5625 - val_loss: 0.5856 - val_accuracy: 0.6200\n",
            "Epoch 2/20\n",
            "32/32 [==============================] - 70s 2s/step - loss: 0.5519 - accuracy: 0.7063 - val_loss: 0.4546 - val_accuracy: 0.9400\n",
            "Epoch 3/20\n",
            "32/32 [==============================] - 53s 2s/step - loss: 0.5018 - accuracy: 0.7812 - val_loss: 0.4625 - val_accuracy: 0.8400\n",
            "Epoch 4/20\n",
            "32/32 [==============================] - 47s 1s/step - loss: 0.4145 - accuracy: 0.8375 - val_loss: 0.3749 - val_accuracy: 0.7800\n",
            "Epoch 5/20\n",
            "32/32 [==============================] - 49s 2s/step - loss: 0.3598 - accuracy: 0.8750 - val_loss: 0.4405 - val_accuracy: 0.8400\n",
            "Epoch 6/20\n",
            "32/32 [==============================] - 47s 1s/step - loss: 0.3898 - accuracy: 0.8562 - val_loss: 0.3276 - val_accuracy: 0.9400\n",
            "Epoch 7/20\n",
            "32/32 [==============================] - 48s 2s/step - loss: 0.2919 - accuracy: 0.9125 - val_loss: 0.3049 - val_accuracy: 0.8800\n",
            "Epoch 8/20\n",
            "32/32 [==============================] - 47s 1s/step - loss: 0.2548 - accuracy: 0.9625 - val_loss: 0.2393 - val_accuracy: 0.9200\n",
            "Epoch 9/20\n",
            "32/32 [==============================] - 48s 2s/step - loss: 0.2692 - accuracy: 0.9250 - val_loss: 0.2372 - val_accuracy: 0.9000\n",
            "Epoch 10/20\n",
            "32/32 [==============================] - 47s 1s/step - loss: 0.2565 - accuracy: 0.9250 - val_loss: 0.2652 - val_accuracy: 0.8600\n",
            "Epoch 11/20\n",
            "32/32 [==============================] - 47s 1s/step - loss: 0.2127 - accuracy: 0.9563 - val_loss: 0.2376 - val_accuracy: 0.9200\n",
            "Epoch 12/20\n",
            "32/32 [==============================] - 48s 2s/step - loss: 0.2176 - accuracy: 0.9000 - val_loss: 0.2066 - val_accuracy: 0.9200\n",
            "Epoch 13/20\n",
            "32/32 [==============================] - 47s 1s/step - loss: 0.2271 - accuracy: 0.9563 - val_loss: 0.1716 - val_accuracy: 0.9200\n",
            "Epoch 14/20\n",
            "32/32 [==============================] - 47s 1s/step - loss: 0.2108 - accuracy: 0.9250 - val_loss: 0.2149 - val_accuracy: 0.9000\n",
            "Epoch 15/20\n",
            "32/32 [==============================] - 48s 2s/step - loss: 0.1970 - accuracy: 0.9250 - val_loss: 0.1587 - val_accuracy: 0.9400\n",
            "Epoch 16/20\n",
            "32/32 [==============================] - 47s 1s/step - loss: 0.1574 - accuracy: 0.9688 - val_loss: 0.1190 - val_accuracy: 1.0000\n",
            "Epoch 17/20\n",
            "32/32 [==============================] - 47s 1s/step - loss: 0.1681 - accuracy: 0.9625 - val_loss: 0.1788 - val_accuracy: 0.9200\n",
            "Epoch 18/20\n",
            "32/32 [==============================] - 47s 1s/step - loss: 0.1622 - accuracy: 0.9500 - val_loss: 0.2149 - val_accuracy: 0.9000\n",
            "Epoch 19/20\n",
            "32/32 [==============================] - 48s 2s/step - loss: 0.1717 - accuracy: 0.9500 - val_loss: 0.1204 - val_accuracy: 0.9400\n",
            "Epoch 20/20\n",
            "32/32 [==============================] - 47s 1s/step - loss: 0.1529 - accuracy: 0.9438 - val_loss: 0.2155 - val_accuracy: 0.9200\n"
          ]
        }
      ]
    },
    {
      "cell_type": "code",
      "source": [
        "y_vloss = history.history['val_loss']\n",
        "y_loss = history.history['loss']"
      ],
      "metadata": {
        "id": "mpOiyUB6StBL"
      },
      "execution_count": 12,
      "outputs": []
    },
    {
      "cell_type": "code",
      "source": [
        "x_len = np.arange(len(y_loss))\n",
        "plt.plot(x_len, y_vloss, marker='.', c='red', label='Testset_loss')\n",
        "plt.plot(x_len, y_loss, marker='.', c='blue', label='Testset_loss')\n",
        "\n",
        "plt.legend(loc='upper right')\n",
        "plt.grid()\n",
        "plt.xlabel('epoch')\n",
        "plt.ylabel('loss')\n",
        "plt.show()"
      ],
      "metadata": {
        "colab": {
          "base_uri": "https://localhost:8080/",
          "height": 283
        },
        "id": "mvK2wq8BS0a0",
        "outputId": "6a3cc536-c2a9-4b99-c18c-1a8c2de51a0b"
      },
      "execution_count": 13,
      "outputs": [
        {
          "output_type": "execute_result",
          "data": {
            "text/plain": [
              "[<matplotlib.lines.Line2D at 0x7f702cf40750>]"
            ]
          },
          "metadata": {},
          "execution_count": 13
        },
        {
          "output_type": "display_data",
          "data": {
            "text/plain": [
              "<Figure size 432x288 with 1 Axes>"
            ],
            "image/png": "[encoded data removed]"
          },
          "metadata": {
            "needs_background": "light"
          }
        }
      ]
    },
    {
      "cell_type": "code",
      "source": [
        ""
      ],
      "metadata": {
        "id": "zHQDgTDWTIns"
      },
      "execution_count": null,
      "outputs": []
    }
  ]
}