{
  "nbformat": 4,
  "nbformat_minor": 0,
  "metadata": {
    "colab": {
      "name": "NLP01.ipynb",
      "provenance": [],
      "collapsed_sections": []
    },
    "kernelspec": {
      "name": "python3",
      "display_name": "Python 3"
    },
    "language_info": {
      "name": "python"
    }
  },
  "cells": [
    {
      "cell_type": "code",
      "execution_count": 1,
      "metadata": {
        "id": "mHJjjqR7jfrv"
      },
      "outputs": [],
      "source": [
        "from tensorflow.keras.preprocessing.text import text_to_word_sequence, Tokenizer"
      ]
    },
    {
      "cell_type": "code",
      "source": [
        "text = '해보지 않으면 해낼 수 없다'"
      ],
      "metadata": {
        "id": "RVQlgumOy-3p"
      },
      "execution_count": 2,
      "outputs": []
    },
    {
      "cell_type": "code",
      "source": [
        "result = text_to_word_sequence(text)\n",
        "print(\"\\n원문:\\n\", text)\n",
        "print(\"\\n토큰화:\\n\", result)"
      ],
      "metadata": {
        "colab": {
          "base_uri": "https://localhost:8080/"
        },
        "id": "9QKlvrlBzFTM",
        "outputId": "62cbcd2c-072e-437f-ba04-b96bab6123f3"
      },
      "execution_count": 3,
      "outputs": [
        {
          "output_type": "stream",
          "name": "stdout",
          "text": [
            "\n",
            "원문:\n",
            " 해보지 않으면 해낼 수 없다\n",
            "\n",
            "토큰화:\n",
            " ['해보지', '않으면', '해낼', '수', '없다']\n"
          ]
        }
      ]
    },
    {
      "cell_type": "code",
      "source": [
        "docs= ['먼저 텍스트의 각 단어를 나누어 토큰화 합니다.',\n",
        "'텍스트의 단어로 토큰화 해야 딥러닝에서 인식됩니다.',\n",
        "'토큰화 한 결과는 딥러닝에서 사용할 수 있습니다',\n",
        "]"
      ],
      "metadata": {
        "id": "jWbE7xbUzUJM"
      },
      "execution_count": 4,
      "outputs": []
    },
    {
      "cell_type": "code",
      "source": [
        "token = Tokenizer()\n",
        "token.fit_on_texts(docs)\n",
        "\n",
        "display(\"\\n단어 카운트: \\n\", token.word_counts)"
      ],
      "metadata": {
        "colab": {
          "base_uri": "https://localhost:8080/",
          "height": 329
        },
        "id": "B17h2Fe7zqDw",
        "outputId": "ae3904b6-7aa7-4c0a-c8a0-a50b2e701a07"
      },
      "execution_count": 5,
      "outputs": [
        {
          "output_type": "display_data",
          "data": {
            "text/plain": [
              "'\\n단어 카운트: \\n'"
            ],
            "application/vnd.google.colaboratory.intrinsic+json": {
              "type": "string"
            }
          },
          "metadata": {}
        },
        {
          "output_type": "display_data",
          "data": {
            "text/plain": [
              "OrderedDict([('먼저', 1),\n",
              "             ('텍스트의', 2),\n",
              "             ('각', 1),\n",
              "             ('단어를', 1),\n",
              "             ('나누어', 1),\n",
              "             ('토큰화', 3),\n",
              "             ('합니다', 1),\n",
              "             ('단어로', 1),\n",
              "             ('해야', 1),\n",
              "             ('딥러닝에서', 2),\n",
              "             ('인식됩니다', 1),\n",
              "             ('한', 1),\n",
              "             ('결과는', 1),\n",
              "             ('사용할', 1),\n",
              "             ('수', 1),\n",
              "             ('있습니다', 1)])"
            ]
          },
          "metadata": {}
        }
      ]
    },
    {
      "cell_type": "code",
      "source": [
        "print(\"\\n문장 카운트:\", token.document_count)"
      ],
      "metadata": {
        "colab": {
          "base_uri": "https://localhost:8080/"
        },
        "id": "N4QjjRYpz1wJ",
        "outputId": "4bde8654-c459-417e-a946-b856b4e6f953"
      },
      "execution_count": 6,
      "outputs": [
        {
          "output_type": "stream",
          "name": "stdout",
          "text": [
            "\n",
            "문장 카운트: 3\n"
          ]
        }
      ]
    },
    {
      "cell_type": "code",
      "source": [
        "display(\"\\n각 단어가 몇 개의 문장에 포함되어 있는가:\\n\", token.word_docs)"
      ],
      "metadata": {
        "colab": {
          "base_uri": "https://localhost:8080/",
          "height": 347
        },
        "id": "zulnS2vM0GJd",
        "outputId": "45ac0eae-5779-4bb6-e9af-11dddb5abf37"
      },
      "execution_count": 7,
      "outputs": [
        {
          "output_type": "display_data",
          "data": {
            "text/plain": [
              "'\\n각 단어가 몇 개의 문장에 포함되어 있는가:\\n'"
            ],
            "application/vnd.google.colaboratory.intrinsic+json": {
              "type": "string"
            }
          },
          "metadata": {}
        },
        {
          "output_type": "display_data",
          "data": {
            "text/plain": [
              "defaultdict(int,\n",
              "            {'각': 1,\n",
              "             '결과는': 1,\n",
              "             '나누어': 1,\n",
              "             '단어로': 1,\n",
              "             '단어를': 1,\n",
              "             '딥러닝에서': 2,\n",
              "             '먼저': 1,\n",
              "             '사용할': 1,\n",
              "             '수': 1,\n",
              "             '인식됩니다': 1,\n",
              "             '있습니다': 1,\n",
              "             '텍스트의': 2,\n",
              "             '토큰화': 3,\n",
              "             '한': 1,\n",
              "             '합니다': 1,\n",
              "             '해야': 1})"
            ]
          },
          "metadata": {}
        }
      ]
    },
    {
      "cell_type": "code",
      "source": [
        "display(\"\\n각 단어에 매겨진 인덱스 값:\\n\", token.word_index)"
      ],
      "metadata": {
        "colab": {
          "base_uri": "https://localhost:8080/",
          "height": 329
        },
        "id": "hArPpOE70PqV",
        "outputId": "180b9c6a-ff5c-4135-d4e1-5720c17613f4"
      },
      "execution_count": 8,
      "outputs": [
        {
          "output_type": "display_data",
          "data": {
            "text/plain": [
              "'\\n각 단어에 매겨진 인덱스 값:\\n'"
            ],
            "application/vnd.google.colaboratory.intrinsic+json": {
              "type": "string"
            }
          },
          "metadata": {}
        },
        {
          "output_type": "display_data",
          "data": {
            "text/plain": [
              "{'각': 5,\n",
              " '결과는': 13,\n",
              " '나누어': 7,\n",
              " '단어로': 9,\n",
              " '단어를': 6,\n",
              " '딥러닝에서': 3,\n",
              " '먼저': 4,\n",
              " '사용할': 14,\n",
              " '수': 15,\n",
              " '인식됩니다': 11,\n",
              " '있습니다': 16,\n",
              " '텍스트의': 2,\n",
              " '토큰화': 1,\n",
              " '한': 12,\n",
              " '합니다': 8,\n",
              " '해야': 10}"
            ]
          },
          "metadata": {}
        }
      ]
    },
    {
      "cell_type": "code",
      "source": [
        "text = \"오랫동안 꿈꾸는 이는 그 꿈을 닮아간다\"\n",
        "\n",
        "token = Tokenizer()\n",
        "token.fit_on_texts([text])\n",
        "print(token.word_index)"
      ],
      "metadata": {
        "id": "oI3jUBwk0hXB",
        "colab": {
          "base_uri": "https://localhost:8080/"
        },
        "outputId": "6b156a49-4812-4147-a791-e26ae52a6d2d"
      },
      "execution_count": 9,
      "outputs": [
        {
          "output_type": "stream",
          "name": "stdout",
          "text": [
            "{'오랫동안': 1, '꿈꾸는': 2, '이는': 3, '그': 4, '꿈을': 5, '닮아간다': 6}\n"
          ]
        }
      ]
    },
    {
      "cell_type": "code",
      "source": [
        "x = token.texts_to_sequences([text])\n",
        "print(x)"
      ],
      "metadata": {
        "colab": {
          "base_uri": "https://localhost:8080/"
        },
        "id": "SRsrZ619Zzuz",
        "outputId": "292c1fa6-fd88-407d-e5e4-45532fab5033"
      },
      "execution_count": 10,
      "outputs": [
        {
          "output_type": "stream",
          "name": "stdout",
          "text": [
            "[[1, 2, 3, 4, 5, 6]]\n"
          ]
        }
      ]
    },
    {
      "cell_type": "code",
      "source": [
        "from tensorflow.keras.utils import to_categorical\n",
        "\n",
        "word_size = len(token.word_index) + 1\n",
        "x = to_categorical(x, num_classes= word_size)\n",
        "\n",
        "print(x)"
      ],
      "metadata": {
        "colab": {
          "base_uri": "https://localhost:8080/"
        },
        "id": "ZxBD9qBoaOEU",
        "outputId": "1fee0805-ce21-4d2f-84bf-41994c47a974"
      },
      "execution_count": 11,
      "outputs": [
        {
          "output_type": "stream",
          "name": "stdout",
          "text": [
            "[[[0. 1. 0. 0. 0. 0. 0.]\n",
            "  [0. 0. 1. 0. 0. 0. 0.]\n",
            "  [0. 0. 0. 1. 0. 0. 0.]\n",
            "  [0. 0. 0. 0. 1. 0. 0.]\n",
            "  [0. 0. 0. 0. 0. 1. 0.]\n",
            "  [0. 0. 0. 0. 0. 0. 1.]]]\n"
          ]
        }
      ]
    },
    {
      "cell_type": "code",
      "source": [
        ""
      ],
      "metadata": {
        "id": "_olFDBs8afLb"
      },
      "execution_count": null,
      "outputs": []
    }
  ]
}