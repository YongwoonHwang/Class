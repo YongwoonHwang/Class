{
  "nbformat": 4,
  "nbformat_minor": 0,
  "metadata": {
    "colab": {
      "name": "ImageDataGenerator.ipynb",
      "provenance": [],
      "collapsed_sections": []
    },
    "kernelspec": {
      "name": "python3",
      "display_name": "Python 3"
    },
    "language_info": {
      "name": "python"
    },
    "accelerator": "GPU",
    "gpuClass": "standard"
  },
  "cells": [
    {
      "cell_type": "code",
      "execution_count": 1,
      "metadata": {
        "id": "Azrym7Qd7sVq"
      },
      "outputs": [],
      "source": [
        "from tensorflow.keras.models import Sequential\n",
        "from tensorflow.keras.layers import Dense, Activation, Dropout, Flatten, Conv2D, MaxPooling2D\n",
        "from tensorflow.keras.preprocessing.image import ImageDataGenerator\n",
        "from tensorflow.keras.callbacks import EarlyStopping\n",
        "from tensorflow.keras import optimizers\n",
        "\n",
        "import numpy as np\n",
        "import matplotlib.pyplot as plt"
      ]
    },
    {
      "cell_type": "code",
      "source": [
        "!git clone https://github.com/taehojo/data-ch20.git"
      ],
      "metadata": {
        "colab": {
          "base_uri": "https://localhost:8080/"
        },
        "id": "hwxoilXB8qrH",
        "outputId": "2e9ca1c0-2bdd-4c7f-f863-435fb2c35363"
      },
      "execution_count": 2,
      "outputs": [
        {
          "output_type": "stream",
          "name": "stdout",
          "text": [
            "Cloning into 'data-ch20'...\n",
            "remote: Enumerating objects: 265, done.\u001b[K\n",
            "remote: Counting objects: 100% (265/265), done.\u001b[K\n",
            "remote: Compressing objects: 100% (265/265), done.\u001b[K\n",
            "remote: Total 265 (delta 0), reused 265 (delta 0), pack-reused 0\u001b[K\n",
            "Receiving objects: 100% (265/265), 1.86 MiB | 35.97 MiB/s, done.\n"
          ]
        }
      ]
    },
    {
      "cell_type": "code",
      "source": [
        "train_datagen = ImageDataGenerator(rescale=1./255,\n",
        "                                   horizontal_flip=True,\n",
        "                                   width_shift_range=0.1,\n",
        "                                   height_shift_range=0.1)\n",
        "\n",
        "train_generator = train_datagen.flow_from_directory(\n",
        "    './data-ch20/train',\n",
        "    target_size = (150, 150),\n",
        "    batch_size = 5,\n",
        "    class_mode = 'binary')"
      ],
      "metadata": {
        "colab": {
          "base_uri": "https://localhost:8080/"
        },
        "id": "IDv9hbzu8wiF",
        "outputId": "5253ae18-7751-4a6c-9064-ec4e71a53c42"
      },
      "execution_count": 6,
      "outputs": [
        {
          "output_type": "stream",
          "name": "stdout",
          "text": [
            "Found 160 images belonging to 2 classes.\n"
          ]
        }
      ]
    },
    {
      "cell_type": "code",
      "source": [
        "test_datagen= ImageDataGenerator(rescale=1./255)\n",
        "\n",
        "test_generator = test_datagen.flow_from_directory(\n",
        "    './data-ch20/test',\n",
        "    target_size = (150, 150),\n",
        "    batch_size = 5,\n",
        "    class_mode = 'binary'\n",
        ")"
      ],
      "metadata": {
        "colab": {
          "base_uri": "https://localhost:8080/"
        },
        "id": "1GjFgctAB25Y",
        "outputId": "17ee259d-c1e9-4d3f-c79c-72392e60713f"
      },
      "execution_count": 17,
      "outputs": [
        {
          "output_type": "stream",
          "name": "stdout",
          "text": [
            "Found 120 images belonging to 2 classes.\n"
          ]
        }
      ]
    },
    {
      "cell_type": "code",
      "source": [
        "model = Sequential()\n",
        "model.add(Conv2D(32, (3,3), input_shape=(150, 150, 3)))\n",
        "model.add(Activation('relu'))\n",
        "model.add(MaxPooling2D(pool_size=(2,2)))\n",
        "\n",
        "model.add(Conv2D(32, (3, 3)))\n",
        "model.add(Activation('relu'))\n",
        "model.add(MaxPooling2D(pool_size=(2,2)))\n",
        "\n",
        "model.add(Conv2D(64, (3,3)))\n",
        "model.add(Activation('relu'))\n",
        "model.add(MaxPooling2D(pool_size=(2,2)))\n",
        "\n",
        "model.add(Flatten())\n",
        "model.add(Dense(64))\n",
        "model.add(Activation('relu'))\n",
        "model.add(Dropout(0.5))\n",
        "model.add(Dense(1))\n",
        "model.add(Activation('sigmoid'))\n",
        "model.summary()"
      ],
      "metadata": {
        "colab": {
          "base_uri": "https://localhost:8080/"
        },
        "id": "-kmsBD1M-tHR",
        "outputId": "1d5696a5-8c28-470a-ac74-43ffeb7ad9d5"
      },
      "execution_count": 25,
      "outputs": [
        {
          "output_type": "stream",
          "name": "stdout",
          "text": [
            "Model: \"sequential_3\"\n",
            "_________________________________________________________________\n",
            " Layer (type)                Output Shape              Param #   \n",
            "=================================================================\n",
            " conv2d_8 (Conv2D)           (None, 148, 148, 32)      896       \n",
            "                                                                 \n",
            " activation_12 (Activation)  (None, 148, 148, 32)      0         \n",
            "                                                                 \n",
            " max_pooling2d_7 (MaxPooling  (None, 74, 74, 32)       0         \n",
            " 2D)                                                             \n",
            "                                                                 \n",
            " conv2d_9 (Conv2D)           (None, 72, 72, 32)        9248      \n",
            "                                                                 \n",
            " activation_13 (Activation)  (None, 72, 72, 32)        0         \n",
            "                                                                 \n",
            " max_pooling2d_8 (MaxPooling  (None, 36, 36, 32)       0         \n",
            " 2D)                                                             \n",
            "                                                                 \n",
            " conv2d_10 (Conv2D)          (None, 34, 34, 64)        18496     \n",
            "                                                                 \n",
            " activation_14 (Activation)  (None, 34, 34, 64)        0         \n",
            "                                                                 \n",
            " max_pooling2d_9 (MaxPooling  (None, 17, 17, 64)       0         \n",
            " 2D)                                                             \n",
            "                                                                 \n",
            " flatten_2 (Flatten)         (None, 18496)             0         \n",
            "                                                                 \n",
            " dense_4 (Dense)             (None, 64)                1183808   \n",
            "                                                                 \n",
            " activation_15 (Activation)  (None, 64)                0         \n",
            "                                                                 \n",
            " dropout_2 (Dropout)         (None, 64)                0         \n",
            "                                                                 \n",
            " dense_5 (Dense)             (None, 1)                 65        \n",
            "                                                                 \n",
            " activation_16 (Activation)  (None, 1)                 0         \n",
            "                                                                 \n",
            "=================================================================\n",
            "Total params: 1,212,513\n",
            "Trainable params: 1,212,513\n",
            "Non-trainable params: 0\n",
            "_________________________________________________________________\n"
          ]
        }
      ]
    },
    {
      "cell_type": "code",
      "source": [
        "model.compile(loss='binary_crossentropy', optimizer=optimizers.Adam(learning_rate=0.0002), metrics=['accuracy'])"
      ],
      "metadata": {
        "id": "UnlHB2jhACdQ"
      },
      "execution_count": 19,
      "outputs": []
    },
    {
      "cell_type": "code",
      "source": [
        "early_stopping_callback = EarlyStopping(monitor='val_loss', patience=5)"
      ],
      "metadata": {
        "id": "QQSmFA4yASsd"
      },
      "execution_count": 20,
      "outputs": []
    },
    {
      "cell_type": "code",
      "source": [
        "history = model.fit(\n",
        "    train_generator,\n",
        "    epochs = 100,\n",
        "    validation_data=test_generator,\n",
        "    validation_steps=10,\n",
        "    callbacks=[early_stopping_callback]\n",
        ")"
      ],
      "metadata": {
        "colab": {
          "base_uri": "https://localhost:8080/"
        },
        "id": "UgBSy7OeAbE6",
        "outputId": "cc99c81d-faa6-49db-83f5-ce082035468f"
      },
      "execution_count": 21,
      "outputs": [
        {
          "output_type": "stream",
          "name": "stdout",
          "text": [
            "Epoch 1/100\n",
            "32/32 [==============================] - 13s 38ms/step - loss: 0.7040 - accuracy: 0.5063 - val_loss: 0.6859 - val_accuracy: 0.5200\n",
            "Epoch 2/100\n",
            "32/32 [==============================] - 1s 34ms/step - loss: 0.6827 - accuracy: 0.5437 - val_loss: 0.6786 - val_accuracy: 0.5400\n",
            "Epoch 3/100\n",
            "32/32 [==============================] - 1s 34ms/step - loss: 0.7015 - accuracy: 0.4500 - val_loss: 0.6726 - val_accuracy: 0.6200\n",
            "Epoch 4/100\n",
            "32/32 [==============================] - 1s 34ms/step - loss: 0.6792 - accuracy: 0.6062 - val_loss: 0.6625 - val_accuracy: 0.5200\n",
            "Epoch 5/100\n",
            "32/32 [==============================] - 1s 36ms/step - loss: 0.6724 - accuracy: 0.5875 - val_loss: 0.6469 - val_accuracy: 0.7200\n",
            "Epoch 6/100\n",
            "32/32 [==============================] - 1s 34ms/step - loss: 0.6704 - accuracy: 0.5875 - val_loss: 0.6356 - val_accuracy: 0.8400\n",
            "Epoch 7/100\n",
            "32/32 [==============================] - 1s 34ms/step - loss: 0.6360 - accuracy: 0.6375 - val_loss: 0.5661 - val_accuracy: 0.8000\n",
            "Epoch 8/100\n",
            "32/32 [==============================] - 1s 36ms/step - loss: 0.6075 - accuracy: 0.7000 - val_loss: 0.5117 - val_accuracy: 0.8400\n",
            "Epoch 9/100\n",
            "32/32 [==============================] - 1s 33ms/step - loss: 0.5896 - accuracy: 0.7250 - val_loss: 0.4802 - val_accuracy: 0.8200\n",
            "Epoch 10/100\n",
            "32/32 [==============================] - 1s 34ms/step - loss: 0.4915 - accuracy: 0.7688 - val_loss: 0.5697 - val_accuracy: 0.6200\n",
            "Epoch 11/100\n",
            "32/32 [==============================] - 1s 44ms/step - loss: 0.4570 - accuracy: 0.8125 - val_loss: 0.3681 - val_accuracy: 0.8400\n",
            "Epoch 12/100\n",
            "32/32 [==============================] - 1s 34ms/step - loss: 0.3934 - accuracy: 0.8813 - val_loss: 0.2346 - val_accuracy: 0.9800\n",
            "Epoch 13/100\n",
            "32/32 [==============================] - 1s 33ms/step - loss: 0.3413 - accuracy: 0.8625 - val_loss: 0.3643 - val_accuracy: 0.8000\n",
            "Epoch 14/100\n",
            "32/32 [==============================] - 1s 33ms/step - loss: 0.3373 - accuracy: 0.8750 - val_loss: 0.3605 - val_accuracy: 0.8400\n",
            "Epoch 15/100\n",
            "32/32 [==============================] - 1s 33ms/step - loss: 0.2629 - accuracy: 0.9062 - val_loss: 0.1400 - val_accuracy: 0.9600\n",
            "Epoch 16/100\n",
            "32/32 [==============================] - 1s 34ms/step - loss: 0.2202 - accuracy: 0.9375 - val_loss: 0.1445 - val_accuracy: 0.9600\n",
            "Epoch 17/100\n",
            "32/32 [==============================] - 1s 33ms/step - loss: 0.2436 - accuracy: 0.8813 - val_loss: 0.2154 - val_accuracy: 0.9200\n",
            "Epoch 18/100\n",
            "32/32 [==============================] - 1s 34ms/step - loss: 0.1915 - accuracy: 0.9500 - val_loss: 0.3014 - val_accuracy: 0.8800\n",
            "Epoch 19/100\n",
            "32/32 [==============================] - 1s 34ms/step - loss: 0.2004 - accuracy: 0.9187 - val_loss: 0.1664 - val_accuracy: 0.9200\n",
            "Epoch 20/100\n",
            "32/32 [==============================] - 1s 34ms/step - loss: 0.1465 - accuracy: 0.9625 - val_loss: 0.1730 - val_accuracy: 0.9200\n"
          ]
        }
      ]
    },
    {
      "cell_type": "code",
      "source": [
        "y_vloss = history.history['val_loss']\n",
        "y_loss = history.history['loss']"
      ],
      "metadata": {
        "id": "DXsfGrsbAp27"
      },
      "execution_count": 22,
      "outputs": []
    },
    {
      "cell_type": "code",
      "source": [
        "x_len = np.arange(len(y_loss))\n",
        "plt.plot(x_len, y_vloss, marker='.', c='red', label='Testset_loss')\n",
        "plt.plot(x_len, y_loss, marker='.', c='blue', label='Testset_loss')\n",
        "\n",
        "plt.legend(loc='upper right')\n",
        "plt.grid()\n",
        "plt.xlabel('epoch')\n",
        "plt.ylabel('loss')\n",
        "plt.show()"
      ],
      "metadata": {
        "colab": {
          "base_uri": "https://localhost:8080/",
          "height": 279
        },
        "id": "inlq38eSAya2",
        "outputId": "4de27fd8-4a4a-40b2-a1f7-e85739596421"
      },
      "execution_count": 23,
      "outputs": [
        {
          "output_type": "display_data",
          "data": {
            "text/plain": [
              "<Figure size 432x288 with 1 Axes>"
            ],
            "image/png": "[encoded data removed]"
          },
          "metadata": {
            "needs_background": "light"
          }
        }
      ]
    },
    {
      "cell_type": "code",
      "source": [
        ""
      ],
      "metadata": {
        "id": "zWrtUFfpCZ28"
      },
      "execution_count": null,
      "outputs": []
    }
  ]
}