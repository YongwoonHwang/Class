{
  "nbformat": 4,
  "nbformat_minor": 0,
  "metadata": {
    "colab": {
      "name": "IMDB리뷰_분류",
      "provenance": [],
      "collapsed_sections": []
    },
    "kernelspec": {
      "name": "python3",
      "display_name": "Python 3"
    },
    "language_info": {
      "name": "python"
    }
  },
  "cells": [
    {
      "cell_type": "code",
      "execution_count": 2,
      "metadata": {
        "id": "GpvPw8b3DOac"
      },
      "outputs": [],
      "source": [
        "from tensorflow.keras.datasets import imdb"
      ]
    },
    {
      "cell_type": "code",
      "source": [
        "(train_input, train_target), (test_input, test_target)= imdb.load_data(num_words=500)\n",
        "\n",
        "print(train_input.shape, test_input.shape)\n",
        "print(len(train_input[0]))\n",
        "print(len(train_input[1]))\n",
        "print(train_input[0])\n",
        "print(train_target[:20])"
      ],
      "metadata": {
        "colab": {
          "base_uri": "https://localhost:8080/"
        },
        "id": "6iy1Gv8gpCZ5",
        "outputId": "b806721b-24f0-4f14-f00b-c9ade06b4979"
      },
      "execution_count": 3,
      "outputs": [
        {
          "output_type": "stream",
          "name": "stdout",
          "text": [
            "Downloading data from https://storage.googleapis.com/tensorflow/tf-keras-datasets/imdb.npz\n",
            "17465344/17464789 [==============================] - 0s 0us/step\n",
            "17473536/17464789 [==============================] - 0s 0us/step\n",
            "(25000,) (25000,)\n",
            "218\n",
            "189\n",
            "[1, 14, 22, 16, 43, 2, 2, 2, 2, 65, 458, 2, 66, 2, 4, 173, 36, 256, 5, 25, 100, 43, 2, 112, 50, 2, 2, 9, 35, 480, 284, 5, 150, 4, 172, 112, 167, 2, 336, 385, 39, 4, 172, 2, 2, 17, 2, 38, 13, 447, 4, 192, 50, 16, 6, 147, 2, 19, 14, 22, 4, 2, 2, 469, 4, 22, 71, 87, 12, 16, 43, 2, 38, 76, 15, 13, 2, 4, 22, 17, 2, 17, 12, 16, 2, 18, 2, 5, 62, 386, 12, 8, 316, 8, 106, 5, 4, 2, 2, 16, 480, 66, 2, 33, 4, 130, 12, 16, 38, 2, 5, 25, 124, 51, 36, 135, 48, 25, 2, 33, 6, 22, 12, 215, 28, 77, 52, 5, 14, 407, 16, 82, 2, 8, 4, 107, 117, 2, 15, 256, 4, 2, 7, 2, 5, 2, 36, 71, 43, 2, 476, 26, 400, 317, 46, 7, 4, 2, 2, 13, 104, 88, 4, 381, 15, 297, 98, 32, 2, 56, 26, 141, 6, 194, 2, 18, 4, 226, 22, 21, 134, 476, 26, 480, 5, 144, 30, 2, 18, 51, 36, 28, 224, 92, 25, 104, 4, 226, 65, 16, 38, 2, 88, 12, 16, 283, 5, 16, 2, 113, 103, 32, 15, 16, 2, 19, 178, 32]\n",
            "[1 0 0 1 0 0 1 0 1 0 1 0 0 0 0 0 1 1 0 1]\n"
          ]
        }
      ]
    },
    {
      "cell_type": "code",
      "source": [
        "from sklearn.model_selection import train_test_split\n",
        "\n",
        "train_input, val_input, train_target, val_target = train_test_split(\n",
        "    train_input, train_target, test_size=0.2, random_state=42\n",
        ")"
      ],
      "metadata": {
        "id": "w9Ruj4rwphav"
      },
      "execution_count": 4,
      "outputs": []
    },
    {
      "cell_type": "code",
      "source": [
        "import numpy as np\n",
        "\n",
        "lengths = np.array([len(x) for x in train_input])\n",
        "\n",
        "print(np.mean(lengths), np.median(lengths))\n",
        "\n"
      ],
      "metadata": {
        "colab": {
          "base_uri": "https://localhost:8080/"
        },
        "id": "ZHAcASFvpyZE",
        "outputId": "72b338cc-a087-46a7-8aff-d880222d6a65"
      },
      "execution_count": 5,
      "outputs": [
        {
          "output_type": "stream",
          "name": "stdout",
          "text": [
            "239.00925 178.0\n"
          ]
        }
      ]
    },
    {
      "cell_type": "code",
      "source": [
        "import matplotlib.pyplot as plt\n",
        "plt.hist(lengths)\n",
        "plt.xlabel('length')\n",
        "plt.ylabel('frequency')\n",
        "plt.show()"
      ],
      "metadata": {
        "colab": {
          "base_uri": "https://localhost:8080/",
          "height": 279
        },
        "id": "mKZIL2kEp-MK",
        "outputId": "4fdb384f-6e6f-43ff-f93a-b08d9b2ed9a1"
      },
      "execution_count": 6,
      "outputs": [
        {
          "output_type": "display_data",
          "data": {
            "text/plain": [
              "<Figure size 432x288 with 1 Axes>"
            ],
            "image/png": "[encoded data removed]"
          },
          "metadata": {
            "needs_background": "light"
          }
        }
      ]
    },
    {
      "cell_type": "code",
      "source": [
        "from tensorflow.keras.preprocessing.sequence import pad_sequences\n",
        "\n",
        "train_seq = pad_sequences(train_input, maxlen=100)\n",
        "\n",
        "print(train_seq.shape)\n",
        "print(train_seq[0])\n",
        "print(train_input[0][-10:])\n",
        "print(train_seq[5])\n",
        "\n",
        "val_seq = pad_sequences(val_input, maxlen=100)"
      ],
      "metadata": {
        "colab": {
          "base_uri": "https://localhost:8080/"
        },
        "id": "tCCpJkkBVCfU",
        "outputId": "2e16733b-4f61-40dc-dec1-ec533571dd25"
      },
      "execution_count": 7,
      "outputs": [
        {
          "output_type": "stream",
          "name": "stdout",
          "text": [
            "(20000, 100)\n",
            "[ 10   4  20   9   2 364 352   5  45   6   2   2  33 269   8   2 142   2\n",
            "   5   2  17  73  17 204   5   2  19  55   2   2  92  66 104  14  20  93\n",
            "  76   2 151  33   4  58  12 188   2 151  12 215  69 224 142  73 237   6\n",
            "   2   7   2   2 188   2 103  14  31  10  10 451   7   2   5   2  80  91\n",
            "   2  30   2  34  14  20 151  50  26 131  49   2  84  46  50  37  80  79\n",
            "   6   2  46   7  14  20  10  10 470 158]\n",
            "[6, 2, 46, 7, 14, 20, 10, 10, 470, 158]\n",
            "[  0   0   0   0   1   2 195  19  49   2   2 190   4   2 352   2 183  10\n",
            "  10  13  82  79   4   2  36  71 269   8   2  25  19  49   7   4   2   2\n",
            "   2   2   2  10  10  48  25  40   2  11   2   2  40   2   2   5   4   2\n",
            "   2  95  14 238  56 129   2  10  10  21   2  94 364 352   2   2  11 190\n",
            "  24 484   2   7  94 205 405  10  10  87   2  34  49   2   7   2   2   2\n",
            "   2   2 290   2  46  48  64  18   4   2]\n"
          ]
        }
      ]
    },
    {
      "cell_type": "code",
      "source": [
        "from tensorflow import keras\n",
        "\n",
        "model = keras.Sequential()\n",
        "\n",
        "model.add(keras.layers.SimpleRNN(8, input_shape=(100, 500)))\n",
        "model.add(keras.layers.Dense(1, activation='sigmoid'))\n",
        "\n",
        "train_oh = keras.utils.to_categorical(train_seq)\n",
        "\n",
        "print(train_oh.shape)\n",
        "print(train_oh[0][0][:12])\n",
        "print(np.sum(train_oh[0][0]))\n",
        "\n",
        "val_oh = keras.utils.to_categorical(val_seq)\n",
        "\n",
        "model.summary()"
      ],
      "metadata": {
        "colab": {
          "base_uri": "https://localhost:8080/"
        },
        "id": "Z11_Rcn7VeEy",
        "outputId": "6747719b-6cf6-469a-87ef-b504ff29d982"
      },
      "execution_count": 11,
      "outputs": [
        {
          "output_type": "stream",
          "name": "stdout",
          "text": [
            "(20000, 100, 500)\n",
            "[0. 0. 0. 0. 0. 0. 0. 0. 0. 0. 1. 0.]\n",
            "1.0\n",
            "Model: \"sequential_1\"\n",
            "_________________________________________________________________\n",
            " Layer (type)                Output Shape              Param #   \n",
            "=================================================================\n",
            " simple_rnn_1 (SimpleRNN)    (None, 8)                 4072      \n",
            "                                                                 \n",
            " dense (Dense)               (None, 1)                 9         \n",
            "                                                                 \n",
            "=================================================================\n",
            "Total params: 4,081\n",
            "Trainable params: 4,081\n",
            "Non-trainable params: 0\n",
            "_________________________________________________________________\n"
          ]
        }
      ]
    },
    {
      "cell_type": "code",
      "source": [
        "rmsprop = keras.optimizers.RMSprop(learning_rate=1e-4)\n",
        "model.compile(optimizer=rmsprop, loss='binary_crossentropy', metrics=['accuracy'])\n",
        "\n",
        "checkpoint_cb = keras.callbacks.ModelCheckpoint('best-simplernn-model.h5', save_best_only=True)\n",
        "early_stopping_cb = keras.callbacks.EarlyStopping(patience=3, restore_best_weights=True)\n",
        "\n",
        "history = model.fit(train_oh, train_target, epochs=100, batch_size=64,\n",
        "                    validation_data=(val_oh, val_target), callbacks=[checkpoint_cb, early_stopping_cb])\n"
      ],
      "metadata": {
        "colab": {
          "base_uri": "https://localhost:8080/",
          "height": 1000
        },
        "id": "JGOQ3gLzWD2N",
        "outputId": "411d0e99-619a-412a-e0bf-aaaa11774462"
      },
      "execution_count": 12,
      "outputs": [
        {
          "output_type": "stream",
          "name": "stdout",
          "text": [
            "Epoch 1/100\n",
            "313/313 [==============================] - 20s 58ms/step - loss: 0.7043 - accuracy: 0.4975 - val_loss: 0.6980 - val_accuracy: 0.5112\n",
            "Epoch 2/100\n",
            "313/313 [==============================] - 23s 72ms/step - loss: 0.6961 - accuracy: 0.5131 - val_loss: 0.6929 - val_accuracy: 0.5254\n",
            "Epoch 3/100\n",
            "313/313 [==============================] - 22s 70ms/step - loss: 0.6859 - accuracy: 0.5500 - val_loss: 0.6781 - val_accuracy: 0.5784\n",
            "Epoch 4/100\n",
            "313/313 [==============================] - 20s 63ms/step - loss: 0.6601 - accuracy: 0.6213 - val_loss: 0.6528 - val_accuracy: 0.6356\n",
            "Epoch 5/100\n",
            "313/313 [==============================] - 19s 60ms/step - loss: 0.6375 - accuracy: 0.6663 - val_loss: 0.6318 - val_accuracy: 0.6652\n",
            "Epoch 6/100\n",
            "313/313 [==============================] - 16s 50ms/step - loss: 0.6150 - accuracy: 0.6914 - val_loss: 0.6107 - val_accuracy: 0.6914\n",
            "Epoch 7/100\n",
            "313/313 [==============================] - 23s 72ms/step - loss: 0.5939 - accuracy: 0.7166 - val_loss: 0.5898 - val_accuracy: 0.7108\n",
            "Epoch 8/100\n",
            "313/313 [==============================] - 22s 70ms/step - loss: 0.5725 - accuracy: 0.7345 - val_loss: 0.5723 - val_accuracy: 0.7230\n",
            "Epoch 9/100\n",
            "313/313 [==============================] - 19s 61ms/step - loss: 0.5538 - accuracy: 0.7470 - val_loss: 0.5542 - val_accuracy: 0.7372\n",
            "Epoch 10/100\n",
            "313/313 [==============================] - 19s 60ms/step - loss: 0.5367 - accuracy: 0.7574 - val_loss: 0.5402 - val_accuracy: 0.7470\n",
            "Epoch 11/100\n",
            "313/313 [==============================] - 21s 67ms/step - loss: 0.5213 - accuracy: 0.7673 - val_loss: 0.5279 - val_accuracy: 0.7576\n",
            "Epoch 12/100\n",
            "313/313 [==============================] - 17s 54ms/step - loss: 0.5077 - accuracy: 0.7760 - val_loss: 0.5141 - val_accuracy: 0.7644\n",
            "Epoch 13/100\n",
            "313/313 [==============================] - 18s 58ms/step - loss: 0.4960 - accuracy: 0.7802 - val_loss: 0.5036 - val_accuracy: 0.7696\n",
            "Epoch 14/100\n",
            "313/313 [==============================] - 22s 71ms/step - loss: 0.4849 - accuracy: 0.7860 - val_loss: 0.4941 - val_accuracy: 0.7796\n",
            "Epoch 15/100\n",
            "313/313 [==============================] - 24s 75ms/step - loss: 0.4761 - accuracy: 0.7889 - val_loss: 0.4901 - val_accuracy: 0.7760\n",
            "Epoch 16/100\n",
            "313/313 [==============================] - 24s 77ms/step - loss: 0.4676 - accuracy: 0.7939 - val_loss: 0.4832 - val_accuracy: 0.7810\n",
            "Epoch 17/100\n",
            "313/313 [==============================] - 23s 74ms/step - loss: 0.4612 - accuracy: 0.7956 - val_loss: 0.4829 - val_accuracy: 0.7778\n",
            "Epoch 18/100\n",
            "313/313 [==============================] - 23s 75ms/step - loss: 0.4553 - accuracy: 0.7987 - val_loss: 0.4731 - val_accuracy: 0.7858\n",
            "Epoch 19/100\n",
            "313/313 [==============================] - 25s 78ms/step - loss: 0.4500 - accuracy: 0.8000 - val_loss: 0.4721 - val_accuracy: 0.7856\n",
            "Epoch 20/100\n",
            "313/313 [==============================] - 24s 76ms/step - loss: 0.4456 - accuracy: 0.8018 - val_loss: 0.4741 - val_accuracy: 0.7830\n",
            "Epoch 21/100\n",
            "313/313 [==============================] - 23s 74ms/step - loss: 0.4410 - accuracy: 0.8049 - val_loss: 0.4646 - val_accuracy: 0.7872\n",
            "Epoch 22/100\n",
            "313/313 [==============================] - 23s 74ms/step - loss: 0.4379 - accuracy: 0.8067 - val_loss: 0.4671 - val_accuracy: 0.7890\n",
            "Epoch 23/100\n",
            "313/313 [==============================] - 24s 77ms/step - loss: 0.4345 - accuracy: 0.8072 - val_loss: 0.4620 - val_accuracy: 0.7916\n",
            "Epoch 24/100\n",
            "313/313 [==============================] - 24s 78ms/step - loss: 0.4316 - accuracy: 0.8089 - val_loss: 0.4643 - val_accuracy: 0.7912\n",
            "Epoch 25/100\n",
            "313/313 [==============================] - 20s 63ms/step - loss: 0.4290 - accuracy: 0.8100 - val_loss: 0.4620 - val_accuracy: 0.7928\n",
            "Epoch 26/100\n",
            "313/313 [==============================] - 14s 43ms/step - loss: 0.4259 - accuracy: 0.8123 - val_loss: 0.4589 - val_accuracy: 0.7910\n",
            "Epoch 27/100\n",
            "313/313 [==============================] - 14s 43ms/step - loss: 0.4245 - accuracy: 0.8140 - val_loss: 0.4675 - val_accuracy: 0.7886\n",
            "Epoch 28/100\n",
            "313/313 [==============================] - 13s 43ms/step - loss: 0.4217 - accuracy: 0.8144 - val_loss: 0.4548 - val_accuracy: 0.7922\n",
            "Epoch 29/100\n",
            "313/313 [==============================] - 14s 44ms/step - loss: 0.4201 - accuracy: 0.8156 - val_loss: 0.4569 - val_accuracy: 0.7946\n",
            "Epoch 30/100\n",
            "313/313 [==============================] - 13s 43ms/step - loss: 0.4176 - accuracy: 0.8173 - val_loss: 0.4540 - val_accuracy: 0.7928\n",
            "Epoch 31/100\n",
            "313/313 [==============================] - 13s 43ms/step - loss: 0.4160 - accuracy: 0.8170 - val_loss: 0.4558 - val_accuracy: 0.7914\n",
            "Epoch 32/100\n",
            "313/313 [==============================] - 13s 42ms/step - loss: 0.4142 - accuracy: 0.8170 - val_loss: 0.4624 - val_accuracy: 0.7906\n",
            "Epoch 33/100\n",
            "313/313 [==============================] - 14s 45ms/step - loss: 0.4128 - accuracy: 0.8191 - val_loss: 0.4537 - val_accuracy: 0.7944\n",
            "Epoch 34/100\n",
            "313/313 [==============================] - 13s 42ms/step - loss: 0.4111 - accuracy: 0.8198 - val_loss: 0.4569 - val_accuracy: 0.7900\n",
            "Epoch 35/100\n",
            "313/313 [==============================] - 13s 43ms/step - loss: 0.4093 - accuracy: 0.8192 - val_loss: 0.4541 - val_accuracy: 0.7944\n",
            "Epoch 36/100\n",
            "313/313 [==============================] - 13s 43ms/step - loss: 0.4078 - accuracy: 0.8206 - val_loss: 0.4529 - val_accuracy: 0.7944\n",
            "Epoch 37/100\n",
            "313/313 [==============================] - 13s 43ms/step - loss: 0.4069 - accuracy: 0.8223 - val_loss: 0.4690 - val_accuracy: 0.7882\n",
            "Epoch 38/100\n",
            "313/313 [==============================] - 13s 42ms/step - loss: 0.4060 - accuracy: 0.8219 - val_loss: 0.4594 - val_accuracy: 0.7940\n",
            "Epoch 39/100\n",
            "313/313 [==============================] - 13s 42ms/step - loss: 0.4052 - accuracy: 0.8216 - val_loss: 0.4579 - val_accuracy: 0.7944\n"
          ]
        },
        {
          "output_type": "error",
          "ename": "NameError",
          "evalue": "ignored",
          "traceback": [
            "\u001b[0;31m---------------------------------------------------------------------------\u001b[0m",
            "\u001b[0;31mNameError\u001b[0m                                 Traceback (most recent call last)",
            "\u001b[0;32m<ipython-input-12-208b277018ac>\u001b[0m in \u001b[0;36m<module>\u001b[0;34m()\u001b[0m\n\u001b[1;32m      8\u001b[0m                     validation_data=(val_oh, val_target), callbacks=[checkpoint_cb, early_stopping_cb])\n\u001b[1;32m      9\u001b[0m \u001b[0;34m\u001b[0m\u001b[0m\n\u001b[0;32m---> 10\u001b[0;31m \u001b[0mplt\u001b[0m\u001b[0;34m.\u001b[0m\u001b[0mplot\u001b[0m\u001b[0;34m(\u001b[0m\u001b[0mhisotry\u001b[0m\u001b[0;34m.\u001b[0m\u001b[0mhistory\u001b[0m\u001b[0;34m[\u001b[0m\u001b[0;34m'loss'\u001b[0m\u001b[0;34m]\u001b[0m\u001b[0;34m)\u001b[0m\u001b[0;34m\u001b[0m\u001b[0;34m\u001b[0m\u001b[0m\n\u001b[0m\u001b[1;32m     11\u001b[0m \u001b[0mplt\u001b[0m\u001b[0;34m.\u001b[0m\u001b[0mplot\u001b[0m\u001b[0;34m(\u001b[0m\u001b[0mhistory\u001b[0m\u001b[0;34m.\u001b[0m\u001b[0mhistory\u001b[0m\u001b[0;34m[\u001b[0m\u001b[0;34m'val_loss'\u001b[0m\u001b[0;34m]\u001b[0m\u001b[0;34m)\u001b[0m\u001b[0;34m\u001b[0m\u001b[0;34m\u001b[0m\u001b[0m\n\u001b[1;32m     12\u001b[0m \u001b[0mplt\u001b[0m\u001b[0;34m.\u001b[0m\u001b[0mxlabel\u001b[0m\u001b[0;34m(\u001b[0m\u001b[0;34m'epoch'\u001b[0m\u001b[0;34m)\u001b[0m\u001b[0;34m\u001b[0m\u001b[0;34m\u001b[0m\u001b[0m\n",
            "\u001b[0;31mNameError\u001b[0m: name 'hisotry' is not defined"
          ]
        }
      ]
    },
    {
      "cell_type": "code",
      "source": [
        "plt.plot(history.history['loss'])\n",
        "plt.plot(history.history['val_loss'])\n",
        "plt.xlabel('epoch')\n",
        "plt.ylabel('loss')\n",
        "plt.legend(['train', 'val'])\n",
        "plt.show()"
      ],
      "metadata": {
        "colab": {
          "base_uri": "https://localhost:8080/",
          "height": 279
        },
        "id": "UGguGgwvbkHF",
        "outputId": "7cc9ded2-4ec8-4576-cb6c-2415e22bfff8"
      },
      "execution_count": 13,
      "outputs": [
        {
          "output_type": "display_data",
          "data": {
            "text/plain": [
              "<Figure size 432x288 with 1 Axes>"
            ],
            "image/png": "[encoded data removed]"
          },
          "metadata": {
            "needs_background": "light"
          }
        }
      ]
    },
    {
      "cell_type": "code",
      "source": [
        "mode12 = keras.Sequential()\n",
        "\n",
        "mode12.add(keras.layers.Embedding(500, 16, input_length=100))\n",
        "mode12.add(keras.layers.SimpleRNN(8))\n",
        "mode12.add(keras.layers.Dense(1, activation='sigmoid'))\n",
        "\n",
        "mode12.summary()"
      ],
      "metadata": {
        "colab": {
          "base_uri": "https://localhost:8080/"
        },
        "id": "qyz5edX6XR9x",
        "outputId": "e61244d2-9121-498a-b2b3-6ab3f573bce8"
      },
      "execution_count": 14,
      "outputs": [
        {
          "output_type": "stream",
          "name": "stdout",
          "text": [
            "Model: \"sequential_2\"\n",
            "_________________________________________________________________\n",
            " Layer (type)                Output Shape              Param #   \n",
            "=================================================================\n",
            " embedding (Embedding)       (None, 100, 16)           8000      \n",
            "                                                                 \n",
            " simple_rnn_2 (SimpleRNN)    (None, 8)                 200       \n",
            "                                                                 \n",
            " dense_1 (Dense)             (None, 1)                 9         \n",
            "                                                                 \n",
            "=================================================================\n",
            "Total params: 8,209\n",
            "Trainable params: 8,209\n",
            "Non-trainable params: 0\n",
            "_________________________________________________________________\n"
          ]
        }
      ]
    },
    {
      "cell_type": "code",
      "source": [
        "rmsprop = keras.optimizers.RMSprop(learning_rate=1e-4)\n",
        "mode12.compile(optimizer=rmsprop, loss='binary_crossentropy', metrics=['accuracy'])\n",
        "\n",
        "checkpoint_cb = keras.callbacks.ModelCheckpoint('best=embedding=model.h5', save_best_only=True)\n",
        "early_stopping_cb = keras.callbacks.EarlyStopping(patience=3, restore_best_weights=True)\n",
        "\n",
        "history = mode12.fit(train_seq, train_target, epochs=100, batch_size=64, \n",
        "                     validation_data=(val_seq, val_target),\n",
        "                     callbacks=[checkpoint_cb, early_stopping_cb])"
      ],
      "metadata": {
        "colab": {
          "base_uri": "https://localhost:8080/"
        },
        "id": "oGEJDcSkX8M5",
        "outputId": "b15a7065-2547-4487-8e43-5002a9ee97ee"
      },
      "execution_count": 17,
      "outputs": [
        {
          "output_type": "stream",
          "name": "stdout",
          "text": [
            "Epoch 1/100\n",
            "313/313 [==============================] - 9s 24ms/step - loss: 0.6793 - accuracy: 0.5724 - val_loss: 0.6538 - val_accuracy: 0.6532\n",
            "Epoch 2/100\n",
            "313/313 [==============================] - 7s 23ms/step - loss: 0.6379 - accuracy: 0.6840 - val_loss: 0.6251 - val_accuracy: 0.7044\n",
            "Epoch 3/100\n",
            "313/313 [==============================] - 9s 27ms/step - loss: 0.6124 - accuracy: 0.7183 - val_loss: 0.6040 - val_accuracy: 0.7260\n",
            "Epoch 4/100\n",
            "313/313 [==============================] - 7s 23ms/step - loss: 0.5906 - accuracy: 0.7387 - val_loss: 0.5855 - val_accuracy: 0.7392\n",
            "Epoch 5/100\n",
            "313/313 [==============================] - 7s 23ms/step - loss: 0.5709 - accuracy: 0.7541 - val_loss: 0.5666 - val_accuracy: 0.7488\n",
            "Epoch 6/100\n",
            "313/313 [==============================] - 7s 23ms/step - loss: 0.5515 - accuracy: 0.7674 - val_loss: 0.5490 - val_accuracy: 0.7656\n",
            "Epoch 7/100\n",
            "313/313 [==============================] - 7s 23ms/step - loss: 0.5342 - accuracy: 0.7731 - val_loss: 0.5355 - val_accuracy: 0.7596\n",
            "Epoch 8/100\n",
            "313/313 [==============================] - 7s 23ms/step - loss: 0.5175 - accuracy: 0.7819 - val_loss: 0.5291 - val_accuracy: 0.7624\n",
            "Epoch 9/100\n",
            "313/313 [==============================] - 7s 23ms/step - loss: 0.5026 - accuracy: 0.7885 - val_loss: 0.5093 - val_accuracy: 0.7736\n",
            "Epoch 10/100\n",
            "313/313 [==============================] - 7s 23ms/step - loss: 0.4895 - accuracy: 0.7920 - val_loss: 0.5007 - val_accuracy: 0.7784\n",
            "Epoch 11/100\n",
            "313/313 [==============================] - 7s 23ms/step - loss: 0.4779 - accuracy: 0.7975 - val_loss: 0.4905 - val_accuracy: 0.7826\n",
            "Epoch 12/100\n",
            "313/313 [==============================] - 7s 23ms/step - loss: 0.4689 - accuracy: 0.8005 - val_loss: 0.4830 - val_accuracy: 0.7872\n",
            "Epoch 13/100\n",
            "313/313 [==============================] - 7s 23ms/step - loss: 0.4600 - accuracy: 0.8037 - val_loss: 0.4745 - val_accuracy: 0.7894\n",
            "Epoch 14/100\n",
            "313/313 [==============================] - 7s 23ms/step - loss: 0.4533 - accuracy: 0.8061 - val_loss: 0.4696 - val_accuracy: 0.7948\n",
            "Epoch 15/100\n",
            "313/313 [==============================] - 7s 23ms/step - loss: 0.4470 - accuracy: 0.8063 - val_loss: 0.4645 - val_accuracy: 0.7954\n",
            "Epoch 16/100\n",
            "313/313 [==============================] - 7s 23ms/step - loss: 0.4414 - accuracy: 0.8099 - val_loss: 0.4621 - val_accuracy: 0.7940\n",
            "Epoch 17/100\n",
            "313/313 [==============================] - 7s 23ms/step - loss: 0.4365 - accuracy: 0.8104 - val_loss: 0.4691 - val_accuracy: 0.7862\n",
            "Epoch 18/100\n",
            "313/313 [==============================] - 7s 23ms/step - loss: 0.4326 - accuracy: 0.8128 - val_loss: 0.4577 - val_accuracy: 0.7970\n",
            "Epoch 19/100\n",
            "313/313 [==============================] - 7s 23ms/step - loss: 0.4294 - accuracy: 0.8139 - val_loss: 0.4569 - val_accuracy: 0.7950\n",
            "Epoch 20/100\n",
            "313/313 [==============================] - 7s 23ms/step - loss: 0.4255 - accuracy: 0.8156 - val_loss: 0.4548 - val_accuracy: 0.7952\n",
            "Epoch 21/100\n",
            "313/313 [==============================] - 9s 27ms/step - loss: 0.4228 - accuracy: 0.8158 - val_loss: 0.4556 - val_accuracy: 0.7934\n",
            "Epoch 22/100\n",
            "313/313 [==============================] - 7s 23ms/step - loss: 0.4204 - accuracy: 0.8184 - val_loss: 0.4529 - val_accuracy: 0.7966\n",
            "Epoch 23/100\n",
            "313/313 [==============================] - 7s 23ms/step - loss: 0.4173 - accuracy: 0.8196 - val_loss: 0.4556 - val_accuracy: 0.7926\n",
            "Epoch 24/100\n",
            "313/313 [==============================] - 7s 23ms/step - loss: 0.4154 - accuracy: 0.8189 - val_loss: 0.4536 - val_accuracy: 0.7908\n",
            "Epoch 25/100\n",
            "313/313 [==============================] - 7s 23ms/step - loss: 0.4128 - accuracy: 0.8216 - val_loss: 0.4538 - val_accuracy: 0.7924\n"
          ]
        }
      ]
    },
    {
      "cell_type": "code",
      "source": [
        "plt.plot(history.history['loss'])\n",
        "plt.plot(history.history['val_loss'])\n",
        "plt.xlabel('epoch')\n",
        "plt.ylabel('loss')\n",
        "plt.legend(['train', 'val'])\n",
        "plt.show()"
      ],
      "metadata": {
        "colab": {
          "base_uri": "https://localhost:8080/",
          "height": 279
        },
        "id": "zhiQ1iE1Y2fU",
        "outputId": "ca16ed46-0d01-4b25-9194-205f4ced549a"
      },
      "execution_count": 18,
      "outputs": [
        {
          "output_type": "display_data",
          "data": {
            "text/plain": [
              "<Figure size 432x288 with 1 Axes>"
            ],
            "image/png": "[encoded data removed]"
          },
          "metadata": {
            "needs_background": "light"
          }
        }
      ]
    },
    {
      "cell_type": "code",
      "source": [
        "model_lstm = keras.Sequential()\n",
        "\n",
        "model_lstm.add(keras.layers.Embedding(500, 16, input_length=100))\n",
        "model_lstm.add(keras.layers.SimpleRNN(8))\n",
        "model_lstm.add(keras.layers.Dense(1, activation='sigmoid'))\n",
        "\n",
        "model_lstm.summary()"
      ],
      "metadata": {
        "colab": {
          "base_uri": "https://localhost:8080/"
        },
        "id": "JkLEr28pqQ_2",
        "outputId": "8148d942-581f-4b70-e99a-c4b7145e89ff"
      },
      "execution_count": 20,
      "outputs": [
        {
          "output_type": "stream",
          "name": "stdout",
          "text": [
            "Model: \"sequential_3\"\n",
            "_________________________________________________________________\n",
            " Layer (type)                Output Shape              Param #   \n",
            "=================================================================\n",
            " embedding_1 (Embedding)     (None, 100, 16)           8000      \n",
            "                                                                 \n",
            " simple_rnn_3 (SimpleRNN)    (None, 8)                 200       \n",
            "                                                                 \n",
            " dense_2 (Dense)             (None, 1)                 9         \n",
            "                                                                 \n",
            "=================================================================\n",
            "Total params: 8,209\n",
            "Trainable params: 8,209\n",
            "Non-trainable params: 0\n",
            "_________________________________________________________________\n"
          ]
        }
      ]
    },
    {
      "cell_type": "code",
      "source": [
        "\n",
        "model_lstm.compile(optimizer=rmsprop, loss='binary_crossentropy', metrics=['accuracy'])\n",
        "\n",
        "history = model_lstm.fit(train_seq, train_target, epochs=100, batch_size=64, \n",
        "                     validation_data=(val_seq, val_target),\n",
        "                     callbacks=[checkpoint_cb, early_stopping_cb])"
      ],
      "metadata": {
        "colab": {
          "base_uri": "https://localhost:8080/"
        },
        "id": "1Gn_uZD5ZIBo",
        "outputId": "8fa645f9-3e95-4406-83f8-c993c3050a76"
      },
      "execution_count": 22,
      "outputs": [
        {
          "output_type": "stream",
          "name": "stdout",
          "text": [
            "Epoch 1/100\n",
            "313/313 [==============================] - 9s 24ms/step - loss: 0.6803 - accuracy: 0.5638 - val_loss: 0.6523 - val_accuracy: 0.6466\n",
            "Epoch 2/100\n",
            "313/313 [==============================] - 7s 23ms/step - loss: 0.6287 - accuracy: 0.6920 - val_loss: 0.6137 - val_accuracy: 0.7128\n",
            "Epoch 3/100\n",
            "313/313 [==============================] - 8s 27ms/step - loss: 0.5964 - accuracy: 0.7294 - val_loss: 0.5914 - val_accuracy: 0.7296\n",
            "Epoch 4/100\n",
            "313/313 [==============================] - 7s 23ms/step - loss: 0.5733 - accuracy: 0.7482 - val_loss: 0.5728 - val_accuracy: 0.7440\n",
            "Epoch 5/100\n",
            "313/313 [==============================] - 7s 23ms/step - loss: 0.5544 - accuracy: 0.7613 - val_loss: 0.5552 - val_accuracy: 0.7494\n",
            "Epoch 6/100\n",
            "313/313 [==============================] - 7s 23ms/step - loss: 0.5380 - accuracy: 0.7700 - val_loss: 0.5406 - val_accuracy: 0.7624\n",
            "Epoch 7/100\n",
            "313/313 [==============================] - 7s 23ms/step - loss: 0.5250 - accuracy: 0.7740 - val_loss: 0.5324 - val_accuracy: 0.7628\n",
            "Epoch 8/100\n",
            "313/313 [==============================] - 7s 23ms/step - loss: 0.5119 - accuracy: 0.7797 - val_loss: 0.5237 - val_accuracy: 0.7612\n",
            "Epoch 9/100\n",
            "313/313 [==============================] - 7s 23ms/step - loss: 0.5001 - accuracy: 0.7864 - val_loss: 0.5169 - val_accuracy: 0.7612\n",
            "Epoch 10/100\n",
            "313/313 [==============================] - 7s 23ms/step - loss: 0.4914 - accuracy: 0.7888 - val_loss: 0.5135 - val_accuracy: 0.7616\n",
            "Epoch 11/100\n",
            "313/313 [==============================] - 7s 23ms/step - loss: 0.4847 - accuracy: 0.7894 - val_loss: 0.5121 - val_accuracy: 0.7588\n",
            "Epoch 12/100\n",
            "313/313 [==============================] - 7s 23ms/step - loss: 0.4767 - accuracy: 0.7935 - val_loss: 0.4981 - val_accuracy: 0.7710\n",
            "Epoch 13/100\n",
            "313/313 [==============================] - 7s 23ms/step - loss: 0.4711 - accuracy: 0.7959 - val_loss: 0.4989 - val_accuracy: 0.7670\n",
            "Epoch 14/100\n",
            "313/313 [==============================] - 7s 23ms/step - loss: 0.4654 - accuracy: 0.7987 - val_loss: 0.4879 - val_accuracy: 0.7792\n",
            "Epoch 15/100\n",
            "313/313 [==============================] - 7s 24ms/step - loss: 0.4627 - accuracy: 0.7973 - val_loss: 0.4907 - val_accuracy: 0.7726\n",
            "Epoch 16/100\n",
            "313/313 [==============================] - 7s 23ms/step - loss: 0.4596 - accuracy: 0.7994 - val_loss: 0.4856 - val_accuracy: 0.7790\n",
            "Epoch 17/100\n",
            "313/313 [==============================] - 7s 23ms/step - loss: 0.4552 - accuracy: 0.8026 - val_loss: 0.4896 - val_accuracy: 0.7742\n",
            "Epoch 18/100\n",
            "313/313 [==============================] - 7s 23ms/step - loss: 0.4529 - accuracy: 0.8025 - val_loss: 0.4853 - val_accuracy: 0.7778\n",
            "Epoch 19/100\n",
            "313/313 [==============================] - 7s 23ms/step - loss: 0.4502 - accuracy: 0.8052 - val_loss: 0.4828 - val_accuracy: 0.7786\n",
            "Epoch 20/100\n",
            "313/313 [==============================] - 7s 24ms/step - loss: 0.4470 - accuracy: 0.8047 - val_loss: 0.4891 - val_accuracy: 0.7730\n",
            "Epoch 21/100\n",
            "313/313 [==============================] - 9s 27ms/step - loss: 0.4455 - accuracy: 0.8056 - val_loss: 0.4898 - val_accuracy: 0.7710\n",
            "Epoch 22/100\n",
            "313/313 [==============================] - 8s 24ms/step - loss: 0.4444 - accuracy: 0.8075 - val_loss: 0.4811 - val_accuracy: 0.7780\n",
            "Epoch 23/100\n",
            "313/313 [==============================] - 7s 24ms/step - loss: 0.4417 - accuracy: 0.8095 - val_loss: 0.4805 - val_accuracy: 0.7760\n",
            "Epoch 24/100\n",
            "313/313 [==============================] - 7s 23ms/step - loss: 0.4411 - accuracy: 0.8091 - val_loss: 0.4798 - val_accuracy: 0.7774\n",
            "Epoch 25/100\n",
            "313/313 [==============================] - 7s 23ms/step - loss: 0.4387 - accuracy: 0.8102 - val_loss: 0.4782 - val_accuracy: 0.7770\n",
            "Epoch 26/100\n",
            "313/313 [==============================] - 7s 23ms/step - loss: 0.4381 - accuracy: 0.8108 - val_loss: 0.4796 - val_accuracy: 0.7778\n",
            "Epoch 27/100\n",
            "313/313 [==============================] - 7s 24ms/step - loss: 0.4362 - accuracy: 0.8100 - val_loss: 0.4769 - val_accuracy: 0.7778\n",
            "Epoch 28/100\n",
            "313/313 [==============================] - 7s 24ms/step - loss: 0.4354 - accuracy: 0.8112 - val_loss: 0.4790 - val_accuracy: 0.7754\n",
            "Epoch 29/100\n",
            "313/313 [==============================] - 7s 24ms/step - loss: 0.4345 - accuracy: 0.8100 - val_loss: 0.4763 - val_accuracy: 0.7818\n",
            "Epoch 30/100\n",
            "313/313 [==============================] - 7s 23ms/step - loss: 0.4325 - accuracy: 0.8136 - val_loss: 0.4775 - val_accuracy: 0.7830\n",
            "Epoch 31/100\n",
            "313/313 [==============================] - 7s 24ms/step - loss: 0.4315 - accuracy: 0.8126 - val_loss: 0.4775 - val_accuracy: 0.7824\n",
            "Epoch 32/100\n",
            "313/313 [==============================] - 7s 23ms/step - loss: 0.4314 - accuracy: 0.8141 - val_loss: 0.4760 - val_accuracy: 0.7818\n",
            "Epoch 33/100\n",
            "313/313 [==============================] - 7s 23ms/step - loss: 0.4307 - accuracy: 0.8145 - val_loss: 0.4730 - val_accuracy: 0.7808\n",
            "Epoch 34/100\n",
            "313/313 [==============================] - 7s 23ms/step - loss: 0.4286 - accuracy: 0.8139 - val_loss: 0.4809 - val_accuracy: 0.7736\n",
            "Epoch 35/100\n",
            "313/313 [==============================] - 7s 23ms/step - loss: 0.4272 - accuracy: 0.8153 - val_loss: 0.4783 - val_accuracy: 0.7712\n",
            "Epoch 36/100\n",
            "313/313 [==============================] - 7s 23ms/step - loss: 0.4263 - accuracy: 0.8155 - val_loss: 0.4798 - val_accuracy: 0.7824\n"
          ]
        }
      ]
    },
    {
      "cell_type": "code",
      "source": [
        ""
      ],
      "metadata": {
        "id": "ioWufkXTqKoj"
      },
      "execution_count": null,
      "outputs": []
    }
  ]
}