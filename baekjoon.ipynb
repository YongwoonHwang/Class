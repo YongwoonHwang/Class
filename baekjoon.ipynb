{
 "cells": [
  {
   "cell_type": "code",
   "execution_count": null,
   "id": "c35df536",
   "metadata": {},
   "outputs": [],
   "source": [
    "print(28)\n",
    "print(\"manhae12\")"
   ]
  },
  {
   "cell_type": "code",
   "execution_count": null,
   "id": "5aa12bfc",
   "metadata": {},
   "outputs": [],
   "source": [
    "A, B, C = map(int,input().split())\n",
    "M = [A, B, C]\n",
    "M.sort(reverse=True)\n",
    "\n",
    "print(M[1])"
   ]
  },
  {
   "cell_type": "code",
   "execution_count": null,
   "id": "246e9645",
   "metadata": {},
   "outputs": [],
   "source": [
    "A, B, C = map(int,input().split())\n",
    "D = int(input())\n",
    "\n",
    "B_a = D//60\n",
    "B_b = D%60\n",
    "\n",
    "A_a = (B+B_a)//60\n",
    "A_b = (B+B_a)%60\n",
    "\n",
    "\n",
    "\n",
    "if C+D > 59:\n",
    "    if B+B_a <= 59:\n",
    "        print(A, B+B_a, B_b)\n",
    "    elif B+B_a > 59:\n",
    "        if A+A_a <= 23:\n",
    "            print(A+A_a, A_b, 0+((C+B_b)-60))\n",
    "        else:\n",
    "            print(0+((A+A_a)-24), A_b, 0+((C+B_b)-60))\n",
    "#         print(A, 0+((B+B_a)-60), B_b)\n",
    "\n",
    "elif C+D <= 59:\n",
    "    print(A, B, C+D)"
   ]
  },
  {
   "cell_type": "code",
   "execution_count": null,
   "id": "8eb66e16",
   "metadata": {},
   "outputs": [],
   "source": [
    "A = 10**3\n",
    "\n",
    "B = 10**2"
   ]
  },
  {
   "cell_type": "code",
   "execution_count": null,
   "id": "449edf57",
   "metadata": {},
   "outputs": [],
   "source": [
    "10**2 "
   ]
  },
  {
   "cell_type": "code",
   "execution_count": null,
   "id": "af99e8b2",
   "metadata": {},
   "outputs": [],
   "source": [
    "10**3"
   ]
  },
  {
   "cell_type": "code",
   "execution_count": null,
   "id": "5e31671b",
   "metadata": {},
   "outputs": [],
   "source": [
    "A, B, C = map(int,input().split())\n",
    "D = int(input())\n",
    "if D + C >=0:\n",
    "    print((((D + C)//60)+A)%24, (((D + C)//60)+B)%60, (D + C)%60)"
   ]
  },
  {
   "cell_type": "code",
   "execution_count": 6,
   "id": "66e7f8c6",
   "metadata": {},
   "outputs": [
    {
     "name": "stdout",
     "output_type": "stream",
     "text": [
      "1\n"
     ]
    }
   ],
   "source": [
    "while True:\n",
    "    try:\n",
    "        A , B = map(int, input().split())\n",
    "        print(A+B)\n",
    "    except:\n",
    "        break"
   ]
  },
  {
   "cell_type": "code",
   "execution_count": 10,
   "id": "af5f0c63",
   "metadata": {},
   "outputs": [
    {
     "name": "stdout",
     "output_type": "stream",
     "text": [
      "5\n",
      "1 1\n",
      "2\n",
      "12 34\n",
      "46\n",
      "5 500\n",
      "505\n",
      "40 60\n",
      "100\n",
      "1000 1000\n",
      "2000\n"
     ]
    }
   ],
   "source": [
    "while True:\n",
    "    for i in range(int(input())):\n",
    "        a, b = map(int,input().split())\n",
    "        print(a+b)\n",
    "    break"
   ]
  },
  {
   "cell_type": "code",
   "execution_count": null,
   "id": "ea129d07",
   "metadata": {},
   "outputs": [],
   "source": []
  },
  {
   "cell_type": "code",
   "execution_count": null,
   "id": "2379d4f5",
   "metadata": {},
   "outputs": [],
   "source": []
  },
  {
   "cell_type": "code",
   "execution_count": null,
   "id": "81133052",
   "metadata": {},
   "outputs": [],
   "source": []
  }
 ],
 "metadata": {
  "kernelspec": {
   "display_name": "Python 3 (ipykernel)",
   "language": "python",
   "name": "python3"
  },
  "language_info": {
   "codemirror_mode": {
    "name": "ipython",
    "version": 3
   },
   "file_extension": ".py",
   "mimetype": "text/x-python",
   "name": "python",
   "nbconvert_exporter": "python",
   "pygments_lexer": "ipython3",
   "version": "3.9.12"
  }
 },
 "nbformat": 4,
 "nbformat_minor": 5
}
