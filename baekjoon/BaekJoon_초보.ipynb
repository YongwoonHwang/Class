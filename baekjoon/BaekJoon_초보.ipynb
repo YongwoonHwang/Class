{
 "cells": [
  {
   "cell_type": "markdown",
   "id": "6a462505",
   "metadata": {},
   "source": [
    "## dictionary"
   ]
  },
  {
   "cell_type": "code",
   "execution_count": null,
   "id": "903c5990",
   "metadata": {},
   "outputs": [],
   "source": [
    "t = int(input())\n",
    "dic = {}\n",
    "for i in range(t):\n",
    "    for j in range(int(input())):\n",
    "        key = input()\n",
    "        val = int(input())\n",
    "        dic[key] = val\n",
    "print(dic)    "
   ]
  },
  {
   "cell_type": "markdown",
   "id": "61edf49b",
   "metadata": {},
   "source": [
    "## Yangjojang of The Year"
   ]
  },
  {
   "cell_type": "code",
   "execution_count": null,
   "id": "fe9483ef",
   "metadata": {},
   "outputs": [],
   "source": [
    "t = int(input())\n",
    "\n",
    "for i in range(t):\n",
    "    A={}\n",
    "    for j in range(int(input())):\n",
    "        a,b = input().split()\n",
    "        A[a]= int(b)\n",
    "    print(max(A, key = A.get))"
   ]
  },
  {
   "cell_type": "markdown",
   "id": "059ca4bd",
   "metadata": {},
   "source": [
    "<!-- n, k = map(int, input().split())\n",
    "\n",
    "A = {}\n",
    "for _ in range(n):\n",
    "    w, v = map(int, input().split())\n",
    "    A[w] = int(v)\n",
    "print(max(A, key = A.get)) -->"
   ]
  },
  {
   "cell_type": "markdown",
   "id": "f5cd16a4",
   "metadata": {},
   "source": [
    "## 수들의 합"
   ]
  },
  {
   "cell_type": "code",
   "execution_count": null,
   "id": "4366d355",
   "metadata": {},
   "outputs": [],
   "source": [
    "s = int(input())\n",
    "\n",
    "n = 0\n",
    "k = 1\n",
    "\n",
    "while True:\n",
    "    if k + n <= s:\n",
    "        n += 1\n",
    "        k += n\n",
    "        continue\n",
    "    elif k + n > s:\n",
    "        print(n)\n",
    "        break"
   ]
  },
  {
   "cell_type": "markdown",
   "id": "fe381249",
   "metadata": {},
   "source": [
    "## 문자열 반복"
   ]
  },
  {
   "cell_type": "code",
   "execution_count": null,
   "id": "51695cee",
   "metadata": {},
   "outputs": [],
   "source": [
    "for _ in range(int(input())):\n",
    "    r, s = map(str, input().split())\n",
    "    for j in s:\n",
    "        print(j*int(r), end='')\n",
    "    print()"
   ]
  },
  {
   "cell_type": "markdown",
   "id": "9b70d3f6",
   "metadata": {},
   "source": [
    "## 소인수분해"
   ]
  },
  {
   "cell_type": "code",
   "execution_count": null,
   "id": "db51287a",
   "metadata": {
    "scrolled": false
   },
   "outputs": [],
   "source": [
    "n = int(input())\n",
    "i = 2\n",
    "while True:\n",
    "    if n%i == 0:\n",
    "        n = n/i\n",
    "        print(i)\n",
    "    elif n%i != 0:\n",
    "        i += 1\n",
    "        if i > n:\n",
    "            break\n",
    "        continue"
   ]
  },
  {
   "cell_type": "markdown",
   "id": "55b27db8",
   "metadata": {},
   "source": [
    "## 최소 공배수"
   ]
  },
  {
   "cell_type": "code",
   "execution_count": null,
   "id": "53738626",
   "metadata": {
    "scrolled": true
   },
   "outputs": [],
   "source": [
    "t = int(input())\n",
    "for i in range(t):\n",
    "    a, b = map(int, input().split())\n",
    "    n = 1\n",
    "    k = 1\n",
    "    while True:\n",
    "        if a*n > b*k:\n",
    "            k += 1\n",
    "        elif a*n < b*k:\n",
    "            n += 1\n",
    "            continue\n",
    "        elif a*n == b*k:\n",
    "            print(a*n)\n",
    "            break"
   ]
  },
  {
   "cell_type": "markdown",
   "id": "8ad4756c",
   "metadata": {},
   "source": [
    "## 배수와 약수"
   ]
  },
  {
   "cell_type": "code",
   "execution_count": null,
   "id": "e330e900",
   "metadata": {
    "scrolled": true
   },
   "outputs": [],
   "source": [
    "while True:\n",
    "    a, b = map(int, input().split())\n",
    "    if a == 0 and b == 0:\n",
    "        break\n",
    "    if b%a == 0:\n",
    "        print('factor')\n",
    "    elif a%b == 0:\n",
    "        print('multiple')\n",
    "    elif b%a != 0 and a%b != 0:\n",
    "        print('neither')\n",
    "        continue"
   ]
  },
  {
   "cell_type": "markdown",
   "id": "dd1e938d",
   "metadata": {},
   "source": [
    "## TGN"
   ]
  },
  {
   "cell_type": "code",
   "execution_count": null,
   "id": "dc70cf11",
   "metadata": {},
   "outputs": [],
   "source": [
    "for i in range(int(input())):\n",
    "    r, e, c = map(int,input().split())\n",
    "    if (e-c) > r:\n",
    "        print('advertise')\n",
    "    elif (e-c) < r:\n",
    "        print('do not advertise')\n",
    "    elif (e-c) == r:\n",
    "        print('does not matter')"
   ]
  },
  {
   "cell_type": "markdown",
   "id": "2f472de8",
   "metadata": {},
   "source": [
    "## 사분면"
   ]
  },
  {
   "cell_type": "code",
   "execution_count": null,
   "id": "7ea8cd65",
   "metadata": {},
   "outputs": [],
   "source": [
    "A ={}\n",
    "A['Q1'] = 0\n",
    "A['Q2'] = 0\n",
    "A['Q3'] = 0\n",
    "A['Q4'] = 0\n",
    "A['AXIS'] = 0\n",
    "\n",
    "for _ in range(int(input())):\n",
    "    x, y = map(int, input().split())\n",
    "    \n",
    "    if x == 0 or y == 0:\n",
    "        A['AXIS'] += 1\n",
    "    elif x == 0 and y == 0:\n",
    "        A['AXIS'] += 1\n",
    "    elif x > 0 and y > 0:\n",
    "        A['Q1'] += 1\n",
    "    elif x < 0 and y > 0:\n",
    "        A['Q2'] += 1\n",
    "    elif x > 0 and y < 0:\n",
    "        A['Q4'] += 1\n",
    "    elif x < 0 and y < 0:\n",
    "        A['Q3'] += 1\n",
    "print(\"Q1:\", A['Q1'])\n",
    "print(\"Q2:\", A['Q2'])\n",
    "print(\"Q3:\", A['Q3'])\n",
    "print(\"Q4:\", A['Q4'])\n",
    "print(\"AXIS:\", A['AXIS'])\n",
    "        \n"
   ]
  },
  {
   "cell_type": "markdown",
   "id": "27e81cea",
   "metadata": {},
   "source": [
    "## ox퀴즈"
   ]
  },
  {
   "cell_type": "code",
   "execution_count": null,
   "id": "50bef471",
   "metadata": {},
   "outputs": [],
   "source": [
    "for j in range(int(input())):\n",
    "    t = input()\n",
    "    T = list(t)\n",
    "    c = 0\n",
    "    k = 0\n",
    "    for i in T:\n",
    "        if i == 'O':\n",
    "            c += 1\n",
    "            k += c\n",
    "        else:\n",
    "            c = 0\n",
    "    print(k)"
   ]
  },
  {
   "cell_type": "markdown",
   "id": "71128a9e",
   "metadata": {},
   "source": [
    "## 개표"
   ]
  },
  {
   "cell_type": "code",
   "execution_count": null,
   "id": "43e262a0",
   "metadata": {},
   "outputs": [],
   "source": [
    "v = int(input())\n",
    "p = input()\n",
    "if p.count('A') > p.count('B'):\n",
    "    print('A')\n",
    "elif p.count('A') < p.count('B'):\n",
    "    print('B')\n",
    "else:\n",
    "    print('Tie')"
   ]
  },
  {
   "cell_type": "markdown",
   "id": "265f63d7",
   "metadata": {},
   "source": [
    "## 팰린드롬인지 확인하기"
   ]
  },
  {
   "cell_type": "code",
   "execution_count": null,
   "id": "3f6a7176",
   "metadata": {},
   "outputs": [],
   "source": [
    "A = []\n",
    "a = input()\n",
    "A.extend(a)\n",
    "B = A.copy()\n",
    "A2 = A.reverse()\n",
    "\n",
    "if A == B:\n",
    "    print(1)\n",
    "else:\n",
    "    print(0)"
   ]
  },
  {
   "cell_type": "markdown",
   "id": "47e7e222",
   "metadata": {},
   "source": [
    "## 약수들의 합"
   ]
  },
  {
   "cell_type": "code",
   "execution_count": null,
   "id": "e9654c37",
   "metadata": {},
   "outputs": [],
   "source": []
  },
  {
   "cell_type": "markdown",
   "id": "5a5200ff",
   "metadata": {},
   "source": [
    "## 카드 게임"
   ]
  },
  {
   "cell_type": "code",
   "execution_count": null,
   "id": "a6fabcf0",
   "metadata": {},
   "outputs": [],
   "source": [
    "b = 0\n",
    "for i in range(0, 5):\n",
    "    a = int(input())\n",
    "    b += a\n",
    "print(b)"
   ]
  },
  {
   "cell_type": "markdown",
   "id": "2dedcb2b",
   "metadata": {},
   "source": [
    "## 마이크로 소프트 로고"
   ]
  },
  {
   "cell_type": "code",
   "execution_count": null,
   "id": "17df52a5",
   "metadata": {},
   "outputs": [],
   "source": [
    "print(\"\"\"       _.-;;-._\n",
    "'-..-'|   ||   |\n",
    "'-..-'|_.-;;-._|\n",
    "'-..-'|   ||   |\n",
    "'-..-'|_.-''-._|\"\"\")"
   ]
  },
  {
   "cell_type": "markdown",
   "id": "b60f4ef7",
   "metadata": {},
   "source": [
    "## 스타워즈 로고"
   ]
  },
  {
   "cell_type": "code",
   "execution_count": null,
   "id": "87875505",
   "metadata": {
    "scrolled": true
   },
   "outputs": [],
   "source": [
    "print('''    8888888888  888    88888\n",
    "   88     88   88 88   88  88\n",
    "    8888  88  88   88  88888\n",
    "       88 88 888888888 88   88\n",
    "88888888  88 88     88 88    888888\n",
    "\n",
    "88  88  88   888    88888    888888\n",
    "88  88  88  88 88   88  88  88\n",
    "88 8888 88 88   88  88888    8888\n",
    " 888  888 888888888 88  88      88\n",
    "  88  88  88     88 88   88888888''')"
   ]
  },
  {
   "cell_type": "markdown",
   "id": "d9aa357a",
   "metadata": {},
   "source": [
    "## The World Responds"
   ]
  },
  {
   "cell_type": "code",
   "execution_count": null,
   "id": "e2a003ba",
   "metadata": {},
   "outputs": [],
   "source": [
    "print('The world says hello!')"
   ]
  },
  {
   "cell_type": "markdown",
   "id": "cfe67276",
   "metadata": {},
   "source": [
    "## 웰컴"
   ]
  },
  {
   "cell_type": "code",
   "execution_count": null,
   "id": "ab7f30f3",
   "metadata": {},
   "outputs": [],
   "source": [
    "print('''.  .   .\n",
    "|  | _ | _. _ ._ _  _\n",
    "|/\\|(/.|(_.(_)[ | )(/.''')"
   ]
  },
  {
   "cell_type": "markdown",
   "id": "3c12e91a",
   "metadata": {},
   "source": [
    "## 콜센터"
   ]
  },
  {
   "cell_type": "code",
   "execution_count": null,
   "id": "bef85ac7",
   "metadata": {
    "scrolled": true
   },
   "outputs": [],
   "source": [
    "print(\"\"\"     /~\\\\\n",
    "    ( oo|\n",
    "    _\\=/_\n",
    "   /  _  \\\\\n",
    "  //|/.\\|\\\\\\\\\n",
    " ||  \\ /  ||\n",
    "============\n",
    "|          |\n",
    "|          |\n",
    "|          |\"\"\")"
   ]
  },
  {
   "cell_type": "markdown",
   "id": "2e40c9d8",
   "metadata": {},
   "source": [
    "## plane"
   ]
  },
  {
   "cell_type": "code",
   "execution_count": null,
   "id": "f790408d",
   "metadata": {},
   "outputs": [],
   "source": [
    "a, b, c, d = map(int, input().split())\n",
    "\n",
    "print(a*b+c*d)"
   ]
  },
  {
   "cell_type": "markdown",
   "id": "95870f73",
   "metadata": {},
   "source": [
    "## 아스키 코드"
   ]
  },
  {
   "cell_type": "code",
   "execution_count": null,
   "id": "5d4d8861",
   "metadata": {
    "scrolled": true
   },
   "outputs": [],
   "source": [
    "a = input()\n",
    "print(ord(a))"
   ]
  },
  {
   "cell_type": "markdown",
   "id": "6c44fbc9",
   "metadata": {},
   "source": [
    "## 더하기"
   ]
  },
  {
   "cell_type": "code",
   "execution_count": null,
   "id": "a7f338e2",
   "metadata": {
    "scrolled": true
   },
   "outputs": [],
   "source": [
    "a, b = map(int, input().split())\n",
    "print(a+b)"
   ]
  },
  {
   "cell_type": "markdown",
   "id": "750dce21",
   "metadata": {},
   "source": [
    "## 나는 누구인가"
   ]
  },
  {
   "cell_type": "code",
   "execution_count": null,
   "id": "6a8eed8d",
   "metadata": {},
   "outputs": [],
   "source": [
    "print(\"I'm Sexy\")"
   ]
  },
  {
   "cell_type": "markdown",
   "id": "1b509aa9",
   "metadata": {},
   "source": [
    "## 제리와 톰"
   ]
  },
  {
   "cell_type": "code",
   "execution_count": null,
   "id": "b7f7dfd4",
   "metadata": {},
   "outputs": [],
   "source": [
    "a, b = map(int, input().split())\n",
    "\n",
    "print(b-a, b)"
   ]
  },
  {
   "cell_type": "markdown",
   "id": "ed68f621",
   "metadata": {},
   "source": [
    "## 홍익대학교"
   ]
  },
  {
   "cell_type": "code",
   "execution_count": null,
   "id": "ad58c27f",
   "metadata": {},
   "outputs": [],
   "source": [
    "a = int(input())\n",
    "\n",
    "print(a - 1946)"
   ]
  },
  {
   "cell_type": "markdown",
   "id": "95c9390b",
   "metadata": {},
   "source": [
    "## 새로운 시작"
   ]
  },
  {
   "cell_type": "code",
   "execution_count": null,
   "id": "0d07de55",
   "metadata": {},
   "outputs": [],
   "source": [
    "print('파이팅!!')"
   ]
  },
  {
   "cell_type": "markdown",
   "id": "aaa25e3b",
   "metadata": {},
   "source": [
    "## 세금"
   ]
  },
  {
   "cell_type": "code",
   "execution_count": null,
   "id": "35171384",
   "metadata": {},
   "outputs": [],
   "source": [
    "n = int(input())\n",
    "\n",
    "i = round(n*0.78)\n",
    "j = round(n-n*0.2*0.22)\n",
    "\n",
    "print(i, j)"
   ]
  },
  {
   "cell_type": "markdown",
   "id": "cdeaae11",
   "metadata": {},
   "source": [
    "## Count Me In"
   ]
  },
  {
   "cell_type": "code",
   "execution_count": 5,
   "id": "5b6d9a8c",
   "metadata": {},
   "outputs": [
    {
     "name": "stdout",
     "output_type": "stream",
     "text": [
      "3\n",
      "You can win this thing\n",
      "12 6\n",
      "May be too optimistic\n",
      "10 8\n",
      "Just try to have fun\n",
      "11 5\n"
     ]
    }
   ],
   "source": [
    "s = int(input())\n",
    "\n",
    "for i in range(s):\n",
    "    a = input()\n",
    "    A = list(a)\n",
    "    q = A.count(' ')\n",
    "    w = len(A)\n",
    "    v = A.count('a')+A.count('e')+A.count('i')+A.count('o')+A.count('u')+A.count('A')+A.count('E')+A.count('I')+A.count('O')+A.count('U')\n",
    "    print(w-(v+q), v)"
   ]
  },
  {
   "cell_type": "markdown",
   "id": "84f525a8",
   "metadata": {},
   "source": [
    "## Cupcake Party"
   ]
  },
  {
   "cell_type": "code",
   "execution_count": 8,
   "id": "21b00ae3",
   "metadata": {},
   "outputs": [
    {
     "name": "stdout",
     "output_type": "stream",
     "text": [
      "2\n",
      "4\n",
      "0\n"
     ]
    }
   ],
   "source": [
    "a = int(input())\n",
    "b = int(input())\n",
    "\n",
    "print((a*8+b*3)-28)"
   ]
  },
  {
   "cell_type": "markdown",
   "id": "71853b9b",
   "metadata": {},
   "source": [
    "## 가장 쉬운 문제를 찾는 문제"
   ]
  },
  {
   "cell_type": "code",
   "execution_count": 27,
   "id": "8b47f48b",
   "metadata": {},
   "outputs": [
    {
     "name": "stdout",
     "output_type": "stream",
     "text": [
      "3\n",
      "ABCDE 4\n",
      "BCDEF 2\n",
      "CDEFG 3\n",
      "BCDEF\n"
     ]
    }
   ],
   "source": [
    "n = int(input())\n",
    "\n",
    "a = {}\n",
    "\n",
    "for _ in range(n):\n",
    "    b,c = input().split()\n",
    "    a[b] = int(c)\n",
    "print(min(a, key=a.get))"
   ]
  },
  {
   "cell_type": "markdown",
   "id": "b6cefcca",
   "metadata": {},
   "source": [
    "## Site Score"
   ]
  },
  {
   "cell_type": "code",
   "execution_count": 30,
   "id": "78f8e102",
   "metadata": {},
   "outputs": [
    {
     "name": "stdout",
     "output_type": "stream",
     "text": [
      "1 10 100 1000\n",
      "7696\n"
     ]
    }
   ],
   "source": [
    "a, b, c, d = map(int,input().split())\n",
    "\n",
    "print(56*a+24*b+14*c+6*d)"
   ]
  },
  {
   "cell_type": "markdown",
   "id": "d4fcff31",
   "metadata": {},
   "source": [
    "## Can you add this?"
   ]
  },
  {
   "cell_type": "code",
   "execution_count": 32,
   "id": "d5155b0a",
   "metadata": {
    "scrolled": true
   },
   "outputs": [
    {
     "name": "stdout",
     "output_type": "stream",
     "text": [
      "4\n",
      "-100 100\n",
      "0\n",
      "2 3\n",
      "5\n",
      "0 110101\n",
      "110101\n",
      "-100000000 1\n",
      "-99999999\n"
     ]
    }
   ],
   "source": [
    "t = int(input())\n",
    "\n",
    "for _ in range(t):\n",
    "    a, b = map(int, input().split())\n",
    "    print(a + b)"
   ]
  },
  {
   "cell_type": "markdown",
   "id": "3a511155",
   "metadata": {},
   "source": [
    "## 사장님 도박은 재미로 하셔야 합니다."
   ]
  },
  {
   "cell_type": "code",
   "execution_count": 35,
   "id": "fb944bb8",
   "metadata": {},
   "outputs": [
    {
     "name": "stdout",
     "output_type": "stream",
     "text": [
      "1\n",
      "2\n",
      "3\n",
      "4\n",
      "5\n",
      "6\n",
      "7\n",
      "8\n",
      "9\n",
      "10\n",
      "-1\n",
      "55\n"
     ]
    }
   ],
   "source": [
    "c = 0\n",
    "while True:\n",
    "    a = int(input())\n",
    "    c += a\n",
    "    if a != -1:\n",
    "        continue\n",
    "    else:\n",
    "        c += 1\n",
    "        print(c)\n",
    "        break"
   ]
  },
  {
   "cell_type": "markdown",
   "id": "fa74d274",
   "metadata": {},
   "source": [
    "## 오늘의 날짜는?"
   ]
  },
  {
   "cell_type": "code",
   "execution_count": 37,
   "id": "de43e47f",
   "metadata": {},
   "outputs": [
    {
     "name": "stdout",
     "output_type": "stream",
     "text": [
      "2022\n",
      "08\n",
      "23\n"
     ]
    }
   ],
   "source": [
    "print('2022')\n",
    "print('08')\n",
    "print('23')"
   ]
  },
  {
   "cell_type": "markdown",
   "id": "b68c13f0",
   "metadata": {},
   "source": [
    "## 코딩은 체육과목 입니다."
   ]
  },
  {
   "cell_type": "code",
   "execution_count": 41,
   "id": "0e0369fb",
   "metadata": {
    "scrolled": true
   },
   "outputs": [
    {
     "name": "stdout",
     "output_type": "stream",
     "text": [
      "20\n",
      "long long long long long int\n"
     ]
    }
   ],
   "source": [
    "n = int(input())\n",
    "k = n//4\n",
    "print('long '*k+'int')"
   ]
  },
  {
   "cell_type": "markdown",
   "id": "0713dc76",
   "metadata": {},
   "source": [
    "## 16진수"
   ]
  },
  {
   "cell_type": "code",
   "execution_count": 88,
   "id": "80664153",
   "metadata": {},
   "outputs": [
    {
     "name": "stdout",
     "output_type": "stream",
     "text": [
      "AB\n"
     ]
    },
    {
     "ename": "ValueError",
     "evalue": "invalid literal for int() with base 10: 'AB'",
     "output_type": "error",
     "traceback": [
      "\u001b[1;31m---------------------------------------------------------------------------\u001b[0m",
      "\u001b[1;31mValueError\u001b[0m                                Traceback (most recent call last)",
      "Input \u001b[1;32mIn [88]\u001b[0m, in \u001b[0;36m<cell line: 3>\u001b[1;34m()\u001b[0m\n\u001b[0;32m     13\u001b[0m \u001b[38;5;28;01melif\u001b[39;00m a \u001b[38;5;241m==\u001b[39m \u001b[38;5;124m'\u001b[39m\u001b[38;5;124mF\u001b[39m\u001b[38;5;124m'\u001b[39m:\n\u001b[0;32m     14\u001b[0m     \u001b[38;5;28mprint\u001b[39m(\u001b[38;5;241m15\u001b[39m)\n\u001b[1;32m---> 15\u001b[0m \u001b[38;5;28;01melif\u001b[39;00m \u001b[38;5;28;43mint\u001b[39;49m\u001b[43m(\u001b[49m\u001b[43ma\u001b[49m\u001b[43m)\u001b[49m \u001b[38;5;241m>\u001b[39m \u001b[38;5;241m9\u001b[39m:\n\u001b[0;32m     16\u001b[0m     \u001b[38;5;28mprint\u001b[39m(\u001b[38;5;28mint\u001b[39m(a)\u001b[38;5;241m+\u001b[39m\u001b[38;5;241m6\u001b[39m)\n\u001b[0;32m     17\u001b[0m \u001b[38;5;28;01melif\u001b[39;00m \u001b[38;5;28mint\u001b[39m(a) \u001b[38;5;241m<\u001b[39m \u001b[38;5;241m10\u001b[39m:\n",
      "\u001b[1;31mValueError\u001b[0m: invalid literal for int() with base 10: 'AB'"
     ]
    }
   ],
   "source": [
    "# # for _ in range(0,1):\n",
    "# a = input()\n",
    "# if a == 'A':\n",
    "#     print(10)\n",
    "# elif a == 'B':\n",
    "#     print(11)\n",
    "# elif a == 'C':\n",
    "#     print(12)\n",
    "# elif a == 'D':\n",
    "#     print(13)\n",
    "# elif a == 'E':\n",
    "#     print(14)\n",
    "# elif a == 'F':\n",
    "#     print(15)\n",
    "# elif int(a) > 9:\n",
    "#     print(int(a)+6)\n",
    "# elif int(a) < 10:\n",
    "#     print(int(a))"
   ]
  },
  {
   "cell_type": "markdown",
   "id": "3ce5dbc1",
   "metadata": {},
   "source": [
    "## Hello Judge"
   ]
  },
  {
   "cell_type": "code",
   "execution_count": 101,
   "id": "0c4a4c96",
   "metadata": {},
   "outputs": [
    {
     "name": "stdout",
     "output_type": "stream",
     "text": [
      "3\n",
      "Hello World, Judge 1!\n",
      "Hello World, Judge 2!\n",
      "Hello World, Judge 3!\n"
     ]
    }
   ],
   "source": [
    "n = int(input())\n",
    "\n",
    "for i in range(n):\n",
    "    print(f'Hello World, Judge {i+1}!')"
   ]
  },
  {
   "cell_type": "code",
   "execution_count": 102,
   "id": "ba998e60",
   "metadata": {},
   "outputs": [
    {
     "ename": "SyntaxError",
     "evalue": "invalid syntax (3922301154.py, line 5)",
     "output_type": "error",
     "traceback": [
      "\u001b[1;36m  Input \u001b[1;32mIn [102]\u001b[1;36m\u001b[0m\n\u001b[1;33m    for i in range(n):\u001b[0m\n\u001b[1;37m                     ^\u001b[0m\n\u001b[1;31mSyntaxError\u001b[0m\u001b[1;31m:\u001b[0m invalid syntax\n"
     ]
    }
   ],
   "source": []
  },
  {
   "cell_type": "code",
   "execution_count": null,
   "id": "c1dbcc33",
   "metadata": {},
   "outputs": [],
   "source": []
  },
  {
   "cell_type": "code",
   "execution_count": null,
   "id": "00c8181e",
   "metadata": {},
   "outputs": [],
   "source": []
  },
  {
   "cell_type": "code",
   "execution_count": null,
   "id": "fbef9f3e",
   "metadata": {},
   "outputs": [],
   "source": []
  }
 ],
 "metadata": {
  "kernelspec": {
   "display_name": "Python 3 (ipykernel)",
   "language": "python",
   "name": "python3"
  },
  "language_info": {
   "codemirror_mode": {
    "name": "ipython",
    "version": 3
   },
   "file_extension": ".py",
   "mimetype": "text/x-python",
   "name": "python",
   "nbconvert_exporter": "python",
   "pygments_lexer": "ipython3",
   "version": "3.9.12"
  }
 },
 "nbformat": 4,
 "nbformat_minor": 5
}
