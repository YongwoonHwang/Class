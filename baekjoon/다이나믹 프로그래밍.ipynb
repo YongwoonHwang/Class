{
 "cells": [
  {
   "cell_type": "markdown",
   "id": "c0797e2c",
   "metadata": {},
   "source": [
    "## 알고리즘 수업 - 피보나치 수 1"
   ]
  },
  {
   "cell_type": "code",
   "execution_count": 41,
   "id": "be1257c8",
   "metadata": {},
   "outputs": [
    {
     "name": "stdout",
     "output_type": "stream",
     "text": [
      "10\n",
      "55 8\n"
     ]
    }
   ],
   "source": [
    "def fib(n) :\n",
    "    global cnt1\n",
    "    cnt1 += 1\n",
    "    if (n == 1) or (n == 2):\n",
    "        cnt1 -= 1\n",
    "        return 1  # 코드1\n",
    "    else:\n",
    "        return (fib(n - 1) + fib(n - 2))\n",
    "\n",
    "\n",
    "def fibo(n):\n",
    "    global cnt2\n",
    "    f[1], f[2] = 1, 1;\n",
    "    for i in range(3,n+1):\n",
    "        cnt2 += 1\n",
    "        f[i] = f[i - 1] + f[i - 2];  # 코드2\n",
    "    return f[n];\n",
    "\n",
    "f = [0 for _ in range(41)]\n",
    "n = int(input())\n",
    "cnt1, cnt2 = 0, 0\n",
    "fib(n)\n",
    "fibo(n)\n",
    "\n",
    "print(cnt1+1, cnt2)"
   ]
  },
  {
   "cell_type": "code",
   "execution_count": null,
   "id": "8e6443a1",
   "metadata": {},
   "outputs": [],
   "source": []
  },
  {
   "cell_type": "code",
   "execution_count": 22,
   "id": "5c3efec1",
   "metadata": {},
   "outputs": [
    {
     "name": "stdout",
     "output_type": "stream",
     "text": [
      "9\n",
      "1 2\n",
      "3 2\n",
      "1 2\n",
      "2 1\n",
      "2 1\n",
      "3 2\n",
      "1 3\n",
      "3 1\n",
      "1 2\n",
      "1\n"
     ]
    }
   ],
   "source": []
  },
  {
   "cell_type": "markdown",
   "id": "335120f1",
   "metadata": {},
   "source": [
    "# "
   ]
  },
  {
   "cell_type": "code",
   "execution_count": null,
   "id": "a1e6291a",
   "metadata": {},
   "outputs": [],
   "source": []
  },
  {
   "cell_type": "code",
   "execution_count": null,
   "id": "679e50bf",
   "metadata": {},
   "outputs": [],
   "source": []
  },
  {
   "cell_type": "code",
   "execution_count": null,
   "id": "6f056ee5",
   "metadata": {},
   "outputs": [],
   "source": []
  },
  {
   "cell_type": "code",
   "execution_count": null,
   "id": "520cb900",
   "metadata": {},
   "outputs": [],
   "source": []
  }
 ],
 "metadata": {
  "kernelspec": {
   "display_name": "Python 3 (ipykernel)",
   "language": "python",
   "name": "python3"
  },
  "language_info": {
   "codemirror_mode": {
    "name": "ipython",
    "version": 3
   },
   "file_extension": ".py",
   "mimetype": "text/x-python",
   "name": "python",
   "nbconvert_exporter": "python",
   "pygments_lexer": "ipython3",
   "version": "3.9.12"
  }
 },
 "nbformat": 4,
 "nbformat_minor": 5
}
