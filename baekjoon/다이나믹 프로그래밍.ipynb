{
 "cells": [
  {
   "cell_type": "markdown",
   "id": "09214eff",
   "metadata": {},
   "source": [
    "## 알고리즘 수업 - 피보나치 수 1"
   ]
  },
  {
   "cell_type": "code",
   "execution_count": 8,
   "id": "04105168",
   "metadata": {},
   "outputs": [
    {
     "name": "stdout",
     "output_type": "stream",
     "text": [
      "35\n",
      "9227465 33\n"
     ]
    }
   ],
   "source": [
    "def fib(n) :\n",
    "    global cnt1\n",
    "    cnt1 += 1\n",
    "    if (n == 1) or (n == 2):\n",
    "        cnt1 -= 1\n",
    "        return 1  # 코드1\n",
    "    else:\n",
    "        return (fib(n - 1) + fib(n - 2))\n",
    "\n",
    "\n",
    "def fibo(n):\n",
    "    global cnt2\n",
    "    f[1], f[2] = 1, 1;\n",
    "    for i in range(3,n+1):\n",
    "        cnt2 += 1\n",
    "        f[i] = f[i - 1] + f[i - 2];  # 코드2\n",
    "    return f[n];\n",
    "\n",
    "f = [0 for _ in range(41)]\n",
    "n = int(input())\n",
    "cnt1, cnt2 = 0, 0\n",
    "fib(n)\n",
    "fibo(n)\n",
    "\n",
    "print(cnt1+1, cnt2)"
   ]
  },
  {
   "cell_type": "code",
   "execution_count": null,
   "id": "82d95c1c",
   "metadata": {},
   "outputs": [],
   "source": []
  },
  {
   "cell_type": "code",
   "execution_count": 22,
   "id": "91c45846",
   "metadata": {},
   "outputs": [
    {
     "name": "stdout",
     "output_type": "stream",
     "text": [
      "9\n",
      "1 2\n",
      "3 2\n",
      "1 2\n",
      "2 1\n",
      "2 1\n",
      "3 2\n",
      "1 3\n",
      "3 1\n",
      "1 2\n",
      "1\n"
     ]
    }
   ],
   "source": [
    "A={'a':'1','b':'2','c':'3'}\n",
    "B={'1':'a','2':'b','3':'c'}\n",
    "for _ in range(int(input())):\n",
    "    C=input().split()\n",
    "    A[B[C[0]]]=C[1]\n",
    "    A[B[C[1]]]=C[0]\n",
    "    q=B[C[0]]\n",
    "    p=B[C[1]]\n",
    "    B[C[0]]=p\n",
    "    B[C[1]]=q\n",
    "print(int(A['a']))"
   ]
  },
  {
   "cell_type": "markdown",
   "id": "da986bd9",
   "metadata": {},
   "source": [
    "# "
   ]
  },
  {
   "cell_type": "code",
   "execution_count": null,
   "id": "ecd5a7d9",
   "metadata": {},
   "outputs": [],
   "source": []
  },
  {
   "cell_type": "code",
   "execution_count": null,
   "id": "afdf6d52",
   "metadata": {},
   "outputs": [],
   "source": []
  },
  {
   "cell_type": "code",
   "execution_count": null,
   "id": "4e0c8016",
   "metadata": {},
   "outputs": [],
   "source": []
  },
  {
   "cell_type": "code",
   "execution_count": null,
   "id": "3d12dc77",
   "metadata": {},
   "outputs": [],
   "source": []
  }
 ],
 "metadata": {
  "kernelspec": {
   "display_name": "Python 3 (ipykernel)",
   "language": "python",
   "name": "python3"
  },
  "language_info": {
   "codemirror_mode": {
    "name": "ipython",
    "version": 3
   },
   "file_extension": ".py",
   "mimetype": "text/x-python",
   "name": "python",
   "nbconvert_exporter": "python",
   "pygments_lexer": "ipython3",
   "version": "3.9.12"
  }
 },
 "nbformat": 4,
 "nbformat_minor": 5
}
