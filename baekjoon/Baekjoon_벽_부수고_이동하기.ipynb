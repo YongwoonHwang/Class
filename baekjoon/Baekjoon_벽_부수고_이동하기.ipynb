{
 "cells": [
  {
   "cell_type": "markdown",
   "id": "97158adc",
   "metadata": {},
   "source": [
    "## DFS와 BFS"
   ]
  },
  {
   "cell_type": "markdown",
   "id": "4f5d59a0",
   "metadata": {},
   "source": [
    "### dfs"
   ]
  },
  {
   "cell_type": "code",
   "execution_count": 1,
   "id": "f11ea1d2",
   "metadata": {},
   "outputs": [],
   "source": [
    "def dfs(graph, start, visited):\n",
    "    visited.append(start)\n",
    "    \n",
    "    for i in graph[start]:\n",
    "    \tif i not in visited:\n",
    "        \tdfs_recursive(graph, node, visited)\n",
    "    return visited"
   ]
  },
  {
   "cell_type": "markdown",
   "id": "5ddb021e",
   "metadata": {},
   "source": [
    "### bfs"
   ]
  },
  {
   "cell_type": "code",
   "execution_count": 2,
   "id": "b9d561e4",
   "metadata": {},
   "outputs": [],
   "source": [
    "def bfs(graph, start_node):\n",
    "    visit = list()\n",
    "    queue = list()\n",
    "    \n",
    "    queue.append(start_node)\n",
    "    \n",
    "    while queue:\n",
    "        node = queue.pop(0)\n",
    "        if node not in visit:\n",
    "            visit.append(node)\n",
    "            queue.extend(graph[node])\n",
    "            \n",
    "    return visit "
   ]
  },
  {
   "cell_type": "markdown",
   "id": "c064061e",
   "metadata": {},
   "source": [
    "### DFS-인접행렬, stack 자료구조"
   ]
  },
  {
   "cell_type": "code",
   "execution_count": 7,
   "id": "725d3c7d",
   "metadata": {},
   "outputs": [
    {
     "name": "stdout",
     "output_type": "stream",
     "text": [
      "5 5 3\n",
      "5 4\n",
      "5 2\n",
      "1 2\n",
      "3 4\n",
      "3 1\n",
      "3 1 2 5 4 "
     ]
    }
   ],
   "source": [
    "n,m,v= map(int,input().split())\n",
    "matrix= [[0]*(n+1) for _ in range(n+1)]\n",
    "visited=[False]*(n+1)\n",
    "\n",
    "for _ in range(m):\n",
    "    f,t=map(int,input().split())\n",
    "    matrix[f][t]=matrix[t][f]=1\n",
    "    \n",
    "def dfs(matrix, i, visited):\n",
    "    stack = [i]\n",
    "    while stack:\n",
    "        value=stack.pop()\n",
    "        if not visited[value]:\n",
    "            print(value, end=' ')\n",
    "            visited[value]=True\n",
    "            for c in range(len(matrix[value])-1, -1, -1):\n",
    "            # 문제에서 작은 숫자부터 입력하기를 요구해서 반대로 순회함\n",
    "            # 순차적으로 하면 스택에 2,3,4 순으로 입력되고 4부터 pop되어\n",
    "            # 가장 큰 수인 4부터 pop되기 때문입니다.\n",
    "                if matrix[value][c]==1 and not visited[c]:\n",
    "                    stack.append(c)\n",
    "dfs(matrix,v,visited)"
   ]
  },
  {
   "cell_type": "markdown",
   "id": "ee278b4a",
   "metadata": {},
   "source": [
    "### DFS-인접행렬, 재귀함수"
   ]
  },
  {
   "cell_type": "code",
   "execution_count": 8,
   "id": "07faf85f",
   "metadata": {},
   "outputs": [
    {
     "name": "stdout",
     "output_type": "stream",
     "text": [
      "5 5 3\n",
      "5 4\n",
      "5 2\n",
      "1 2\n",
      "3 4\n",
      "3 1\n",
      "3 1 2 5 4 "
     ]
    }
   ],
   "source": [
    "# 특정 노드간의 연결정보를 찾아야 하는 경우 용이\n",
    "n,m,v=map(int,input().split())\n",
    "matrix=[[0]*(n+1) for _ in range(n+1)]\n",
    "visited=[False]*(n+1)\n",
    "\n",
    "for _  in range(m):\n",
    "    f,t=map(int,input().split())\n",
    "    matrix[f][t]=matrix[t][f]=1\n",
    "    \n",
    "def dfs(matrix,i,visited):\n",
    "    visited[i]=True\n",
    "    print(i,end=' ')\n",
    "    for c in range(len(matrix[i])):\n",
    "        if matrix[i][c]==1 and not visited[c]:\n",
    "            dfs(matrix,c,visited)\n",
    "            \n",
    "dfs(matrix,v,visited)"
   ]
  },
  {
   "cell_type": "markdown",
   "id": "62d664da",
   "metadata": {},
   "source": [
    "### DFS-인접리스트, 재귀함수"
   ]
  },
  {
   "cell_type": "code",
   "execution_count": 12,
   "id": "f8357c79",
   "metadata": {},
   "outputs": [
    {
     "name": "stdout",
     "output_type": "stream",
     "text": [
      "5 5 3\n",
      "5 4\n",
      "5 2\n",
      "1 2\n",
      "3 4\n",
      "3 1\n",
      "3 4 5 2 1 "
     ]
    }
   ],
   "source": [
    "# 모든 연결정보를 찾아야 하는 경우 용이\n",
    "\n",
    "n,m,v = map(int, input().split())\n",
    "graph=[[]]*(n+1)\n",
    "visited=[False]*(n+1)\n",
    "\n",
    "for _ in range(m):\n",
    "    f,t = map(int,input().split())\n",
    "    if graph[f]==[]:\n",
    "        graph[f]=[t]\n",
    "    else:\n",
    "        graph[f].append(t)\n",
    "    if graph[t] == []:\n",
    "        graph[t] = [f]\n",
    "    else:\n",
    "        graph[t].append(f)\n",
    "        \n",
    "def dfs(graph, i, visited):\n",
    "    visited[i]=True\n",
    "    print(i,end=' ')\n",
    "    for j in graph[i]:\n",
    "        if not visited[j]:\n",
    "            dfs(graph, j, visited)\n",
    "            \n",
    "dfs(graph, v, visited)"
   ]
  },
  {
   "cell_type": "markdown",
   "id": "2c62b586",
   "metadata": {},
   "source": [
    "### DFS - 인접리스트 재귀함수"
   ]
  },
  {
   "cell_type": "code",
   "execution_count": 16,
   "id": "eada22d7",
   "metadata": {},
   "outputs": [
    {
     "name": "stdout",
     "output_type": "stream",
     "text": [
      "5 5 3\n",
      "5 4\n",
      "5 2\n",
      "1 2\n",
      "3 4\n",
      "3 1\n",
      "3 4 5 2 1 "
     ]
    }
   ],
   "source": [
    "n,m,v = map(int,input().split())\n",
    "graph=[[]]*(n+1)\n",
    "visited = [False]  * (n+1)\n",
    "\n",
    "for _ in range(m):\n",
    "    f,t = map(int,input().split())\n",
    "    if graph[f] == []:\n",
    "        graph[f] = [t]\n",
    "    else:\n",
    "        graph[f].append(t)\n",
    "    if graph[t] == []:\n",
    "        graph[t] = [f]\n",
    "    else:\n",
    "        graph[t].append(f)\n",
    "\n",
    "def dfs(graph, i, visited):\n",
    "    visited[i] = True\n",
    "    print(i, end=' ')\n",
    "    for j in graph[i]:\n",
    "        if not visited[j]:\n",
    "            dfs(graph, j, visited)\n",
    "            \n",
    "dfs(graph, v, visited)"
   ]
  },
  {
   "cell_type": "markdown",
   "id": "96607e72",
   "metadata": {},
   "source": [
    "### BFS - 인접행렬, queue 자료구조"
   ]
  },
  {
   "cell_type": "code",
   "execution_count": 14,
   "id": "38b384a0",
   "metadata": {},
   "outputs": [
    {
     "name": "stdout",
     "output_type": "stream",
     "text": [
      "5 5 3\n",
      "5 4\n",
      "5 2\n",
      "1 2\n",
      "3 4\n",
      "3 1\n",
      "3 1 4 2 5 "
     ]
    }
   ],
   "source": [
    "# 특정 노드간의 연결정보를 찾아야 하는 경우 용이\n",
    "\n",
    "n,m,v = map(int, input().split())\n",
    "matrix=[[0]*(n+1) for _ in range(n+1)]\n",
    "visited = [False] * (n+1)\n",
    "\n",
    "for _ in range(m):\n",
    "    f,t = map(int,input().split())\n",
    "    matrix[f][t] = matrix[t][f] = 1\n",
    "    \n",
    "from collections import deque\n",
    "\n",
    "def bfs(matrix, i, visited):\n",
    "    queue=deque()\n",
    "    queue.append(i)\n",
    "    while queue:\n",
    "        value=queue.popleft()\n",
    "        if not visited[value]:\n",
    "            print(value, end=' ')\n",
    "            visited[value] = True\n",
    "            for c in range(len(matrix[value])):\n",
    "                if matrix[value][c]==1 and not visited[c]:\n",
    "                    queue.append(c)\n",
    "bfs(matrix,v,visited)"
   ]
  },
  {
   "cell_type": "markdown",
   "id": "b6d4c792",
   "metadata": {},
   "source": [
    "### BFS - 인접리스트, queue 자료구조"
   ]
  },
  {
   "cell_type": "code",
   "execution_count": 15,
   "id": "a5c328c3",
   "metadata": {},
   "outputs": [
    {
     "name": "stdout",
     "output_type": "stream",
     "text": [
      "5 5 3\n",
      "5 4\n",
      "5 2\n",
      "1 2\n",
      "3 4\n",
      "3 1\n",
      "3 4 1 5 2 "
     ]
    }
   ],
   "source": [
    "n,m,v = map(int,input().split())\n",
    "graph = [[]] * (n+1)\n",
    "visited = [False] * (n+1)\n",
    "\n",
    "for _ in range(m):\n",
    "    f,t = map(int,input().split())\n",
    "    if graph[f] == []:\n",
    "        graph[f] = [t]\n",
    "    else:\n",
    "        graph[f].append(t)\n",
    "    if graph[t] == []:\n",
    "        graph[t] = [f]\n",
    "    else:\n",
    "        graph[t].append(f)\n",
    "\n",
    "from collections import deque\n",
    "\n",
    "def bfs(praph, i, visited):\n",
    "    queue = deque()\n",
    "    queue.append(i)\n",
    "    while queue:\n",
    "        value = queue.popleft()\n",
    "        \n",
    "        if not visited[value]:\n",
    "            print(value, end=' ')\n",
    "            visited[value] = True\n",
    "            for j in graph[value]:\n",
    "                queue.append(j)\n",
    "\n",
    "bfs(graph, v, visited)"
   ]
  },
  {
   "cell_type": "code",
   "execution_count": null,
   "id": "e6f53737",
   "metadata": {},
   "outputs": [],
   "source": []
  },
  {
   "cell_type": "code",
   "execution_count": 36,
   "id": "409a0661",
   "metadata": {},
   "outputs": [
    {
     "name": "stdout",
     "output_type": "stream",
     "text": [
      "5 5 3\n",
      "5 4\n",
      "5 2\n",
      "1 2\n",
      "3 4\n",
      "3 1\n",
      "3 1 4 2 5 "
     ]
    }
   ],
   "source": [
    "\n",
    "n,m,v=map(int,input().split())\n",
    "matrix=[[0]*(n+1) for _ in range(n+1)]\n",
    "visited=[False]*(n+1)\n",
    "\n",
    "for _  in range(m):\n",
    "    f,t=map(int,input().split())\n",
    "    matrix[f][t]=matrix[t][f]=1\n",
    "    \n",
    "def dfs(matrix,i,visited):\n",
    "    visited[i]=True\n",
    "    print(i,end=' ')\n",
    "    for c in range(len(matrix[i])):\n",
    "        if matrix[i][c]==1 and not visited[c]:\n",
    "            dfs(matrix,c,visited)\n",
    "    \n",
    "\n",
    "\n",
    "from collections import deque\n",
    "\n",
    "def bfs(matrix, i, visited):\n",
    "    queue=deque()\n",
    "    queue.append(i)\n",
    "    while queue:\n",
    "        value=queue.popleft()\n",
    "        if not visited[value]:\n",
    "            print(value, end=' ')\n",
    "            visited[value] = True\n",
    "            for c in range(len(matrix[value])):\n",
    "                if matrix[value][c]==1 and not visited[c]:\n",
    "                    queue.append(c)            \n",
    "\n",
    "\n",
    "# dfs(matrix,v,visited)\n",
    "bfs(matrix,v,visited)\n",
    "\n"
   ]
  },
  {
   "cell_type": "code",
   "execution_count": null,
   "id": "7cc81084",
   "metadata": {},
   "outputs": [],
   "source": []
  },
  {
   "cell_type": "code",
   "execution_count": null,
   "id": "986999c3",
   "metadata": {},
   "outputs": [],
   "source": []
  },
  {
   "cell_type": "code",
   "execution_count": null,
   "id": "96b78f7e",
   "metadata": {},
   "outputs": [],
   "source": []
  },
  {
   "cell_type": "code",
   "execution_count": null,
   "id": "938a2657",
   "metadata": {},
   "outputs": [],
   "source": []
  },
  {
   "cell_type": "code",
   "execution_count": null,
   "id": "dc0e002e",
   "metadata": {},
   "outputs": [],
   "source": []
  },
  {
   "cell_type": "code",
   "execution_count": null,
   "id": "83a6ac9a",
   "metadata": {},
   "outputs": [],
   "source": []
  },
  {
   "cell_type": "code",
   "execution_count": null,
   "id": "03480b99",
   "metadata": {},
   "outputs": [],
   "source": []
  }
 ],
 "metadata": {
  "kernelspec": {
   "display_name": "Python 3 (ipykernel)",
   "language": "python",
   "name": "python3"
  },
  "language_info": {
   "codemirror_mode": {
    "name": "ipython",
    "version": 3
   },
   "file_extension": ".py",
   "mimetype": "text/x-python",
   "name": "python",
   "nbconvert_exporter": "python",
   "pygments_lexer": "ipython3",
   "version": "3.9.12"
  }
 },
 "nbformat": 4,
 "nbformat_minor": 5
}
