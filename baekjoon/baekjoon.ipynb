{
 "cells": [
  {
   "cell_type": "code",
   "execution_count": null,
   "id": "00c1ace2",
   "metadata": {},
   "outputs": [],
   "source": [
    "score_a = 100\n",
    "score_b = 100\n",
    "for i in range(int(input())):\n",
    "    a , b = map(int, input().split())\n",
    "    if a > b:\n",
    "        score_b = score_b - a\n",
    "    elif a < b:\n",
    "        score_a = score_a - b\n",
    "print(score_a)\n",
    "print(score_b)"
   ]
  },
  {
   "cell_type": "code",
   "execution_count": null,
   "id": "15215b79",
   "metadata": {
    "scrolled": true
   },
   "outputs": [],
   "source": [
    "x =0\n",
    "for i in range(int(input())):\n",
    "    x += 1 \n",
    "    A, B = map(int, input().split())\n",
    "    print(f\"Case #{x}: {A+B}\")\n"
   ]
  },
  {
   "cell_type": "code",
   "execution_count": null,
   "id": "1ae83a52",
   "metadata": {},
   "outputs": [],
   "source": [
    "x=0\n",
    "for T in range(int(input())):\n",
    "    A, B = map(int, input().split())\n",
    "    x += 1\n",
    "    print(f\"Case #{x}: {A} + {B} = {A+B}\")"
   ]
  },
  {
   "cell_type": "code",
   "execution_count": null,
   "id": "bb6fc6d6",
   "metadata": {},
   "outputs": [],
   "source": [
    "# x/A =I\n",
    "round(894/38)"
   ]
  },
  {
   "cell_type": "code",
   "execution_count": 9,
   "id": "cef36029",
   "metadata": {},
   "outputs": [
    {
     "ename": "SyntaxError",
     "evalue": "cannot assign to literal (4055597635.py, line 3)",
     "output_type": "error",
     "traceback": [
      "\u001b[1;36m  Input \u001b[1;32mIn [9]\u001b[1;36m\u001b[0m\n\u001b[1;33m    23.53 = 894/38\u001b[0m\n\u001b[1;37m    ^\u001b[0m\n\u001b[1;31mSyntaxError\u001b[0m\u001b[1;31m:\u001b[0m cannot assign to literal\n"
     ]
    }
   ],
   "source": [
    "A, I = map(float,input().split())\n",
    "\n",
    "\n",
    "\n",
    "I = x/A\n",
    "# x = A * I\n",
    "print(x)"
   ]
  },
  {
   "cell_type": "code",
   "execution_count": 34,
   "id": "ecf12f71",
   "metadata": {
    "scrolled": true
   },
   "outputs": [
    {
     "name": "stdout",
     "output_type": "stream",
     "text": [
      "2\n",
      "3@%\n",
      "8#\n"
     ]
    },
    {
     "ename": "NameError",
     "evalue": "name 'n' is not defined",
     "output_type": "error",
     "traceback": [
      "\u001b[1;31m---------------------------------------------------------------------------\u001b[0m",
      "\u001b[1;31mNameError\u001b[0m                                 Traceback (most recent call last)",
      "Input \u001b[1;32mIn [34]\u001b[0m, in \u001b[0;36m<cell line: 13>\u001b[1;34m()\u001b[0m\n\u001b[0;32m     10\u001b[0m     \u001b[38;5;28;01melif\u001b[39;00m \u001b[38;5;124m'\u001b[39m\u001b[38;5;124m#\u001b[39m\u001b[38;5;124m'\u001b[39m \u001b[38;5;129;01min\u001b[39;00m x:\n\u001b[0;32m     11\u001b[0m         n\u001b[38;5;241m-\u001b[39m\u001b[38;5;241m7\u001b[39m\n\u001b[1;32m---> 13\u001b[0m \u001b[38;5;28mprint\u001b[39m(\u001b[43mn\u001b[49m)\n",
      "\u001b[1;31mNameError\u001b[0m: name 'n' is not defined"
     ]
    }
   ],
   "source": [
    "# for i in range(int(input())):    \n",
    "#     x = input().split()\n",
    "#     if '@' in x:\n",
    "#         n*3\n",
    "#     elif '%' in x:\n",
    "#         n+5\n",
    "#     elif '#' in x:\n",
    "#         n-7\n",
    "\n",
    "# print(n)"
   ]
  },
  {
   "cell_type": "code",
   "execution_count": null,
   "id": "b44daa1f",
   "metadata": {},
   "outputs": [],
   "source": []
  },
  {
   "cell_type": "code",
   "execution_count": null,
   "id": "5055a1e2",
   "metadata": {},
   "outputs": [],
   "source": []
  }
 ],
 "metadata": {
  "kernelspec": {
   "display_name": "Python 3 (ipykernel)",
   "language": "python",
   "name": "python3"
  },
  "language_info": {
   "codemirror_mode": {
    "name": "ipython",
    "version": 3
   },
   "file_extension": ".py",
   "mimetype": "text/x-python",
   "name": "python",
   "nbconvert_exporter": "python",
   "pygments_lexer": "ipython3",
   "version": "3.9.12"
  }
 },
 "nbformat": 4,
 "nbformat_minor": 5
}
