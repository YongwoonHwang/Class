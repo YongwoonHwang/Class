{
 "cells": [
  {
   "cell_type": "code",
   "execution_count": null,
   "id": "c35df536",
   "metadata": {},
   "outputs": [],
   "source": [
    "print(28)\n",
    "print(\"manhae12\")"
   ]
  },
  {
   "cell_type": "code",
   "execution_count": null,
   "id": "5aa12bfc",
   "metadata": {},
   "outputs": [],
   "source": [
    "A, B, C = map(int,input().split())\n",
    "M = [A, B, C]\n",
    "M.sort(reverse=True)\n",
    "\n",
    "print(M[1])"
   ]
  },
  {
   "cell_type": "code",
   "execution_count": null,
   "id": "246e9645",
   "metadata": {},
   "outputs": [],
   "source": [
    "A, B, C = map(int,input().split())\n",
    "D = int(input())\n",
    "\n",
    "B_a = D//60\n",
    "B_b = D%60\n",
    "\n",
    "A_a = (B+B_a)//60\n",
    "A_b = (B+B_a)%60\n",
    "\n",
    "\n",
    "\n",
    "if C+D > 59:\n",
    "    if B+B_a <= 59:\n",
    "        print(A, B+B_a, B_b)\n",
    "    elif B+B_a > 59:\n",
    "        if A+A_a <= 23:\n",
    "            print(A+A_a, A_b, 0+((C+B_b)-60))\n",
    "        else:\n",
    "            print(0+((A+A_a)-24), A_b, 0+((C+B_b)-60))\n",
    "#         print(A, 0+((B+B_a)-60), B_b)\n",
    "\n",
    "elif C+D <= 59:\n",
    "    print(A, B, C+D)"
   ]
  },
  {
   "cell_type": "code",
   "execution_count": null,
   "id": "8eb66e16",
   "metadata": {},
   "outputs": [],
   "source": [
    "A = 10**3\n",
    "\n",
    "B = 10**2"
   ]
  },
  {
   "cell_type": "code",
   "execution_count": null,
   "id": "449edf57",
   "metadata": {},
   "outputs": [],
   "source": [
    "10**2 "
   ]
  },
  {
   "cell_type": "code",
   "execution_count": null,
   "id": "af99e8b2",
   "metadata": {},
   "outputs": [],
   "source": [
    "10**3"
   ]
  },
  {
   "cell_type": "code",
   "execution_count": null,
   "id": "5e31671b",
   "metadata": {},
   "outputs": [],
   "source": [
    "A, B, C = map(int,input().split())\n",
    "D = int(input())\n",
    "if D + C >=0:\n",
    "    print((((D + C)//60)+A)%24, (((D + C)//60)+B)%60, (D + C)%60)"
   ]
  },
  {
   "cell_type": "code",
   "execution_count": null,
   "id": "66e7f8c6",
   "metadata": {},
   "outputs": [],
   "source": [
    "while True:\n",
    "    try:\n",
    "        A , B = map(int, input().split())\n",
    "        print(A+B)\n",
    "    except:\n",
    "        break"
   ]
  },
  {
   "cell_type": "code",
   "execution_count": null,
   "id": "ecc260e7",
   "metadata": {},
   "outputs": [],
   "source": [
    "import sys\n",
    "\n",
    "t = int(input())\n",
    "    \n",
    "for i in range(t):\n",
    "        a, b = map(int,sys.stdin.readline().split())\n",
    "        print(a+b)"
   ]
  },
  {
   "cell_type": "code",
   "execution_count": null,
   "id": "ac3e8f66",
   "metadata": {},
   "outputs": [],
   "source": [
    "\n",
    "\n",
    "for i in range(int(input())):\n",
    "    n = map(int, input().split())\n",
    "    print(max(n))"
   ]
  },
  {
   "cell_type": "code",
   "execution_count": null,
   "id": "ef167ae2",
   "metadata": {},
   "outputs": [],
   "source": [
    "#### for i in range(0, 9):\n",
    "    print(max(i))"
   ]
  },
  {
   "cell_type": "code",
   "execution_count": null,
   "id": "d740b229",
   "metadata": {},
   "outputs": [],
   "source": [
    "t = int(input())\n",
    "y_list=[]\n",
    "k_list=[]    \n",
    "t = t*9\n",
    "for i in range(0, t):\n",
    "    y, k = map(int, input().split())\n",
    "    y_list.append(y)\n",
    "    k_list.append(k)\n",
    "    Y = sum(y_list)\n",
    "    K = sum(k_list)\n",
    "    \n",
    "if Y>K:\n",
    "    print('Yonsei')\n",
    "elif K>Y:\n",
    "    print('Korea')\n",
    "elif K == Y:\n",
    "    print('Draw')"
   ]
  },
  {
   "cell_type": "markdown",
   "id": "f8586ff2",
   "metadata": {},
   "source": [
    "# "
   ]
  },
  {
   "cell_type": "code",
   "execution_count": null,
   "id": "ead00304",
   "metadata": {},
   "outputs": [],
   "source": [
    "\n",
    "a, b = map(int, input().split())\n",
    "c, d = map(int, input().split()) \n",
    "e, f = map(int, input().split())\n",
    "\n",
    "if a == c != e and b == d != f:\n",
    "    print(e, f)\n",
    "elif a == c != e and b != d == f:\n",
    "    print(e, b)\n",
    "elif a == c != e and b == f != d:\n",
    "    print(e, d)\n",
    "elif a != c == e and b == d != f:\n",
    "    print(a, f)\n",
    "elif a != c == e and b != d == f:\n",
    "    print(a, b)\n",
    "elif a != c == e and b == f != d:\n",
    "    print(a, d)\n",
    "elif a == e != c and b == d != f:\n",
    "    print(c, f)\n",
    "elif a == e != c and b != d == f:\n",
    "    print(c, b)\n",
    "elif a == e != c and b == f != d:\n",
    "    print(c, d)"
   ]
  },
  {
   "cell_type": "code",
   "execution_count": null,
   "id": "af9733fa",
   "metadata": {},
   "outputs": [],
   "source": [
    "N=int(input())\n",
    "i = 1\n",
    "while not N//1==1:#1로만 나누어질때까지 반복\n",
    "    i += 1 #나누어 떨어질때까지 i에 1 추가\n",
    "    if N%i == 0: #나누어 떨어지는경우\n",
    "        N=N/i #나누기 한 N 저장\n",
    "        print(i) #나눈 수 출력\n",
    "        i = int(1)# i 초기화"
   ]
  },
  {
   "cell_type": "code",
   "execution_count": null,
   "id": "ced2e8b0",
   "metadata": {},
   "outputs": [],
   "source": [
    "total=0\n",
    "for i in range(5):\n",
    "    a = int(input())\n",
    "    if a >= 40:\n",
    "        total += a\n",
    "    else:\n",
    "        total += 40\n",
    "print(total//5)"
   ]
  },
  {
   "cell_type": "code",
   "execution_count": null,
   "id": "a804cfc9",
   "metadata": {},
   "outputs": [],
   "source": [
    "my_dict = {} \n",
    "while True :\n",
    "    key = int(input('키 입력 : '))\n",
    "    val = input('밸류 입력 : ')\n",
    "    my_dict[key] = val\n",
    "    con = int(input('1번은 딕셔너리 요소 추가 계속, 2번은 종료 : '))\n",
    "    if con == 2 :\n",
    "        print(\"===== 딕셔너리 요소 추가 끝 =====\", end=\"\\n\\n\")\n",
    "        break\n",
    "    \n",
    "print(\"당신이 만든 딕셔너리 리스트 :\", my_dict)"
   ]
  },
  {
   "cell_type": "markdown",
   "id": "08cb4069",
   "metadata": {},
   "source": [
    "## bottle return"
   ]
  },
  {
   "cell_type": "markdown",
   "id": "ced63410",
   "metadata": {},
   "source": []
  },
  {
   "cell_type": "code",
   "execution_count": null,
   "id": "44390e38",
   "metadata": {},
   "outputs": [],
   "source": [
    "a, b, c, d, e, f = map(int, input().split())\n",
    "\n",
    "print((a+b+c+d+e+f)*5)"
   ]
  },
  {
   "cell_type": "code",
   "execution_count": null,
   "id": "a7c3a8ee",
   "metadata": {},
   "outputs": [],
   "source": [
    "a, b = map(int, input().split())\n",
    "\n",
    "if a> b:\n",
    "    print(a)\n",
    "elif a<b:\n",
    "    print(b)\n",
    "elif a==b:\n",
    "    print(a)"
   ]
  },
  {
   "cell_type": "code",
   "execution_count": null,
   "id": "3af5bf56",
   "metadata": {},
   "outputs": [],
   "source": [
    "print('''NFC West       W   L  T\n",
    "-----------------------\n",
    "Seattle        13  3  0\n",
    "San Francisco  12  4  0\n",
    "Arizona        10  6  0\n",
    "St. Louis      7   9  0\n",
    "\n",
    "NFC North      W   L  T\n",
    "-----------------------\n",
    "Green Bay      8   7  1\n",
    "Chicago        8   8  0\n",
    "Detroit        7   9  0\n",
    "Minnesota      5  10  1''')"
   ]
  },
  {
   "cell_type": "code",
   "execution_count": null,
   "id": "20536cab",
   "metadata": {},
   "outputs": [],
   "source": [
    "print('''SHIP NAME      CLASS          DEPLOYMENT IN SERVICE\n",
    "N2 Bomber      Heavy Fighter  Limited    21        \n",
    "J-Type 327     Light Combat   Unlimited  1         \n",
    "NX Cruiser     Medium Fighter Limited    18        \n",
    "N1 Starfighter Medium Fighter Unlimited  25        \n",
    "Royal Cruiser  Light Combat   Limited    4         ''')"
   ]
  },
  {
   "cell_type": "code",
   "execution_count": null,
   "id": "3e51f52b",
   "metadata": {},
   "outputs": [],
   "source": [
    "a = map(int, input().split())\n",
    "A = list(a)\n",
    "A.sort()\n",
    "\n",
    "\n",
    "print(A[0], A[1], A[2])"
   ]
  },
  {
   "cell_type": "code",
   "execution_count": null,
   "id": "db612675",
   "metadata": {},
   "outputs": [],
   "source": [
    "y = int(input())\n",
    "m = int(input())\n",
    "\n",
    "print(m-y+m)"
   ]
  },
  {
   "cell_type": "code",
   "execution_count": null,
   "id": "ab3387ad",
   "metadata": {},
   "outputs": [],
   "source": [
    "a = int(input())\n",
    "b = int(input())\n",
    "\n",
    "if a >= 3 and b <= 4:\n",
    "    print('TroyMartian')\n",
    "if a <=6 and b>=2:\n",
    "    print('VladSaturnian')\n",
    "if a<=2 and b<=3:\n",
    "    print('GraemeMercurian')"
   ]
  },
  {
   "cell_type": "code",
   "execution_count": null,
   "id": "bfaea374",
   "metadata": {},
   "outputs": [],
   "source": [
    "for i in range(int(input())):\n",
    "    x,y = map(int, input().split())\n",
    "    if x < y:\n",
    "        print('NO BRAINS')\n",
    "    elif x>=y:\n",
    "        print('MMM BRAINS')"
   ]
  },
  {
   "cell_type": "code",
   "execution_count": null,
   "id": "6ffc7c95",
   "metadata": {},
   "outputs": [],
   "source": [
    "while True:\n",
    "    n = int(input())\n",
    "    n1 = n*3\n",
    "    if n1%2 == 0 and n !=0:\n",
    "        a = n1//2*3//9\n",
    "        if a%2 ==0:\n",
    "            print('1. odd', a)\n",
    "        elif a%2 !=0:\n",
    "            print('2. even', a)\n",
    "    elif n1%2 !=0 and n !=0:\n",
    "        a = (n1+1)//2*3//9\n",
    "        if a%2 ==0:\n",
    "            print('1. odd', a)\n",
    "        elif a%2 !=0:\n",
    "            print('2. even', a)\n",
    "            continue\n",
    "    elif n == 0:\n",
    "        break"
   ]
  },
  {
   "cell_type": "code",
   "execution_count": null,
   "id": "1d5b26a5",
   "metadata": {},
   "outputs": [],
   "source": [
    "a = int(input())\n",
    "b = int(input())\n",
    "c = int(input())\n",
    "\n",
    "print('The 1-3-sum is',91+(a*1+b*3+c*1))"
   ]
  },
  {
   "cell_type": "code",
   "execution_count": null,
   "id": "94bca7ea",
   "metadata": {},
   "outputs": [],
   "source": [
    "k = int(input())\n",
    "\n",
    "a = map(int, input().split())\n",
    "A = list(a)\n",
    "\n",
    "c = A.count(k)\n",
    "print(c)"
   ]
  },
  {
   "cell_type": "code",
   "execution_count": null,
   "id": "a6de7bd2",
   "metadata": {},
   "outputs": [],
   "source": [
    "a = int(input())\n",
    "a = str(a)\n",
    "A = list(a)\n",
    "\n",
    "q =A[0]\n",
    "w =A[1]\n",
    "e =A[2]\n",
    "r =A[3]\n",
    "t =A[4]\n",
    "q = int(q)\n",
    "w = int(w)\n",
    "e = int(e)\n",
    "r = int(r)\n",
    "t = int(t)\n",
    "\n",
    "\n",
    "print(q**5+w**5+e**5+r**5+t**5)"
   ]
  },
  {
   "cell_type": "code",
   "execution_count": null,
   "id": "18b69b5c",
   "metadata": {},
   "outputs": [],
   "source": [
    "a = input()\n",
    "\n",
    "print(a.upper())"
   ]
  },
  {
   "cell_type": "code",
   "execution_count": null,
   "id": "93bb5cb9",
   "metadata": {},
   "outputs": [],
   "source": [
    "s, k, h = map(int, input().split())\n",
    "\n",
    "if s + k + h >= 100:\n",
    "    print('OK')\n",
    "elif s + k + h < 100:\n",
    "    a = min(s, k, h)\n",
    "    if a == s:\n",
    "        print('Soongsil')\n",
    "    elif a == k:\n",
    "        print('Korea')\n",
    "    elif a == h:\n",
    "        print('Hanyang')"
   ]
  },
  {
   "cell_type": "code",
   "execution_count": null,
   "id": "aed77d83",
   "metadata": {},
   "outputs": [],
   "source": [
    "a = int(input())\n",
    "a = a*3\n",
    "a1 = int(input())\n",
    "a1 =a1*2\n",
    "a2 = int(input())\n",
    "a2 = a2*1\n",
    "b = int(input())\n",
    "b = b*3\n",
    "b1 = int(input())\n",
    "b1 = b1*2\n",
    "b2 = int(input())\n",
    "b2 = b2*1\n",
    "\n",
    "if a+a1+a2 > b+b1+b2:\n",
    "    print('A')\n",
    "elif a+a1+a2 < b+b1+b2:\n",
    "    print('B')\n",
    "elif a+a1+a2 == b+b1+b2:\n",
    "    print('T')"
   ]
  },
  {
   "cell_type": "code",
   "execution_count": null,
   "id": "f2d5cf11",
   "metadata": {},
   "outputs": [],
   "source": [
    "\n",
    "for _  in range(int(input())):\n",
    "    a, b = input().split()\n",
    "    b = int(b)\n",
    "    if b >= 97 and b <=100:\n",
    "        print(a, 'A+')\n",
    "    elif b >= 90 and b <= 96:\n",
    "        print(a, 'A')\n",
    "    elif b >= 87 and b <= 89:\n",
    "        print(a, 'B+')\n",
    "    elif b >= 80 and b <= 86:\n",
    "        print(a, 'B')\n",
    "    elif b >= 77 and b <= 79:\n",
    "        print(a, 'C+')\n",
    "    elif b >= 70 and b <= 76:\n",
    "        print(a, 'C')\n",
    "    elif b >= 67 and b <= 69:\n",
    "        print(a, 'D+')\n",
    "    elif b >= 60 and b <= 66:\n",
    "        print(a, 'D')\n",
    "    elif b >= 0 and b <= 59:\n",
    "        print(a, 'F')"
   ]
  },
  {
   "cell_type": "code",
   "execution_count": null,
   "id": "a2796a7c",
   "metadata": {},
   "outputs": [],
   "source": [
    "k =[]\n",
    "a = input()\n",
    "b = input()\n",
    "c = input()\n",
    "d = input()\n",
    "e = input()\n",
    "f = input()\n",
    "\n",
    "k.append(a)\n",
    "k.append(b)\n",
    "k.append(c)\n",
    "k.append(d)\n",
    "k.append(e)\n",
    "k.append(f)\n",
    "\n",
    "K = k.count('W')\n",
    "\n",
    "if K >= 5:\n",
    "    print(1)\n",
    "elif K == 3 or K == 4:\n",
    "    print(2)\n",
    "elif K == 1 or K == 2:\n",
    "    print(3)\n",
    "elif K == 0:\n",
    "    print(-1)"
   ]
  },
  {
   "cell_type": "code",
   "execution_count": null,
   "id": "acbb06e8",
   "metadata": {},
   "outputs": [],
   "source": [
    "a = int(input())\n",
    "a = str(a)\n",
    "A = list(a)\n",
    "\n",
    "if A[0] == '5' and A[1] == '5' and A[2] == '5':\n",
    "    print('YES')\n",
    "else:\n",
    "    print('NO')"
   ]
  },
  {
   "cell_type": "code",
   "execution_count": null,
   "id": "a9fe3ad2",
   "metadata": {},
   "outputs": [],
   "source": [
    "a = int(input())\n",
    "\n",
    "print('SciComLove\\n'*a)"
   ]
  },
  {
   "cell_type": "code",
   "execution_count": null,
   "id": "aca8953a",
   "metadata": {},
   "outputs": [],
   "source": [
    "a, b, c = map(int, input().split())\n",
    "a1, b1, c1 = map(int, input().split())\n",
    "\n",
    "if c*2-a-b == c1*2-a1-b1:\n",
    "    print('YES')\n",
    "else:\n",
    "    print('NO')"
   ]
  },
  {
   "cell_type": "code",
   "execution_count": null,
   "id": "95f9c8c9",
   "metadata": {},
   "outputs": [],
   "source": [
    "a, b = map(int, input().split())\n",
    "a = a//2\n",
    "b = b//2\n",
    "if a == b:\n",
    "    print(a)\n",
    "elif a < b:\n",
    "    print(a)\n",
    "elif a>b:\n",
    "    print(b)"
   ]
  },
  {
   "cell_type": "code",
   "execution_count": null,
   "id": "3e32f25b",
   "metadata": {},
   "outputs": [],
   "source": [
    "a, b = map(int, input().split())\n",
    "B = b/100\n",
    "A = a-a*B\n",
    "\n",
    "if A >= 100:\n",
    "    print(0)\n",
    "elif a < 100 and b == 0:\n",
    "    print(1)\n",
    "else:\n",
    "    print(1)"
   ]
  },
  {
   "cell_type": "code",
   "execution_count": null,
   "id": "827f6bcd",
   "metadata": {},
   "outputs": [],
   "source": [
    "for _ in range(int(input())):\n",
    "    for _ in range(int(input())):\n",
    "        a, b = map(int, input().split())\n",
    "        print(a+b, a*b)"
   ]
  },
  {
   "cell_type": "code",
   "execution_count": null,
   "id": "ff0c35ec",
   "metadata": {},
   "outputs": [],
   "source": [
    "n = int(input())\n",
    "if n == 0:\n",
    "    print('YONSEI')\n",
    "elif n == 1:\n",
    "    print('Leading the Way to the Future')"
   ]
  },
  {
   "cell_type": "code",
   "execution_count": null,
   "id": "94bbd5ae",
   "metadata": {},
   "outputs": [],
   "source": [
    "n,m=map(int,input().split())\n",
    "print(n*m//2)"
   ]
  },
  {
   "cell_type": "code",
   "execution_count": null,
   "id": "c190b561",
   "metadata": {},
   "outputs": [],
   "source": [
    "for _ in range(int(input())):\n",
    "    a=int(input())\n",
    "    print('='*a)"
   ]
  },
  {
   "cell_type": "code",
   "execution_count": null,
   "id": "a9efd463",
   "metadata": {},
   "outputs": [],
   "source": [
    "a, b = map(int,input().split())\n",
    "if a==b:\n",
    "    print(1)\n",
    "else:\n",
    "    print(0)"
   ]
  },
  {
   "cell_type": "code",
   "execution_count": null,
   "id": "5fad6f8e",
   "metadata": {},
   "outputs": [],
   "source": [
    "n=int(input())\n",
    "print(n*n-n)"
   ]
  },
  {
   "cell_type": "code",
   "execution_count": null,
   "id": "fc293fb3",
   "metadata": {},
   "outputs": [],
   "source": [
    "from copy import copy\n",
    "A = []\n",
    "\n",
    "for _ in range(0,8):\n",
    "    a = int(input())\n",
    "    a = str(a)\n",
    "    A.append(a)\n",
    "B = copy(A)    \n",
    "C = copy(A)\n",
    "A.sort()\n",
    "q = A[-1]\n",
    "q = int(q)\n",
    "w = A[-2]\n",
    "w = int(w)\n",
    "e = A[-3]\n",
    "e = int(e)\n",
    "r = A[-4]\n",
    "r = int(r)\n",
    "t = A[-5]\n",
    "t = int(t)\n",
    "y = A[-6]\n",
    "y = int(y)\n",
    "u = A[-7]\n",
    "u = int(u)\n",
    "i = A[-8]\n",
    "i = int(i)\n",
    "print(q+w+e+r+t)\n",
    "q = str(q)\n",
    "w = str(w)\n",
    "e = str(e)\n",
    "r = str(r)\n",
    "t = str(t)\n",
    "y = str(y)\n",
    "u = str(u)\n",
    "i = str(i)\n",
    "\n",
    "# B.sort()\n",
    "# q = int(q)\n",
    "# w = int(w)\n",
    "# e = int(e)\n",
    "# r = int(r)\n",
    "# t = int(t)\n",
    "# y = int(y)\n",
    "# u = int(u)\n",
    "# i = int(i)\n",
    "# print(q+w+e+r+t)\n",
    "\n",
    "q = C[-1]\n",
    "q = int(q)\n",
    "w = C[-2]\n",
    "w = int(w)\n",
    "e = C[-3]\n",
    "e = int(e)\n",
    "r = C[-4]\n",
    "r = int(r)\n",
    "t = C[-5]\n",
    "t = int(t)\n",
    "y = C[-6]\n",
    "y = int(y)\n",
    "u = C[-7]\n",
    "u = int(u)\n",
    "i = C[-8]\n",
    "i = int(i)\n",
    "q = str(q)\n",
    "w = str(w)\n",
    "e = str(e)\n",
    "r = str(r)\n",
    "t = str(t)\n",
    "y = str(y)\n",
    "u = str(u)\n",
    "i = str(i)\n",
    "\n",
    "\n",
    "\n",
    "D = []\n",
    "D.append(C.index(q))\n",
    "D.append(C.index(w))\n",
    "D.append(C.index(e))\n",
    "D.append(C.index(r))\n",
    "D.append(C.index(t))\n",
    "q = int(q)\n",
    "w = int(w)\n",
    "e = int(e)\n",
    "r = int(r)\n",
    "t = int(t)\n",
    "print(D)\n",
    "# D.append(C.index(y)+1)\n",
    "# D.append(C.index(u)+1)\n",
    "# D.append(C.index(i)+1)\n",
    "D.sort()\n",
    "q = D[0]\n",
    "q = int(q)\n",
    "w = D[1]\n",
    "w = int(w)\n",
    "e = D[2]\n",
    "e = int(e)\n",
    "r = D[3]\n",
    "r = int(r)\n",
    "t = D[4]\n",
    "t = int(t)\n",
    "print(q,w,e,r,t)\n",
    "# print(B.index(q)+1,B.index(w)+1,B.index(e)+1,B.index(r)+1,B.index(t)+1)"
   ]
  },
  {
   "cell_type": "code",
   "execution_count": null,
   "id": "6b5eef2f",
   "metadata": {},
   "outputs": [],
   "source": [
    "def bag(*args):\n",
    "    a = 0\n",
    "    for i in args:\n",
    "        a = a + i\n",
    "    return a\n",
    "\n",
    "bag(2, 3, 4, 5)"
   ]
  },
  {
   "cell_type": "code",
   "execution_count": null,
   "id": "cbe32b92",
   "metadata": {},
   "outputs": [],
   "source": [
    "def bag(o, p):\n",
    "    O ={}\n",
    "    O[o] = p"
   ]
  },
  {
   "cell_type": "code",
   "execution_count": null,
   "id": "2cfbb2f3",
   "metadata": {},
   "outputs": [],
   "source": [
    "n, k = map(int, input().split())\n",
    "A = {}\n",
    "for i in range(n):\n",
    "    w, v = map(int, input().split())\n",
    "    A[w] = v\n",
    "    W = []\n",
    "    V = []\n",
    "    for value in A.values():\n",
    "        V.append(value)\n",
    "        V.sort()\n",
    "    for key in  A.keys():\n",
    "        W.append(key)\n",
    "B = []\n",
    "o = 0\n",
    "p = 0\n",
    "q = 0\n",
    "j = len(V)\n",
    "while True:\n",
    "    if W[o] > k and o < len(W)-1:\n",
    "        B.append(q)\n",
    "        o += 1\n",
    "    elif W[o] == k and o < len(W)-1:\n",
    "        q  = q+A[W[o]]\n",
    "        B.append(q)\n",
    "        q = 0\n",
    "    elif W[o] < k and o < len(W)-1:\n",
    "        p = p+W[o]\n",
    "        if p >= k:\n",
    "            p = p-W[o]\n",
    "            o += 1\n",
    "#             B.append(q)\n",
    "        elif p < k:\n",
    "            q = q+A[W[o]]\n",
    "            o += 1\n",
    "    elif o == len(W)-1:\n",
    "        if W[o] <= k:\n",
    "            p = p+W[o]\n",
    "            if p > k:\n",
    "                p = 0\n",
    "                q = 0\n",
    "                o = o+2-j\n",
    "                j = j-1\n",
    "            elif p <= k:\n",
    "                q = q+A[W[o]]\n",
    "                B.append(q)\n",
    "                p = 0\n",
    "                q = 0\n",
    "                o = o+2-j\n",
    "                j = j-1\n",
    "        elif W[o] > k:\n",
    "            p = 0\n",
    "            q = 0\n",
    "            o = o+2-j\n",
    "            j = j-1\n",
    "            continue\n",
    "    elif j == 1:\n",
    "        break\n",
    "            \n",
    "print(B)\n",
    "    \n",
    "\n",
    "\n",
    "\n",
    "#     print(W.values())\n",
    "#  1, 2, 3, 4,5 가 list W에 있다고 가정할 때 W[0]이 k를 넘으면 다음 \n",
    "#  W[1]이 안넘으면 W[1]+W[2], 안넘으면 W[1]+W[2]+W[3] 넘으면 W[1]과 W[2]의 value의 합을 넣고 다음\n",
    "#  .. W[4]이 넘으면 다음 , W[5]가 될 경우 break\n"
   ]
  },
  {
   "cell_type": "code",
   "execution_count": null,
   "id": "eed6a61f",
   "metadata": {},
   "outputs": [],
   "source": [
    "V = [13, 8, 6, 12]\n",
    "W = [6, 4, 3, 5]\n",
    "q = 0\n",
    "if V[q] > 10:\n",
    "    print('Yes')"
   ]
  },
  {
   "cell_type": "code",
   "execution_count": null,
   "id": "30879739",
   "metadata": {},
   "outputs": [],
   "source": [
    "A=[]\n",
    "B={}\n",
    "D=[]\n",
    "for _ in range(9):\n",
    "    a=input().split()\n",
    "    A.append(a)\n",
    "    A=sum(A, [])\n",
    "    D.append(max(A))\n",
    "    B[max(A)]=A.index(max(A))+1\n",
    "    A=[]\n",
    "print(max(D))\n",
    "print(D.index(max(D))+1, B[max(D)])"
   ]
  },
  {
   "cell_type": "code",
   "execution_count": null,
   "id": "1226ef1b",
   "metadata": {},
   "outputs": [],
   "source": [
    "c=[]\n",
    "a=input()\n",
    "c.extend(a)\n",
    "n=0\n",
    "t=10\n",
    "\n",
    "while True:\n",
    "    if c[n]==c[n+1] and n!=len(c):\n",
    "        t+=5\n",
    "        n+=1\n",
    "    elif c[n]!=c[n+1] and n+1!=len(c):\n",
    "        t+=10\n",
    "        n+=1\n",
    "    if n==len(c):\n",
    "        break\n",
    "print(c[1])"
   ]
  },
  {
   "cell_type": "markdown",
   "id": "60191386",
   "metadata": {},
   "source": [
    "## 윷놀이"
   ]
  },
  {
   "cell_type": "code",
   "execution_count": 5,
   "id": "24e2c745",
   "metadata": {},
   "outputs": [
    {
     "name": "stdout",
     "output_type": "stream",
     "text": [
      "0 1 0 1\n",
      "B\n",
      "1 1 1 0\n",
      "A\n",
      "0 0 1 1\n",
      "B\n"
     ]
    }
   ],
   "source": [
    "for _ in range(3):\n",
    "    a=input().split()\n",
    "    if a.count('0')==1:\n",
    "        print('A')\n",
    "    elif a.count('0')==2:\n",
    "        print('B')\n",
    "    elif a.count('0')==3:\n",
    "        print('C')\n",
    "    elif a.count('0')==4:\n",
    "        print('D')\n",
    "    elif a.count('0')==0:\n",
    "        print('E')"
   ]
  },
  {
   "cell_type": "markdown",
   "id": "7e58fb3f",
   "metadata": {},
   "source": [
    "## Sum of Odd Sequence"
   ]
  },
  {
   "cell_type": "code",
   "execution_count": 14,
   "id": "5a07d03d",
   "metadata": {},
   "outputs": [
    {
     "name": "stdout",
     "output_type": "stream",
     "text": [
      "10\n",
      "1\n",
      "1\n",
      "3\n",
      "4\n",
      "5\n",
      "9\n",
      "7\n",
      "16\n",
      "9\n",
      "25\n",
      "11\n",
      "36\n",
      "13\n",
      "49\n",
      "15\n",
      "64\n",
      "17\n",
      "81\n",
      "19\n",
      "100\n"
     ]
    }
   ],
   "source": [
    "for _ in range(int(input())):\n",
    "    a=int(input())\n",
    "    k=a//2\n",
    "    b=1\n",
    "    c=1\n",
    "    for _ in range(k):\n",
    "            if a>1:\n",
    "                b+=2\n",
    "                c+=b\n",
    "    print(c)"
   ]
  },
  {
   "cell_type": "markdown",
   "id": "3e062708",
   "metadata": {},
   "source": [
    "## 벽 부수고 이동하기"
   ]
  },
  {
   "cell_type": "code",
   "execution_count": null,
   "id": "84b05aa6",
   "metadata": {},
   "outputs": [],
   "source": [
    "n,m=map(int,input().split())\n",
    "for _ in range(n):\n",
    "    a=input()"
   ]
  },
  {
   "cell_type": "markdown",
   "id": "227acd93",
   "metadata": {},
   "source": [
    "## 킹, 퀸, 룩, 비숍, 나이트, 폰"
   ]
  },
  {
   "cell_type": "code",
   "execution_count": 6,
   "id": "91d06181",
   "metadata": {},
   "outputs": [
    {
     "name": "stdout",
     "output_type": "stream",
     "text": [
      "2 1 2 1 2 1\n",
      "-1 0 0 1 0 7\n"
     ]
    }
   ],
   "source": [
    "A=[]\n",
    "a,b,c,d,e,f=map(int,input().split())\n",
    "\n",
    "if a>=0:\n",
    "    A.append(1-a)\n",
    "elif a<0:\n",
    "    A.append(-(a-1))\n",
    "if b>=0:\n",
    "    A.append(1-b)\n",
    "elif b<0:\n",
    "    A.append(-(b-1))\n",
    "if c>=0:\n",
    "    A.append(2-c)\n",
    "elif c<0:\n",
    "    A.append(-(c-2))\n",
    "if d>=0:\n",
    "    A.append(2-d)\n",
    "elif d<0:\n",
    "    A.append(-(d-2))\n",
    "if e>=0:\n",
    "    A.append(2-e)\n",
    "elif e<0:\n",
    "    A.append(-(e-2))\n",
    "if f>=0:\n",
    "    A.append(8-f)\n",
    "elif f<0:\n",
    "    A.append(-(f-8))\n",
    "print(A[0],A[1],A[2],A[3],A[4],A[5])"
   ]
  },
  {
   "cell_type": "markdown",
   "id": "fc998097",
   "metadata": {},
   "source": [
    "## 영수증"
   ]
  },
  {
   "cell_type": "code",
   "execution_count": 9,
   "id": "545501e6",
   "metadata": {},
   "outputs": [
    {
     "name": "stdout",
     "output_type": "stream",
     "text": [
      "250000\n",
      "4\n",
      "20000 5\n",
      "30000 2\n",
      "10000 6\n",
      "5000 8\n",
      "No\n"
     ]
    }
   ],
   "source": [
    "x=int(input())\n",
    "n=int(input())\n",
    "A=0\n",
    "for _ in range(n):\n",
    "    a,b=map(int,input().split())\n",
    "    A+=a*b\n",
    "if x==A:\n",
    "    print(\"Yes\")\n",
    "else:\n",
    "    print(\"No\")"
   ]
  },
  {
   "cell_type": "markdown",
   "id": "fc17a14c",
   "metadata": {},
   "source": [
    "## 더하기 사이클"
   ]
  },
  {
   "cell_type": "code",
   "execution_count": 15,
   "id": "6fb1bf3e",
   "metadata": {},
   "outputs": [
    {
     "name": "stdout",
     "output_type": "stream",
     "text": [
      "26\n"
     ]
    },
    {
     "ename": "IndexError",
     "evalue": "list index out of range",
     "output_type": "error",
     "traceback": [
      "\u001b[1;31m---------------------------------------------------------------------------\u001b[0m",
      "\u001b[1;31mIndexError\u001b[0m                                Traceback (most recent call last)",
      "Input \u001b[1;32mIn [15]\u001b[0m, in \u001b[0;36m<cell line: 20>\u001b[1;34m()\u001b[0m\n\u001b[0;32m     28\u001b[0m \u001b[38;5;28;01melif\u001b[39;00m \u001b[38;5;28mlen\u001b[39m(A)\u001b[38;5;241m==\u001b[39m\u001b[38;5;241m1\u001b[39m:\n\u001b[0;32m     29\u001b[0m     b\u001b[38;5;241m=\u001b[39m\u001b[38;5;28mint\u001b[39m(A[\u001b[38;5;241m0\u001b[39m])\n\u001b[1;32m---> 30\u001b[0m     c\u001b[38;5;241m=\u001b[39m\u001b[38;5;28mint\u001b[39m(\u001b[43mA\u001b[49m\u001b[43m[\u001b[49m\u001b[38;5;241;43m1\u001b[39;49m\u001b[43m]\u001b[49m)\n\u001b[0;32m     31\u001b[0m     A\u001b[38;5;241m=\u001b[39m[]\n\u001b[0;32m     32\u001b[0m     d\u001b[38;5;241m=\u001b[39mb\u001b[38;5;241m+\u001b[39mc\n",
      "\u001b[1;31mIndexError\u001b[0m: list index out of range"
     ]
    }
   ],
   "source": [
    "A=[]\n",
    "a=input()\n",
    "A.extend(a)\n",
    "C=1\n",
    "if len(A)==2:\n",
    "    b=int(A[0])\n",
    "    c=int(A[1])\n",
    "    A=[]\n",
    "    d=c+b+c\n",
    "    d=str(d)\n",
    "    A.extend(d)\n",
    "elif len(A)==1:\n",
    "    b=int(A[0])\n",
    "    c=int(A[1])\n",
    "    A=[]\n",
    "    d=b+c\n",
    "    d=str(d)\n",
    "    A.extend(d)\n",
    "while True:\n",
    "    if len(A)==2:\n",
    "        b=int(A[0])\n",
    "        c=int(A[1])\n",
    "        A=[]\n",
    "        d=c+b+c\n",
    "        d=str(d)\n",
    "        A.extend(d)\n",
    "        C+=1\n",
    "    elif len(A)==1:\n",
    "        b=int(A[0])\n",
    "        c=int(A[1])\n",
    "        A=[]\n",
    "        d=b+c\n",
    "        d=str(d)\n",
    "        A.extend(d)\n",
    "        C+=1\n",
    "    if a==d:\n",
    "        break\n",
    "print(C)    "
   ]
  },
  {
   "cell_type": "code",
   "execution_count": 28,
   "id": "bb8cba58",
   "metadata": {},
   "outputs": [
    {
     "name": "stdout",
     "output_type": "stream",
     "text": [
      "39\n",
      "40\n",
      "41\n",
      "42\n",
      "43\n",
      "44\n",
      "82\n",
      "83\n",
      "84\n",
      "85\n",
      "6\n"
     ]
    }
   ],
   "source": [
    "b=[]\n",
    "for _ in range(10):\n",
    "    a=int(input())\n",
    "    b.append(a%42)\n",
    "    c=set(b)\n",
    "    b=list(c)        \n",
    "print(len(b))"
   ]
  },
  {
   "cell_type": "markdown",
   "id": "3803b9bc",
   "metadata": {},
   "source": [
    "## 평균"
   ]
  },
  {
   "cell_type": "code",
   "execution_count": 50,
   "id": "08c71b8b",
   "metadata": {},
   "outputs": [
    {
     "name": "stdout",
     "output_type": "stream",
     "text": [
      "9\n",
      "10 20 30 40 50 60 70 80 90\n",
      "55.55555555555556\n"
     ]
    }
   ],
   "source": [
    "t=int(input())\n",
    "a=map(int,input().split())\n",
    "a=list(a)\n",
    "a.sort()\n",
    "b=max(a)\n",
    "k=0\n",
    "p=[]\n",
    "for _ in range(t):\n",
    "    q=a[k]/b*100\n",
    "    p.append(q)\n",
    "    k+=1\n",
    "print(sum(p)/t)"
   ]
  },
  {
   "cell_type": "code",
   "execution_count": 35,
   "id": "35224487",
   "metadata": {},
   "outputs": [
    {
     "data": {
      "text/plain": [
       "50.0"
      ]
     },
     "execution_count": 35,
     "metadata": {},
     "output_type": "execute_result"
    }
   ],
   "source": [
    "40/80*100"
   ]
  },
  {
   "cell_type": "code",
   "execution_count": 36,
   "id": "650786ed",
   "metadata": {},
   "outputs": [
    {
     "data": {
      "text/plain": [
       "75.0"
      ]
     },
     "execution_count": 36,
     "metadata": {},
     "output_type": "execute_result"
    }
   ],
   "source": [
    "60/80*100"
   ]
  },
  {
   "cell_type": "code",
   "execution_count": 37,
   "id": "d0be2e9d",
   "metadata": {},
   "outputs": [
    {
     "data": {
      "text/plain": [
       "68.33333333333333"
      ]
     },
     "execution_count": 37,
     "metadata": {},
     "output_type": "execute_result"
    }
   ],
   "source": [
    "(50+75+80)/3"
   ]
  },
  {
   "cell_type": "code",
   "execution_count": 38,
   "id": "979b575e",
   "metadata": {},
   "outputs": [
    {
     "data": {
      "text/plain": [
       "100.0"
      ]
     },
     "execution_count": 38,
     "metadata": {},
     "output_type": "execute_result"
    }
   ],
   "source": [
    "80/80*100"
   ]
  },
  {
   "cell_type": "code",
   "execution_count": 39,
   "id": "2772f9bb",
   "metadata": {},
   "outputs": [
    {
     "data": {
      "text/plain": [
       "75.0"
      ]
     },
     "execution_count": 39,
     "metadata": {},
     "output_type": "execute_result"
    }
   ],
   "source": [
    "(50+75+100)/3"
   ]
  },
  {
   "cell_type": "code",
   "execution_count": null,
   "id": "f6d1d050",
   "metadata": {},
   "outputs": [],
   "source": []
  }
 ],
 "metadata": {
  "kernelspec": {
   "display_name": "Python 3 (ipykernel)",
   "language": "python",
   "name": "python3"
  },
  "language_info": {
   "codemirror_mode": {
    "name": "ipython",
    "version": 3
   },
   "file_extension": ".py",
   "mimetype": "text/x-python",
   "name": "python",
   "nbconvert_exporter": "python",
   "pygments_lexer": "ipython3",
   "version": "3.9.12"
  }
 },
 "nbformat": 4,
 "nbformat_minor": 5
}
