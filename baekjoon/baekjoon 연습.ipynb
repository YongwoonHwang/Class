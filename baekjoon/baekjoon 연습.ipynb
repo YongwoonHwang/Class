{
 "cells": [
  {
   "cell_type": "code",
   "execution_count": null,
   "id": "c35df536",
   "metadata": {},
   "outputs": [],
   "source": [
    "print(28)\n",
    "print(\"manhae12\")"
   ]
  },
  {
   "cell_type": "code",
   "execution_count": null,
   "id": "5aa12bfc",
   "metadata": {},
   "outputs": [],
   "source": [
    "A, B, C = map(int,input().split())\n",
    "M = [A, B, C]\n",
    "M.sort(reverse=True)\n",
    "\n",
    "print(M[1])"
   ]
  },
  {
   "cell_type": "code",
   "execution_count": null,
   "id": "246e9645",
   "metadata": {},
   "outputs": [],
   "source": [
    "A, B, C = map(int,input().split())\n",
    "D = int(input())\n",
    "\n",
    "B_a = D//60\n",
    "B_b = D%60\n",
    "\n",
    "A_a = (B+B_a)//60\n",
    "A_b = (B+B_a)%60\n",
    "\n",
    "\n",
    "\n",
    "if C+D > 59:\n",
    "    if B+B_a <= 59:\n",
    "        print(A, B+B_a, B_b)\n",
    "    elif B+B_a > 59:\n",
    "        if A+A_a <= 23:\n",
    "            print(A+A_a, A_b, 0+((C+B_b)-60))\n",
    "        else:\n",
    "            print(0+((A+A_a)-24), A_b, 0+((C+B_b)-60))\n",
    "#         print(A, 0+((B+B_a)-60), B_b)\n",
    "\n",
    "elif C+D <= 59:\n",
    "    print(A, B, C+D)"
   ]
  },
  {
   "cell_type": "code",
   "execution_count": null,
   "id": "8eb66e16",
   "metadata": {},
   "outputs": [],
   "source": [
    "A = 10**3\n",
    "\n",
    "B = 10**2"
   ]
  },
  {
   "cell_type": "code",
   "execution_count": null,
   "id": "449edf57",
   "metadata": {},
   "outputs": [],
   "source": [
    "10**2 "
   ]
  },
  {
   "cell_type": "code",
   "execution_count": null,
   "id": "af99e8b2",
   "metadata": {},
   "outputs": [],
   "source": [
    "10**3"
   ]
  },
  {
   "cell_type": "code",
   "execution_count": null,
   "id": "5e31671b",
   "metadata": {},
   "outputs": [],
   "source": [
    "A, B, C = map(int,input().split())\n",
    "D = int(input())\n",
    "if D + C >=0:\n",
    "    print((((D + C)//60)+A)%24, (((D + C)//60)+B)%60, (D + C)%60)"
   ]
  },
  {
   "cell_type": "code",
   "execution_count": null,
   "id": "66e7f8c6",
   "metadata": {},
   "outputs": [],
   "source": [
    "while True:\n",
    "    try:\n",
    "        A , B = map(int, input().split())\n",
    "        print(A+B)\n",
    "    except:\n",
    "        break"
   ]
  },
  {
   "cell_type": "code",
   "execution_count": null,
   "id": "ecc260e7",
   "metadata": {},
   "outputs": [],
   "source": [
    "import sys\n",
    "\n",
    "t = int(input())\n",
    "    \n",
    "for i in range(t):\n",
    "        a, b = map(int,sys.stdin.readline().split())\n",
    "        print(a+b)"
   ]
  },
  {
   "cell_type": "code",
   "execution_count": null,
   "id": "ac3e8f66",
   "metadata": {},
   "outputs": [],
   "source": [
    "\n",
    "\n",
    "for i in range(int(input())):\n",
    "    n = map(int, input().split())\n",
    "    print(max(n))"
   ]
  },
  {
   "cell_type": "code",
   "execution_count": null,
   "id": "ef167ae2",
   "metadata": {},
   "outputs": [],
   "source": [
    "#### for i in range(0, 9):\n",
    "    print(max(i))"
   ]
  },
  {
   "cell_type": "code",
   "execution_count": null,
   "id": "d740b229",
   "metadata": {},
   "outputs": [],
   "source": [
    "t = int(input())\n",
    "y_list=[]\n",
    "k_list=[]    \n",
    "t = t*9\n",
    "for i in range(0, t):\n",
    "    y, k = map(int, input().split())\n",
    "    y_list.append(y)\n",
    "    k_list.append(k)\n",
    "    Y = sum(y_list)\n",
    "    K = sum(k_list)\n",
    "    \n",
    "if Y>K:\n",
    "    print('Yonsei')\n",
    "elif K>Y:\n",
    "    print('Korea')\n",
    "elif K == Y:\n",
    "    print('Draw')"
   ]
  },
  {
   "cell_type": "markdown",
   "id": "f8586ff2",
   "metadata": {},
   "source": [
    "# "
   ]
  },
  {
   "cell_type": "code",
   "execution_count": null,
   "id": "ead00304",
   "metadata": {},
   "outputs": [],
   "source": [
    "\n",
    "a, b = map(int, input().split())\n",
    "c, d = map(int, input().split()) \n",
    "e, f = map(int, input().split())\n",
    "\n",
    "if a == c != e and b == d != f:\n",
    "    print(e, f)\n",
    "elif a == c != e and b != d == f:\n",
    "    print(e, b)\n",
    "elif a == c != e and b == f != d:\n",
    "    print(e, d)\n",
    "elif a != c == e and b == d != f:\n",
    "    print(a, f)\n",
    "elif a != c == e and b != d == f:\n",
    "    print(a, b)\n",
    "elif a != c == e and b == f != d:\n",
    "    print(a, d)\n",
    "elif a == e != c and b == d != f:\n",
    "    print(c, f)\n",
    "elif a == e != c and b != d == f:\n",
    "    print(c, b)\n",
    "elif a == e != c and b == f != d:\n",
    "    print(c, d)"
   ]
  },
  {
   "cell_type": "code",
   "execution_count": null,
   "id": "af9733fa",
   "metadata": {},
   "outputs": [],
   "source": [
    "N=int(input())\n",
    "i = 1\n",
    "while not N//1==1:#1로만 나누어질때까지 반복\n",
    "    i += 1 #나누어 떨어질때까지 i에 1 추가\n",
    "    if N%i == 0: #나누어 떨어지는경우\n",
    "        N=N/i #나누기 한 N 저장\n",
    "        print(i) #나눈 수 출력\n",
    "        i = int(1)# i 초기화"
   ]
  },
  {
   "cell_type": "code",
   "execution_count": 21,
   "id": "ced2e8b0",
   "metadata": {},
   "outputs": [
    {
     "name": "stdout",
     "output_type": "stream",
     "text": [
      "10\n",
      "65\n",
      "100\n",
      "30\n",
      "95\n",
      "68\n"
     ]
    }
   ],
   "source": [
    "total=0\n",
    "for i in range(5):\n",
    "    a = int(input())\n",
    "    if a >= 40:\n",
    "        total += a\n",
    "    else:\n",
    "        total += 40\n",
    "print(total//5)"
   ]
  },
  {
   "cell_type": "code",
   "execution_count": 6,
   "id": "a804cfc9",
   "metadata": {},
   "outputs": [
    {
     "name": "stdout",
     "output_type": "stream",
     "text": [
      "키 입력 : 1\n",
      "밸류 입력 : d\n",
      "1번은 딕셔너리 요소 추가 계속, 2번은 종료 : 1\n",
      "키 입력 : 2\n",
      "밸류 입력 : f\n",
      "1번은 딕셔너리 요소 추가 계속, 2번은 종료 : 1\n",
      "키 입력 : 3\n",
      "밸류 입력 : g\n",
      "1번은 딕셔너리 요소 추가 계속, 2번은 종료 : 2\n",
      "===== 딕셔너리 요소 추가 끝 =====\n",
      "\n",
      "당신이 만든 딕셔너리 리스트 : {1: 'd', 2: 'f', 3: 'g'}\n"
     ]
    }
   ],
   "source": [
    "my_dict = {} \n",
    "while True :\n",
    "    key = int(input('키 입력 : '))\n",
    "    val = input('밸류 입력 : ')\n",
    "    my_dict[key] = val\n",
    "    con = int(input('1번은 딕셔너리 요소 추가 계속, 2번은 종료 : '))\n",
    "    if con == 2 :\n",
    "        print(\"===== 딕셔너리 요소 추가 끝 =====\", end=\"\\n\\n\")\n",
    "        break\n",
    "    \n",
    "print(\"당신이 만든 딕셔너리 리스트 :\", my_dict)"
   ]
  },
  {
   "cell_type": "markdown",
   "id": "08cb4069",
   "metadata": {},
   "source": [
    "## bottle return"
   ]
  },
  {
   "cell_type": "markdown",
   "id": "ced63410",
   "metadata": {},
   "source": []
  },
  {
   "cell_type": "code",
   "execution_count": 2,
   "id": "44390e38",
   "metadata": {},
   "outputs": [
    {
     "name": "stdout",
     "output_type": "stream",
     "text": [
      "0 0 0 23 3 100\n",
      "630\n"
     ]
    }
   ],
   "source": [
    "a, b, c, d, e, f = map(int, input().split())\n",
    "\n",
    "print((a+b+c+d+e+f)*5)"
   ]
  },
  {
   "cell_type": "code",
   "execution_count": 4,
   "id": "a7c3a8ee",
   "metadata": {},
   "outputs": [
    {
     "name": "stdout",
     "output_type": "stream",
     "text": [
      "2 2\n",
      "2\n"
     ]
    }
   ],
   "source": [
    "a, b = map(int, input().split())\n",
    "\n",
    "if a> b:\n",
    "    print(a)\n",
    "elif a<b:\n",
    "    print(b)\n",
    "elif a==b:\n",
    "    print(a)"
   ]
  },
  {
   "cell_type": "code",
   "execution_count": 5,
   "id": "3af5bf56",
   "metadata": {},
   "outputs": [
    {
     "name": "stdout",
     "output_type": "stream",
     "text": [
      "NFC West       W   L  T\n",
      "-----------------------\n",
      "Seattle        13  3  0\n",
      "San Francisco  12  4  0\n",
      "Arizona        10  6  0\n",
      "St. Louis      7   9  0\n",
      "\n",
      "NFC North      W   L  T\n",
      "-----------------------\n",
      "Green Bay      8   7  1\n",
      "Chicago        8   8  0\n",
      "Detroit        7   9  0\n",
      "Minnesota      5  10  1\n"
     ]
    }
   ],
   "source": [
    "print('''NFC West       W   L  T\n",
    "-----------------------\n",
    "Seattle        13  3  0\n",
    "San Francisco  12  4  0\n",
    "Arizona        10  6  0\n",
    "St. Louis      7   9  0\n",
    "\n",
    "NFC North      W   L  T\n",
    "-----------------------\n",
    "Green Bay      8   7  1\n",
    "Chicago        8   8  0\n",
    "Detroit        7   9  0\n",
    "Minnesota      5  10  1''')"
   ]
  },
  {
   "cell_type": "code",
   "execution_count": 6,
   "id": "20536cab",
   "metadata": {},
   "outputs": [
    {
     "name": "stdout",
     "output_type": "stream",
     "text": [
      "SHIP NAME      CLASS          DEPLOYMENT IN SERVICE\n",
      "N2 Bomber      Heavy Fighter  Limited    21        \n",
      "J-Type 327     Light Combat   Unlimited  1         \n",
      "NX Cruiser     Medium Fighter Limited    18        \n",
      "N1 Starfighter Medium Fighter Unlimited  25        \n",
      "Royal Cruiser  Light Combat   Limited    4         \n"
     ]
    }
   ],
   "source": [
    "print('''SHIP NAME      CLASS          DEPLOYMENT IN SERVICE\n",
    "N2 Bomber      Heavy Fighter  Limited    21        \n",
    "J-Type 327     Light Combat   Unlimited  1         \n",
    "NX Cruiser     Medium Fighter Limited    18        \n",
    "N1 Starfighter Medium Fighter Unlimited  25        \n",
    "Royal Cruiser  Light Combat   Limited    4         ''')"
   ]
  },
  {
   "cell_type": "code",
   "execution_count": 37,
   "id": "3e51f52b",
   "metadata": {},
   "outputs": [
    {
     "name": "stdout",
     "output_type": "stream",
     "text": [
      "3 1 2\n",
      "1 2 3\n"
     ]
    }
   ],
   "source": [
    "a = map(int, input().split())\n",
    "A = list(a)\n",
    "A.sort()\n",
    "\n",
    "\n",
    "print(A[0], A[1], A[2])"
   ]
  },
  {
   "cell_type": "code",
   "execution_count": 38,
   "id": "db612675",
   "metadata": {},
   "outputs": [
    {
     "name": "stdout",
     "output_type": "stream",
     "text": [
      "12\n",
      "15\n",
      "18\n"
     ]
    }
   ],
   "source": [
    "y = int(input())\n",
    "m = int(input())\n",
    "\n",
    "print(m-y+m)"
   ]
  },
  {
   "cell_type": "code",
   "execution_count": 46,
   "id": "ab3387ad",
   "metadata": {},
   "outputs": [
    {
     "name": "stdout",
     "output_type": "stream",
     "text": [
      "8\n",
      "6\n"
     ]
    }
   ],
   "source": [
    "a = int(input())\n",
    "b = int(input())\n",
    "\n",
    "if a >= 3 and b <= 4:\n",
    "    print('TroyMartian')\n",
    "if a <=6 and b>=2:\n",
    "    print('VladSaturnian')\n",
    "if a<=2 and b<=3:\n",
    "    print('GraemeMercurian')"
   ]
  },
  {
   "cell_type": "code",
   "execution_count": 55,
   "id": "bfaea374",
   "metadata": {},
   "outputs": [
    {
     "name": "stdout",
     "output_type": "stream",
     "text": [
      "3\n",
      "4 5\n",
      "NO BRAINS\n",
      "3 3\n",
      "MMM BRAINS\n",
      "4 3\n",
      "MMM BRAINS\n"
     ]
    }
   ],
   "source": [
    "for i in range(int(input())):\n",
    "    x,y = map(int, input().split())\n",
    "    if x < y:\n",
    "        print('NO BRAINS')\n",
    "    elif x>=y:\n",
    "        print('MMM BRAINS')"
   ]
  },
  {
   "cell_type": "code",
   "execution_count": 70,
   "id": "6ffc7c95",
   "metadata": {},
   "outputs": [
    {
     "name": "stdout",
     "output_type": "stream",
     "text": [
      "1\n",
      "1. odd 0\n",
      "2\n",
      "2. even 1\n",
      "3\n",
      "2. even 1\n",
      "4\n",
      "1. odd 2\n",
      "5\n",
      "1. odd 2\n",
      "6\n",
      "2. even 3\n",
      "7\n",
      "2. even 3\n",
      "8\n",
      "1. odd 4\n",
      "9\n",
      "1. odd 4\n",
      "10\n",
      "2. even 5\n",
      "11\n",
      "2. even 5\n",
      "12\n",
      "1. odd 6\n",
      "13\n",
      "1. odd 6\n",
      "14\n",
      "2. even 7\n",
      "15\n",
      "2. even 7\n",
      "16\n",
      "1. odd 8\n",
      "38\n",
      "2. even 19\n",
      "37\n",
      "1. odd 18\n",
      "0\n"
     ]
    }
   ],
   "source": [
    "while True:\n",
    "    n = int(input())\n",
    "    n1 = n*3\n",
    "    if n1%2 == 0 and n !=0:\n",
    "        a = n1//2*3//9\n",
    "        if a%2 ==0:\n",
    "            print('1. odd', a)\n",
    "        elif a%2 !=0:\n",
    "            print('2. even', a)\n",
    "    elif n1%2 !=0 and n !=0:\n",
    "        a = (n1+1)//2*3//9\n",
    "        if a%2 ==0:\n",
    "            print('1. odd', a)\n",
    "        elif a%2 !=0:\n",
    "            print('2. even', a)\n",
    "            continue\n",
    "    elif n == 0:\n",
    "        break"
   ]
  },
  {
   "cell_type": "code",
   "execution_count": 54,
   "id": "1d5b26a5",
   "metadata": {},
   "outputs": [
    {
     "name": "stdout",
     "output_type": "stream",
     "text": [
      "9\n",
      "4\n",
      "8\n",
      "The 1-3-sum is 120\n"
     ]
    }
   ],
   "source": [
    "a = int(input())\n",
    "b = int(input())\n",
    "c = int(input())\n",
    "\n",
    "print('The 1-3-sum is',91+(a*1+b*3+c*1))"
   ]
  },
  {
   "cell_type": "code",
   "execution_count": 73,
   "id": "94bca7ea",
   "metadata": {},
   "outputs": [
    {
     "name": "stdout",
     "output_type": "stream",
     "text": [
      "3\n",
      "4 1 1 2 1\n",
      "0\n"
     ]
    }
   ],
   "source": [
    "k = int(input())\n",
    "\n",
    "a = map(int, input().split())\n",
    "A = list(a)\n",
    "\n",
    "c = A.count(k)\n",
    "print(c)"
   ]
  },
  {
   "cell_type": "code",
   "execution_count": 87,
   "id": "a6de7bd2",
   "metadata": {},
   "outputs": [
    {
     "name": "stdout",
     "output_type": "stream",
     "text": [
      "93084\n",
      "93084\n"
     ]
    }
   ],
   "source": [
    "a = int(input())\n",
    "a = str(a)\n",
    "A = list(a)\n",
    "\n",
    "q =A[0]\n",
    "w =A[1]\n",
    "e =A[2]\n",
    "r =A[3]\n",
    "t =A[4]\n",
    "q = int(q)\n",
    "w = int(w)\n",
    "e = int(e)\n",
    "r = int(r)\n",
    "t = int(t)\n",
    "\n",
    "\n",
    "print(q**5+w**5+e**5+r**5+t**5)"
   ]
  },
  {
   "cell_type": "code",
   "execution_count": 88,
   "id": "18b69b5c",
   "metadata": {},
   "outputs": [
    {
     "name": "stdout",
     "output_type": "stream",
     "text": [
      "alert\n",
      "ALERT\n"
     ]
    }
   ],
   "source": [
    "a = input()\n",
    "\n",
    "print(a.upper())"
   ]
  },
  {
   "cell_type": "code",
   "execution_count": 94,
   "id": "93bb5cb9",
   "metadata": {},
   "outputs": [
    {
     "name": "stdout",
     "output_type": "stream",
     "text": [
      "31 41 59\n",
      "OK\n"
     ]
    }
   ],
   "source": [
    "s, k, h = map(int, input().split())\n",
    "\n",
    "if s + k + h >= 100:\n",
    "    print('OK')\n",
    "elif s + k + h < 100:\n",
    "    a = min(s, k, h)\n",
    "    if a == s:\n",
    "        print('Soongsil')\n",
    "    elif a == k:\n",
    "        print('Korea')\n",
    "    elif a == h:\n",
    "        print('Hanyang')"
   ]
  },
  {
   "cell_type": "code",
   "execution_count": 98,
   "id": "aed77d83",
   "metadata": {},
   "outputs": [
    {
     "name": "stdout",
     "output_type": "stream",
     "text": [
      "10\n",
      "3\n",
      "7\n",
      "8\n",
      "9\n",
      "6\n",
      "B\n"
     ]
    }
   ],
   "source": [
    "a = int(input())\n",
    "a = a*3\n",
    "a1 = int(input())\n",
    "a1 =a1*2\n",
    "a2 = int(input())\n",
    "a2 = a2*1\n",
    "b = int(input())\n",
    "b = b*3\n",
    "b1 = int(input())\n",
    "b1 = b1*2\n",
    "b2 = int(input())\n",
    "b2 = b2*1\n",
    "\n",
    "if a+a1+a2 > b+b1+b2:\n",
    "    print('A')\n",
    "elif a+a1+a2 < b+b1+b2:\n",
    "    print('B')\n",
    "elif a+a1+a2 == b+b1+b2:\n",
    "    print('T')"
   ]
  },
  {
   "cell_type": "code",
   "execution_count": 105,
   "id": "f2d5cf11",
   "metadata": {},
   "outputs": [
    {
     "name": "stdout",
     "output_type": "stream",
     "text": [
      "5\n",
      "Bilbo 13\n",
      "Bilbo F\n",
      "Sam 90\n",
      "Sam A\n",
      "Pippin 78\n",
      "Pippin C+\n",
      "Frodo 97\n",
      "Frodo A+\n",
      "Merry 70\n",
      "Merry C\n"
     ]
    }
   ],
   "source": [
    "\n",
    "for _  in range(int(input())):\n",
    "    a, b = input().split()\n",
    "    b = int(b)\n",
    "    if b >= 97 and b <=100:\n",
    "        print(a, 'A+')\n",
    "    elif b >= 90 and b <= 96:\n",
    "        print(a, 'A')\n",
    "    elif b >= 87 and b <= 89:\n",
    "        print(a, 'B+')\n",
    "    elif b >= 80 and b <= 86:\n",
    "        print(a, 'B')\n",
    "    elif b >= 77 and b <= 79:\n",
    "        print(a, 'C+')\n",
    "    elif b >= 70 and b <= 76:\n",
    "        print(a, 'C')\n",
    "    elif b >= 67 and b <= 69:\n",
    "        print(a, 'D+')\n",
    "    elif b >= 60 and b <= 66:\n",
    "        print(a, 'D')\n",
    "    elif b >= 0 and b <= 59:\n",
    "        print(a, 'F')"
   ]
  },
  {
   "cell_type": "code",
   "execution_count": 109,
   "id": "a2796a7c",
   "metadata": {},
   "outputs": [
    {
     "name": "stdout",
     "output_type": "stream",
     "text": [
      "L\n",
      "L\n",
      "L\n",
      "L\n",
      "L\n",
      "L\n",
      "-1\n"
     ]
    }
   ],
   "source": [
    "k =[]\n",
    "a = input()\n",
    "b = input()\n",
    "c = input()\n",
    "d = input()\n",
    "e = input()\n",
    "f = input()\n",
    "\n",
    "k.append(a)\n",
    "k.append(b)\n",
    "k.append(c)\n",
    "k.append(d)\n",
    "k.append(e)\n",
    "k.append(f)\n",
    "\n",
    "K = k.count('W')\n",
    "\n",
    "if K >= 5:\n",
    "    print(1)\n",
    "elif K == 3 or K == 4:\n",
    "    print(2)\n",
    "elif K == 1 or K == 2:\n",
    "    print(3)\n",
    "elif K == 0:\n",
    "    print(-1)"
   ]
  },
  {
   "cell_type": "code",
   "execution_count": 113,
   "id": "acbb06e8",
   "metadata": {},
   "outputs": [
    {
     "name": "stdout",
     "output_type": "stream",
     "text": [
      "5550000\n",
      "YES\n"
     ]
    }
   ],
   "source": [
    "a = int(input())\n",
    "a = str(a)\n",
    "A = list(a)\n",
    "\n",
    "if A[0] == '5' and A[1] == '5' and A[2] == '5':\n",
    "    print('YES')\n",
    "else:\n",
    "    print('NO')"
   ]
  },
  {
   "cell_type": "code",
   "execution_count": 119,
   "id": "a9fe3ad2",
   "metadata": {},
   "outputs": [
    {
     "name": "stdout",
     "output_type": "stream",
     "text": [
      "2\n",
      "SciComLove\n",
      "SciComLove\n",
      "\n"
     ]
    }
   ],
   "source": [
    "a = int(input())\n",
    "\n",
    "print('SciComLove\\n'*a)"
   ]
  },
  {
   "cell_type": "code",
   "execution_count": 122,
   "id": "aca8953a",
   "metadata": {},
   "outputs": [
    {
     "name": "stdout",
     "output_type": "stream",
     "text": [
      "0 0 1\n",
      "10 10 1\n",
      "NO\n"
     ]
    }
   ],
   "source": [
    "a, b, c = map(int, input().split())\n",
    "a1, b1, c1 = map(int, input().split())\n",
    "\n",
    "if c*2-a-b == c1*2-a1-b1:\n",
    "    print('YES')\n",
    "else:\n",
    "    print('NO')"
   ]
  },
  {
   "cell_type": "code",
   "execution_count": 124,
   "id": "95f9c8c9",
   "metadata": {},
   "outputs": [
    {
     "name": "stdout",
     "output_type": "stream",
     "text": [
      "4 5\n",
      "2\n"
     ]
    }
   ],
   "source": [
    "a, b = map(int, input().split())\n",
    "a = a//2\n",
    "b = b//2\n",
    "if a == b:\n",
    "    print(a)\n",
    "elif a < b:\n",
    "    print(a)\n",
    "elif a>b:\n",
    "    print(b)"
   ]
  },
  {
   "cell_type": "code",
   "execution_count": 148,
   "id": "3e32f25b",
   "metadata": {},
   "outputs": [
    {
     "name": "stdout",
     "output_type": "stream",
     "text": [
      "200 20\n",
      "0\n"
     ]
    }
   ],
   "source": [
    "a, b = map(int, input().split())\n",
    "B = b/100\n",
    "A = a-a*B\n",
    "\n",
    "if A >= 100:\n",
    "    print(0)\n",
    "elif a < 100 and b == 0:\n",
    "    print(1)\n",
    "else:\n",
    "    print(1)"
   ]
  },
  {
   "cell_type": "code",
   "execution_count": 149,
   "id": "827f6bcd",
   "metadata": {},
   "outputs": [
    {
     "name": "stdout",
     "output_type": "stream",
     "text": [
      "1\n",
      "2\n",
      "20 30\n",
      "50 600\n",
      "40 60\n",
      "100 2400\n"
     ]
    }
   ],
   "source": [
    "for _ in range(int(input())):\n",
    "    for _ in range(int(input())):\n",
    "        a, b = map(int, input().split())\n",
    "        print(a+b, a*b)"
   ]
  },
  {
   "cell_type": "code",
   "execution_count": 151,
   "id": "ff0c35ec",
   "metadata": {},
   "outputs": [
    {
     "name": "stdout",
     "output_type": "stream",
     "text": [
      "1\n",
      "Leading the Way to the Future\n"
     ]
    }
   ],
   "source": [
    "n = int(input())\n",
    "if n == 0:\n",
    "    print('YONSEI')\n",
    "elif n == 1:\n",
    "    print('Leading the Way to the Future')"
   ]
  },
  {
   "cell_type": "code",
   "execution_count": 155,
   "id": "94bbd5ae",
   "metadata": {},
   "outputs": [
    {
     "name": "stdout",
     "output_type": "stream",
     "text": [
      "3 3\n",
      "4\n"
     ]
    }
   ],
   "source": [
    "n,m=map(int,input().split())\n",
    "print(n*m//2)"
   ]
  },
  {
   "cell_type": "code",
   "execution_count": 156,
   "id": "c190b561",
   "metadata": {},
   "outputs": [
    {
     "name": "stdout",
     "output_type": "stream",
     "text": [
      "5\n",
      "1\n",
      "=\n",
      "3\n",
      "===\n",
      "4\n",
      "====\n",
      "6\n",
      "======\n",
      "2\n",
      "==\n"
     ]
    }
   ],
   "source": [
    "for _ in range(int(input())):\n",
    "    a=int(input())\n",
    "    print('='*a)"
   ]
  },
  {
   "cell_type": "code",
   "execution_count": 159,
   "id": "a9efd463",
   "metadata": {},
   "outputs": [
    {
     "name": "stdout",
     "output_type": "stream",
     "text": [
      "1 0\n",
      "0\n"
     ]
    }
   ],
   "source": [
    "a, b = map(int,input().split())\n",
    "if a==b:\n",
    "    print(1)\n",
    "else:\n",
    "    print(0)"
   ]
  },
  {
   "cell_type": "code",
   "execution_count": 160,
   "id": "5fad6f8e",
   "metadata": {},
   "outputs": [
    {
     "name": "stdout",
     "output_type": "stream",
     "text": [
      "5\n",
      "20\n"
     ]
    }
   ],
   "source": [
    "n=int(input())\n",
    "print(n*n-n)"
   ]
  },
  {
   "cell_type": "code",
   "execution_count": 195,
   "id": "fc293fb3",
   "metadata": {},
   "outputs": [
    {
     "name": "stdout",
     "output_type": "stream",
     "text": [
      "20\n",
      "30\n",
      "50\n",
      "48\n",
      "33\n",
      "66\n",
      "0\n",
      "64\n",
      "261\n",
      "[7, 6, 5, 4, 3]\n",
      "3 4 5 6 7\n"
     ]
    }
   ],
   "source": [
    "from copy import copy\n",
    "A = []\n",
    "\n",
    "for _ in range(0,8):\n",
    "    a = int(input())\n",
    "    a = str(a)\n",
    "    A.append(a)\n",
    "B = copy(A)    \n",
    "C = copy(A)\n",
    "A.sort()\n",
    "q = A[-1]\n",
    "q = int(q)\n",
    "w = A[-2]\n",
    "w = int(w)\n",
    "e = A[-3]\n",
    "e = int(e)\n",
    "r = A[-4]\n",
    "r = int(r)\n",
    "t = A[-5]\n",
    "t = int(t)\n",
    "y = A[-6]\n",
    "y = int(y)\n",
    "u = A[-7]\n",
    "u = int(u)\n",
    "i = A[-8]\n",
    "i = int(i)\n",
    "print(q+w+e+r+t)\n",
    "q = str(q)\n",
    "w = str(w)\n",
    "e = str(e)\n",
    "r = str(r)\n",
    "t = str(t)\n",
    "y = str(y)\n",
    "u = str(u)\n",
    "i = str(i)\n",
    "\n",
    "# B.sort()\n",
    "# q = int(q)\n",
    "# w = int(w)\n",
    "# e = int(e)\n",
    "# r = int(r)\n",
    "# t = int(t)\n",
    "# y = int(y)\n",
    "# u = int(u)\n",
    "# i = int(i)\n",
    "# print(q+w+e+r+t)\n",
    "\n",
    "q = C[-1]\n",
    "q = int(q)\n",
    "w = C[-2]\n",
    "w = int(w)\n",
    "e = C[-3]\n",
    "e = int(e)\n",
    "r = C[-4]\n",
    "r = int(r)\n",
    "t = C[-5]\n",
    "t = int(t)\n",
    "y = C[-6]\n",
    "y = int(y)\n",
    "u = C[-7]\n",
    "u = int(u)\n",
    "i = C[-8]\n",
    "i = int(i)\n",
    "q = str(q)\n",
    "w = str(w)\n",
    "e = str(e)\n",
    "r = str(r)\n",
    "t = str(t)\n",
    "y = str(y)\n",
    "u = str(u)\n",
    "i = str(i)\n",
    "\n",
    "\n",
    "\n",
    "D = []\n",
    "D.append(C.index(q))\n",
    "D.append(C.index(w))\n",
    "D.append(C.index(e))\n",
    "D.append(C.index(r))\n",
    "D.append(C.index(t))\n",
    "q = int(q)\n",
    "w = int(w)\n",
    "e = int(e)\n",
    "r = int(r)\n",
    "t = int(t)\n",
    "print(D)\n",
    "# D.append(C.index(y)+1)\n",
    "# D.append(C.index(u)+1)\n",
    "# D.append(C.index(i)+1)\n",
    "D.sort()\n",
    "q = D[0]\n",
    "q = int(q)\n",
    "w = D[1]\n",
    "w = int(w)\n",
    "e = D[2]\n",
    "e = int(e)\n",
    "r = D[3]\n",
    "r = int(r)\n",
    "t = D[4]\n",
    "t = int(t)\n",
    "print(q,w,e,r,t)\n",
    "# print(B.index(q)+1,B.index(w)+1,B.index(e)+1,B.index(r)+1,B.index(t)+1)"
   ]
  },
  {
   "cell_type": "code",
   "execution_count": null,
   "id": "6b5eef2f",
   "metadata": {},
   "outputs": [],
   "source": []
  },
  {
   "cell_type": "code",
   "execution_count": null,
   "id": "cbe32b92",
   "metadata": {},
   "outputs": [],
   "source": []
  },
  {
   "cell_type": "code",
   "execution_count": null,
   "id": "2cfbb2f3",
   "metadata": {},
   "outputs": [],
   "source": []
  },
  {
   "cell_type": "code",
   "execution_count": null,
   "id": "eed6a61f",
   "metadata": {},
   "outputs": [],
   "source": []
  },
  {
   "cell_type": "code",
   "execution_count": null,
   "id": "30879739",
   "metadata": {},
   "outputs": [],
   "source": []
  },
  {
   "cell_type": "code",
   "execution_count": null,
   "id": "1226ef1b",
   "metadata": {},
   "outputs": [],
   "source": []
  },
  {
   "cell_type": "code",
   "execution_count": null,
   "id": "dc60e62d",
   "metadata": {},
   "outputs": [],
   "source": []
  },
  {
   "cell_type": "code",
   "execution_count": null,
   "id": "24e2c745",
   "metadata": {},
   "outputs": [],
   "source": []
  },
  {
   "cell_type": "code",
   "execution_count": null,
   "id": "fade535a",
   "metadata": {},
   "outputs": [],
   "source": []
  },
  {
   "cell_type": "code",
   "execution_count": null,
   "id": "5a07d03d",
   "metadata": {},
   "outputs": [],
   "source": []
  },
  {
   "cell_type": "code",
   "execution_count": null,
   "id": "6b0310f2",
   "metadata": {},
   "outputs": [],
   "source": []
  }
 ],
 "metadata": {
  "kernelspec": {
   "display_name": "Python 3 (ipykernel)",
   "language": "python",
   "name": "python3"
  },
  "language_info": {
   "codemirror_mode": {
    "name": "ipython",
    "version": 3
   },
   "file_extension": ".py",
   "mimetype": "text/x-python",
   "name": "python",
   "nbconvert_exporter": "python",
   "pygments_lexer": "ipython3",
   "version": "3.9.12"
  }
 },
 "nbformat": 4,
 "nbformat_minor": 5
}
