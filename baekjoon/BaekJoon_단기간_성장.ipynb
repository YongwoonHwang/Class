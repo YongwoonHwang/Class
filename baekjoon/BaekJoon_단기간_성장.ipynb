{
 "cells": [
  {
   "cell_type": "code",
   "execution_count": 1,
   "id": "830e03cd",
   "metadata": {},
   "outputs": [],
   "source": [
    "# n은 물건의 수\n",
    "# w는 무게\n",
    "# v는 가치\n",
    "# k는 넣을 수 있는 무게 \n",
    "\n",
    "# w 의 최대값(두개 이상 포함)이 k를 넘지 않는 선에서\n",
    "# 해당 값에 매치되는 v 값을 출력"
   ]
  },
  {
   "cell_type": "code",
   "execution_count": 6,
   "id": "4cdce703",
   "metadata": {},
   "outputs": [
    {
     "name": "stdout",
     "output_type": "stream",
     "text": [
      "sd\n"
     ]
    },
    {
     "ename": "ValueError",
     "evalue": "invalid literal for int() with base 10: 'sd'",
     "output_type": "error",
     "traceback": [
      "\u001b[1;31m---------------------------------------------------------------------------\u001b[0m",
      "\u001b[1;31mValueError\u001b[0m                                Traceback (most recent call last)",
      "Input \u001b[1;32mIn [6]\u001b[0m, in \u001b[0;36m<cell line: 1>\u001b[1;34m()\u001b[0m\n\u001b[1;32m----> 1\u001b[0m n , k \u001b[38;5;241m=\u001b[39m \u001b[38;5;28mmap\u001b[39m(\u001b[38;5;28mint\u001b[39m, \u001b[38;5;28minput\u001b[39m()\u001b[38;5;241m.\u001b[39msplit())\n\u001b[0;32m      2\u001b[0m W \u001b[38;5;241m=\u001b[39m []\n\u001b[0;32m      3\u001b[0m V \u001b[38;5;241m=\u001b[39m []\n",
      "\u001b[1;31mValueError\u001b[0m: invalid literal for int() with base 10: 'sd'"
     ]
    }
   ],
   "source": [
    "n , k = map(int, input().split())\n",
    "w = []\n",
    "v = []\n",
    "\n",
    "\n",
    "for i in range(0, n):\n",
    "    w, v = map(int,input().split())\n",
    "    for j in w:\n",
    "        \n",
    "\n",
    "    \n",
    "    "
   ]
  },
  {
   "cell_type": "code",
   "execution_count": 10,
   "id": "a86f73a0",
   "metadata": {
    "scrolled": true
   },
   "outputs": [
    {
     "name": "stdout",
     "output_type": "stream",
     "text": [
      "2\n",
      "3\n",
      "t 10\n"
     ]
    },
    {
     "ename": "TypeError",
     "evalue": "list expected at most 1 argument, got 2",
     "output_type": "error",
     "traceback": [
      "\u001b[1;31m---------------------------------------------------------------------------\u001b[0m",
      "\u001b[1;31mTypeError\u001b[0m                                 Traceback (most recent call last)",
      "Input \u001b[1;32mIn [10]\u001b[0m, in \u001b[0;36m<cell line: 3>\u001b[1;34m()\u001b[0m\n\u001b[0;32m      4\u001b[0m \u001b[38;5;28;01mfor\u001b[39;00m j \u001b[38;5;129;01min\u001b[39;00m \u001b[38;5;28mrange\u001b[39m(\u001b[38;5;28mint\u001b[39m(\u001b[38;5;28minput\u001b[39m())):\n\u001b[0;32m      5\u001b[0m     s, l \u001b[38;5;241m=\u001b[39m \u001b[38;5;28minput\u001b[39m()\u001b[38;5;241m.\u001b[39msplit()\n\u001b[1;32m----> 6\u001b[0m     k \u001b[38;5;241m=\u001b[39m \u001b[38;5;28;43mlist\u001b[39;49m\u001b[43m(\u001b[49m\u001b[43ms\u001b[49m\u001b[43m,\u001b[49m\u001b[43m \u001b[49m\u001b[43ml\u001b[49m\u001b[43m)\u001b[49m\n",
      "\u001b[1;31mTypeError\u001b[0m: list expected at most 1 argument, got 2"
     ]
    }
   ],
   "source": [
    "t = int(input())\n",
    "\n",
    "for i in range(0, t):\n",
    "    for j in range(int(input())):\n",
    "        s, l = input().split()\n",
    "        "
   ]
  },
  {
   "cell_type": "code",
   "execution_count": 14,
   "id": "aa548231",
   "metadata": {},
   "outputs": [
    {
     "name": "stdout",
     "output_type": "stream",
     "text": [
      "1번은 딕셔너리 생성 계속, 2번은 종료 : 1\n",
      "===== 딕셔너리 요소 추가 중 =====\n",
      "키 입력 : 3\n",
      "밸류 입력 : V\n",
      "1번은 딕셔너리 요소 추가 계속, 2번은 종료 : 1\n",
      "키 입력 : 4\n",
      "밸류 입력 : S\n",
      "1번은 딕셔너리 요소 추가 계속, 2번은 종료 : 2\n",
      "===== 딕셔너리 요소 추가 끝 =====\n",
      "\n",
      "1번은 딕셔너리 생성 계속, 2번은 종료 : 2\n",
      "종료합니다.\n",
      "당신이 만든 딕셔너리 리스트 : [{3: 'V', 4: 'S'}]\n"
     ]
    }
   ],
   "source": [
    "dict_list = []\n",
    "while True :\n",
    "    sel = int(input('1번은 딕셔너리 생성 계속, 2번은 종료 : '))\n",
    "    if sel == 1 :\n",
    "        print(\"===== 딕셔너리 요소 추가 중 =====\")\n",
    "        my_dict = {} # empty dictionary\n",
    "        while True :\n",
    "            key = int(input('키 입력 : '))\n",
    "            val = input('밸류 입력 : ')\n",
    "            my_dict[key] = val\n",
    "            con = int(input('1번은 딕셔너리 요소 추가 계속, 2번은 종료 : '))\n",
    "            if con == 2 :\n",
    "                print(\"===== 딕셔너리 요소 추가 끝 =====\", end=\"\\n\\n\")\n",
    "                break\n",
    "        dict_list.append(my_dict)\n",
    "    elif sel == 2 :\n",
    "        print(\"종료합니다.\")\n",
    "        break\n",
    "    else :\n",
    "        print(\"잘못 선택하셨습니다.\")\n",
    "        break\n",
    "print(\"당신이 만든 딕셔너리 리스트 :\", dict_list)"
   ]
  },
  {
   "cell_type": "code",
   "execution_count": 17,
   "id": "e4003a64",
   "metadata": {},
   "outputs": [
    {
     "name": "stdout",
     "output_type": "stream",
     "text": [
      "키 입력 : 1\n",
      "밸류 입력 : c\n",
      "1번은 딕셔너리 요소 추가 계속, 2번은 종료 : 2\n",
      "===== 딕셔너리 요소 추가 끝 =====\n",
      "\n",
      "당신이 만든 딕셔너리 리스트 : {1: 'c'}\n"
     ]
    }
   ],
   "source": [
    "my_dict = {} # empty dictionary\n",
    "while True :\n",
    "    key = int(input('키 입력 : '))\n",
    "    val = input('밸류 입력 : ')\n",
    "    my_dict[key] = val\n",
    "    con = int(input('1번은 딕셔너리 요소 추가 계속, 2번은 종료 : '))\n",
    "    if con == 2 :\n",
    "        print(\"===== 딕셔너리 요소 추가 끝 =====\", end=\"\\n\\n\")\n",
    "        break\n",
    "print(\"당신이 만든 딕셔너리 리스트 :\", my_dict)"
   ]
  },
  {
   "cell_type": "code",
   "execution_count": null,
   "id": "6a3f316e",
   "metadata": {},
   "outputs": [],
   "source": [
    "my_dict = {}\n",
    "while True:\n",
    "    key = int(input('키:'))\n",
    "    val = input('밸류:')\n",
    "    my_dict[key] = val\n",
    "    con = int(input(''))"
   ]
  },
  {
   "cell_type": "code",
   "execution_count": 18,
   "id": "f2d418bc",
   "metadata": {},
   "outputs": [
    {
     "name": "stdout",
     "output_type": "stream",
     "text": [
      "1\n",
      "2\n",
      "Yonsei\n",
      "10\n",
      "Korea\n",
      "100000\n",
      "{'Yonsei': 10, 'Korea': 100000}\n"
     ]
    }
   ],
   "source": [
    "t = int(input())\n",
    "dic = {}\n",
    "for i in range(t):\n",
    "    for j in range(int(input())):\n",
    "        key = input()\n",
    "        val = int(input())\n",
    "        dic[key] = val\n",
    "print(dic)    "
   ]
  },
  {
   "cell_type": "code",
   "execution_count": 35,
   "id": "cb4c8fd5",
   "metadata": {},
   "outputs": [
    {
     "name": "stdout",
     "output_type": "stream",
     "text": [
      "2\n",
      "3\n",
      "Yonsei 10\n",
      "Korea 100\n",
      "Seoul 20\n",
      "Seoul\n",
      "2\n",
      "Yonsei 1\n",
      "Korea 100\n",
      "Korea\n"
     ]
    }
   ],
   "source": [
    "t = int(input())\n",
    "k = [s, l]\n",
    "for i in range(t):\n",
    "    for j in range(int(input())):\n",
    "        s, l = input().split()\n",
    "    if k[1] < l:\n",
    "        print(s)\n",
    "    else:\n",
    "        print(k[0])"
   ]
  },
  {
   "cell_type": "code",
   "execution_count": null,
   "id": "c1a00c43",
   "metadata": {},
   "outputs": [],
   "source": []
  },
  {
   "cell_type": "code",
   "execution_count": null,
   "id": "4429a514",
   "metadata": {},
   "outputs": [],
   "source": []
  }
 ],
 "metadata": {
  "kernelspec": {
   "display_name": "Python 3 (ipykernel)",
   "language": "python",
   "name": "python3"
  },
  "language_info": {
   "codemirror_mode": {
    "name": "ipython",
    "version": 3
   },
   "file_extension": ".py",
   "mimetype": "text/x-python",
   "name": "python",
   "nbconvert_exporter": "python",
   "pygments_lexer": "ipython3",
   "version": "3.9.12"
  }
 },
 "nbformat": 4,
 "nbformat_minor": 5
}
