{
 "cells": [
  {
   "cell_type": "markdown",
   "id": "dd45b4f0",
   "metadata": {},
   "source": [
    "## dictionary"
   ]
  },
  {
   "cell_type": "code",
   "execution_count": null,
   "id": "55d94148",
   "metadata": {},
   "outputs": [],
   "source": [
    "t = int(input())\n",
    "dic = {}\n",
    "for i in range(t):\n",
    "    for j in range(int(input())):\n",
    "        key = input()\n",
    "        val = int(input())\n",
    "        dic[key] = val\n",
    "print(dic)    "
   ]
  },
  {
   "cell_type": "markdown",
   "id": "3dce0feb",
   "metadata": {},
   "source": [
    "## Yangjojang of The Year"
   ]
  },
  {
   "cell_type": "code",
   "execution_count": null,
   "id": "609a2c23",
   "metadata": {},
   "outputs": [],
   "source": [
    "t = int(input())\n",
    "\n",
    "for i in range(t):\n",
    "    A={}\n",
    "    for j in range(int(input())):\n",
    "        a,b = input().split()\n",
    "        A[a]= int(b)\n",
    "    print(max(A, key = A.get))"
   ]
  },
  {
   "cell_type": "markdown",
   "id": "a0c81c9d",
   "metadata": {},
   "source": [
    "<!-- n, k = map(int, input().split())\n",
    "\n",
    "A = {}\n",
    "for _ in range(n):\n",
    "    w, v = map(int, input().split())\n",
    "    A[w] = int(v)\n",
    "print(max(A, key = A.get)) -->"
   ]
  },
  {
   "cell_type": "markdown",
   "id": "5a89f6a2",
   "metadata": {},
   "source": [
    "## 수들의 합"
   ]
  },
  {
   "cell_type": "code",
   "execution_count": null,
   "id": "4619e46f",
   "metadata": {},
   "outputs": [],
   "source": [
    "s = int(input())\n",
    "\n",
    "n = 0\n",
    "k = 1\n",
    "\n",
    "while True:\n",
    "    if k + n <= s:\n",
    "        n += 1\n",
    "        k += n\n",
    "        continue\n",
    "    elif k + n > s:\n",
    "        print(n)\n",
    "        break"
   ]
  },
  {
   "cell_type": "markdown",
   "id": "a8ba6987",
   "metadata": {},
   "source": [
    "## 문자열 반복"
   ]
  },
  {
   "cell_type": "code",
   "execution_count": null,
   "id": "fff3740a",
   "metadata": {},
   "outputs": [],
   "source": [
    "for _ in range(int(input())):\n",
    "    r, s = map(str, input().split())\n",
    "    for j in s:\n",
    "        print(j*int(r), end='')\n",
    "    print()"
   ]
  },
  {
   "cell_type": "markdown",
   "id": "cdcf304c",
   "metadata": {},
   "source": [
    "## 소인수분해"
   ]
  },
  {
   "cell_type": "code",
   "execution_count": null,
   "id": "94c2d819",
   "metadata": {
    "scrolled": false
   },
   "outputs": [],
   "source": [
    "n = int(input())\n",
    "i = 2\n",
    "while True:\n",
    "    if n%i == 0:\n",
    "        n = n/i\n",
    "        print(i)\n",
    "    elif n%i != 0:\n",
    "        i += 1\n",
    "        if i > n:\n",
    "            break\n",
    "        continue"
   ]
  },
  {
   "cell_type": "markdown",
   "id": "64f20bd7",
   "metadata": {},
   "source": [
    "## 최소 공배수"
   ]
  },
  {
   "cell_type": "code",
   "execution_count": 3,
   "id": "5207a986",
   "metadata": {},
   "outputs": [
    {
     "name": "stdout",
     "output_type": "stream",
     "text": [
      "3\n",
      "1 45000\n",
      "6 10\n",
      "13 17\n"
     ]
    }
   ],
   "source": [
    "n = 1\n",
    "k = 1\n",
    "for _ in range(int(input())):\n",
    "    a, b = map(int, input().split())\n",
    "    if a*n == b*k:\n",
    "        print(a*n)\n",
    "    elif a*n > b*k:\n",
    "        k += 1\n",
    "    elif a*n < b*k:\n",
    "        n += 1"
   ]
  },
  {
   "cell_type": "code",
   "execution_count": null,
   "id": "9d7358f4",
   "metadata": {},
   "outputs": [],
   "source": []
  }
 ],
 "metadata": {
  "kernelspec": {
   "display_name": "Python 3 (ipykernel)",
   "language": "python",
   "name": "python3"
  },
  "language_info": {
   "codemirror_mode": {
    "name": "ipython",
    "version": 3
   },
   "file_extension": ".py",
   "mimetype": "text/x-python",
   "name": "python",
   "nbconvert_exporter": "python",
   "pygments_lexer": "ipython3",
   "version": "3.9.12"
  }
 },
 "nbformat": 4,
 "nbformat_minor": 5
}
