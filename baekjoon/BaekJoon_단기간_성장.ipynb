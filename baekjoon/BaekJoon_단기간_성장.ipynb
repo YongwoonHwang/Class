{
 "cells": [
  {
   "cell_type": "code",
   "execution_count": 1,
   "id": "26e78dfd",
   "metadata": {},
   "outputs": [],
   "source": [
    "# n은 물건의 수\n",
    "# w는 무게\n",
    "# v는 가치\n",
    "# k는 넣을 수 있는 무게 \n",
    "\n",
    "# w 의 최대값(두개 이상 포함)이 k를 넘지 않는 선에서\n",
    "# 해당 값에 매치되는 v 값을 출력"
   ]
  },
  {
   "cell_type": "code",
   "execution_count": 2,
   "id": "9e91fc4a",
   "metadata": {},
   "outputs": [
    {
     "ename": "TypeError",
     "evalue": "cannot unpack non-iterable type object",
     "output_type": "error",
     "traceback": [
      "\u001b[1;31m---------------------------------------------------------------------------\u001b[0m",
      "\u001b[1;31mTypeError\u001b[0m                                 Traceback (most recent call last)",
      "Input \u001b[1;32mIn [2]\u001b[0m, in \u001b[0;36m<cell line: 1>\u001b[1;34m()\u001b[0m\n\u001b[1;32m----> 1\u001b[0m n , k \u001b[38;5;241m=\u001b[39m \u001b[38;5;28mmap\u001b[39m\n",
      "\u001b[1;31mTypeError\u001b[0m: cannot unpack non-iterable type object"
     ]
    }
   ],
   "source": [
    "n , k = map(int, input())\n",
    "W = []\n",
    "V = []\n",
    "\n",
    "\n",
    "for i in range(0, n-1):\n",
    "    w, v = map(int,input())\n",
    "    W = W.append(w)\n",
    "    V = V.append(v)\n",
    "    \n",
    "    "
   ]
  },
  {
   "cell_type": "code",
   "execution_count": null,
   "id": "a0179737",
   "metadata": {},
   "outputs": [],
   "source": []
  }
 ],
 "metadata": {
  "kernelspec": {
   "display_name": "Python 3 (ipykernel)",
   "language": "python",
   "name": "python3"
  },
  "language_info": {
   "codemirror_mode": {
    "name": "ipython",
    "version": 3
   },
   "file_extension": ".py",
   "mimetype": "text/x-python",
   "name": "python",
   "nbconvert_exporter": "python",
   "pygments_lexer": "ipython3",
   "version": "3.9.12"
  }
 },
 "nbformat": 4,
 "nbformat_minor": 5
}
