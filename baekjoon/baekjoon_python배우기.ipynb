{
 "cells": [
  {
   "cell_type": "code",
   "execution_count": null,
   "id": "876f3b0f",
   "metadata": {},
   "outputs": [],
   "source": [
    "a, b = map(int, input().split())\n",
    "\n",
    "print(a+b)"
   ]
  },
  {
   "cell_type": "code",
   "execution_count": null,
   "id": "b1711f3e",
   "metadata": {},
   "outputs": [],
   "source": [
    "\n",
    "for i in range(int(input())):\n",
    "    s_list = []\n",
    "    l_list = []\n",
    "    for n in range(int(input())):\n",
    "        s, l = input().split()\n",
    "        s_list.append(s)\n",
    "        l_list.append(l)\n",
    "        a = l_list.index(max(l_list))\n",
    "    print(s_list[a])\n"
   ]
  },
  {
   "cell_type": "code",
   "execution_count": null,
   "id": "ac23e56c",
   "metadata": {},
   "outputs": [],
   "source": []
  },
  {
   "cell_type": "code",
   "execution_count": null,
   "id": "0383e5e6",
   "metadata": {},
   "outputs": [],
   "source": [
    "\n",
    "\n",
    "for i in range(0, 1):\n",
    "    k, n, m = map(int, input().split())\n",
    "    if k*n >= m:\n",
    "        print((k*n)-m)\n",
    "    else:\n",
    "        print('0')"
   ]
  },
  {
   "cell_type": "code",
   "execution_count": null,
   "id": "df00af1d",
   "metadata": {},
   "outputs": [],
   "source": [
    "dict([('A+','4.3'), ('A0','4.0')])\n",
    "\n",
    "i = input()\n",
    "\n",
    "print(i)"
   ]
  },
  {
   "cell_type": "code",
   "execution_count": 4,
   "id": "b3700e34",
   "metadata": {},
   "outputs": [
    {
     "name": "stdout",
     "output_type": "stream",
     "text": [
      "2\n",
      "0 1\n",
      "0 0\n",
      "0 0\n",
      "0 0\n",
      "0 0\n",
      "0 0\n",
      "0 0\n",
      "0 0 \n",
      "0 0\n",
      "Korea\n",
      "2 0\n",
      "0 1\n",
      "0 0\n",
      "0 0\n",
      "0 0\n",
      "0 0\n",
      "0 0\n",
      "0 0\n",
      "0 0\n",
      "Draw\n"
     ]
    }
   ],
   "source": [
    "t = int(input())\n",
    "y_list=[]\n",
    "k_list=[]    \n",
    "for i in range(0, t):\n",
    "    for j in range(0, 9):\n",
    "        y, k = map(int, input().split())\n",
    "        y_list.append(y)\n",
    "        k_list.append(k)\n",
    "        Y = sum(y_list)\n",
    "        K = sum(k_list)\n",
    "    if Y>K:\n",
    "        print('Yonsei')\n",
    "    elif K>Y:\n",
    "        print('Korea')\n",
    "    elif K == Y:\n",
    "        print('Draw')"
   ]
  },
  {
   "cell_type": "code",
   "execution_count": 5,
   "id": "fee68252",
   "metadata": {},
   "outputs": [
    {
     "name": "stdout",
     "output_type": "stream",
     "text": [
      "A+\n",
      "4.3\n"
     ]
    }
   ],
   "source": [
    "a = input()\n",
    "\n",
    "if a == 'A+':\n",
    "    print(4.3)\n",
    "elif a == 'A0' :\n",
    "    print(4.0)\n",
    "elif a == 'A-' :\n",
    "    print(3.7)\n",
    "elif a == 'B+' :\n",
    "    print(3.3)\n",
    "elif a == 'B0' :\n",
    "    print(3.0)\n",
    "elif a == 'B-' :\n",
    "    print(2.7)\n",
    "elif a == 'C+' :\n",
    "    print(2.3)\n",
    "elif a == 'C0' :\n",
    "    print(2.0)\n",
    "elif a == 'C-' :\n",
    "    print(1.7)\n",
    "elif a == 'D+' :\n",
    "    print(1.3)\n",
    "elif a == 'D0' :\n",
    "    print(1.0)\n",
    "elif a == 'D-' :\n",
    "    print(0.7)\n",
    "elif a == 'F' :\n",
    "    print(0.0)\n",
    "   \n"
   ]
  },
  {
   "cell_type": "code",
   "execution_count": null,
   "id": "955275e3",
   "metadata": {},
   "outputs": [],
   "source": [
    "for j in range(int(input())):\n",
    "    b = input()\n",
    "    a = list(b)\n",
    "    test = 0\n",
    "    c = 0\n",
    "    for i in a:\n",
    "        if i == 'O':\n",
    "            c +=1\n",
    "            test +=c\n",
    "        else:\n",
    "            c = 0\n",
    "    print(test)"
   ]
  },
  {
   "cell_type": "code",
   "execution_count": null,
   "id": "4e794cf7",
   "metadata": {},
   "outputs": [],
   "source": [
    "total=0\n",
    "for i in range(5):\n",
    "    a = int(input())\n",
    "    if a >= 40:\n",
    "        total += a\n",
    "    else:\n",
    "        total += 40\n",
    "print(total//5)"
   ]
  },
  {
   "cell_type": "code",
   "execution_count": null,
   "id": "d8a48f2b",
   "metadata": {},
   "outputs": [],
   "source": []
  },
  {
   "cell_type": "code",
   "execution_count": null,
   "id": "f2720051",
   "metadata": {},
   "outputs": [],
   "source": []
  },
  {
   "cell_type": "code",
   "execution_count": null,
   "id": "bfb1e1e2",
   "metadata": {},
   "outputs": [],
   "source": []
  }
 ],
 "metadata": {
  "kernelspec": {
   "display_name": "Python 3 (ipykernel)",
   "language": "python",
   "name": "python3"
  },
  "language_info": {
   "codemirror_mode": {
    "name": "ipython",
    "version": 3
   },
   "file_extension": ".py",
   "mimetype": "text/x-python",
   "name": "python",
   "nbconvert_exporter": "python",
   "pygments_lexer": "ipython3",
   "version": "3.9.12"
  }
 },
 "nbformat": 4,
 "nbformat_minor": 5
}
