{
 "cells": [
  {
   "cell_type": "code",
   "execution_count": 1,
   "id": "60b6517e",
   "metadata": {},
   "outputs": [
    {
     "name": "stdout",
     "output_type": "stream",
     "text": [
      "9223372036854775807 9223372036854775808\n",
      "18446744073709551615\n"
     ]
    }
   ],
   "source": [
    "a, b = map(int, input().split())\n",
    "\n",
    "print(a+b)"
   ]
  },
  {
   "cell_type": "code",
   "execution_count": 47,
   "id": "b382955a",
   "metadata": {},
   "outputs": [
    {
     "name": "stdout",
     "output_type": "stream",
     "text": [
      "2\n",
      "3\n",
      "Yonsei 10\n",
      "Korea 100000\n",
      "Seoul 20\n",
      "u\n",
      "2\n",
      "Yonsei 1\n",
      "Korea 100000\n",
      "r\n"
     ]
    }
   ],
   "source": [
    "\n",
    "for i in range(int(input())):\n",
    "    for n in range(int(input())):\n",
    "        s, l = input().split()\n",
    "    if max(l):\n",
    "        print(l)\n"
   ]
  },
  {
   "cell_type": "markdown",
   "id": "95aafdac",
   "metadata": {},
   "source": [
    "## "
   ]
  }
 ],
 "metadata": {
  "kernelspec": {
   "display_name": "Python 3 (ipykernel)",
   "language": "python",
   "name": "python3"
  },
  "language_info": {
   "codemirror_mode": {
    "name": "ipython",
    "version": 3
   },
   "file_extension": ".py",
   "mimetype": "text/x-python",
   "name": "python",
   "nbconvert_exporter": "python",
   "pygments_lexer": "ipython3",
   "version": "3.9.12"
  }
 },
 "nbformat": 4,
 "nbformat_minor": 5
}
