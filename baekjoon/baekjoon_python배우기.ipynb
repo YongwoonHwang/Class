{
 "cells": [
  {
   "cell_type": "code",
   "execution_count": null,
   "id": "11936796",
   "metadata": {},
   "outputs": [],
   "source": [
    "a, b = map(int, input().split())\n",
    "\n",
    "print(a+b)"
   ]
  },
  {
   "cell_type": "code",
   "execution_count": null,
   "id": "96f373d9",
   "metadata": {},
   "outputs": [],
   "source": [
    "\n",
    "for i in range(int(input())):\n",
    "    s_list = []\n",
    "    l_list = []\n",
    "    for n in range(int(input())):\n",
    "        s, l = input().split()\n",
    "        s_list.append(s)\n",
    "        l_list.append(l)\n",
    "        a = l_list.index(max(l_list))\n",
    "    print(s_list[a])\n"
   ]
  },
  {
   "cell_type": "code",
   "execution_count": null,
   "id": "571f10ac",
   "metadata": {},
   "outputs": [],
   "source": []
  },
  {
   "cell_type": "code",
   "execution_count": 2,
   "id": "22f6b76b",
   "metadata": {},
   "outputs": [
    {
     "name": "stdout",
     "output_type": "stream",
     "text": [
      "20 10 320\n",
      "0\n"
     ]
    }
   ],
   "source": [
    "\n",
    "\n",
    "for i in range(0, 1):\n",
    "    k, n, m = map(int, input().split())\n",
    "    if k*n >= m:\n",
    "        print((k*n)-m)\n",
    "    else:\n",
    "        print('0')"
   ]
  },
  {
   "cell_type": "code",
   "execution_count": 10,
   "id": "d541e305",
   "metadata": {},
   "outputs": [
    {
     "name": "stdout",
     "output_type": "stream",
     "text": [
      "A+\n",
      "A+\n"
     ]
    }
   ],
   "source": [
    "dict([('A+','4.3'), ('A0','4.0')])\n",
    "\n",
    "i = input()\n",
    "\n",
    "print(i)"
   ]
  },
  {
   "cell_type": "code",
   "execution_count": null,
   "id": "6c1c7d54",
   "metadata": {},
   "outputs": [],
   "source": [
    "t = int(input())\n",
    "y_list=[]\n",
    "k_list=[]    \n",
    "t = t*9\n",
    "for i in range(0, t):\n",
    "    y, k = map(int, input().split())\n",
    "    y_list.append(y)\n",
    "    k_list.append(k)\n",
    "    Y = sum(y_list)\n",
    "    K = sum(k_list)\n",
    "    \n",
    "if Y>K:\n",
    "    print('Yonsei')\n",
    "elif K>Y:\n",
    "    print('Korea')\n",
    "elif K == Y:\n",
    "    print('Draw')"
   ]
  },
  {
   "cell_type": "code",
   "execution_count": 92,
   "id": "232f8246",
   "metadata": {},
   "outputs": [
    {
     "name": "stdout",
     "output_type": "stream",
     "text": [
      "2\n",
      "o\n",
      "2\n",
      "oo\n",
      "4\n"
     ]
    }
   ],
   "source": [
    "a_list = []\n",
    "for i in range(int(input())):\n",
    "    a = input()\n",
    "    a_list.append(a)\n",
    "    b = 0\n",
    "    test = 0\n",
    "    for i in a:\n",
    "        if i == 'o':\n",
    "            b +=1\n",
    "            test +=c\n",
    "        else:\n",
    "            b = 0\n",
    "    print(test)"
   ]
  },
  {
   "cell_type": "code",
   "execution_count": 93,
   "id": "d7479f4c",
   "metadata": {},
   "outputs": [
    {
     "name": "stdout",
     "output_type": "stream",
     "text": [
      "2\n",
      "o\n",
      "4\n",
      "oo\n",
      "4\n"
     ]
    }
   ],
   "source": [
    "t = int(input())\n",
    "\n",
    "for i in range(t):\n",
    "    b = input()\n",
    "    a = list(b)\n",
    "    test = 0\n",
    "    c = 0\n",
    "    for i in a:\n",
    "        if i == 'o':\n",
    "            c +=1\n",
    "            test +=c\n",
    "        else:\n",
    "            c = 0\n",
    "    print(test)"
   ]
  },
  {
   "cell_type": "code",
   "execution_count": 72,
   "id": "601cbd0d",
   "metadata": {},
   "outputs": [
    {
     "name": "stdout",
     "output_type": "stream",
     "text": [
      "2\n",
      "o\n",
      "o\n",
      "oo\n",
      "oo\n"
     ]
    }
   ],
   "source": [
    "\n",
    "for i in range(int(input())):\n",
    "    a = input()\n",
    "    c =list(a)\n",
    "    b = 0\n",
    "    for j in a:\n",
    "        if j == 'o':\n",
    "            b += 1\n",
    "            \n",
    "    print(a)"
   ]
  },
  {
   "cell_type": "code",
   "execution_count": 83,
   "id": "1650b930",
   "metadata": {},
   "outputs": [
    {
     "name": "stdout",
     "output_type": "stream",
     "text": [
      "2\n",
      "<class 'list'>\n"
     ]
    }
   ],
   "source": [
    "b = input()\n",
    "a = list()\n",
    "\n",
    "print(type(a))"
   ]
  },
  {
   "cell_type": "code",
   "execution_count": 82,
   "id": "a8eec9ad",
   "metadata": {},
   "outputs": [
    {
     "name": "stdout",
     "output_type": "stream",
     "text": [
      "2\n",
      "<class 'list'>\n"
     ]
    }
   ],
   "source": [
    "a = []\n",
    "a_list = a.append(input())\n",
    "print(type(a))"
   ]
  },
  {
   "cell_type": "code",
   "execution_count": null,
   "id": "af7a004b",
   "metadata": {},
   "outputs": [],
   "source": []
  }
 ],
 "metadata": {
  "kernelspec": {
   "display_name": "Python 3 (ipykernel)",
   "language": "python",
   "name": "python3"
  },
  "language_info": {
   "codemirror_mode": {
    "name": "ipython",
    "version": 3
   },
   "file_extension": ".py",
   "mimetype": "text/x-python",
   "name": "python",
   "nbconvert_exporter": "python",
   "pygments_lexer": "ipython3",
   "version": "3.9.12"
  }
 },
 "nbformat": 4,
 "nbformat_minor": 5
}
