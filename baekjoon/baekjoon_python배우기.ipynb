{
 "cells": [
  {
   "cell_type": "code",
   "execution_count": null,
   "id": "8de61080",
   "metadata": {},
   "outputs": [],
   "source": [
    "a, b = map(int, input().split())\n",
    "\n",
    "print(a+b)"
   ]
  },
  {
   "cell_type": "code",
   "execution_count": null,
   "id": "f1c5d079",
   "metadata": {},
   "outputs": [],
   "source": [
    "\n",
    "for i in range(int(input())):\n",
    "    s_list = []\n",
    "    l_list = []\n",
    "    for n in range(int(input())):\n",
    "        s, l = input().split()\n",
    "        s_list.append(s)\n",
    "        l_list.append(l)\n",
    "        a = l_list.index(max(l_list))\n",
    "    print(s_list[a])\n"
   ]
  },
  {
   "cell_type": "code",
   "execution_count": null,
   "id": "0ac467b1",
   "metadata": {},
   "outputs": [],
   "source": []
  },
  {
   "cell_type": "code",
   "execution_count": 2,
   "id": "84b275b5",
   "metadata": {},
   "outputs": [
    {
     "name": "stdout",
     "output_type": "stream",
     "text": [
      "20 10 320\n",
      "0\n"
     ]
    }
   ],
   "source": [
    "\n",
    "\n",
    "for i in range(0, 1):\n",
    "    k, n, m = map(int, input().split())\n",
    "    if k*n >= m:\n",
    "        print((k*n)-m)\n",
    "    else:\n",
    "        print('0')"
   ]
  },
  {
   "cell_type": "code",
   "execution_count": 10,
   "id": "26b317c0",
   "metadata": {},
   "outputs": [
    {
     "name": "stdout",
     "output_type": "stream",
     "text": [
      "A+\n",
      "A+\n"
     ]
    }
   ],
   "source": [
    "dict([('A+','4.3'), ('A0','4.0')])\n",
    "\n",
    "i = input()\n",
    "\n",
    "print(i)"
   ]
  },
  {
   "cell_type": "code",
   "execution_count": null,
   "id": "16b1de2f",
   "metadata": {},
   "outputs": [],
   "source": []
  }
 ],
 "metadata": {
  "kernelspec": {
   "display_name": "Python 3 (ipykernel)",
   "language": "python",
   "name": "python3"
  },
  "language_info": {
   "codemirror_mode": {
    "name": "ipython",
    "version": 3
   },
   "file_extension": ".py",
   "mimetype": "text/x-python",
   "name": "python",
   "nbconvert_exporter": "python",
   "pygments_lexer": "ipython3",
   "version": "3.9.12"
  }
 },
 "nbformat": 4,
 "nbformat_minor": 5
}
