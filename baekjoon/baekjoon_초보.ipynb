{
 "cells": [
  {
   "cell_type": "markdown",
   "id": "6a462505",
   "metadata": {},
   "source": [
    "## dictionary"
   ]
  },
  {
   "cell_type": "code",
   "execution_count": null,
   "id": "903c5990",
   "metadata": {},
   "outputs": [],
   "source": [
    "t = int(input())\n",
    "dic = {}\n",
    "for i in range(t):\n",
    "    for j in range(int(input())):\n",
    "        key = input()\n",
    "        val = int(input())\n",
    "        dic[key] = val\n",
    "print(dic)    "
   ]
  },
  {
   "cell_type": "markdown",
   "id": "61edf49b",
   "metadata": {},
   "source": [
    "## Yangjojang of The Year"
   ]
  },
  {
   "cell_type": "code",
   "execution_count": null,
   "id": "fe9483ef",
   "metadata": {},
   "outputs": [],
   "source": [
    "t = int(input())\n",
    "\n",
    "for i in range(t):\n",
    "    A={}\n",
    "    for j in range(int(input())):\n",
    "        a,b = input().split()\n",
    "        A[a]= int(b)\n",
    "    print(max(A, key = A.get))"
   ]
  },
  {
   "cell_type": "markdown",
   "id": "059ca4bd",
   "metadata": {},
   "source": [
    "<!-- n, k = map(int, input().split())\n",
    "\n",
    "A = {}\n",
    "for _ in range(n):\n",
    "    w, v = map(int, input().split())\n",
    "    A[w] = int(v)\n",
    "print(max(A, key = A.get)) -->"
   ]
  },
  {
   "cell_type": "markdown",
   "id": "f5cd16a4",
   "metadata": {},
   "source": [
    "## 수들의 합"
   ]
  },
  {
   "cell_type": "code",
   "execution_count": null,
   "id": "4366d355",
   "metadata": {},
   "outputs": [],
   "source": [
    "s = int(input())\n",
    "\n",
    "n = 0\n",
    "k = 1\n",
    "\n",
    "while True:\n",
    "    if k + n <= s:\n",
    "        n += 1\n",
    "        k += n\n",
    "        continue\n",
    "    elif k + n > s:\n",
    "        print(n)\n",
    "        break"
   ]
  },
  {
   "cell_type": "markdown",
   "id": "fe381249",
   "metadata": {},
   "source": [
    "## 문자열 반복"
   ]
  },
  {
   "cell_type": "code",
   "execution_count": null,
   "id": "51695cee",
   "metadata": {},
   "outputs": [],
   "source": [
    "for _ in range(int(input())):\n",
    "    r, s = map(str, input().split())\n",
    "    for j in s:\n",
    "        print(j*int(r), end='')\n",
    "    print()"
   ]
  },
  {
   "cell_type": "markdown",
   "id": "9b70d3f6",
   "metadata": {},
   "source": [
    "## 소인수분해"
   ]
  },
  {
   "cell_type": "code",
   "execution_count": null,
   "id": "db51287a",
   "metadata": {
    "scrolled": false
   },
   "outputs": [],
   "source": [
    "n = int(input())\n",
    "i = 2\n",
    "while True:\n",
    "    if n%i == 0:\n",
    "        n = n/i\n",
    "        print(i)\n",
    "    elif n%i != 0:\n",
    "        i += 1\n",
    "        if i > n:\n",
    "            break\n",
    "        continue"
   ]
  },
  {
   "cell_type": "markdown",
   "id": "55b27db8",
   "metadata": {},
   "source": [
    "## 최소 공배수"
   ]
  },
  {
   "cell_type": "code",
   "execution_count": null,
   "id": "53738626",
   "metadata": {
    "scrolled": true
   },
   "outputs": [],
   "source": [
    "t = int(input())\n",
    "for i in range(t):\n",
    "    a, b = map(int, input().split())\n",
    "    n = 1\n",
    "    k = 1\n",
    "    while True:\n",
    "        if a*n > b*k:\n",
    "            k += 1\n",
    "        elif a*n < b*k:\n",
    "            n += 1\n",
    "            continue\n",
    "        elif a*n == b*k:\n",
    "            print(a*n)\n",
    "            break"
   ]
  },
  {
   "cell_type": "markdown",
   "id": "8ad4756c",
   "metadata": {},
   "source": [
    "## 배수와 약수"
   ]
  },
  {
   "cell_type": "code",
   "execution_count": null,
   "id": "e330e900",
   "metadata": {
    "scrolled": true
   },
   "outputs": [],
   "source": [
    "while True:\n",
    "    a, b = map(int, input().split())\n",
    "    if a == 0 and b == 0:\n",
    "        break\n",
    "    if b%a == 0:\n",
    "        print('factor')\n",
    "    elif a%b == 0:\n",
    "        print('multiple')\n",
    "    elif b%a != 0 and a%b != 0:\n",
    "        print('neither')\n",
    "        continue"
   ]
  },
  {
   "cell_type": "markdown",
   "id": "dd1e938d",
   "metadata": {},
   "source": [
    "## TGN"
   ]
  },
  {
   "cell_type": "code",
   "execution_count": null,
   "id": "dc70cf11",
   "metadata": {},
   "outputs": [],
   "source": [
    "for i in range(int(input())):\n",
    "    r, e, c = map(int,input().split())\n",
    "    if (e-c) > r:\n",
    "        print('advertise')\n",
    "    elif (e-c) < r:\n",
    "        print('do not advertise')\n",
    "    elif (e-c) == r:\n",
    "        print('does not matter')"
   ]
  },
  {
   "cell_type": "markdown",
   "id": "2f472de8",
   "metadata": {},
   "source": [
    "## 사분면"
   ]
  },
  {
   "cell_type": "code",
   "execution_count": null,
   "id": "7ea8cd65",
   "metadata": {},
   "outputs": [],
   "source": [
    "A ={}\n",
    "A['Q1'] = 0\n",
    "A['Q2'] = 0\n",
    "A['Q3'] = 0\n",
    "A['Q4'] = 0\n",
    "A['AXIS'] = 0\n",
    "\n",
    "for _ in range(int(input())):\n",
    "    x, y = map(int, input().split())\n",
    "    \n",
    "    if x == 0 or y == 0:\n",
    "        A['AXIS'] += 1\n",
    "    elif x == 0 and y == 0:\n",
    "        A['AXIS'] += 1\n",
    "    elif x > 0 and y > 0:\n",
    "        A['Q1'] += 1\n",
    "    elif x < 0 and y > 0:\n",
    "        A['Q2'] += 1\n",
    "    elif x > 0 and y < 0:\n",
    "        A['Q4'] += 1\n",
    "    elif x < 0 and y < 0:\n",
    "        A['Q3'] += 1\n",
    "print(\"Q1:\", A['Q1'])\n",
    "print(\"Q2:\", A['Q2'])\n",
    "print(\"Q3:\", A['Q3'])\n",
    "print(\"Q4:\", A['Q4'])\n",
    "print(\"AXIS:\", A['AXIS'])\n",
    "        \n"
   ]
  },
  {
   "cell_type": "markdown",
   "id": "27e81cea",
   "metadata": {},
   "source": [
    "## ox퀴즈"
   ]
  },
  {
   "cell_type": "code",
   "execution_count": null,
   "id": "50bef471",
   "metadata": {},
   "outputs": [],
   "source": [
    "for j in range(int(input())):\n",
    "    t = input()\n",
    "    T = list(t)\n",
    "    c = 0\n",
    "    k = 0\n",
    "    for i in T:\n",
    "        if i == 'O':\n",
    "            c += 1\n",
    "            k += c\n",
    "        else:\n",
    "            c = 0\n",
    "    print(k)"
   ]
  },
  {
   "cell_type": "markdown",
   "id": "71128a9e",
   "metadata": {},
   "source": [
    "## 개표"
   ]
  },
  {
   "cell_type": "code",
   "execution_count": null,
   "id": "43e262a0",
   "metadata": {},
   "outputs": [],
   "source": [
    "v = int(input())\n",
    "p = input()\n",
    "if p.count('A') > p.count('B'):\n",
    "    print('A')\n",
    "elif p.count('A') < p.count('B'):\n",
    "    print('B')\n",
    "else:\n",
    "    print('Tie')"
   ]
  },
  {
   "cell_type": "markdown",
   "id": "265f63d7",
   "metadata": {},
   "source": [
    "## 팰린드롬인지 확인하기"
   ]
  },
  {
   "cell_type": "code",
   "execution_count": null,
   "id": "3f6a7176",
   "metadata": {},
   "outputs": [],
   "source": [
    "A = []\n",
    "a = input()\n",
    "A.extend(a)\n",
    "B = A.copy()\n",
    "A2 = A.reverse()\n",
    "\n",
    "if A == B:\n",
    "    print(1)\n",
    "else:\n",
    "    print(0)"
   ]
  },
  {
   "cell_type": "markdown",
   "id": "47e7e222",
   "metadata": {},
   "source": [
    "## 약수들의 합"
   ]
  },
  {
   "cell_type": "code",
   "execution_count": null,
   "id": "e9654c37",
   "metadata": {},
   "outputs": [],
   "source": []
  },
  {
   "cell_type": "markdown",
   "id": "5a5200ff",
   "metadata": {},
   "source": [
    "## 카드 게임"
   ]
  },
  {
   "cell_type": "code",
   "execution_count": null,
   "id": "a6fabcf0",
   "metadata": {},
   "outputs": [],
   "source": [
    "b = 0\n",
    "for i in range(0, 5):\n",
    "    a = int(input())\n",
    "    b += a\n",
    "print(b)"
   ]
  },
  {
   "cell_type": "markdown",
   "id": "2dedcb2b",
   "metadata": {},
   "source": [
    "## 마이크로 소프트 로고"
   ]
  },
  {
   "cell_type": "code",
   "execution_count": null,
   "id": "17df52a5",
   "metadata": {},
   "outputs": [],
   "source": [
    "print(\"\"\"       _.-;;-._\n",
    "'-..-'|   ||   |\n",
    "'-..-'|_.-;;-._|\n",
    "'-..-'|   ||   |\n",
    "'-..-'|_.-''-._|\"\"\")"
   ]
  },
  {
   "cell_type": "markdown",
   "id": "b60f4ef7",
   "metadata": {},
   "source": [
    "## 스타워즈 로고"
   ]
  },
  {
   "cell_type": "code",
   "execution_count": null,
   "id": "87875505",
   "metadata": {
    "scrolled": true
   },
   "outputs": [],
   "source": [
    "print('''    8888888888  888    88888\n",
    "   88     88   88 88   88  88\n",
    "    8888  88  88   88  88888\n",
    "       88 88 888888888 88   88\n",
    "88888888  88 88     88 88    888888\n",
    "\n",
    "88  88  88   888    88888    888888\n",
    "88  88  88  88 88   88  88  88\n",
    "88 8888 88 88   88  88888    8888\n",
    " 888  888 888888888 88  88      88\n",
    "  88  88  88     88 88   88888888''')"
   ]
  },
  {
   "cell_type": "markdown",
   "id": "d9aa357a",
   "metadata": {},
   "source": [
    "## The World Responds"
   ]
  },
  {
   "cell_type": "code",
   "execution_count": null,
   "id": "e2a003ba",
   "metadata": {},
   "outputs": [],
   "source": [
    "print('The world says hello!')"
   ]
  },
  {
   "cell_type": "markdown",
   "id": "cfe67276",
   "metadata": {},
   "source": [
    "## 웰컴"
   ]
  },
  {
   "cell_type": "code",
   "execution_count": null,
   "id": "ab7f30f3",
   "metadata": {},
   "outputs": [],
   "source": [
    "print('''.  .   .\n",
    "|  | _ | _. _ ._ _  _\n",
    "|/\\|(/.|(_.(_)[ | )(/.''')"
   ]
  },
  {
   "cell_type": "markdown",
   "id": "3c12e91a",
   "metadata": {},
   "source": [
    "## 콜센터"
   ]
  },
  {
   "cell_type": "code",
   "execution_count": null,
   "id": "bef85ac7",
   "metadata": {
    "scrolled": true
   },
   "outputs": [],
   "source": [
    "print(\"\"\"     /~\\\\\n",
    "    ( oo|\n",
    "    _\\=/_\n",
    "   /  _  \\\\\n",
    "  //|/.\\|\\\\\\\\\n",
    " ||  \\ /  ||\n",
    "============\n",
    "|          |\n",
    "|          |\n",
    "|          |\"\"\")"
   ]
  },
  {
   "cell_type": "markdown",
   "id": "2e40c9d8",
   "metadata": {},
   "source": [
    "## plane"
   ]
  },
  {
   "cell_type": "code",
   "execution_count": null,
   "id": "f790408d",
   "metadata": {},
   "outputs": [],
   "source": [
    "a, b, c, d = map(int, input().split())\n",
    "\n",
    "print(a*b+c*d)"
   ]
  },
  {
   "cell_type": "markdown",
   "id": "95870f73",
   "metadata": {},
   "source": [
    "## 아스키 코드"
   ]
  },
  {
   "cell_type": "code",
   "execution_count": null,
   "id": "5d4d8861",
   "metadata": {
    "scrolled": true
   },
   "outputs": [],
   "source": [
    "a = input()\n",
    "print(ord(a))"
   ]
  },
  {
   "cell_type": "markdown",
   "id": "6c44fbc9",
   "metadata": {},
   "source": [
    "## 더하기"
   ]
  },
  {
   "cell_type": "code",
   "execution_count": null,
   "id": "a7f338e2",
   "metadata": {
    "scrolled": true
   },
   "outputs": [],
   "source": [
    "a, b = map(int, input().split())\n",
    "print(a+b)"
   ]
  },
  {
   "cell_type": "markdown",
   "id": "750dce21",
   "metadata": {},
   "source": [
    "## 나는 누구인가"
   ]
  },
  {
   "cell_type": "code",
   "execution_count": null,
   "id": "6a8eed8d",
   "metadata": {},
   "outputs": [],
   "source": [
    "print(\"I'm Sexy\")"
   ]
  },
  {
   "cell_type": "markdown",
   "id": "1b509aa9",
   "metadata": {},
   "source": [
    "## 제리와 톰"
   ]
  },
  {
   "cell_type": "code",
   "execution_count": null,
   "id": "b7f7dfd4",
   "metadata": {},
   "outputs": [],
   "source": [
    "a, b = map(int, input().split())\n",
    "\n",
    "print(b-a, b)"
   ]
  },
  {
   "cell_type": "markdown",
   "id": "ed68f621",
   "metadata": {},
   "source": [
    "## 홍익대학교"
   ]
  },
  {
   "cell_type": "code",
   "execution_count": null,
   "id": "ad58c27f",
   "metadata": {},
   "outputs": [],
   "source": [
    "a = int(input())\n",
    "\n",
    "print(a - 1946)"
   ]
  },
  {
   "cell_type": "markdown",
   "id": "95c9390b",
   "metadata": {},
   "source": [
    "## 새로운 시작"
   ]
  },
  {
   "cell_type": "code",
   "execution_count": null,
   "id": "0d07de55",
   "metadata": {},
   "outputs": [],
   "source": [
    "print('파이팅!!')"
   ]
  },
  {
   "cell_type": "markdown",
   "id": "aaa25e3b",
   "metadata": {},
   "source": [
    "## 세금"
   ]
  },
  {
   "cell_type": "code",
   "execution_count": null,
   "id": "35171384",
   "metadata": {},
   "outputs": [],
   "source": [
    "n = int(input())\n",
    "\n",
    "i = round(n*0.78)\n",
    "j = round(n-n*0.2*0.22)\n",
    "\n",
    "print(i, j)"
   ]
  },
  {
   "cell_type": "markdown",
   "id": "cdeaae11",
   "metadata": {},
   "source": [
    "## Count Me In"
   ]
  },
  {
   "cell_type": "code",
   "execution_count": null,
   "id": "5b6d9a8c",
   "metadata": {},
   "outputs": [],
   "source": [
    "s = int(input())\n",
    "\n",
    "for i in range(s):\n",
    "    a = input()\n",
    "    A = list(a)\n",
    "    q = A.count(' ')\n",
    "    w = len(A)\n",
    "    v = A.count('a')+A.count('e')+A.count('i')+A.count('o')+A.count('u')+A.count('A')+A.count('E')+A.count('I')+A.count('O')+A.count('U')\n",
    "    print(w-(v+q), v)"
   ]
  },
  {
   "cell_type": "markdown",
   "id": "84f525a8",
   "metadata": {},
   "source": [
    "## Cupcake Party"
   ]
  },
  {
   "cell_type": "code",
   "execution_count": null,
   "id": "21b00ae3",
   "metadata": {},
   "outputs": [],
   "source": [
    "a = int(input())\n",
    "b = int(input())\n",
    "\n",
    "print((a*8+b*3)-28)"
   ]
  },
  {
   "cell_type": "markdown",
   "id": "71853b9b",
   "metadata": {},
   "source": [
    "## 가장 쉬운 문제를 찾는 문제"
   ]
  },
  {
   "cell_type": "code",
   "execution_count": null,
   "id": "8b47f48b",
   "metadata": {},
   "outputs": [],
   "source": [
    "n = int(input())\n",
    "\n",
    "a = {}\n",
    "\n",
    "for _ in range(n):\n",
    "    b,c = input().split()\n",
    "    a[b] = int(c)\n",
    "print(min(a, key=a.get))"
   ]
  },
  {
   "cell_type": "markdown",
   "id": "b6cefcca",
   "metadata": {},
   "source": [
    "## Site Score"
   ]
  },
  {
   "cell_type": "code",
   "execution_count": null,
   "id": "78f8e102",
   "metadata": {},
   "outputs": [],
   "source": [
    "a, b, c, d = map(int,input().split())\n",
    "\n",
    "print(56*a+24*b+14*c+6*d)"
   ]
  },
  {
   "cell_type": "markdown",
   "id": "d4fcff31",
   "metadata": {},
   "source": [
    "## Can you add this?"
   ]
  },
  {
   "cell_type": "code",
   "execution_count": null,
   "id": "d5155b0a",
   "metadata": {
    "scrolled": true
   },
   "outputs": [],
   "source": [
    "t = int(input())\n",
    "\n",
    "for _ in range(t):\n",
    "    a, b = map(int, input().split())\n",
    "    print(a + b)"
   ]
  },
  {
   "cell_type": "markdown",
   "id": "3a511155",
   "metadata": {},
   "source": [
    "## 사장님 도박은 재미로 하셔야 합니다."
   ]
  },
  {
   "cell_type": "code",
   "execution_count": null,
   "id": "fb944bb8",
   "metadata": {},
   "outputs": [],
   "source": [
    "c = 0\n",
    "while True:\n",
    "    a = int(input())\n",
    "    c += a\n",
    "    if a != -1:\n",
    "        continue\n",
    "    else:\n",
    "        c += 1\n",
    "        print(c)\n",
    "        break"
   ]
  },
  {
   "cell_type": "markdown",
   "id": "fa74d274",
   "metadata": {},
   "source": [
    "## 오늘의 날짜는?"
   ]
  },
  {
   "cell_type": "code",
   "execution_count": null,
   "id": "de43e47f",
   "metadata": {},
   "outputs": [],
   "source": [
    "print('2022')\n",
    "print('08')\n",
    "print('23')"
   ]
  },
  {
   "cell_type": "markdown",
   "id": "b68c13f0",
   "metadata": {},
   "source": [
    "## 코딩은 체육과목 입니다."
   ]
  },
  {
   "cell_type": "code",
   "execution_count": null,
   "id": "0e0369fb",
   "metadata": {
    "scrolled": true
   },
   "outputs": [],
   "source": [
    "n = int(input())\n",
    "k = n//4\n",
    "print('long '*k+'int')"
   ]
  },
  {
   "cell_type": "markdown",
   "id": "0713dc76",
   "metadata": {},
   "source": [
    "## 16진수"
   ]
  },
  {
   "cell_type": "code",
   "execution_count": null,
   "id": "80664153",
   "metadata": {},
   "outputs": [],
   "source": [
    "# # for _ in range(0,1):\n",
    "# a = input()\n",
    "# if a == 'A':\n",
    "#     print(10)\n",
    "# elif a == 'B':\n",
    "#     print(11)\n",
    "# elif a == 'C':\n",
    "#     print(12)\n",
    "# elif a == 'D':\n",
    "#     print(13)\n",
    "# elif a == 'E':\n",
    "#     print(14)\n",
    "# elif a == 'F':\n",
    "#     print(15)\n",
    "# elif int(a) > 9:\n",
    "#     print(int(a)+6)\n",
    "# elif int(a) < 10:\n",
    "#     print(int(a))"
   ]
  },
  {
   "cell_type": "markdown",
   "id": "3ce5dbc1",
   "metadata": {},
   "source": [
    "## Hello Judge"
   ]
  },
  {
   "cell_type": "code",
   "execution_count": null,
   "id": "0c4a4c96",
   "metadata": {},
   "outputs": [],
   "source": [
    "n = int(input())\n",
    "\n",
    "for i in range(n):\n",
    "    print(f'Hello World, Judge {i+1}!')"
   ]
  },
  {
   "cell_type": "markdown",
   "id": "b7fadfe6",
   "metadata": {},
   "source": [
    "## 최댓값"
   ]
  },
  {
   "cell_type": "code",
   "execution_count": null,
   "id": "c1dbcc33",
   "metadata": {},
   "outputs": [],
   "source": [
    "A=[]\n",
    "for _ in range(9):\n",
    "    a = int(input())\n",
    "    A.append(a)\n",
    "    b = max(A)\n",
    "print(b)\n",
    "print(A.index(b)+1)\n",
    "    "
   ]
  },
  {
   "cell_type": "markdown",
   "id": "11d5bf42",
   "metadata": {},
   "source": [
    "## 최댓값 스페셜저지"
   ]
  },
  {
   "cell_type": "code",
   "execution_count": null,
   "id": "fbef9f3e",
   "metadata": {},
   "outputs": [],
   "source": [
    "A=[]\n",
    "B={}\n",
    "D=[]\n",
    "for _ in range(9):\n",
    "    a=input().split()\n",
    "    A.append(a)\n",
    "    A=sum(A, [])\n",
    "    D.append(max(A))\n",
    "    B[max(A)]=A.index(max(A))+1\n",
    "    A=[]\n",
    "print(max(D))\n",
    "print(D.index(max(D))+1, B[max(D)])"
   ]
  },
  {
   "cell_type": "markdown",
   "id": "dd6a960a",
   "metadata": {},
   "source": [
    "## 스네이크버드"
   ]
  },
  {
   "cell_type": "code",
   "execution_count": null,
   "id": "3d7e2254",
   "metadata": {},
   "outputs": [],
   "source": [
    "n,l=map(int,input().split())\n",
    "a=map(int,input().split())\n",
    "a=list(a)\n",
    "a.sort(reverse=False)\n",
    "t=0\n",
    "while True:\n",
    "    if a[t]<=l and t!=len(a):\n",
    "        l+=1\n",
    "        t+=1\n",
    "    elif a[t]>l:\n",
    "        break\n",
    "    if t==len(a):\n",
    "        break\n",
    "print(l)"
   ]
  },
  {
   "cell_type": "markdown",
   "id": "72fa9cca",
   "metadata": {},
   "source": [
    "## 탄산 음료"
   ]
  },
  {
   "cell_type": "code",
   "execution_count": null,
   "id": "91053a92",
   "metadata": {},
   "outputs": [],
   "source": [
    "e,f,c=map(int,input().split())\n",
    "a=int(e+f)\n",
    "b=0\n",
    "while True:\n",
    "    if a>=c:\n",
    "        d=a%c\n",
    "        a=a//c\n",
    "        b+=a\n",
    "        a+=d\n",
    "    elif a<c:\n",
    "        break\n",
    "print(b)"
   ]
  },
  {
   "cell_type": "markdown",
   "id": "4b81c8c8",
   "metadata": {},
   "source": [
    "## 생일"
   ]
  },
  {
   "cell_type": "code",
   "execution_count": null,
   "id": "9f7f6d76",
   "metadata": {},
   "outputs": [],
   "source": []
  },
  {
   "cell_type": "markdown",
   "id": "0e4f562e",
   "metadata": {},
   "source": [
    "## 주사위"
   ]
  },
  {
   "cell_type": "code",
   "execution_count": null,
   "id": "478e9b72",
   "metadata": {},
   "outputs": [],
   "source": [
    "n=0\n",
    "for _ in range(int(input())):\n",
    "    a,b=map(int,input().split())\n",
    "    n+=1\n",
    "    print(f\"Case {n}: {a+b}\")"
   ]
  },
  {
   "cell_type": "markdown",
   "id": "ef7a904b",
   "metadata": {},
   "source": [
    "## 별찍기-3"
   ]
  },
  {
   "cell_type": "code",
   "execution_count": null,
   "id": "0fa320dd",
   "metadata": {},
   "outputs": [],
   "source": [
    "n=int(input())\n",
    "for _ in range(n):\n",
    "    k=n*\"*\"\n",
    "    n-=1\n",
    "    print(k)"
   ]
  },
  {
   "cell_type": "markdown",
   "id": "d43557ac",
   "metadata": {},
   "source": [
    "## 별찍기-4"
   ]
  },
  {
   "cell_type": "code",
   "execution_count": null,
   "id": "6e46ed30",
   "metadata": {},
   "outputs": [],
   "source": [
    "n=int(input())\n",
    "t=\"\"\n",
    "for _ in range(n):\n",
    "    k=n*\"*\"\n",
    "    print(t+k)\n",
    "    t+=\" \"\n",
    "    n-=1"
   ]
  },
  {
   "cell_type": "markdown",
   "id": "4698bef9",
   "metadata": {},
   "source": [
    "## 별찍기-5"
   ]
  },
  {
   "cell_type": "code",
   "execution_count": null,
   "id": "2dae3359",
   "metadata": {},
   "outputs": [],
   "source": [
    "n=int(input())\n",
    "a=\"*\"\n",
    "for _ in range(n):\n",
    "    t=(n-1)*\" \"\n",
    "    print(t+a)\n",
    "    a+=\"**\"\n",
    "    n-=1"
   ]
  },
  {
   "cell_type": "markdown",
   "id": "2aad1273",
   "metadata": {},
   "source": [
    "## 별찍기-6"
   ]
  },
  {
   "cell_type": "code",
   "execution_count": null,
   "id": "3e7ccfa0",
   "metadata": {},
   "outputs": [],
   "source": [
    "n=int(input())\n",
    "t=\"\"\n",
    "for _ in range(n):\n",
    "    k=n*\"*\"\n",
    "    a=(n-1)*\"*\"\n",
    "    print(t+k+a)\n",
    "    t+=\" \"\n",
    "    n-=1"
   ]
  },
  {
   "cell_type": "markdown",
   "id": "444b9eed",
   "metadata": {},
   "source": [
    "## 별찍기-7"
   ]
  },
  {
   "cell_type": "code",
   "execution_count": null,
   "id": "b47c7bee",
   "metadata": {},
   "outputs": [],
   "source": [
    "n=int(input())\n",
    "c=n-1\n",
    "a=\"*\"\n",
    "t=\" \"\n",
    "for _ in range(n):\n",
    "        p=(n-1)*\" \"\n",
    "        print(p+a)\n",
    "        a+=\"**\"\n",
    "        n-=1\n",
    "for _ in range(c):\n",
    "        k=c*\"*\"\n",
    "        b=(c-1)*\"*\"\n",
    "        print(t+k+b)\n",
    "        t+=\" \"\n",
    "        c-=1    "
   ]
  },
  {
   "cell_type": "markdown",
   "id": "4faf6f0e",
   "metadata": {},
   "source": [
    "## 별찍기-12"
   ]
  },
  {
   "cell_type": "code",
   "execution_count": null,
   "id": "5c4ba44d",
   "metadata": {},
   "outputs": [],
   "source": [
    "n=int(input())\n",
    "c=n-1\n",
    "a=\"\"\n",
    "t=\" \"\n",
    "for _ in range(n):\n",
    "    a+=\"*\"\n",
    "    print(a.rjust(n))\n",
    "for _ in range(c):\n",
    "    a=c*\"*\"\n",
    "    print(t+a)\n",
    "    c-=1\n",
    "    t+=\" \""
   ]
  },
  {
   "cell_type": "markdown",
   "id": "62aa766a",
   "metadata": {},
   "source": [
    "## 별찍기-13"
   ]
  },
  {
   "cell_type": "code",
   "execution_count": null,
   "id": "fa059b8f",
   "metadata": {},
   "outputs": [],
   "source": [
    "n=int(input())\n",
    "a=''\n",
    "for _ in range(n):\n",
    "    a+='*'\n",
    "    print(a)\n",
    "n-=1\n",
    "for _ in range(n):\n",
    "    a=n*'*'\n",
    "    print(a)\n",
    "    n-=1"
   ]
  },
  {
   "cell_type": "code",
   "execution_count": null,
   "id": "6d236e6e",
   "metadata": {},
   "outputs": [],
   "source": [
    "n=int(input())\n",
    "a=''\n",
    "c=n-1\n",
    "for _ in range(c):\n",
    "    a+='*'\n",
    "    print(a.ljust(n), a.rjust(c))\n",
    "a=n*'*'*2\n",
    "print(a)\n",
    "n=2\n",
    "for _ in range(c):\n",
    "    t=n*' '\n",
    "    a=c*'*'\n",
    "    print(a.ljust(c)+t+a.rjust(c))\n",
    "    c-=1\n",
    "    n+=2"
   ]
  },
  {
   "cell_type": "markdown",
   "id": "33b738fa",
   "metadata": {},
   "source": [
    "## 별찍기-9"
   ]
  },
  {
   "cell_type": "code",
   "execution_count": null,
   "id": "f985e45c",
   "metadata": {},
   "outputs": [],
   "source": [
    "n=int(input())\n",
    "k=0\n",
    "c=n-1\n",
    "for _ in range(c):\n",
    "    t=k*' '\n",
    "    a='*'*c*2+'*'\n",
    "    print(t+a)\n",
    "    k+=1\n",
    "    c-=1\n",
    "a='*'\n",
    "k=1\n",
    "for _ in range(n):\n",
    "    t=(n-1)*\" \"\n",
    "    print(t+k*a)\n",
    "    k+=2\n",
    "    n-=1"
   ]
  },
  {
   "cell_type": "markdown",
   "id": "cc854db1",
   "metadata": {},
   "source": [
    "## 별찍기-20"
   ]
  },
  {
   "cell_type": "code",
   "execution_count": null,
   "id": "4e073041",
   "metadata": {},
   "outputs": [],
   "source": [
    "n=int(input())\n",
    "for _ in range(n):\n",
    "    "
   ]
  },
  {
   "cell_type": "markdown",
   "id": "baea6416",
   "metadata": {},
   "source": [
    "## 영수증"
   ]
  },
  {
   "cell_type": "code",
   "execution_count": null,
   "id": "2e51d2f0",
   "metadata": {},
   "outputs": [],
   "source": [
    "A=[]\n",
    "for _ in range(10):\n",
    "    a=int(input())\n",
    "    A.append(a)\n",
    "print(A[0]-A[1]-A[2]-A[3]-A[4]-A[5]-A[6]-A[7]-A[8]-A[9])"
   ]
  },
  {
   "cell_type": "code",
   "execution_count": null,
   "id": "14a86931",
   "metadata": {},
   "outputs": [],
   "source": []
  },
  {
   "cell_type": "code",
   "execution_count": null,
   "id": "8f1f15b7",
   "metadata": {},
   "outputs": [],
   "source": [
    "for _ in range(int(input())):\n",
    "    for _ in range(1):\n",
    "        b=int(input())\n",
    "        a=input().split()\n",
    "        c=[]\n",
    "        d=0\n",
    "        while True:\n",
    "            if d>=0:\n",
    "                c.append(a[d])\n",
    "                d+=1\n",
    "            elif d==len(c)+1:\n",
    "                break\n",
    "        print(sum(c))\n",
    "\n",
    "               "
   ]
  },
  {
   "cell_type": "markdown",
   "id": "4d7e8558",
   "metadata": {},
   "source": [
    "## "
   ]
  },
  {
   "cell_type": "markdown",
   "id": "ae2c435a",
   "metadata": {},
   "source": [
    "## FBI"
   ]
  },
  {
   "cell_type": "code",
   "execution_count": 16,
   "id": "349f0688",
   "metadata": {},
   "outputs": [
    {
     "name": "stdout",
     "output_type": "stream",
     "text": [
      "N-FBI1\n",
      "['N-FBI1']\n",
      "\n",
      "['N-FBI1', '']\n",
      "\n",
      "['N-FBI1', '', '']\n",
      "\n",
      "['N-FBI1', '', '', '']\n",
      "\n",
      "['N-FBI1', '', '', '', '']\n",
      "HE GOT AWAY!\n"
     ]
    }
   ],
   "source": [
    "A=[]\n",
    "b=1\n",
    "B=[]\n",
    "for _ in range(5):\n",
    "    a=input()\n",
    "    A.append(a)\n",
    "    print(A)\n",
    "    if \"FBI\" in A:\n",
    "        B.append(b)\n",
    "        b+=1\n",
    "        A=[]\n",
    "        \n",
    "    else:\n",
    "        b+=1\n",
    "if len(B) !=0:\n",
    "    B.sort(reverse=True)\n",
    "    print(B)\n",
    "else:\n",
    "    print(\"HE GOT AWAY!\")"
   ]
  },
  {
   "cell_type": "code",
   "execution_count": 10,
   "id": "516f7915",
   "metadata": {},
   "outputs": [
    {
     "name": "stdout",
     "output_type": "stream",
     "text": [
      "N-FBI1\n",
      "9A-USKOK\n",
      "I-NTERPOL\n",
      "G-MI6\n",
      "RF-KGB1\n",
      "HE GOT AWAY!\n"
     ]
    }
   ],
   "source": [
    "import re\n",
    "b=0\n",
    "A=[]\n",
    "for _ in range(5):\n",
    "    a=input()\n",
    "    k='([F][B][I])'\n",
    "    r=re.findall(k,a)\n",
    "    if len(r)>2:\n",
    "        b+=1\n",
    "        A.append(b)\n",
    "        a=[]\n",
    "    else:\n",
    "        b+=1\n",
    "if len(A)!=0:\n",
    "    print(A)\n",
    "else:\n",
    "    print(\"HE GOT AWAY!\")"
   ]
  },
  {
   "cell_type": "markdown",
   "id": "77c4c627",
   "metadata": {},
   "source": [
    "## 거스름돈"
   ]
  },
  {
   "cell_type": "code",
   "execution_count": 9,
   "id": "32fda6e6",
   "metadata": {},
   "outputs": [
    {
     "name": "stdout",
     "output_type": "stream",
     "text": [
      "1\n",
      "15\n"
     ]
    }
   ],
   "source": [
    "a=int(input())\n",
    "b=1000-a\n",
    "c=0\n",
    "if b%500!=0:\n",
    "    c+=b//500\n",
    "    d=b%500\n",
    "    if d%100!=0:\n",
    "        c+=d//100\n",
    "        e=d%100\n",
    "        if e%50!=0:\n",
    "            c+=e//50\n",
    "            f=e%50\n",
    "            if f%10!=0:\n",
    "                c+=f//10\n",
    "                g=f%10\n",
    "                if g%5!=0:\n",
    "                    c+=g//5\n",
    "                    h=g%5\n",
    "                    if h%1!=0:\n",
    "                        c+=h//1\n",
    "                    elif h%1==0:\n",
    "                        c+=h//1\n",
    "                        print(c)\n",
    "                elif g%5==0:\n",
    "                    c+=g//5\n",
    "                    print(c)\n",
    "            elif f%10==0:\n",
    "                c+=f//10\n",
    "                print(c)\n",
    "        elif e%50==0:\n",
    "            c+=e//50\n",
    "            print(c)\n",
    "    elif d%100==0:\n",
    "        c+=d//100\n",
    "        print(c)\n",
    "elif b%500==0:\n",
    "    c+=b//500\n",
    "    print(c)"
   ]
  },
  {
   "cell_type": "markdown",
   "id": "c5ee55b5",
   "metadata": {},
   "source": [
    "## 걷기"
   ]
  },
  {
   "cell_type": "code",
   "execution_count": 78,
   "id": "31bb093f",
   "metadata": {},
   "outputs": [
    {
     "name": "stdout",
     "output_type": "stream",
     "text": [
      "135 122 43 29\n",
      "3915\n"
     ]
    }
   ],
   "source": [
    "A=[]\n",
    "x,y,w,s=map(int,input().split())\n",
    "if w*2<s:\n",
    "    A.append((x+y)*w)\n",
    "elif w*2>s and x>y:\n",
    "    A.append(((x-y)*w)+(y*s))\n",
    "    if y==0:\n",
    "        A.append(x*s)\n",
    "    else:\n",
    "        A.append(x*s)\n",
    "elif w*2>s and x<y:\n",
    "    A.append(((y-x)*w)+(x*s))\n",
    "    if x==0:\n",
    "        A.append(y*s)\n",
    "    else:\n",
    "        A.append(y*s)\n",
    "elif w*2>s and x==y:\n",
    "    A.append(x*s)\n",
    "print(min(A))"
   ]
  },
  {
   "cell_type": "code",
   "execution_count": 83,
   "id": "0867dfa9",
   "metadata": {},
   "outputs": [
    {
     "data": {
      "text/plain": [
       "3915"
      ]
     },
     "execution_count": 83,
     "metadata": {},
     "output_type": "execute_result"
    }
   ],
   "source": [
    "135*29"
   ]
  },
  {
   "cell_type": "code",
   "execution_count": 24,
   "id": "aef6f137",
   "metadata": {},
   "outputs": [
    {
     "data": {
      "text/plain": [
       "247"
      ]
     },
     "execution_count": 24,
     "metadata": {},
     "output_type": "execute_result"
    }
   ],
   "source": [
    "\n",
    "18*11+7*7"
   ]
  },
  {
   "cell_type": "code",
   "execution_count": 50,
   "id": "c9d828c7",
   "metadata": {},
   "outputs": [
    {
     "data": {
      "text/plain": [
       "238"
      ]
     },
     "execution_count": 50,
     "metadata": {},
     "output_type": "execute_result"
    }
   ],
   "source": [
    "18*11+3*11+7"
   ]
  },
  {
   "cell_type": "code",
   "execution_count": 53,
   "id": "b8ac0efb",
   "metadata": {},
   "outputs": [
    {
     "data": {
      "text/plain": [
       "238"
      ]
     },
     "execution_count": 53,
     "metadata": {},
     "output_type": "execute_result"
    }
   ],
   "source": [
    "21*11+7"
   ]
  },
  {
   "cell_type": "code",
   "execution_count": null,
   "id": "8feec7c8",
   "metadata": {},
   "outputs": [],
   "source": [
    "1 0 0 0 0 0 0 0 0 0 0 0 0 0 0 0 0 0\n",
    "0 1 0 0 0 0 0 0 0 0 0 0 0 0 0 0 0 0\n",
    "0 0 1 0 0 0 0 0 0 0 0 0 0 0 0 0 0 0\n",
    "0 0 0 1 0 0 0 0 0 0 0 0 0 0 0 0 0 0\n",
    "0 0 0 0 1 0 0 0 0 0 0 0 0 0 0 0 0 0\n",
    "0 0 0 0 0 1 0 0 0 0 0 0 0 0 0 0 0 0\n",
    "0 0 0 0 0 0 1 0 0 0 0 0 0 0 0 0 0 0\n",
    "0 0 0 0 0 0 0 1 0 0 0 0 0 0 0 0 0 0\n",
    "0 0 0 0 0 0 0 0 1 0 0 0 0 0 0 0 0 0\n",
    "0 0 0 0 0 0 0 0 0 1 0 0 0 0 0 0 0 0\n",
    "0 0 0 0 0 0 0 0 0 0 1 0 0 0 0 0 0 0\n",
    "0 0 0 0 0 0 0 0 0 0 0 1 0 0 0 0 0 0\n",
    "0 0 0 0 0 0 0 0 0 0 0 0 1 0 0 0 0 0\n",
    "0 0 0 0 0 0 0 0 0 0 0 0 0 1 0 0 0 0\n",
    "0 0 0 0 0 0 0 0 0 0 0 0 0 0 1 0 0 0 0 0 1 0 0 0\n",
    "0 0 0 0 0 0 0 0 0 0 0 0 0 0 0 1 0 0 0 1 0 1 0 0\n",
    "0 0 0 0 0 0 0 0 0 0 0 0 0 0 0 0 1 0 1 0 0 0 1 0 \n",
    "0 0 0 0 0 0 0 0 0 0 0 0 0 0 0 0 0 1 0 0 0 0 0 1 1\n",
    "\n",
    "\n"
   ]
  },
  {
   "cell_type": "code",
   "execution_count": 101,
   "id": "0c7e5b63",
   "metadata": {},
   "outputs": [
    {
     "data": {
      "text/plain": [
       "6"
      ]
     },
     "execution_count": 101,
     "metadata": {},
     "output_type": "execute_result"
    }
   ],
   "source": [
    "a = list(\"S.....111.....F\")\n",
    "a.index('1')"
   ]
  },
  {
   "cell_type": "code",
   "execution_count": 102,
   "id": "473842c6",
   "metadata": {},
   "outputs": [
    {
     "data": {
      "text/plain": [
       "['S', '.', '.', '.', '.', '.', '1', '1', '1', '.', '.', '.', '.', '.', 'F']"
      ]
     },
     "execution_count": 102,
     "metadata": {},
     "output_type": "execute_result"
    }
   ],
   "source": [
    "a"
   ]
  },
  {
   "cell_type": "code",
   "execution_count": 98,
   "id": "35469477",
   "metadata": {},
   "outputs": [
    {
     "name": "stdout",
     "output_type": "stream",
     "text": [
      "1 1\n",
      "S.....111.....F\n"
     ]
    }
   ],
   "source": [
    "r,c=map(int,input().split())\n",
    "A=[]\n",
    "B=[]\n",
    "C={}\n",
    "c='1'\n",
    "for _ in range(r):\n",
    "    a=input()\n",
    "#     c=str(c)\n",
    "    A.extend(a)\n",
    "    for i in A:\n",
    "        if c!=\n",
    "#     B.append(A.index(c))\n",
    "    c=int(c)\n",
    "    c+=1\n",
    "    "
   ]
  },
  {
   "cell_type": "code",
   "execution_count": 1,
   "id": "96671001",
   "metadata": {},
   "outputs": [
    {
     "name": "stdout",
     "output_type": "stream",
     "text": [
      "3 2\n",
      "10 3\n",
      "21 8\n",
      "0 15\n",
      "비와이\n"
     ]
    }
   ],
   "source": [
    "a,b=map(int,input().split())\n",
    "for _ in range(a):\n",
    "    c,d=map(int,input().split())\n",
    "print('비와이')"
   ]
  },
  {
   "cell_type": "code",
   "execution_count": 3,
   "id": "9a5d84f1",
   "metadata": {},
   "outputs": [
    {
     "name": "stdout",
     "output_type": "stream",
     "text": [
      "3\n",
      "4 2\n",
      "3\n"
     ]
    }
   ],
   "source": [
    "n=int(input())\n",
    "a,b=map(int,input().split())\n",
    "c=a//2+b\n",
    "if c>n:\n",
    "    print(n)\n",
    "else:\n",
    "    print(c)"
   ]
  },
  {
   "cell_type": "code",
   "execution_count": 10,
   "id": "be3b62ab",
   "metadata": {},
   "outputs": [
    {
     "name": "stdout",
     "output_type": "stream",
     "text": [
      "h0ngjun7\n",
      ":fan::fan::fan:\n",
      ":fan::h0ngjun7::fan:\n",
      ":fan::fan::fan:\n"
     ]
    }
   ],
   "source": [
    "def metrix(a):\n",
    "    print(f\":fan::fan::fan:\\n:fan::{a}::fan:\\n:fan::fan::fan:\")\n",
    "          \n",
    "metrix(input())"
   ]
  },
  {
   "cell_type": "code",
   "execution_count": 20,
   "id": "7b214a10",
   "metadata": {},
   "outputs": [
    {
     "name": "stdout",
     "output_type": "stream",
     "text": [
      "4\n",
      "2\n"
     ]
    }
   ],
   "source": [
    "def MenOfPassion(n):\n",
    "    i=n//2\n",
    "    return print(i)\n",
    "MenOfPassion(int(input()))"
   ]
  },
  {
   "cell_type": "code",
   "execution_count": null,
   "id": "e31ff93f",
   "metadata": {},
   "outputs": [],
   "source": []
  },
  {
   "cell_type": "code",
   "execution_count": 22,
   "id": "7e97a699",
   "metadata": {},
   "outputs": [
    {
     "name": "stdout",
     "output_type": "stream",
     "text": [
      "4 7\n",
      "6 13\n",
      "4 8\n",
      "3 6\n",
      "5 12\n",
      "[6, 3]\n"
     ]
    }
   ],
   "source": [
    "n, k = map(int, input().split())\n",
    "A = {}\n",
    "for i in range(n):\n",
    "    w, v = map(int, input().split())\n",
    "    A[w] = v\n",
    "    W = []\n",
    "    V = []\n",
    "    for value in A.values():\n",
    "        V.append(value)\n",
    "    for key in  A.keys():\n",
    "        W.append(key)\n",
    "q=0\n",
    "p=0\n",
    "Q=[]\n",
    "P=[]\n",
    "X = W.copy()\n",
    "Y = V.copy()\n",
    "while True:\n",
    "    h=W[q]+X[p]\n",
    "    \n",
    "    if h<v:\n",
    "        Q.append(h)\n",
    "        p+=1\n",
    "    elif h==v:\n",
    "        Q.append(h)\n",
    "        \n",
    "print(W[::2])    "
   ]
  },
  {
   "cell_type": "code",
   "execution_count": null,
   "id": "6e8ac103",
   "metadata": {},
   "outputs": [],
   "source": []
  },
  {
   "cell_type": "code",
   "execution_count": null,
   "id": "72076a54",
   "metadata": {},
   "outputs": [],
   "source": [
    "def fib(n) :\n",
    "    global cnt1\n",
    "    cnt1 += 1\n",
    "    if (n == 1) or (n == 2):\n",
    "        cnt1 -= 1\n",
    "        return 1  # 코드1\n",
    "    else:\n",
    "        return (fib(n - 1) + fib(n - 2))\n",
    "\n",
    "\n",
    "def fibo(n):\n",
    "    global cnt2\n",
    "    f[1], f[2] = 1, 1;\n",
    "    for i in range(3,n+1):\n",
    "        cnt2 += 1\n",
    "        f[i] = f[i - 1] + f[i - 2];  # 코드2\n",
    "    return f[n];\n",
    "\n"
   ]
  },
  {
   "cell_type": "code",
   "execution_count": 24,
   "id": "b558deee",
   "metadata": {},
   "outputs": [
    {
     "name": "stdout",
     "output_type": "stream",
     "text": [
      "30\n",
      "832040 28\n"
     ]
    }
   ],
   "source": [
    "def fib(n) :\n",
    "    global cnt1\n",
    "    cnt1 += 1\n",
    "    if (n == 1) or (n == 2):\n",
    "        cnt1 -= 1\n",
    "        return 1  # 코드1\n",
    "    else:\n",
    "        return (fib(n - 1) + fib(n - 2))\n",
    "\n",
    "\n",
    "def fibo(n):\n",
    "    global cnt2\n",
    "    f[1], f[2] = 1, 1;\n",
    "    for i in range(3,n+1):\n",
    "        cnt2 += 1\n",
    "        f[i] = f[i - 1] + f[i - 2];  # 코드2\n",
    "    return f[n];\n",
    "\n",
    "f = [0 for _ in range(41)]\n",
    "n = int(input())\n",
    "cnt1, cnt2 = 0, 0\n",
    "fib(n)\n",
    "fibo(n)\n",
    "\n",
    "print(cnt1+1, cnt2)"
   ]
  },
  {
   "cell_type": "markdown",
   "id": "e66e04f6",
   "metadata": {},
   "source": [
    "## 공"
   ]
  },
  {
   "cell_type": "code",
   "execution_count": null,
   "id": "6fa16df2",
   "metadata": {},
   "outputs": [],
   "source": [
    "A={'a':'1','b':'2','c':'3'}\n",
    "B={'1':'a','2':'b','3':'c'}\n",
    "for _ in range(int(input())):\n",
    "    C=input().split()\n",
    "    A[B[C[0]]]=C[1]\n",
    "    A[B[C[1]]]=C[0]\n",
    "    q=B[C[0]]\n",
    "    p=B[C[1]]\n",
    "    B[C[0]]=p\n",
    "    B[C[1]]=q\n",
    "print(int(A['a']))"
   ]
  },
  {
   "cell_type": "code",
   "execution_count": null,
   "id": "dd52198c",
   "metadata": {},
   "outputs": [],
   "source": []
  },
  {
   "cell_type": "code",
   "execution_count": null,
   "id": "857253e3",
   "metadata": {},
   "outputs": [],
   "source": []
  }
 ],
 "metadata": {
  "kernelspec": {
   "display_name": "Python 3 (ipykernel)",
   "language": "python",
   "name": "python3"
  },
  "language_info": {
   "codemirror_mode": {
    "name": "ipython",
    "version": 3
   },
   "file_extension": ".py",
   "mimetype": "text/x-python",
   "name": "python",
   "nbconvert_exporter": "python",
   "pygments_lexer": "ipython3",
   "version": "3.9.12"
  }
 },
 "nbformat": 4,
 "nbformat_minor": 5
}
