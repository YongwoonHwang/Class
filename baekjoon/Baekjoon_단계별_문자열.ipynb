{
 "cells": [
  {
   "cell_type": "markdown",
   "id": "511002d8",
   "metadata": {},
   "source": [
    "## 숫자의 합"
   ]
  },
  {
   "cell_type": "code",
   "execution_count": 14,
   "id": "856d6738",
   "metadata": {},
   "outputs": [
    {
     "name": "stdout",
     "output_type": "stream",
     "text": [
      "11\n",
      "10987654321\n",
      "46\n"
     ]
    }
   ],
   "source": [
    "def For(a):\n",
    "    n=int(input())\n",
    "    c=[]\n",
    "    for _ in range(1):\n",
    "        a=input()\n",
    "        c.extend(a)\n",
    "        d=[]\n",
    "        f=0\n",
    "        for _ in c:\n",
    "            d.append(int(c[f]))\n",
    "            f+=1\n",
    "        \n",
    "    return print(sum(d))\n",
    "For(1)"
   ]
  },
  {
   "cell_type": "markdown",
   "id": "2cc164ec",
   "metadata": {},
   "source": [
    "## 알파벳 찾기"
   ]
  },
  {
   "cell_type": "code",
   "execution_count": 20,
   "id": "be276a58",
   "metadata": {},
   "outputs": [
    {
     "name": "stdout",
     "output_type": "stream",
     "text": [
      "baekjoon\n",
      "['-1', 1, '-1', '-1', '-1', '-1', '-1', '-1']\n"
     ]
    }
   ],
   "source": [
    "K=[]\n",
    "k=input()\n",
    "K.extend(k)\n",
    "A=['a','b','c','d','e','f','g','h','i','j','k','l','m','n','o','p','q','r','s','t','u','v','w','x','y','z']\n",
    "a=0\n",
    "b=0\n",
    "B=[]\n",
    "while True:\n",
    "    if K[a]==A[b]:\n",
    "        \n"
   ]
  },
  {
   "cell_type": "code",
   "execution_count": null,
   "id": "be000e44",
   "metadata": {},
   "outputs": [],
   "source": []
  },
  {
   "cell_type": "code",
   "execution_count": null,
   "id": "162f028d",
   "metadata": {},
   "outputs": [],
   "source": []
  },
  {
   "cell_type": "code",
   "execution_count": null,
   "id": "52ba2e8a",
   "metadata": {},
   "outputs": [],
   "source": []
  }
 ],
 "metadata": {
  "kernelspec": {
   "display_name": "Python 3 (ipykernel)",
   "language": "python",
   "name": "python3"
  },
  "language_info": {
   "codemirror_mode": {
    "name": "ipython",
    "version": 3
   },
   "file_extension": ".py",
   "mimetype": "text/x-python",
   "name": "python",
   "nbconvert_exporter": "python",
   "pygments_lexer": "ipython3",
   "version": "3.9.12"
  }
 },
 "nbformat": 4,
 "nbformat_minor": 5
}
