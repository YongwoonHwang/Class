{
 "cells": [
  {
   "cell_type": "code",
   "execution_count": null,
   "id": "a81c99b1",
   "metadata": {},
   "outputs": [],
   "source": [
    "a, b = map(int, input().split())\n",
    "\n",
    "print(a+b)"
   ]
  },
  {
   "cell_type": "code",
   "execution_count": null,
   "id": "3e60aeb5",
   "metadata": {},
   "outputs": [],
   "source": [
    "\n",
    "for i in range(int(input())):\n",
    "    s_list = []\n",
    "    l_list = []\n",
    "    for n in range(int(input())):\n",
    "        s, l = input().split()\n",
    "        s_list.append(s)\n",
    "        l_list.append(l)\n",
    "        a = l_list.index(max(l_list))\n",
    "    print(s_list[a])\n"
   ]
  },
  {
   "cell_type": "code",
   "execution_count": null,
   "id": "eccad0f5",
   "metadata": {},
   "outputs": [],
   "source": []
  },
  {
   "cell_type": "code",
   "execution_count": null,
   "id": "13563c40",
   "metadata": {},
   "outputs": [],
   "source": [
    "\n",
    "\n",
    "for i in range(0, 1):\n",
    "    k, n, m = map(int, input().split())\n",
    "    if k*n >= m:\n",
    "        print((k*n)-m)\n",
    "    else:\n",
    "        print('0')"
   ]
  },
  {
   "cell_type": "code",
   "execution_count": null,
   "id": "8adb48ed",
   "metadata": {},
   "outputs": [],
   "source": [
    "dict([('A+','4.3'), ('A0','4.0')])\n",
    "\n",
    "i = input()\n",
    "\n",
    "print(i)"
   ]
  },
  {
   "cell_type": "code",
   "execution_count": 4,
   "id": "7df15874",
   "metadata": {},
   "outputs": [
    {
     "name": "stdout",
     "output_type": "stream",
     "text": [
      "2\n",
      "0 1\n",
      "0 0\n",
      "0 0\n",
      "0 0\n",
      "0 0\n",
      "0 0\n",
      "0 0\n",
      "0 0 \n",
      "0 0\n",
      "Korea\n",
      "2 0\n",
      "0 1\n",
      "0 0\n",
      "0 0\n",
      "0 0\n",
      "0 0\n",
      "0 0\n",
      "0 0\n",
      "0 0\n",
      "Draw\n"
     ]
    }
   ],
   "source": [
    "t = int(input())\n",
    "y_list=[]\n",
    "k_list=[]    \n",
    "for i in range(0, t):\n",
    "    for j in range(0, 9):\n",
    "        y, k = map(int, input().split())\n",
    "        y_list.append(y)\n",
    "        k_list.append(k)\n",
    "        Y = sum(y_list)\n",
    "        K = sum(k_list)\n",
    "    if Y>K:\n",
    "        print('Yonsei')\n",
    "    elif K>Y:\n",
    "        print('Korea')\n",
    "    elif K == Y:\n",
    "        print('Draw')"
   ]
  },
  {
   "cell_type": "code",
   "execution_count": null,
   "id": "bacc6a3b",
   "metadata": {},
   "outputs": [],
   "source": []
  },
  {
   "cell_type": "code",
   "execution_count": null,
   "id": "d55da13e",
   "metadata": {},
   "outputs": [],
   "source": [
    "for j in range(int(input())):\n",
    "    b = input()\n",
    "    a = list(b)\n",
    "    test = 0\n",
    "    c = 0\n",
    "    for i in a:\n",
    "        if i == 'O':\n",
    "            c +=1\n",
    "            test +=c\n",
    "        else:\n",
    "            c = 0\n",
    "    print(test)"
   ]
  },
  {
   "cell_type": "code",
   "execution_count": null,
   "id": "f647103d",
   "metadata": {},
   "outputs": [],
   "source": []
  },
  {
   "cell_type": "code",
   "execution_count": null,
   "id": "8f677f2a",
   "metadata": {},
   "outputs": [],
   "source": []
  },
  {
   "cell_type": "code",
   "execution_count": null,
   "id": "89c6063e",
   "metadata": {},
   "outputs": [],
   "source": []
  },
  {
   "cell_type": "code",
   "execution_count": null,
   "id": "131faad9",
   "metadata": {},
   "outputs": [],
   "source": []
  }
 ],
 "metadata": {
  "kernelspec": {
   "display_name": "Python 3 (ipykernel)",
   "language": "python",
   "name": "python3"
  },
  "language_info": {
   "codemirror_mode": {
    "name": "ipython",
    "version": 3
   },
   "file_extension": ".py",
   "mimetype": "text/x-python",
   "name": "python",
   "nbconvert_exporter": "python",
   "pygments_lexer": "ipython3",
   "version": "3.9.12"
  }
 },
 "nbformat": 4,
 "nbformat_minor": 5
}
