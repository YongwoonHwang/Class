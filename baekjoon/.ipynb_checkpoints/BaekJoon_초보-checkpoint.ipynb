{
 "cells": [
  {
   "cell_type": "markdown",
   "id": "6a462505",
   "metadata": {},
   "source": [
    "## dictionary"
   ]
  },
  {
   "cell_type": "code",
   "execution_count": null,
   "id": "903c5990",
   "metadata": {},
   "outputs": [],
   "source": [
    "t = int(input())\n",
    "dic = {}\n",
    "for i in range(t):\n",
    "    for j in range(int(input())):\n",
    "        key = input()\n",
    "        val = int(input())\n",
    "        dic[key] = val\n",
    "print(dic)    "
   ]
  },
  {
   "cell_type": "markdown",
   "id": "61edf49b",
   "metadata": {},
   "source": [
    "## Yangjojang of The Year"
   ]
  },
  {
   "cell_type": "code",
   "execution_count": null,
   "id": "fe9483ef",
   "metadata": {},
   "outputs": [],
   "source": [
    "t = int(input())\n",
    "\n",
    "for i in range(t):\n",
    "    A={}\n",
    "    for j in range(int(input())):\n",
    "        a,b = input().split()\n",
    "        A[a]= int(b)\n",
    "    print(max(A, key = A.get))"
   ]
  },
  {
   "cell_type": "markdown",
   "id": "059ca4bd",
   "metadata": {},
   "source": [
    "<!-- n, k = map(int, input().split())\n",
    "\n",
    "A = {}\n",
    "for _ in range(n):\n",
    "    w, v = map(int, input().split())\n",
    "    A[w] = int(v)\n",
    "print(max(A, key = A.get)) -->"
   ]
  },
  {
   "cell_type": "markdown",
   "id": "f5cd16a4",
   "metadata": {},
   "source": [
    "## 수들의 합"
   ]
  },
  {
   "cell_type": "code",
   "execution_count": null,
   "id": "4366d355",
   "metadata": {},
   "outputs": [],
   "source": [
    "s = int(input())\n",
    "\n",
    "n = 0\n",
    "k = 1\n",
    "\n",
    "while True:\n",
    "    if k + n <= s:\n",
    "        n += 1\n",
    "        k += n\n",
    "        continue\n",
    "    elif k + n > s:\n",
    "        print(n)\n",
    "        break"
   ]
  },
  {
   "cell_type": "markdown",
   "id": "fe381249",
   "metadata": {},
   "source": [
    "## 문자열 반복"
   ]
  },
  {
   "cell_type": "code",
   "execution_count": null,
   "id": "51695cee",
   "metadata": {},
   "outputs": [],
   "source": [
    "for _ in range(int(input())):\n",
    "    r, s = map(str, input().split())\n",
    "    for j in s:\n",
    "        print(j*int(r), end='')\n",
    "    print()"
   ]
  },
  {
   "cell_type": "markdown",
   "id": "9b70d3f6",
   "metadata": {},
   "source": [
    "## 소인수분해"
   ]
  },
  {
   "cell_type": "code",
   "execution_count": null,
   "id": "db51287a",
   "metadata": {
    "scrolled": false
   },
   "outputs": [],
   "source": [
    "n = int(input())\n",
    "i = 2\n",
    "while True:\n",
    "    if n%i == 0:\n",
    "        n = n/i\n",
    "        print(i)\n",
    "    elif n%i != 0:\n",
    "        i += 1\n",
    "        if i > n:\n",
    "            break\n",
    "        continue"
   ]
  },
  {
   "cell_type": "markdown",
   "id": "55b27db8",
   "metadata": {},
   "source": [
    "## 최소 공배수"
   ]
  },
  {
   "cell_type": "code",
   "execution_count": null,
   "id": "53738626",
   "metadata": {
    "scrolled": true
   },
   "outputs": [],
   "source": [
    "t = int(input())\n",
    "for i in range(t):\n",
    "    a, b = map(int, input().split())\n",
    "    n = 1\n",
    "    k = 1\n",
    "    while True:\n",
    "        if a*n > b*k:\n",
    "            k += 1\n",
    "        elif a*n < b*k:\n",
    "            n += 1\n",
    "            continue\n",
    "        elif a*n == b*k:\n",
    "            print(a*n)\n",
    "            break"
   ]
  },
  {
   "cell_type": "markdown",
   "id": "8ad4756c",
   "metadata": {},
   "source": [
    "## 배수와 약수"
   ]
  },
  {
   "cell_type": "code",
   "execution_count": null,
   "id": "e330e900",
   "metadata": {
    "scrolled": true
   },
   "outputs": [],
   "source": [
    "while True:\n",
    "    a, b = map(int, input().split())\n",
    "    if a == 0 and b == 0:\n",
    "        break\n",
    "    if b%a == 0:\n",
    "        print('factor')\n",
    "    elif a%b == 0:\n",
    "        print('multiple')\n",
    "    elif b%a != 0 and a%b != 0:\n",
    "        print('neither')\n",
    "        continue"
   ]
  },
  {
   "cell_type": "markdown",
   "id": "dd1e938d",
   "metadata": {},
   "source": [
    "## TGN"
   ]
  },
  {
   "cell_type": "code",
   "execution_count": null,
   "id": "dc70cf11",
   "metadata": {},
   "outputs": [],
   "source": [
    "for i in range(int(input())):\n",
    "    r, e, c = map(int,input().split())\n",
    "    if (e-c) > r:\n",
    "        print('advertise')\n",
    "    elif (e-c) < r:\n",
    "        print('do not advertise')\n",
    "    elif (e-c) == r:\n",
    "        print('does not matter')"
   ]
  },
  {
   "cell_type": "markdown",
   "id": "2f472de8",
   "metadata": {},
   "source": [
    "## 사분면"
   ]
  },
  {
   "cell_type": "code",
   "execution_count": null,
   "id": "7ea8cd65",
   "metadata": {},
   "outputs": [],
   "source": [
    "A ={}\n",
    "A['Q1'] = 0\n",
    "A['Q2'] = 0\n",
    "A['Q3'] = 0\n",
    "A['Q4'] = 0\n",
    "A['AXIS'] = 0\n",
    "\n",
    "for _ in range(int(input())):\n",
    "    x, y = map(int, input().split())\n",
    "    \n",
    "    if x == 0 or y == 0:\n",
    "        A['AXIS'] += 1\n",
    "    elif x == 0 and y == 0:\n",
    "        A['AXIS'] += 1\n",
    "    elif x > 0 and y > 0:\n",
    "        A['Q1'] += 1\n",
    "    elif x < 0 and y > 0:\n",
    "        A['Q2'] += 1\n",
    "    elif x > 0 and y < 0:\n",
    "        A['Q4'] += 1\n",
    "    elif x < 0 and y < 0:\n",
    "        A['Q3'] += 1\n",
    "print(\"Q1:\", A['Q1'])\n",
    "print(\"Q2:\", A['Q2'])\n",
    "print(\"Q3:\", A['Q3'])\n",
    "print(\"Q4:\", A['Q4'])\n",
    "print(\"AXIS:\", A['AXIS'])\n",
    "        \n"
   ]
  },
  {
   "cell_type": "markdown",
   "id": "27e81cea",
   "metadata": {},
   "source": [
    "## ox퀴즈"
   ]
  },
  {
   "cell_type": "code",
   "execution_count": null,
   "id": "50bef471",
   "metadata": {},
   "outputs": [],
   "source": [
    "for j in range(int(input())):\n",
    "    t = input()\n",
    "    T = list(t)\n",
    "    c = 0\n",
    "    k = 0\n",
    "    for i in T:\n",
    "        if i == 'O':\n",
    "            c += 1\n",
    "            k += c\n",
    "        else:\n",
    "            c = 0\n",
    "    print(k)"
   ]
  },
  {
   "cell_type": "markdown",
   "id": "71128a9e",
   "metadata": {},
   "source": [
    "## 개표"
   ]
  },
  {
   "cell_type": "code",
   "execution_count": null,
   "id": "43e262a0",
   "metadata": {},
   "outputs": [],
   "source": [
    "v = int(input())\n",
    "p = input()\n",
    "if p.count('A') > p.count('B'):\n",
    "    print('A')\n",
    "elif p.count('A') < p.count('B'):\n",
    "    print('B')\n",
    "else:\n",
    "    print('Tie')"
   ]
  },
  {
   "cell_type": "markdown",
   "id": "265f63d7",
   "metadata": {},
   "source": [
    "## 팰린드롬인지 확인하기"
   ]
  },
  {
   "cell_type": "code",
   "execution_count": 16,
   "id": "3f6a7176",
   "metadata": {},
   "outputs": [
    {
     "name": "stdout",
     "output_type": "stream",
     "text": [
      "baekjoon\n",
      "0\n"
     ]
    }
   ],
   "source": [
    "A = []\n",
    "a = input()\n",
    "A.extend(a)\n",
    "B = A.copy()\n",
    "A2 = A.reverse()\n",
    "\n",
    "if A == B:\n",
    "    print(1)\n",
    "else:\n",
    "    print(0)"
   ]
  },
  {
   "cell_type": "markdown",
   "id": "47e7e222",
   "metadata": {},
   "source": [
    "## 약수들의 합"
   ]
  },
  {
   "cell_type": "code",
   "execution_count": null,
   "id": "e9654c37",
   "metadata": {},
   "outputs": [],
   "source": []
  },
  {
   "cell_type": "code",
   "execution_count": null,
   "id": "a6878de4",
   "metadata": {},
   "outputs": [],
   "source": []
  }
 ],
 "metadata": {
  "kernelspec": {
   "display_name": "Python 3 (ipykernel)",
   "language": "python",
   "name": "python3"
  },
  "language_info": {
   "codemirror_mode": {
    "name": "ipython",
    "version": 3
   },
   "file_extension": ".py",
   "mimetype": "text/x-python",
   "name": "python",
   "nbconvert_exporter": "python",
   "pygments_lexer": "ipython3",
   "version": "3.9.12"
  }
 },
 "nbformat": 4,
 "nbformat_minor": 5
}
