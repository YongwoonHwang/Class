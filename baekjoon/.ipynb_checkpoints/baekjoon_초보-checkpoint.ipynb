{
 "cells": [
  {
   "cell_type": "markdown",
   "id": "48358d2d",
   "metadata": {},
   "source": [
    "## 단어의 개수"
   ]
  },
  {
   "cell_type": "code",
   "execution_count": null,
   "id": "702c6859",
   "metadata": {},
   "outputs": [],
   "source": [
    "a = input().split()\n",
    "print(len(a))"
   ]
  },
  {
   "cell_type": "code",
   "execution_count": null,
   "id": "a8451ef1",
   "metadata": {},
   "outputs": [],
   "source": [
    "print(len(input().split()))"
   ]
  },
  {
   "cell_type": "markdown",
   "id": "9e936e3b",
   "metadata": {},
   "source": [
    "## 팰린드롬수"
   ]
  },
  {
   "cell_type": "code",
   "execution_count": null,
   "id": "1158419c",
   "metadata": {},
   "outputs": [],
   "source": [
    "k=[]\n",
    "while True:\n",
    "    a=input()\n",
    "    k.extend(a)\n",
    "    b=k.copy()\n",
    "    b.reverse()\n",
    "    if k==b and a!='0':\n",
    "        k=[]\n",
    "        b=[]\n",
    "        print('yes')\n",
    "    elif k!=b:\n",
    "        k=[]\n",
    "        b=[]\n",
    "        print('no')\n",
    "    if a=='0':\n",
    "        break"
   ]
  },
  {
   "cell_type": "markdown",
   "id": "c02fb979",
   "metadata": {},
   "source": [
    "## 모음의 개수 "
   ]
  },
  {
   "cell_type": "code",
   "execution_count": null,
   "id": "74f026c7",
   "metadata": {},
   "outputs": [],
   "source": [
    "k=[]\n",
    "while True:\n",
    "    a=input()\n",
    "    k.extend(a)\n",
    "    if a!='#':\n",
    "        print(k.count('a')+k.count('e')+k.count('i')+k.count('o')+k.count('u')+k.count('A')+k.count('E')+k.count('I')+k.count('O')+k.count('U'))\n",
    "        k =[]\n",
    "    elif a=='#':\n",
    "        break"
   ]
  },
  {
   "cell_type": "markdown",
   "id": "70e48e7c",
   "metadata": {},
   "source": [
    "## 가장 많은 글자"
   ]
  },
  {
   "cell_type": "code",
   "execution_count": null,
   "id": "64ddd246",
   "metadata": {},
   "outputs": [],
   "source": [
    "\n",
    "Silver IV 357\n",
    "Silver III 승급까지 −43"
   ]
  },
  {
   "cell_type": "markdown",
   "id": "f20978c8",
   "metadata": {},
   "source": [
    "## 점수 계산"
   ]
  },
  {
   "cell_type": "code",
   "execution_count": null,
   "id": "1646ad01",
   "metadata": {},
   "outputs": [],
   "source": [
    "l=0\n",
    "k=[]\n",
    "m=[]\n",
    "n=0\n",
    "Q=[]\n",
    "for _ in range(0,8):\n",
    "    a=int(input())\n",
    "    l+=a\n",
    "    k.append(a)\n",
    "o = k.copy()\n",
    "for _ in range(0,5):\n",
    "    m.append(max(k))\n",
    "    k.remove(max(k))\n",
    "q=o.index(m[0])\n",
    "w=o.index(m[1])\n",
    "e=o.index(m[2])\n",
    "r=o.index(m[3])\n",
    "t=o.index(m[4])\n",
    "Q.append(q+1)\n",
    "Q.append(w+1)\n",
    "Q.append(e+1)\n",
    "Q.append(r+1)\n",
    "Q.append(t+1)\n",
    "Q.sort()\n",
    "print(m[0]+m[1]+m[2]+m[3]+m[4])\n",
    "print(Q[0],Q[1],Q[2],Q[3],Q[4])\n",
    "\n",
    "\n"
   ]
  },
  {
   "cell_type": "markdown",
   "id": "2c01da2a",
   "metadata": {},
   "source": [
    "## 오늘도 졌다"
   ]
  },
  {
   "cell_type": "code",
   "execution_count": null,
   "id": "a203a625",
   "metadata": {},
   "outputs": [],
   "source": [
    "a,b,c,d,e,f,g,h,i=map(int,input().split())\n",
    "a1,b1,c1,d1,e1,f1,g1,h1,i1=map(int,input().split())\n",
    "if a+b+c+d+e+f+g+h>a1+b1+c1+d1+e1+f1+g1+h1 and a+b+c+d+e+f+g+h+i<a1+b1+c1+d1+e1+f1+g1+h1+i1:\n",
    "    print('Yes')\n",
    "elif a+b+c+d+e+f+g>a1+b1+c1+d1+e1+f1+g1 and a+b+c+d+e+f+g+h+i<a1+b1+c1+d1+e1+f1+g1+h1+i1:\n",
    "    print('Yes')\n",
    "elif a+b+c+d+e+f>a1+b1+c1+d1+e1+f1 and a+b+c+d+e+f+g+h+i<a1+b1+c1+d1+e1+f1+g1+h1+i1:\n",
    "    print('Yes')\n",
    "elif a+b+c+d+e>a1+b1+c1+d1+e1 and a+b+c+d+e+f+g+h+i<a1+b1+c1+d1+e1+f1+g1+h1+i1:\n",
    "    print('Yes')\n",
    "elif a+b+c+d>a1+b1+c1+d1 and a+b+c+d+e+f+g+h+i<a1+b1+c1+d1+e1+f1+g1+h1+i1:\n",
    "    print('Yes')\n",
    "elif a+b+c>a1+b1+c1 and a+b+c+d+e+f+g+h+i<a1+b1+c1+d1+e1+f1+g1+h1+i1:\n",
    "    print('Yes')\n",
    "elif a+b>a1+b1 and a+b+c+d+e+f+g+h+i<a1+b1+c1+d1+e1+f1+g1+h1+i1:\n",
    "    print('Yes')\n",
    "elif a>a1 and a+b+c+d+e+f+g+h+i<a1+b1+c1+d1+e1+f1+g1+h1+i1:\n",
    "    print('Yes')\n",
    "else:\n",
    "    print('No')"
   ]
  },
  {
   "cell_type": "markdown",
   "id": "7b7a11ee",
   "metadata": {},
   "source": [
    "## 검증수"
   ]
  },
  {
   "cell_type": "code",
   "execution_count": null,
   "id": "fb4a51a5",
   "metadata": {},
   "outputs": [],
   "source": [
    "a,b,c,d,e=map(int,input().split())\n",
    "print((a**2+b**2+c**2+d**2+e**2)%10)"
   ]
  },
  {
   "cell_type": "markdown",
   "id": "18f71f32",
   "metadata": {},
   "source": [
    "## 첫 글자를 대문자로"
   ]
  },
  {
   "cell_type": "code",
   "execution_count": 75,
   "id": "02e9ebfa",
   "metadata": {},
   "outputs": [
    {
     "name": "stdout",
     "output_type": "stream",
     "text": [
      "5\n",
      "powdered Toast Man\n",
      "Powdered toast man\n",
      "asd\n",
      "Asd\n",
      "s\n",
      "S\n",
      "s\n",
      "S\n",
      "\n",
      "\n"
     ]
    }
   ],
   "source": [
    "for _ in range(int(input())):\n",
    "    a=input()\n",
    "    print(a.capitalize())"
   ]
  },
  {
   "cell_type": "markdown",
   "id": "b1347f93",
   "metadata": {},
   "source": [
    "## 과제 안 내신 분..?"
   ]
  },
  {
   "cell_type": "code",
   "execution_count": null,
   "id": "c5e3f2da",
   "metadata": {},
   "outputs": [],
   "source": [
    "c=[1,2,3,4,5,6,7,8,9,10,11,12,13,14,15,16,17,18,19,20,21,22,23,24,25,26,27,28,29,30]\n",
    "b=[]\n",
    "for _ in range(0,28):\n",
    "    a=int(input())\n",
    "    b.append(a)\n",
    "f=list(set(c)-set(b))\n",
    "f.sort()\n",
    "print(f[0])\n",
    "print(f[1])"
   ]
  },
  {
   "cell_type": "markdown",
   "id": "94e4ffae",
   "metadata": {},
   "source": [
    "## 나머지와 몫이 같은 수"
   ]
  },
  {
   "cell_type": "code",
   "execution_count": 46,
   "id": "9ea12e31",
   "metadata": {},
   "outputs": [
    {
     "name": "stdout",
     "output_type": "stream",
     "text": [
      "3\n",
      "12\n"
     ]
    }
   ],
   "source": [
    "n=int(input())\n",
    "a=n\n",
    "t=0\n",
    "while True:\n",
    "    if a//n==a%n or a//n!=0 or a%n!=0:\n",
    "        t+=a\n",
    "        a+=1\n",
    "    elif a//n!=a%n:\n",
    "        a+=1\n",
    "    if a//n>a%n:\n",
    "        break\n",
    "print(t)"
   ]
  },
  {
   "cell_type": "markdown",
   "id": "07623b81",
   "metadata": {},
   "source": [
    "## 줄번호"
   ]
  },
  {
   "cell_type": "code",
   "execution_count": 55,
   "id": "2fd4d807",
   "metadata": {},
   "outputs": [
    {
     "name": "stdout",
     "output_type": "stream",
     "text": [
      "2\n",
      "Lionel Cosgrove\n",
      "1. Lionel Cosgrove\n",
      "Alice\n",
      "2. Alice\n"
     ]
    }
   ],
   "source": [
    "c=1\n",
    "for _ in range(int(input())):\n",
    "    a=input()\n",
    "    print(f\"{c}. {a}\")\n",
    "    c+=1"
   ]
  },
  {
   "cell_type": "markdown",
   "id": "6b38b6fe",
   "metadata": {},
   "source": [
    "## 나는 요리사다"
   ]
  },
  {
   "cell_type": "code",
   "execution_count": 58,
   "id": "8cd4cf14",
   "metadata": {},
   "outputs": [
    {
     "name": "stdout",
     "output_type": "stream",
     "text": [
      "5 4 4 5\n",
      "5 4 4 4\n",
      "5 5 4 4\n",
      "5 5 5 4\n",
      "4 4 4 5\n",
      "4\n",
      "19\n"
     ]
    }
   ],
   "source": [
    "t=[]\n",
    "for _ in range(5):\n",
    "    a,b,c,d=map(int,input().split())\n",
    "    t.append(a+b+c+d)\n",
    "p=max(t)\n",
    "print(t.index(p)+1)\n",
    "print(p)"
   ]
  },
  {
   "cell_type": "markdown",
   "id": "6993949a",
   "metadata": {},
   "source": [
    "#### "
   ]
  },
  {
   "cell_type": "markdown",
   "id": "f73b6f31",
   "metadata": {},
   "source": [
    "## 사파리월드"
   ]
  },
  {
   "cell_type": "code",
   "execution_count": 74,
   "id": "1c4dce60",
   "metadata": {},
   "outputs": [
    {
     "name": "stdout",
     "output_type": "stream",
     "text": [
      "-2 5\n",
      "7\n"
     ]
    }
   ],
   "source": [
    "n,m=map(int,input().split())\n",
    "print(int(((n-m)**2)**0.5))"
   ]
  },
  {
   "cell_type": "markdown",
   "id": "30e9e3e8",
   "metadata": {},
   "source": [
    "## 대소문자 바꾸기"
   ]
  },
  {
   "cell_type": "code",
   "execution_count": null,
   "id": "e4378f7e",
   "metadata": {},
   "outputs": [],
   "source": [
    "a=input()\n"
   ]
  },
  {
   "cell_type": "code",
   "execution_count": null,
   "id": "5f71724d",
   "metadata": {},
   "outputs": [],
   "source": []
  },
  {
   "cell_type": "code",
   "execution_count": null,
   "id": "e115c135",
   "metadata": {},
   "outputs": [],
   "source": []
  },
  {
   "cell_type": "code",
   "execution_count": null,
   "id": "96d2b5ed",
   "metadata": {},
   "outputs": [],
   "source": []
  }
 ],
 "metadata": {
  "kernelspec": {
   "display_name": "Python 3 (ipykernel)",
   "language": "python",
   "name": "python3"
  },
  "language_info": {
   "codemirror_mode": {
    "name": "ipython",
    "version": 3
   },
   "file_extension": ".py",
   "mimetype": "text/x-python",
   "name": "python",
   "nbconvert_exporter": "python",
   "pygments_lexer": "ipython3",
   "version": "3.9.12"
  }
 },
 "nbformat": 4,
 "nbformat_minor": 5
}
