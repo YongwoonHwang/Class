{
 "cells": [
  {
   "cell_type": "code",
   "execution_count": 1,
   "metadata": {},
   "outputs": [],
   "source": [
    "# pandas 정의\n",
    "# 데이터 분석을 할 때 가장 많이 쓰이는 패키지\n",
    "# 대부분의 데이터는 시계열(series)이나 표(table)의 형태로 나타냄\n",
    "# pandas 패키지에서는 이러한 표 데이터를 다루기 위한 시리즈(Series) 클래스와 \n",
    "#   데이터 프레임(DataFrame) 클래스를 제공"
   ]
  },
  {
   "cell_type": "code",
   "execution_count": 2,
   "metadata": {},
   "outputs": [],
   "source": [
    "# 시리즈 클래스\n",
    "#       시리즈 = 값(value) + 인덱스(index)\n",
    "\n",
    "# 시리즈의 인덱스는  index 속성으로 접근할 수 있다.\n",
    "# 시리즈의 값은 1차원 배열이며 values 속성으로 접근할 수 있다. \n",
    "# 인덱스의 값을 인덱스 라벨(label)이라고도 한다.\n",
    "# 인덱스 라벨은 문자열 뿐 아니라 날짜, 시간, 정수 등도 가능하다.\n",
    "# 만약 인덱스를 지정하지 않고 시리즈를 만들면 시리즈의 인덱스는\n",
    "#  0부터 시작하는 정수값이 된다."
   ]
  },
  {
   "cell_type": "code",
   "execution_count": 5,
   "metadata": {},
   "outputs": [
    {
     "data": {
      "text/plain": [
       "도시\n",
       "서울    9.904312\n",
       "부산    3.448737\n",
       "인천    2.890451\n",
       "대구    2.466052\n",
       "Name: 인구, dtype: float64"
      ]
     },
     "execution_count": 5,
     "metadata": {},
     "output_type": "execute_result"
    }
   ],
   "source": [
    "import pandas as pd\n",
    "\n",
    "# 시리즈 생성\n",
    "s = pd.Series([9904312, 3448737, 2890451, 2466052],\n",
    "             index=[\"서울\",\"부산\",\"인천\",\"대구\"])\n",
    "pd.Series(range(10, 14))  # index 없이 생성, 0부터 인덱스가 생성 됨\n",
    "\n",
    "# 데이터 및 인덱스 접근\n",
    "s.index  # 인덱스 출력\n",
    "s.values # 데이터 출력\n",
    "\n",
    "# name 속성을 이용하여 시리즈 데이터에 이름을 부여 함\n",
    "s.name = \"인구\"\n",
    "s.index.name = \"도시\"\n",
    "\n",
    "# 시리즈 연산 : NumPy 배열처럼 시리즈도 벡터화 연산, 시리즈의 값에만 적용\n",
    "s / 1000000"
   ]
  },
  {
   "cell_type": "code",
   "execution_count": 6,
   "metadata": {},
   "outputs": [
    {
     "data": {
      "text/plain": [
       "1"
      ]
     },
     "execution_count": 6,
     "metadata": {},
     "output_type": "execute_result"
    }
   ],
   "source": [
    "# 시리즈 인덱싱\n",
    "# NumPy 배열에서 가능한 인덱스 방법으로 가능\n",
    "# 인덱스 라벨을 이용한 인덱싱 가능\n",
    "# 배열 인덱싱이나 인덱스 라벨을 이용한 슬라이싱(slicing)도 가능\n",
    "# 라벨 값이 영문 문자열인 경우에는 마치 속성인것처럼 점(.)을 이용하여 접근 가능\n",
    "\n",
    "s[1], s[\"부산\"]\n",
    "s[[0, 3, 1]], s[[\"서울\", \"대구\", \"부산\"]]\n",
    "s[(250e4 < s)&(s < 500e4)]\n",
    "\n",
    "s[1:3]\n",
    "s[\"부산\":\"대구\"]\n",
    "\n",
    "s0 = pd.Series(range(3), index=[\"a\", \"b\", \"c\"])\n",
    "s0.a\n",
    "s0.b"
   ]
  },
  {
   "cell_type": "code",
   "execution_count": 9,
   "metadata": {},
   "outputs": [
    {
     "name": "stdout",
     "output_type": "stream",
     "text": [
      "서울=9904312\n",
      "부산=3448737\n",
      "인천=2890451\n",
      "대구=2466052\n"
     ]
    },
    {
     "data": {
      "text/plain": [
       "부산    3393191\n",
       "서울    9631482\n",
       "인천    2632035\n",
       "대전    1490158\n",
       "dtype: int64"
      ]
     },
     "execution_count": 9,
     "metadata": {},
     "output_type": "execute_result"
    }
   ],
   "source": [
    "# 시리즈와 딕셔너리 자료형\n",
    "# 라벨 값을 키(key)로 가지는 딕셔너리 자료형과 같다.\n",
    "# 딕셔너리 자료형에서 제공하는 in 연산 가능\n",
    "# items 메서드를 사용 for  루프를 통해 각 원소의 키(key)와 값(value)을 접근 가능\n",
    "\n",
    "\"서울\" in s\n",
    "for k, v in s.items():\n",
    "    print(\"%s=%d\"%(k,v))\n",
    "    \n",
    "# 딕셔너리 객체에서 시리즈를 만듬\n",
    "s2 = pd.Series({\"서울\" : 9631482, \"부산\" : 3393191, \"인천\" : 2632035, \n",
    "               \"대전\" : 1490158})\n",
    "s2\n",
    "\n",
    "# 딕셔너리는 순서 없음, 순서를 정하고 싶다면 인덱스를 리스트로 지정\n",
    "s2 = pd.Series({\"서울\" : 9631482, \"부산\" : 3393191, \"인천\" : 2632035, \n",
    "               \"대전\" : 1490158}, index=[\"부산\", \"서울\", \"인천\", \"대전\"])\n",
    "s2"
   ]
  },
  {
   "cell_type": "code",
   "execution_count": 10,
   "metadata": {},
   "outputs": [
    {
     "data": {
      "text/plain": [
       "대구         NaN\n",
       "대전         NaN\n",
       "부산     55546.0\n",
       "서울    272830.0\n",
       "인천    258416.0\n",
       "dtype: float64"
      ]
     },
     "execution_count": 10,
     "metadata": {},
     "output_type": "execute_result"
    }
   ],
   "source": [
    "# 인덱스 기반 연산\n",
    "# 2015년도와 2010년의 인구 증가를 계산\n",
    "ds = s - s2\n",
    "ds"
   ]
  },
  {
   "cell_type": "code",
   "execution_count": 11,
   "metadata": {},
   "outputs": [
    {
     "data": {
      "text/plain": [
       "부산    1.636984\n",
       "서울    2.832690\n",
       "인천    9.818107\n",
       "dtype: float64"
      ]
     },
     "execution_count": 11,
     "metadata": {},
     "output_type": "execute_result"
    }
   ],
   "source": [
    "# 인구증가율\n",
    "rs = (s - s2) / s2*100\n",
    "rs = rs[rs.notnull()] ; rs"
   ]
  },
  {
   "cell_type": "code",
   "execution_count": 12,
   "metadata": {},
   "outputs": [],
   "source": [
    "# 데이터 갱신, 추가, 삭제\n",
    "rs[\"부산\"] = 1.63 # 인덱스로 데이터 갱신\n",
    "rs[\"대구\"] = 1.41 # 인덱스로 데이터 추가\n",
    "del rs[\"서울\"]    # del로 삭제"
   ]
  },
  {
   "cell_type": "code",
   "execution_count": null,
   "metadata": {},
   "outputs": [],
   "source": []
  }
 ],
 "metadata": {
  "kernelspec": {
   "display_name": "Python 3",
   "language": "python",
   "name": "python3"
  },
  "language_info": {
   "codemirror_mode": {
    "name": "ipython",
    "version": 3
   },
   "file_extension": ".py",
   "mimetype": "text/x-python",
   "name": "python",
   "nbconvert_exporter": "python",
   "pygments_lexer": "ipython3",
   "version": "3.7.6"
  }
 },
 "nbformat": 4,
 "nbformat_minor": 4
}
