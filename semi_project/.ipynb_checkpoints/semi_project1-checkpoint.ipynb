{
 "cells": [
  {
   "cell_type": "code",
   "execution_count": null,
   "id": "fe9773df",
   "metadata": {},
   "outputs": [],
   "source": [
    "import cv2\n",
    "import numpy as np\n",
    "import sys\n",
    "import os\n",
    "import glob"
   ]
  },
  {
   "cell_type": "code",
   "execution_count": null,
   "id": "b337421a",
   "metadata": {},
   "outputs": [],
   "source": [
    "def on_mouse(event, x, y, flags, param):\n",
    "     if event == cv2.EVENT_LBUTTONDOWN:\n",
    "         points.append([x, y])\n",
    "         print(points)\n",
    "\n",
    "img = cv2.imread('../face_detector/PS15122400030.jpg')\n",
    "\n",
    "model = '../face_detector/opencv_face_detector_uint8.pb'\n",
    "config = '../face_detector/opencv_face_detector.pbtxt.txt'\n",
    "face_net = cv2.dnn.readNet(model, config)\n",
    "\n",
    "blob = cv2.dnn.blobFromImage(img, 1, (300, 300), (104, 177, 123), swapRB = False)\n",
    "face_net.setInput(blob)\n",
    "out = face_net.forward()\n",
    "\n",
    "detect = out[0, 0, :, :]\n",
    "# print(detect.shape)\n",
    "\n",
    "### image shape을 반환 받음\n",
    "h, w = img.shape[:2]\n",
    "\n",
    "for i in range(detect.shape[0]):\n",
    "    confidence = detect[i, 2]\n",
    "    \n",
    "    if confidence > 0.5:\n",
    "        \n",
    "        x1 = int(detect[i, 3]*w)\n",
    "        y1 = int(detect[i, 4]*h)\n",
    "        x2 = int(detect[i, 5]*w)\n",
    "        y2 = int(detect[i, 6]*h)\n",
    "        \n",
    "        cv2.rectangle(img, (x1, y1), (x2, y2), (0, 0, 255), 2)\n",
    "        text = 'Face: {}%'.format(round(confidence*100, 2))\n",
    "        cv2.putText(img, text, (x1, y1-1), cv2.FONT_HERSHEY_COMPLEX,\n",
    "                   1, (0, 0, 255), 1, cv2.LINE_AA)\n",
    "points = list()\n",
    "cv2.imshow('image', img)\n",
    "# print(type(out))\n",
    "# print(out.shape)\n",
    "\n",
    "cv2.waitKey()\n",
    "cv2.destroyAllWindows()"
   ]
  },
  {
   "cell_type": "code",
   "execution_count": 38,
   "id": "22c7dfc8",
   "metadata": {},
   "outputs": [
    {
     "ename": "error",
     "evalue": "OpenCV(4.6.0) D:\\a\\opencv-python\\opencv-python\\opencv\\modules\\highgui\\src\\window.cpp:862: error: (-215:Assertion failed) trackbar in function 'cv::getTrackbarPos'\n",
     "output_type": "error",
     "traceback": [
      "\u001b[1;31m---------------------------------------------------------------------------\u001b[0m",
      "\u001b[1;31merror\u001b[0m                                     Traceback (most recent call last)",
      "Input \u001b[1;32mIn [38]\u001b[0m, in \u001b[0;36mcall_track\u001b[1;34m(pos)\u001b[0m\n\u001b[0;32m      8\u001b[0m rux \u001b[38;5;241m=\u001b[39m cv2\u001b[38;5;241m.\u001b[39mgetTrackbarPos(\u001b[38;5;124m'\u001b[39m\u001b[38;5;124mRU_x\u001b[39m\u001b[38;5;124m'\u001b[39m, \u001b[38;5;124m'\u001b[39m\u001b[38;5;124mdst\u001b[39m\u001b[38;5;124m'\u001b[39m)\n\u001b[0;32m      9\u001b[0m ruy \u001b[38;5;241m=\u001b[39m cv2\u001b[38;5;241m.\u001b[39mgetTrackbarPos(\u001b[38;5;124m'\u001b[39m\u001b[38;5;124mRU_y\u001b[39m\u001b[38;5;124m'\u001b[39m, \u001b[38;5;124m'\u001b[39m\u001b[38;5;124mdst\u001b[39m\u001b[38;5;124m'\u001b[39m)\n\u001b[1;32m---> 10\u001b[0m ldx \u001b[38;5;241m=\u001b[39m \u001b[43mcv2\u001b[49m\u001b[38;5;241;43m.\u001b[39;49m\u001b[43mgetTrackbarPos\u001b[49m\u001b[43m(\u001b[49m\u001b[38;5;124;43m'\u001b[39;49m\u001b[38;5;124;43mLD_x\u001b[39;49m\u001b[38;5;124;43m'\u001b[39;49m\u001b[43m,\u001b[49m\u001b[43m \u001b[49m\u001b[38;5;124;43m'\u001b[39;49m\u001b[38;5;124;43mdst\u001b[39;49m\u001b[38;5;124;43m'\u001b[39;49m\u001b[43m)\u001b[49m\n\u001b[0;32m     11\u001b[0m ldy \u001b[38;5;241m=\u001b[39m cv2\u001b[38;5;241m.\u001b[39mgetTrackbarPos(\u001b[38;5;124m'\u001b[39m\u001b[38;5;124mLD_y\u001b[39m\u001b[38;5;124m'\u001b[39m, \u001b[38;5;124m'\u001b[39m\u001b[38;5;124mdst\u001b[39m\u001b[38;5;124m'\u001b[39m)\n\u001b[0;32m     12\u001b[0m rdx \u001b[38;5;241m=\u001b[39m cv2\u001b[38;5;241m.\u001b[39mgetTrackbarPos(\u001b[38;5;124m'\u001b[39m\u001b[38;5;124mRD_x\u001b[39m\u001b[38;5;124m'\u001b[39m, \u001b[38;5;124m'\u001b[39m\u001b[38;5;124mdst\u001b[39m\u001b[38;5;124m'\u001b[39m)\n",
      "\u001b[1;31merror\u001b[0m: OpenCV(4.6.0) D:\\a\\opencv-python\\opencv-python\\opencv\\modules\\highgui\\src\\window.cpp:862: error: (-215:Assertion failed) trackbar in function 'cv::getTrackbarPos'\n"
     ]
    },
    {
     "ename": "error",
     "evalue": "OpenCV(4.6.0) D:\\a\\opencv-python\\opencv-python\\opencv\\modules\\highgui\\src\\window.cpp:862: error: (-215:Assertion failed) trackbar in function 'cv::getTrackbarPos'\n",
     "output_type": "error",
     "traceback": [
      "\u001b[1;31m---------------------------------------------------------------------------\u001b[0m",
      "\u001b[1;31merror\u001b[0m                                     Traceback (most recent call last)",
      "Input \u001b[1;32mIn [38]\u001b[0m, in \u001b[0;36mcall_track\u001b[1;34m(pos)\u001b[0m\n\u001b[0;32m      9\u001b[0m ruy \u001b[38;5;241m=\u001b[39m cv2\u001b[38;5;241m.\u001b[39mgetTrackbarPos(\u001b[38;5;124m'\u001b[39m\u001b[38;5;124mRU_y\u001b[39m\u001b[38;5;124m'\u001b[39m, \u001b[38;5;124m'\u001b[39m\u001b[38;5;124mdst\u001b[39m\u001b[38;5;124m'\u001b[39m)\n\u001b[0;32m     10\u001b[0m ldx \u001b[38;5;241m=\u001b[39m cv2\u001b[38;5;241m.\u001b[39mgetTrackbarPos(\u001b[38;5;124m'\u001b[39m\u001b[38;5;124mLD_x\u001b[39m\u001b[38;5;124m'\u001b[39m, \u001b[38;5;124m'\u001b[39m\u001b[38;5;124mdst\u001b[39m\u001b[38;5;124m'\u001b[39m)\n\u001b[1;32m---> 11\u001b[0m ldy \u001b[38;5;241m=\u001b[39m \u001b[43mcv2\u001b[49m\u001b[38;5;241;43m.\u001b[39;49m\u001b[43mgetTrackbarPos\u001b[49m\u001b[43m(\u001b[49m\u001b[38;5;124;43m'\u001b[39;49m\u001b[38;5;124;43mLD_y\u001b[39;49m\u001b[38;5;124;43m'\u001b[39;49m\u001b[43m,\u001b[49m\u001b[43m \u001b[49m\u001b[38;5;124;43m'\u001b[39;49m\u001b[38;5;124;43mdst\u001b[39;49m\u001b[38;5;124;43m'\u001b[39;49m\u001b[43m)\u001b[49m\n\u001b[0;32m     12\u001b[0m rdx \u001b[38;5;241m=\u001b[39m cv2\u001b[38;5;241m.\u001b[39mgetTrackbarPos(\u001b[38;5;124m'\u001b[39m\u001b[38;5;124mRD_x\u001b[39m\u001b[38;5;124m'\u001b[39m, \u001b[38;5;124m'\u001b[39m\u001b[38;5;124mdst\u001b[39m\u001b[38;5;124m'\u001b[39m)\n\u001b[0;32m     13\u001b[0m rdy \u001b[38;5;241m=\u001b[39m cv2\u001b[38;5;241m.\u001b[39mgetTrackbarPos(\u001b[38;5;124m'\u001b[39m\u001b[38;5;124mRD_y\u001b[39m\u001b[38;5;124m'\u001b[39m, \u001b[38;5;124m'\u001b[39m\u001b[38;5;124mdst\u001b[39m\u001b[38;5;124m'\u001b[39m)\n",
      "\u001b[1;31merror\u001b[0m: OpenCV(4.6.0) D:\\a\\opencv-python\\opencv-python\\opencv\\modules\\highgui\\src\\window.cpp:862: error: (-215:Assertion failed) trackbar in function 'cv::getTrackbarPos'\n"
     ]
    },
    {
     "ename": "error",
     "evalue": "OpenCV(4.6.0) D:\\a\\opencv-python\\opencv-python\\opencv\\modules\\highgui\\src\\window.cpp:862: error: (-215:Assertion failed) trackbar in function 'cv::getTrackbarPos'\n",
     "output_type": "error",
     "traceback": [
      "\u001b[1;31m---------------------------------------------------------------------------\u001b[0m",
      "\u001b[1;31merror\u001b[0m                                     Traceback (most recent call last)",
      "Input \u001b[1;32mIn [38]\u001b[0m, in \u001b[0;36mcall_track\u001b[1;34m(pos)\u001b[0m\n\u001b[0;32m     11\u001b[0m ldy \u001b[38;5;241m=\u001b[39m cv2\u001b[38;5;241m.\u001b[39mgetTrackbarPos(\u001b[38;5;124m'\u001b[39m\u001b[38;5;124mLD_y\u001b[39m\u001b[38;5;124m'\u001b[39m, \u001b[38;5;124m'\u001b[39m\u001b[38;5;124mdst\u001b[39m\u001b[38;5;124m'\u001b[39m)\n\u001b[0;32m     12\u001b[0m rdx \u001b[38;5;241m=\u001b[39m cv2\u001b[38;5;241m.\u001b[39mgetTrackbarPos(\u001b[38;5;124m'\u001b[39m\u001b[38;5;124mRD_x\u001b[39m\u001b[38;5;124m'\u001b[39m, \u001b[38;5;124m'\u001b[39m\u001b[38;5;124mdst\u001b[39m\u001b[38;5;124m'\u001b[39m)\n\u001b[1;32m---> 13\u001b[0m rdy \u001b[38;5;241m=\u001b[39m \u001b[43mcv2\u001b[49m\u001b[38;5;241;43m.\u001b[39;49m\u001b[43mgetTrackbarPos\u001b[49m\u001b[43m(\u001b[49m\u001b[38;5;124;43m'\u001b[39;49m\u001b[38;5;124;43mRD_y\u001b[39;49m\u001b[38;5;124;43m'\u001b[39;49m\u001b[43m,\u001b[49m\u001b[43m \u001b[49m\u001b[38;5;124;43m'\u001b[39;49m\u001b[38;5;124;43mdst\u001b[39;49m\u001b[38;5;124;43m'\u001b[39;49m\u001b[43m)\u001b[49m\n\u001b[0;32m     15\u001b[0m pts1 \u001b[38;5;241m=\u001b[39m np\u001b[38;5;241m.\u001b[39mfloat32([[\u001b[38;5;241m0\u001b[39m,\u001b[38;5;241m0\u001b[39m], [\u001b[38;5;241m0\u001b[39m,rows], [cols, \u001b[38;5;241m0\u001b[39m], [cols,rows]])\n\u001b[0;32m     16\u001b[0m pts2 \u001b[38;5;241m=\u001b[39m np\u001b[38;5;241m.\u001b[39mfloat32([[lux,luy], [ldx, ldy], [rux, ruy], [rdx, rdy]])\n",
      "\u001b[1;31merror\u001b[0m: OpenCV(4.6.0) D:\\a\\opencv-python\\opencv-python\\opencv\\modules\\highgui\\src\\window.cpp:862: error: (-215:Assertion failed) trackbar in function 'cv::getTrackbarPos'\n"
     ]
    }
   ],
   "source": [
    "import cv2\n",
    "import numpy as np\n",
    "from matplotlib import pyplot as plt\n",
    "\n",
    "def call_track(pos):\n",
    "    lux = cv2.getTrackbarPos('LU_x', 'dst')\n",
    "    luy = cv2.getTrackbarPos('LU_y', 'dst')\n",
    "    rux = cv2.getTrackbarPos('RU_x', 'dst')\n",
    "    ruy = cv2.getTrackbarPos('RU_y', 'dst')\n",
    "    ldx = cv2.getTrackbarPos('LD_x', 'dst')\n",
    "    ldy = cv2.getTrackbarPos('LD_y', 'dst')\n",
    "    rdx = cv2.getTrackbarPos('RD_x', 'dst')\n",
    "    rdy = cv2.getTrackbarPos('RD_y', 'dst')\n",
    "    \n",
    "    pts1 = np.float32([[0,0], [0,rows], [cols, 0], [cols,rows]])\n",
    "    pts2 = np.float32([[lux,luy], [ldx, ldy], [rux, ruy], [rdx, rdy]])\n",
    "    mtrx = cv2.getPerspectiveTransform(pts1, pts2)\n",
    "    dst = cv2.warpPerspective(img, mtrx, (cols, rows))\n",
    "    dst1 = dst.copy()\n",
    "    cv2.imshow('dst1', dst1)\n",
    "\n",
    "img = cv2.imread('../open_cv/fig/cat.bmp')\n",
    "rows, cols = img.shape[:2]\n",
    "# print('img2 shape = rows x cols = {} x {}'.format(rows, cols))\n",
    "# img1 = img.copy()\n",
    "\n",
    "# pts1 = np.float32([[0,0], [0,rows], [cols, 0], [cols,rows]])\n",
    "# pts2 = np.float32([[100,50], [100,rows-50], [cols-100, 100], [cols-10,rows-50]])\n",
    "# mtrx = cv2.getPerspectiveTransform(pts1, pts2)\n",
    "# dst = cv2.warpPerspective(img, mtrx, (cols, rows))\n",
    "\n",
    "    \n",
    "cv2.namedWindow('dst')\n",
    "# cv2.imshow('image', img)\n",
    "# cv2.imshow('perspective', dst)\n",
    "cv2.createTrackbar('LU_x', 'dst', 0, 480, call_track)\n",
    "cv2.createTrackbar('LU_y', 'dst', 0, 640, call_track)\n",
    "cv2.createTrackbar('RU_x', 'dst', 0, 480, call_track)\n",
    "cv2.createTrackbar('RU_y', 'dst', 480, 640, call_track)\n",
    "cv2.createTrackbar('LD_x', 'dst', 640, 640, call_track)\n",
    "cv2.createTrackbar('LD_y', 'dst', 0, 640, call_track)\n",
    "cv2.createTrackbar('RD_x', 'dst', 640, 640, call_track)\n",
    "cv2.createTrackbar('RD_y', 'dst', 480, 640, call_track)\n",
    "\n",
    "cv2.waitKey()\n",
    "cv2.destroyAllWindows()"
   ]
  },
  {
   "cell_type": "code",
   "execution_count": null,
   "id": "e4a4b0cf",
   "metadata": {},
   "outputs": [],
   "source": [
    "193 170"
   ]
  },
  {
   "cell_type": "code",
   "execution_count": 36,
   "id": "f4fb3881",
   "metadata": {},
   "outputs": [],
   "source": [
    "# 어핀 변환 (getAffine.py)\n",
    "\n",
    "import cv2\n",
    "import numpy as np\n",
    "from matplotlib import pyplot as plt\n",
    "\n",
    "file_name = '../open_cv/fig/cat.bmp'\n",
    "img = cv2.imread(file_name)\n",
    "rows, cols = img.shape[:2]\n",
    "\n",
    "\n",
    "#---① 원근 변환 전 후 4개 좌표\n",
    "pts1 = np.float32([[0,0], [0,rows], [cols, 0], [cols,rows]])\n",
    "pts2 = np.float32([[0,0], [0,rows], [cols, 0], [cols,rows]])\n",
    "\n",
    "#---② 변환 전 좌표를 원본 이미지에 표시\n",
    "# cv2.circle(img, (0,0), 10, (255,0,0), -1)\n",
    "# cv2.circle(img, (0,rows), 10, (0,255,0), -1)\n",
    "# cv2.circle(img, (cols,0), 10, (0,0,255), -1)\n",
    "# cv2.circle(img, (cols,rows), 10, (0,255,255), -1)\n",
    "\n",
    "#---③ 원근 변환 행렬 계산\n",
    "mtrx = cv2.getPerspectiveTransform(pts1, pts2)\n",
    "#---④ 원근 변환 적용\n",
    "dst = cv2.warpPerspective(img, mtrx, (cols, rows))\n",
    "\n",
    "cv2.imshow(\"origin\", img)\n",
    "cv2.imshow('perspective', dst)\n",
    "cv2.waitKey(0)\n",
    "cv2.destroyAllWindows()"
   ]
  },
  {
   "cell_type": "code",
   "execution_count": null,
   "id": "c65c956e",
   "metadata": {},
   "outputs": [],
   "source": []
  },
  {
   "cell_type": "code",
   "execution_count": null,
   "id": "91f7446f",
   "metadata": {},
   "outputs": [],
   "source": []
  },
  {
   "cell_type": "code",
   "execution_count": null,
   "id": "54307daf",
   "metadata": {},
   "outputs": [],
   "source": []
  },
  {
   "cell_type": "code",
   "execution_count": null,
   "id": "d537c011",
   "metadata": {},
   "outputs": [],
   "source": []
  }
 ],
 "metadata": {
  "kernelspec": {
   "display_name": "Python 3 (ipykernel)",
   "language": "python",
   "name": "python3"
  },
  "language_info": {
   "codemirror_mode": {
    "name": "ipython",
    "version": 3
   },
   "file_extension": ".py",
   "mimetype": "text/x-python",
   "name": "python",
   "nbconvert_exporter": "python",
   "pygments_lexer": "ipython3",
   "version": "3.9.12"
  }
 },
 "nbformat": 4,
 "nbformat_minor": 5
}
