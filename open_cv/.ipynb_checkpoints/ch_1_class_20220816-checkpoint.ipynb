{
 "cells": [
  {
   "cell_type": "code",
   "execution_count": null,
   "id": "51981515",
   "metadata": {},
   "outputs": [],
   "source": [
    "import cv2\n",
    "import numpy as np\n",
    "import sys\n",
    "import matplotlib.pyplot as plt\n",
    "import glob"
   ]
  },
  {
   "cell_type": "code",
   "execution_count": null,
   "id": "7f112a94",
   "metadata": {},
   "outputs": [],
   "source": [
    "img = cv2.imread('./fig/PD_MRI.jpeg')\n",
    "\n",
    "if img is None:\n",
    "    print('image raed failed')\n",
    "    sys.exit()\n",
    "    \n",
    "img_rgb = cv2.cvtColor(img, cv2.COLOR_BGR2RGB)\n",
    "\n",
    "plt.imshow(img_rgb)\n",
    "plt.axis('off')\n",
    "plt.show()\n",
    "# cv2.namedWindow('image', cv2.WINDOW_AUTOSIZE)\n",
    "# cv2.imshow('image', img)\n",
    "\n",
    "# while True:\n",
    "#     key = cv2.waitKey()\n",
    "#     if key == 27 or key == ord('q'):\n",
    "#         break\n",
    "        \n",
    "# cv2.destroyAllWindows()"
   ]
  },
  {
   "cell_type": "code",
   "execution_count": null,
   "id": "813e0cac",
   "metadata": {},
   "outputs": [],
   "source": [
    "img_files = glob.glob('./fig/my_images/*.*')\n",
    "\n",
    "idx = 0\n",
    "\n",
    "cv2.namedWindow('scene', cv2.WINDOW_NORMAL)\n",
    "cv2.setWindowProperty('scene', cv2.WND_PROP_FULLSCREEN, cv2.WINDOW_FULLSCREEN)\n",
    "\n",
    "while True:\n",
    "    img = cv2.imread(img_files[idx])\n",
    "    \n",
    "    if img is None:\n",
    "        print('image read failed')\n",
    "        break\n",
    "    cv2.imshow('scene', img)\n",
    "    \n",
    "    if cv2.waitKey(3000) ==27:\n",
    "        break\n",
    "    \n",
    "    idx += 1\n",
    "    \n",
    "    if idx >= len(img_files):\n",
    "        idx = 0\n",
    "        \n",
    "cv2.destroyAllWindows()"
   ]
  },
  {
   "cell_type": "code",
   "execution_count": null,
   "id": "ca90cc59",
   "metadata": {},
   "outputs": [],
   "source": [
    "img = cv2.imread('./fig/cat.bmp')\n",
    "\n",
    "h, w = img.shape[:2]\n",
    "\n",
    "\n",
    "cv2.imshow('image', img)\n",
    "cv2.waitKey()\n",
    "cv2.destroyAllWindows()"
   ]
  },
  {
   "cell_type": "code",
   "execution_count": null,
   "id": "6fccfee5",
   "metadata": {},
   "outputs": [],
   "source": [
    "img1 = np.zeros((400, 600, 3), np.uint8)\n",
    "img2 = np.ones((400,600,3), np.uint8)*255\n",
    "img3 = np.full((400,600,3), (255,255,255), np.uint8)\n",
    "\n",
    "cv2.imshow('img1', img1)\n",
    "cv2.imshow('img2', img2)\n",
    "cv2.imshow('img3', img3)\n",
    "\n",
    "cv2.waitKey()\n",
    "\n",
    "cv2.destroyAllWindows()"
   ]
  },
  {
   "cell_type": "code",
   "execution_count": null,
   "id": "59c720b3",
   "metadata": {},
   "outputs": [],
   "source": [
    "img1 = cv2.imread('./fig/puppy.bmp')\n",
    "\n",
    "img2 = img1[200:400, 300:500]\n",
    "img3 = img1[200:400, 300:500].copy()\n",
    "\n",
    "cv2.circle(img2, (100, 100), 50, (0,0,255), 5, cv2.LINE_AA)\n",
    "cv2.circle(img3, (100, 100), 50, (0,0,255), -1)\n",
    "\n",
    "cv2.imshow('img1', img1)\n",
    "cv2.imshow('img2', img2)\n",
    "cv2.imshow('img3', img3)\n",
    "\n",
    "cv2.waitKey()\n",
    "\n",
    "cv2.destroyAllWindows()"
   ]
  },
  {
   "cell_type": "code",
   "execution_count": null,
   "id": "a741024f",
   "metadata": {},
   "outputs": [],
   "source": [
    "src = cv2.imread('./fig/airplane.bmp')\n",
    "mask = cv2.imread('./fig/mask_plane.bmp')\n",
    "dst = cv2.imread('./fig/field.bmp')\n",
    "\n",
    "cv2.copyTo(src,mask,dst)\n",
    "\n",
    "cv2.imshow('src', src)\n",
    "cv2.imshow('mask', mask)\n",
    "cv2.imshow('dst', dst)\n",
    "\n",
    "cv2.waitKey()\n",
    "\n",
    "cv2.destroyAllWindows()"
   ]
  },
  {
   "cell_type": "code",
   "execution_count": null,
   "id": "e8ee5f98",
   "metadata": {},
   "outputs": [],
   "source": [
    "src = cv2.imread('./fig/cow.png')\n",
    "dst = cv2.imread('./fig/green.png')\n",
    "\n",
    "src_gray = cv2.cvtColor(src, cv2.COLOR_BGR2GRAY)\n",
    "_, src_mask = cv2.threshold(src_gray, 240, 255, cv2.THRESH_BINARY_INV)\n",
    "\n",
    "h, w = src_gray.shape[:2]\n",
    "\n",
    "crop = dst[200:200+h, 300:300+w]\n",
    "\n",
    "cv2.copyTo(src,src_mask, crop)\n",
    "\n",
    "cv2.imshow('src', src)\n",
    "cv2.imshow('mask', src_mask)\n",
    "cv2.imshow('crop', crop)\n",
    "\n",
    "cv2.waitKey()\n",
    "\n",
    "cv2.destroyAllWindows()"
   ]
  },
  {
   "cell_type": "markdown",
   "id": "1aa148cd",
   "metadata": {},
   "source": [
    "## 판넬에 글씨쓰기"
   ]
  },
  {
   "cell_type": "code",
   "execution_count": 3,
   "id": "23545a38",
   "metadata": {},
   "outputs": [],
   "source": [
    "import cv2\n",
    "import numpy as np\n",
    "import sys\n",
    "import matplotlib.pyplot as plt\n",
    "import glob"
   ]
  },
  {
   "cell_type": "code",
   "execution_count": null,
   "id": "82b69be7",
   "metadata": {},
   "outputs": [],
   "source": [
    "img = np.full((600, 1200, 3), (255, 255, 255), np.uint8)\n",
    "\n",
    "#cv2.line(img,pt1, pt2, color, thickness = None, lintType = None, shift = None) -> img\n",
    "#flags\n",
    "    # img: 그림을 그릴 영상\n",
    "    # pt1, pt2 : 직선의 시작점, 끝점\n",
    "    # color : 직선의 칼라 (B, G, R)의 튜플\n",
    "    # thickness:  선두께, 기본은 =1\n",
    "    # lineType : cv2.LINE_4, cv2.LINE_8, cv2.LINE_AA\n",
    "\n",
    "cv2.line(img, (100, 100), (300, 100), (0, 0, 255),5, cv2.LINE_8)\n",
    "cv2.line(img, (300, 100), (200, 300), (0, 0, 255), 10, cv2.LINE_AA)\n",
    "cv2.arrowedLine(img, (400, 100), (400, 300), (255, 0, 0), 10, cv2.LINE_AA)\n",
    "\n",
    "#cv2.rectangle(img, pt1, pt2, color, thickness = None, lineType =None) -> img\n",
    "    #pt: 좌측 상단, pt2: 우측 하단\n",
    "#cv2.rectangle(img, rect, color, thickness, =None, lineType = None) -> img\n",
    "    #rect: 사각형의 위치 정보 ( x, y, w, h)\n",
    "    \n",
    "cv2.rectangle(img, (150, 400), (400,500), (0,0,255), 5)\n",
    "cv2.rectangle(img, (170, 420, 210, 60), (0, 255, 0), -1)\n",
    "\n",
    "#cv2.circle(img, center, radius, color, thickness = None, lineType = None) -> img\n",
    "    # center :  원의 중심좌표(x,y)\n",
    "    # radius : 원의 반지름\n",
    "    \n",
    "cv2.circle(img, (700, 300), 100, (0,0,255), 7, cv2.LINE_AA)\n",
    "\n",
    "#cv2.ellips(img, center, axes, angle, starAngle, endAngle, color[, thickness,[, lineType[, shift]]])\n",
    "    # center:원의 중심좌표 (x, y)\n",
    "    # axis: 축의 반지름 ( x, y)\n",
    "    # angle:타원의 기울기 (예, 10, 오른쪽으로 10도 기울어짐)\n",
    "    # startAngle:타원을 그리는 시작 각도 (3시 방향이 0도)\n",
    "    # endAngle:타원을 그리는 종료 각도\n",
    "\n",
    "cv2.ellipse(img, (700,300), (100, 50), -20, 0, 270,\n",
    "           (255, 0, 255), 10, cv2.LINE_AA)    \n",
    "\n",
    "# putText(img, text, org, fontFace, fontScale, color[, thickness[, lineType[, bottomLeftOrigin]]]) -> img    \n",
    "text = 'OpenCV  '+cv2.__version__    \n",
    "cv2.putText(img, text, (700, 500), cv2.FONT_HERSHEY_COMPLEX, 2,\n",
    "           (128, 128, 128), 1, cv2.LINE_AA)    \n",
    "    \n",
    "cv2.imshow('image', img)\n",
    "\n",
    "cv2.waitKey()\n",
    "cv2.destroyAllWindows()\n"
   ]
  },
  {
   "cell_type": "markdown",
   "id": "ae6a5db3",
   "metadata": {},
   "source": [
    "## 과제"
   ]
  },
  {
   "cell_type": "code",
   "execution_count": null,
   "id": "e5fae081",
   "metadata": {},
   "outputs": [],
   "source": [
    "img = np.full((600, 1200, 3), (255, 255, 255), np.uint8)\n",
    "\n",
    "cv2.circle(img, (150, 200), 100, (120, 200, 180), 5, cv2.LINE_AA)\n",
    "\n",
    "cv2.line(img, (350, 100), (350, 300), (120, 200, 180), 5, cv2.LINE_AA)\n",
    "cv2.line(img, (180, 350), (180, 450), (120, 200, 180), 5, cv2.LINE_AA)\n",
    "cv2.line(img, (180, 450), (350, 450), (120, 200, 180), 5, cv2.LINE_AA)\n",
    "\n",
    "\n",
    "cv2.line(img, (700, 100), (630, 300), (120, 200, 180), 5, cv2.LINE_AA)\n",
    "cv2.line(img, (680, 150), (770, 300), (120, 200, 180), 5, cv2.LINE_AA)\n",
    "\n",
    "cv2.line(img, (850, 80), (850, 300), (120, 200, 180), 5, cv2.LINE_AA)\n",
    "cv2.line(img, (850, 200), (900, 200), (120, 200, 180), 5, cv2.LINE_AA)\n",
    "\n",
    "cv2.rectangle(img, (680, 350, 200, 100), (120, 200, 180), 5)\n",
    "\n",
    "text = 'Ginseung'\n",
    "cv2.putText(img,text, (900, 500), cv2.FONT_HERSHEY_SIMPLEX, 2,\n",
    "           (0,0,0), 1, cv2.LINE_AA)\n",
    "\n",
    "cv2.imwrite('img.jpg', img)\n",
    "\n",
    "cv2.imshow('image', img)\n",
    "\n",
    "cv2.waitKey()\n",
    "cv2.destroyAllWindows()"
   ]
  },
  {
   "cell_type": "code",
   "execution_count": 19,
   "id": "4db4fa5a",
   "metadata": {},
   "outputs": [],
   "source": [
    "cap = cv2.VideoCapture(0)\n",
    "\n",
    "if not cap.isOpened():\n",
    "    print('camera open failed')\n",
    "    sys.exit()\n",
    "    \n",
    "w = int(cap.get(cv2.CAP_PROP_FRAME_WIDTH))\n",
    "h = int(cap.get(cv2.CAP_PROP_FRAME_HEIGHT))\n",
    "fps = int(cap.get(cv2.CAP_PROP_FPS)*0.7)\n",
    "# fourcc= codec , 동영상 저장 형식\n",
    "fourcc = cv2.VideoWriter_fourcc(*'DIVX')\n",
    "\n",
    "out = cv2.VideoWriter('output.avi', fourcc, fps, (w,h))\n",
    "\n",
    "# print(w,h)\n",
    "    \n",
    "while True:\n",
    "    ret, frame = cap.read()\n",
    "    \n",
    "    if not ret:\n",
    "        print('frame read failed')\n",
    "        break\n",
    "        \n",
    "    # white = cv2.cvtColor(frame, cv2.COLOR_BGR2GRAY)\n",
    "    edge = cv2.Canny(frame, 20, 150)\n",
    "    edge_cvt = cv2.cvtColor(edge, cv2.COLOR_GRAY2BGR)\n",
    "    # inverse = 255 - white\n",
    "    \n",
    "#     out.write(frame)\n",
    "    out.write(edge_cvt)\n",
    "    cv2.imshow('image', frame)\n",
    "    cv2.imshow('edge', edge_cvt)\n",
    "    \n",
    "    if cv2.waitKey(20) == 27:\n",
    "        break\n",
    "        \n",
    "cap.release()\n",
    "cv2.destroyAllWindows()"
   ]
  },
  {
   "cell_type": "code",
   "execution_count": 6,
   "id": "a7ed2530",
   "metadata": {},
   "outputs": [
    {
     "data": {
      "text/plain": [
       "True"
      ]
     },
     "execution_count": 6,
     "metadata": {},
     "output_type": "execute_result"
    }
   ],
   "source": [
    "cap = cv2.VideoCapture(0)\n",
    "cap.isOpened()"
   ]
  },
  {
   "cell_type": "code",
   "execution_count": 20,
   "id": "9bc668e3",
   "metadata": {},
   "outputs": [
    {
     "data": {
      "text/plain": [
       "1.2000000000000002"
      ]
     },
     "execution_count": 20,
     "metadata": {},
     "output_type": "execute_result"
    }
   ],
   "source": []
  },
  {
   "cell_type": "code",
   "execution_count": null,
   "id": "0c8fc12b",
   "metadata": {},
   "outputs": [],
   "source": []
  }
 ],
 "metadata": {
  "kernelspec": {
   "display_name": "Python 3 (ipykernel)",
   "language": "python",
   "name": "python3"
  },
  "language_info": {
   "codemirror_mode": {
    "name": "ipython",
    "version": 3
   },
   "file_extension": ".py",
   "mimetype": "text/x-python",
   "name": "python",
   "nbconvert_exporter": "python",
   "pygments_lexer": "ipython3",
   "version": "3.9.12"
  }
 },
 "nbformat": 4,
 "nbformat_minor": 5
}
