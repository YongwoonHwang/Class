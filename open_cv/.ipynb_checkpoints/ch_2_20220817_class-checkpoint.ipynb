{
 "cells": [
  {
   "cell_type": "code",
<<<<<<< HEAD
   "execution_count": 1,
=======
   "execution_count": 4,
>>>>>>> 75916823a4373d44c36119f563a184d834ce5312
   "id": "bae53ac9",
   "metadata": {},
   "outputs": [],
   "source": [
    "import cv2\n",
    "import sys\n",
    "import numpy as np\n",
    "import glob\n",
    "import matplotlib.pyplot as plt"
   ]
  },
  {
   "cell_type": "code",
   "execution_count": null,
   "id": "a5eac548",
   "metadata": {},
   "outputs": [],
   "source": [
    "img = cv2.imread('./fig/cat.bmp')\n",
    "\n",
    "if img is None:\n",
    "    print('image read failed')\n",
    "    sys.exit()\n",
    "    \n",
    "cv2.namedWindow('image', cv2.WINDOW_AUTOSIZE)\n",
    "cv2.imshow('image', img)\n",
    "\n",
    "while True:\n",
    "    key = cv2.waitKey()\n",
    "    if key == 27 or key == ord('q'):\n",
    "        break\n",
    "    \n",
    "cv2.destroyAllWindows()"
   ]
  },
  {
   "cell_type": "code",
   "execution_count": null,
   "id": "5f2274a2",
   "metadata": {},
   "outputs": [],
   "source": [
    "img_files = glob.glob('./fig/my_images/*.*')\n",
    "\n",
    "cv2.namedWindow('scene', cv2.WINDOW_NORMAL)\n",
    "cv2.setWindowProperty('scene', cv2.WND_PROP_FULLSCREEN,\n",
    "                     cv2.WINDOW_FULLSCREEN)\n",
    "\n",
    "idx = 0\n",
    "\n",
    "while True:\n",
    "    img = cv2.imread(img_files[idx])\n",
    "    \n",
    "    if img is None:\n",
    "        print('image read failed')\n",
    "        break\n",
    "    cv2.imshow('scene', img)\n",
    "    \n",
    "    if cv2.waitKey(3000) == 27:\n",
    "        break\n",
    "        \n",
    "    idx +=1\n",
    "    if idx >= len(img_files):\n",
    "        idx = 0\n",
    "        \n",
    "cv2.destroyAllWindows()\n",
    "        "
   ]
  },
  {
   "cell_type": "code",
<<<<<<< HEAD
   "execution_count": 4,
=======
   "execution_count": null,
>>>>>>> 75916823a4373d44c36119f563a184d834ce5312
   "id": "67fefeca",
   "metadata": {},
   "outputs": [],
   "source": [
    "src = cv2.imread('./fig/airplane.bmp')\n",
    "mask = cv2.imread('./fig/mask_plane.bmp')\n",
    "dst = cv2.imread('./fig/field.bmp')\n",
    "\n",
    "cv2.copyTo(src, mask, dst)\n",
    "\n",
    "cv2.imshow('src', src)\n",
    "cv2.imshow('mask', mask)\n",
    "cv2.imshow('dst', dst)\n",
    "\n",
    "cv2.waitKey()\n",
    "cv2.destroyAllWindows()"
   ]
  },
  {
   "cell_type": "code",
   "execution_count": 5,
   "id": "b12a572c",
   "metadata": {},
   "outputs": [],
   "source": [
    "cap = cv2.VideoCapture(0)\n",
    "\n",
    "if not cap.isOpened():\n",
    "    print('camera open failed')\n",
    "    sys.exit()\n",
    "    \n",
    "w = int(cap.get(cv2.CAP_PROP_FRAME_WIDTH))\n",
    "h = int(cap.get(cv2.CAP_PROP_FRAME_HEIGHT))\n",
    "fps = int(cap.get(cv2.CAP_PROP_FPS)*0.8)\n",
    "fourcc = cv2.VideoWriter_fourcc(*'DIVX')\n",
    "    \n",
    "out = cv2.VideoWriter('output.avi', fourcc,fps, (w,h))    \n",
    "while True:\n",
    "    \n",
    "    ret, frame = cap.read()\n",
    "    \n",
    "    if not ret:\n",
    "        print('frame open failed')\n",
    "        break\n",
    "    \n",
    "    edge = cv2.Canny(frame, 50, 150)\n",
    "    \n",
    "    out.write(frame)\n",
    "    \n",
    "    cv2.imshow('image', frame)\n",
    "    cv2.imshow('edge', edge)\n",
    "    \n",
    "    if cv2.waitKey(20) == 27:\n",
    "        break\n",
    "        \n",
    "        \n",
    "out.release()\n",
    "cap.release()\n",
    "cv2.destroyAllWindows()"
   ]
  },
  {
   "cell_type": "code",
   "execution_count": null,
   "id": "7d8ece33",
   "metadata": {},
   "outputs": [],
   "source": [
    "img = cv2.imread('./fig/puppy.bmp', 0)\n",
    "\n",
    "cv2.imshow('image', img)\n",
    "\n",
    "while True:\n",
    "    key = cv2.waitKey()\n",
    "    \n",
    "    if key == ord('i'):\n",
    "        img = 255 - img\n",
    "        cv2.imshow('imgae', img)\n",
    "        \n",
    "    elif key == ord('e'):\n",
    "        img = cv2.Canny(img, 50, 150)\n",
    "        cv2.imshow('image', img)\n",
    "        \n",
    "    elif key == 27:\n",
    "        break\n",
    "    \n",
    "cv2.destroyAllWindows()"
   ]
  },
  {
   "cell_type": "markdown",
   "id": "116a9276",
   "metadata": {},
   "source": [
    "## 과제"
   ]
  },
  {
   "cell_type": "code",
   "execution_count": null,
   "id": "99b9f74b",
   "metadata": {},
   "outputs": [],
   "source": [
    "img = cv2.imread('./fig/puppy.bmp', 0)\n",
    "\n",
    "cv2.imshow('image', img)\n",
    "\n",
    "img1 = img.copy()\n",
    "\n",
    "while True:\n",
    "    key = cv2.waitKey()\n",
    "    \n",
    "    if key == ord('i'):\n",
    "        img = 255 - img\n",
    "        cv2.imshow('imgae', img)\n",
    "        \n",
    "    elif key == ord('e'):\n",
    "        img = cv2.Canny(img, 50, 150)\n",
    "        cv2.imshow('image', img)\n",
    "    \n",
    "    elif key == ord('r'):\n",
    "        img = img1.copy()\n",
    "        cv2.imshow('image', img)\n",
    "        \n",
    "    elif key == ord('s'):\n",
    "        cv2.imwrite('image.jpg', img)\n",
    "        cv2.imshow('image', img)\n",
    "        \n",
    "    elif key == 27:\n",
    "        break\n",
    "    \n",
    "cv2.destroyAllWindows()"
   ]
  },
  {
   "cell_type": "code",
   "execution_count": null,
   "id": "2656bbf2",
   "metadata": {},
   "outputs": [],
   "source": [
    "# cv2.setMouseCallback(window)\n",
    "\n",
    "# event: 마우스 \n",
    "# x, y:  창을 기준으로 이벤트 발생좌표\n",
    "# flags: 이벤트시 발생 상태 e.g, \"ctrl\"\n",
    "# param: cv2.setMouseCallback()함수에서 설정한 데이터\n",
    "\n",
    "# 마우스 event와 flags reference\n",
    "# docs/opencv.org/master => MouseEventTypes cv, MouseEventFlags cv"
   ]
  },
  {
   "cell_type": "markdown",
   "id": "c085b623",
   "metadata": {},
   "source": [
    "## 판넬에 그리기"
   ]
  },
  {
   "cell_type": "code",
   "execution_count": 2,
   "id": "f7259c9a",
   "metadata": {},
   "outputs": [],
   "source": [
    "def call_mouse(event, x, y, flags, param):\n",
    "    global oldx, oldy\n",
    "\n",
    "    if event == cv2.EVENT_LBUTTONDOWN:\n",
    "        oldx, oldy = x, y\n",
    "    \n",
    "#     elif event == cv2.EVENT_LBUTTONUP:\n",
    "#         print('Left botton up:', x, y)\n",
    "        \n",
    "    elif event == cv2.EVENT_MOUSEMOVE:\n",
    "        if flags == cv2.EVENT_FLAG_LBUTTON:\n",
    "            cv2.line(img, (oldx, oldy), (x, y), (0,0, 255), 5, cv2.LINE_AA)\n",
    "            cv2.imshow('image', img)\n",
    "            oldx, oldy = x, y\n",
    "\n",
    "\n",
    "    \n",
    "img = np.ones((480, 640, 3), np.uint8)*255\n",
    "\n",
    "cv2.namedWindow('image')\n",
    "cv2.setMouseCallback('image', call_mouse, img)\n",
    "\n",
    "cv2.imshow('image', img)\n",
    "\n",
    "cv2.waitKey()\n",
    "cv2.destroyAllWindows()"
   ]
  },
  {
   "cell_type": "markdown",
   "id": "90f8263b",
   "metadata": {},
   "source": [
    "## 과제2"
   ]
  },
  {
   "cell_type": "code",
   "execution_count": 3,
   "id": "77f9f468",
   "metadata": {},
   "outputs": [],
   "source": [
    "cap = cv2.VideoCapture(0)\n",
    "\n",
    "if not cap.isOpened():\n",
    "    print('camera failed')\n",
    "    sys.exit()\n",
    "        \n",
    "f_flag = False\n",
    "i_flag = False\n",
    "    \n",
    "while True:\n",
    "    \n",
    "    ret, frame = cap.read()\n",
    "    \n",
    "    if not ret:\n",
    "        print('frame open failed')\n",
    "        break\n",
    "        \n",
    "    if f_flag:\n",
    "        frame = cv2.flip(frame, 1)\n",
    "        \n",
    "    if i_flag:\n",
    "        frame = cv2.Canny(frame, 50, 150)\n",
    "    \n",
    "    cv2.imshow('image', frame)\n",
    "    \n",
    "    key = cv2.waitKey(20)\n",
    "\n",
    "    if key == ord('f'):\n",
    "        f_flag = not f_flag\n",
    "        \n",
    "    elif key == ord('i'):\n",
    "        i_flag = not i_flag\n",
    "        \n",
    "    elif key == 27:\n",
    "        break\n",
    "        \n",
    "cap.release()\n",
    "cv2.destroyAllWindows()"
   ]
  },
  {
   "cell_type": "code",
   "execution_count": null,
   "id": "3a8e45d3",
   "metadata": {},
   "outputs": [],
   "source": [
    "import cv2\n",
    "import sys\n",
    "import numpy as np\n",
    "import glob\n",
    "import matplotlib.pyplot as plt"
   ]
  },
  {
   "cell_type": "markdown",
   "id": "390d67c8",
   "metadata": {},
   "source": [
    "# 암기 !!"
   ]
  },
  {
   "cell_type": "code",
   "execution_count": null,
   "id": "3fbb2f44",
   "metadata": {},
   "outputs": [],
   "source": [
    "cap = cv2.VideoCapture(0)\n",
    "\n",
    "while True:\n",
    "    \n",
    "    ret, frame = cap.read()\n",
    "    \n",
    "    cv2.imshow('image', frame)\n",
    "    \n",
    "    if cv2.waitKey(20) == 27:\n",
    "        break\n",
    "\n",
    "cap.release()\n",
    "cv2.destroyAllWindows()"
   ]
  },
  {
   "cell_type": "code",
   "execution_count": 8,
   "id": "329da3e0",
   "metadata": {},
   "outputs": [],
   "source": [
    "# createTrackbar (trackbarName, windowName, value, count, onChange) => None\n",
    "# trackbarName: 트랙바 이름\n",
    "# windowName: 트랙바를 생성할 창 이름\n",
    "# value: 트랙바 위치 초기값\n",
    "# count: 트랙바 최댓값, 최솟값은 0\n",
    "# onChange: callback 함수 e.g., onChange(pos) 위치를 정수형태로 전달"
   ]
  },
  {
   "cell_type": "markdown",
   "id": "1710a393",
   "metadata": {},
   "source": [
    "## 트랙바"
   ]
  },
  {
   "cell_type": "code",
   "execution_count": 9,
   "id": "5d1c2070",
   "metadata": {},
   "outputs": [],
   "source": [
    "def call_trackbar(pos):\n",
    "    img[:] = pos\n",
    "    cv2.imshow('image', img)\n",
    "\n",
    "img = np.ones((400, 600), np.uint8)\n",
    "\n",
    "cv2.imshow('image', img)\n",
    "cv2.createTrackbar('Level', 'image', 0, 255, call_trackbar)\n",
    "\n",
    "cv2.waitKey()\n",
    "\n",
    "cv2.destroyAllWindows()"
   ]
  },
  {
   "cell_type": "code",
   "execution_count": 20,
   "id": "f6c4068c",
   "metadata": {},
   "outputs": [],
   "source": [
    "def call_trackbar(pos):\n",
    "    img[:] = img+pos\n",
    "    cv2.imshow('image', img)\n",
    "    \n",
    "img = cv2.imread('./fig/puppy.bmp',0)\n",
    "\n",
    "cv2.imshow('image', img)\n",
    "cv2.createTrackbar('Level', 'image', 0, 255, call_trackbar)\n",
    "\n",
    "cv2.waitKey()\n",
    "cv2.destroyAllWindows()"
   ]
  },
  {
   "cell_type": "markdown",
   "id": "7aff25fa",
   "metadata": {},
   "source": [
    "## 과제3"
   ]
  },
  {
   "cell_type": "code",
   "execution_count": 24,
   "id": "9755e0bb",
   "metadata": {},
   "outputs": [],
   "source": [
    "def call_trackbar(pos):\n",
    "    # print(pos/255)\n",
    "    # [:]로 메모리를 잡아놓지 않은 상태에서  round 함수를 쓰지 않으면 \n",
    "    # 소수점으로 연산되어 출력이 제대로 되지 않음 \n",
    "    img[:] = np.round(img1*(pos/255), 0).astype(np.uint8)\n",
    "    cv2.imshow('image', img)\n",
    "\n",
    "\n",
    "img = cv2.imread('./fig/puppy.bmp', 0)\n",
    "img1 = img.copy()\n",
    "\n",
    "cv2.imshow('image', img)\n",
    "cv2.createTrackbar('Level', 'image', 0, 255, call_trackbar)\n",
    "\n",
    "cv2.waitKey()\n",
    "cv2.destroyAllWindows()"
   ]
  },
  {
   "cell_type": "code",
   "execution_count": null,
   "id": "bd93a2a0",
   "metadata": {},
   "outputs": [],
   "source": []
  }
 ],
 "metadata": {
  "kernelspec": {
   "display_name": "Python 3 (ipykernel)",
   "language": "python",
   "name": "python3"
  },
  "language_info": {
   "codemirror_mode": {
    "name": "ipython",
    "version": 3
   },
   "file_extension": ".py",
   "mimetype": "text/x-python",
   "name": "python",
   "nbconvert_exporter": "python",
   "pygments_lexer": "ipython3",
   "version": "3.9.12"
  }
 },
 "nbformat": 4,
 "nbformat_minor": 5
}
