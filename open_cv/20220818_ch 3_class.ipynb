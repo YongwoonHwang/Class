{
 "cells": [
  {
   "cell_type": "code",
   "execution_count": 9,
   "id": "c7460958",
   "metadata": {},
   "outputs": [],
   "source": [
    "import cv2\n",
    "import sys\n",
    "import numpy as np\n",
    "import glob\n",
    "import matplotlib.pyplot as plt "
   ]
  },
  {
   "cell_type": "code",
   "execution_count": 5,
   "id": "99d52492",
   "metadata": {},
   "outputs": [],
   "source": [
    "img = cv2.imread('./fig/puppy.bmp')\n",
    "\n",
    "if img is None:\n",
    "    print('image read failed')\n",
    "    sys.exit()\n",
    "    \n",
    "cv2.namedWindow('image', cv2.WINDOW_NORMAL)\n",
    "cv2.imshow('image', img)\n",
    "\n",
    "while True:\n",
    "    key = cv2.waitKey()\n",
    "    if key == 27 or key == ord('q'):\n",
    "        break\n",
    "        \n",
    "cv2.destroyAllWindows()"
   ]
  },
  {
   "cell_type": "code",
   "execution_count": 6,
   "id": "c7ac6954",
   "metadata": {},
   "outputs": [
    {
     "name": "stdout",
     "output_type": "stream",
     "text": [
      "video open failed\n"
     ]
    },
    {
     "ename": "SystemExit",
     "evalue": "",
     "output_type": "error",
     "traceback": [
      "An exception has occurred, use %tb to see the full traceback.\n",
      "\u001b[1;31mSystemExit\u001b[0m\n"
     ]
    },
    {
     "name": "stderr",
     "output_type": "stream",
     "text": [
      "C:\\Users\\a0109\\anaconda3\\lib\\site-packages\\IPython\\core\\interactiveshell.py:3377: UserWarning: To exit: use 'exit', 'quit', or Ctrl-D.\n",
      "  warn(\"To exit: use 'exit', 'quit', or Ctrl-D.\", stacklevel=1)\n"
     ]
    }
   ],
   "source": [
    "cap = cv2.VideoCapture(0)\n",
    "\n",
    "if cap.isOpened():\n",
    "    print('video open failed')\n",
    "    sys.exit()\n",
    "    \n",
    "w = int(cap.get(cv2.CAP_PROP_FRAME_WIDTH)) \n",
    "h = int(cap.get(cv2.CAP_PROP_FRAME_HEIGHT))\n",
    "fps = int(cap.get(cv2.CAP_PROP_FPS)*0.8)\n",
    "fourcc = cv2.VideoWriter_fourcc(*'DVIX')\n",
    "\n",
    "out = cv2.VideoWriter('output.avi', fourcc, fps, (w,h))\n",
    "while True:\n",
    "    ret, frame = cap.read()\n",
    "    \n",
    "    if not ret:\n",
    "        print('frame open failed')\n",
    "        break\n",
    "        \n",
    "    edge = cv2.Canny(frame, 50, 150)\n",
    "    \n",
    "    out.write(frame)\n",
    "    \n",
    "    cv2.imshow('image', frame)\n",
    "    cv2.imshow('edge', edge)\n",
    "    \n",
    "    if cv2.waitKey(20) == 27:\n",
    "        break\n",
    "        \n",
    "cap.release()\n",
    "cv2.destroyAllWindows()"
   ]
  },
  {
   "cell_type": "code",
   "execution_count": 2,
   "id": "ff8e1ce9",
   "metadata": {},
   "outputs": [
    {
     "ename": "NameError",
     "evalue": "name 'key' is not defined",
     "output_type": "error",
     "traceback": [
      "\u001b[1;31m---------------------------------------------------------------------------\u001b[0m",
      "\u001b[1;31mNameError\u001b[0m                                 Traceback (most recent call last)",
      "Input \u001b[1;32mIn [2]\u001b[0m, in \u001b[0;36m<cell line: 11>\u001b[1;34m()\u001b[0m\n\u001b[0;32m      8\u001b[0m cv2\u001b[38;5;241m.\u001b[39mimshow(\u001b[38;5;124m'\u001b[39m\u001b[38;5;124mimage\u001b[39m\u001b[38;5;124m'\u001b[39m, img)\n\u001b[0;32m     10\u001b[0m \u001b[38;5;28;01mwhile\u001b[39;00m \u001b[38;5;28;01mTrue\u001b[39;00m:\n\u001b[1;32m---> 11\u001b[0m     \u001b[43mkey\u001b[49m \u001b[38;5;241m==\u001b[39m cv2\u001b[38;5;241m.\u001b[39mwaitKey()\n\u001b[0;32m     13\u001b[0m     \u001b[38;5;28;01mif\u001b[39;00m key \u001b[38;5;241m==\u001b[39m\u001b[38;5;28mord\u001b[39m(\u001b[38;5;124m'\u001b[39m\u001b[38;5;124mi\u001b[39m\u001b[38;5;124m'\u001b[39m):\n\u001b[0;32m     14\u001b[0m         img \u001b[38;5;241m=\u001b[39m \u001b[38;5;241m255\u001b[39m \u001b[38;5;241m-\u001b[39mimg\n",
      "\u001b[1;31mNameError\u001b[0m: name 'key' is not defined"
     ]
    }
   ],
   "source": [
    "img = cv2.imread('./fig/puppy.bmp', 0)\n",
    "\n",
    "if img is None:\n",
    "    print('image read failed')\n",
    "    sys.exit()\n",
    "    \n",
    "cv2.namedWindow('image', cv2.WINDOW_NORMAL)\n",
    "cv2.imshow('image', img)\n",
    "\n",
    "while True:\n",
    "    key == cv2.waitKey()\n",
    "    \n",
    "    if key ==ord('i'):\n",
    "        img = 255 -img\n",
    "        cv2.imshow('image', img)\n",
    "        \n",
    "    elif key == ord('e'):\n",
    "        img =cv2.Canny(img, 50, 150)\n",
    "        cv2.imshow('image', img)\n",
    "        \n",
    "    elif key ==27:\n",
    "        break\n",
    "        \n",
    "cv2.destroyAllWindows()"
   ]
  },
  {
   "cell_type": "code",
   "execution_count": null,
   "id": "00dec3a0",
   "metadata": {},
   "outputs": [],
   "source": [
    "def call_mouse(event, x, y, flags, param):\n",
    "    global oldx, oldy\n",
    "    \n",
    "    if event == cv2.EVENT_LBUTTONDOWN:\n",
    "        oldx, oldy = x,y\n",
    "        \n",
    "    elif event == cv2.EVENT_MOUSEMOVE:\n",
    "        if flags == cv2.EVENT_FLAG_LBUTTOn:\n",
    "            cv2.line(img, (oldx, oldy), (x,y), (0,0, 255), 10, cv2.LINE_AA)\n",
    "            cv2.imshow('image', img)\n",
    "            oldx, oldy = x, y\n",
    "\n",
    "img = np.ones((600,1200, 3), np.uint8)*255\n",
    "\n",
    "cv2.imshow('image', img)\n",
    "cv2.setMouseCallback('image', call_mouse, img)\n",
    "\n",
    "cv2.waitKey()\n",
    "\n",
    "cv2.destroyAllWindows()"
   ]
  },
  {
   "cell_type": "code",
   "execution_count": 11,
   "id": "c9c12b6d",
   "metadata": {},
   "outputs": [],
   "source": [
    "def call_track(pos):\n",
    "    img[:] = np.round(img1*(pos/255), 0).astype(np.uint8)\n",
    "    cv2.imshow('image', img)\n",
    "\n",
    "img = cv2.imread('./fig/puppy.bmp', 0)\n",
    "img1 = img.copy()\n",
    "\n",
    "cv2.imshow('image', img)\n",
    "cv2.createTrackbar('Level', 'image', 0, 255, call_track)\n",
    "\n",
    "cv2.waitKey()\n",
    "cv2.destroyAllWindows()"
   ]
  },
  {
   "cell_type": "code",
   "execution_count": 25,
   "id": "6e67c709",
   "metadata": {},
   "outputs": [
    {
     "name": "stdout",
     "output_type": "stream",
     "text": [
      "1.7663 ms\n"
     ]
    }
   ],
   "source": [
    "tm = cv2.TickMeter()\n",
    "\n",
    "src = cv2.imread('./fig/puppy.bmp', 0)\n",
    "\n",
    "tm.start()\n",
    "#GaussianBlur(src, ksize, sigmaX[, dst[, sigmaY[, borderType]]]) -> dst\n",
    "# 커널을 늘릴 수록 시간이 연산 시간이 지연 됨 \n",
    "img_blur = cv2.GaussianBlur(src, (0,0), 4)\n",
    "tm.stop()\n",
    "\n",
    "print(tm.getTimeMilli(), 'ms')\n",
    "\n",
    "cv2.imshow('image', src)\n",
    "cv2.imshow('image_blur', img_blur)\n",
    "\n",
    "cv2.waitKey()\n",
    "cv2.destroyAllWindows()"
   ]
  },
  {
   "cell_type": "code",
   "execution_count": null,
   "id": "059600fd",
   "metadata": {},
   "outputs": [],
   "source": []
  },
  {
   "cell_type": "code",
   "execution_count": null,
   "id": "2d02df02",
   "metadata": {},
   "outputs": [],
   "source": []
  }
 ],
 "metadata": {
  "kernelspec": {
   "display_name": "Python 3 (ipykernel)",
   "language": "python",
   "name": "python3"
  },
  "language_info": {
   "codemirror_mode": {
    "name": "ipython",
    "version": 3
   },
   "file_extension": ".py",
   "mimetype": "text/x-python",
   "name": "python",
   "nbconvert_exporter": "python",
   "pygments_lexer": "ipython3",
   "version": "3.9.12"
  }
 },
 "nbformat": 4,
 "nbformat_minor": 5
}
