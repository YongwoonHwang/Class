{
 "cells": [
  {
   "cell_type": "code",
   "execution_count": 3,
   "id": "a79abac9",
   "metadata": {},
   "outputs": [
    {
     "ename": "error",
     "evalue": "OpenCV(4.6.0) D:\\a\\opencv-python\\opencv-python\\opencv\\modules\\highgui\\src\\window_w32.cpp:2363: error: (-27:Null pointer) NULL window: 'dst' in function 'icvCreateTrackbar'\n",
     "output_type": "error",
     "traceback": [
      "\u001b[1;31m---------------------------------------------------------------------------\u001b[0m",
      "\u001b[1;31merror\u001b[0m                                     Traceback (most recent call last)",
      "Input \u001b[1;32mIn [3]\u001b[0m, in \u001b[0;36m<cell line: 23>\u001b[1;34m()\u001b[0m\n\u001b[0;32m     19\u001b[0m cv2\u001b[38;5;241m.\u001b[39mimshow(\u001b[38;5;124m'\u001b[39m\u001b[38;5;124mdst_hsv\u001b[39m\u001b[38;5;124m'\u001b[39m, dst2)\n\u001b[0;32m     20\u001b[0m \u001b[38;5;66;03m# cv2.namedWindow('dst')\u001b[39;00m\n\u001b[0;32m     21\u001b[0m \n\u001b[0;32m     22\u001b[0m \u001b[38;5;66;03m# cv2.imshow('dst', dst)\u001b[39;00m\n\u001b[1;32m---> 23\u001b[0m \u001b[43mcv2\u001b[49m\u001b[38;5;241;43m.\u001b[39;49m\u001b[43mcreateTrackbar\u001b[49m\u001b[43m(\u001b[49m\u001b[38;5;124;43m'\u001b[39;49m\u001b[38;5;124;43mh_min\u001b[39;49m\u001b[38;5;124;43m'\u001b[39;49m\u001b[43m,\u001b[49m\u001b[43m \u001b[49m\u001b[38;5;124;43m'\u001b[39;49m\u001b[38;5;124;43mdst\u001b[39;49m\u001b[38;5;124;43m'\u001b[39;49m\u001b[43m,\u001b[49m\u001b[43m \u001b[49m\u001b[38;5;241;43m50\u001b[39;49m\u001b[43m,\u001b[49m\u001b[43m \u001b[49m\u001b[38;5;241;43m179\u001b[39;49m\u001b[43m,\u001b[49m\u001b[43m \u001b[49m\u001b[43mcall_track\u001b[49m\u001b[43m)\u001b[49m\n\u001b[0;32m     24\u001b[0m cv2\u001b[38;5;241m.\u001b[39mcreateTrackbar(\u001b[38;5;124m'\u001b[39m\u001b[38;5;124mh_max\u001b[39m\u001b[38;5;124m'\u001b[39m, \u001b[38;5;124m'\u001b[39m\u001b[38;5;124mdst\u001b[39m\u001b[38;5;124m'\u001b[39m, \u001b[38;5;241m100\u001b[39m, \u001b[38;5;241m179\u001b[39m, call_track)\n\u001b[0;32m     26\u001b[0m cv2\u001b[38;5;241m.\u001b[39mwaitKey()\n",
      "\u001b[1;31merror\u001b[0m: OpenCV(4.6.0) D:\\a\\opencv-python\\opencv-python\\opencv\\modules\\highgui\\src\\window_w32.cpp:2363: error: (-27:Null pointer) NULL window: 'dst' in function 'icvCreateTrackbar'\n"
     ]
    }
   ],
   "source": [
    "def call_track(pos):\n",
    "    hmin = cv2.getTrackbarPos('h_min', 'dst')\n",
    "    hmax = cv2.getTrackbarPos('h_max', 'dst')\n",
    "    \n",
    "    dst = cv2.inRange(src, (hmin, 150, 0), (hmax, 255, 255))\n",
    "    cv2.imshow('dst', dst)\n",
    "\n",
    "    \n",
    "src = cv2.imread('./fig/chromakey.png')\n",
    "dst = cv2.imread('./fig/autumn.jpg', cv2.IMREAD_REDUCED_COLOR_4)\n",
    "\n",
    "src_hsv = cv2.cvtColor(src, cv2.COLOR_BGR2HSV)\n",
    "\n",
    "dst1 = cv2.inRange(src, (0, 100, 0), (80, 255, 80))\n",
    "dst2 = cv2.inRange(src_hsv, (50, 50, 0), (70, 255, 255))\n",
    "\n",
    "dst = cv2.copyTo(src, dst2)\n",
    "\n",
    "cv2.imshow('dst_hsv', dst2)\n",
    "# cv2.namedWindow('dst')\n",
    "\n",
    "# cv2.imshow('dst', dst)\n",
    "cv2.createTrackbar('h_min', 'dst', 50, 179, call_track)\n",
    "cv2.createTrackbar('h_max', 'dst', 100, 179, call_track)\n",
    "\n",
    "cv2.waitKey()\n",
    "cv2.destroyAllWindows()"
   ]
  },
  {
   "cell_type": "code",
   "execution_count": 1,
   "id": "1d9004c9",
   "metadata": {},
   "outputs": [],
   "source": [
    "import cv2\n",
    "import sys\n",
    "import numpy as np\n",
    "import matplotlib.pyplot as plt"
   ]
  },
  {
   "cell_type": "code",
   "execution_count": null,
   "id": "5f0df70c",
   "metadata": {},
   "outputs": [],
   "source": []
  }
 ],
 "metadata": {
  "kernelspec": {
   "display_name": "Python 3 (ipykernel)",
   "language": "python",
   "name": "python3"
  },
  "language_info": {
   "codemirror_mode": {
    "name": "ipython",
    "version": 3
   },
   "file_extension": ".py",
   "mimetype": "text/x-python",
   "name": "python",
   "nbconvert_exporter": "python",
   "pygments_lexer": "ipython3",
   "version": "3.9.12"
  }
 },
 "nbformat": 4,
 "nbformat_minor": 5
}
