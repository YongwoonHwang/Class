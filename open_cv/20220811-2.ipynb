{
 "cells": [
  {
   "cell_type": "code",
   "execution_count": 3,
   "id": "b68a1151",
   "metadata": {},
   "outputs": [],
   "source": [
    "import os\n",
    "import numpy as np\n",
    "import cv2\n",
    "import sys\n",
    "import matplotlib.pyplot as plt\n"
   ]
  },
  {
   "cell_type": "code",
   "execution_count": 4,
   "id": "9d26dd82",
   "metadata": {},
   "outputs": [],
   "source": [
    "img1 = cv2.imread('./fig/cat.bmp')\n",
    "\n",
    "if img1 is None:\n",
    "    print('image read failed')\n",
    "    sys.exit()\n",
    "    \n",
    "cv2.imshow('image1', img1)\n",
    "\n",
    "cv2.waitKey()\n",
    "cv2.destroyAllWindows()"
   ]
  },
  {
   "cell_type": "code",
   "execution_count": 12,
   "id": "ed2d219d",
   "metadata": {},
   "outputs": [
    {
     "name": "stdout",
     "output_type": "stream",
     "text": [
      "<class 'numpy.ndarray'>\n",
      "image1 shape (480, 640, 3)\n",
      "image2 shape (480, 640)\n",
      "data type uint8\n",
      "480 640\n"
     ]
    }
   ],
   "source": [
    "img1 = cv2.imread('./fig/cat.bmp')\n",
    "img2 = cv2.imread('./fig/cat.bmp', cv2.IMREAD_GRAYSCALE)\n",
    "\n",
    "print(type(img1))\n",
    "print('image1 shape', img1.shape)\n",
    "print('image2 shape', img2.shape)\n",
    "print('data type', img1.dtype)\n",
    "\n",
    "\n",
    "\n",
    "# 원래는 3개 받아야 하나 두개만 받겠다\n",
    "h,w = img1.shape[:2]\n",
    "print(h,w)\n",
    "# if img1 is None or img2 is None:\n",
    "#     print('image read failed')\n",
    "#     sys.exit()\n",
    "    \n",
    "# cv2.imshow('image1', img1)\n",
    "# cv2.imshow('image2', img2)\n",
    "\n",
    "# cv2.waitKey()\n",
    "# cv2.destroyAllWindows()"
   ]
  },
  {
   "cell_type": "code",
   "execution_count": 16,
   "id": "f44718f7",
   "metadata": {},
   "outputs": [
    {
     "name": "stdout",
     "output_type": "stream",
     "text": [
      "114\n"
     ]
    }
   ],
   "source": [
    "img = cv2.imread('./fig/cat.bmp', cv2.IMREAD_GRAYSCALE)\n",
    "\n",
    "# 중간값 찾기 \n",
    "h, w = img.shape[:2]\n",
    "# 매핑\n",
    "# p1 = img[h//2, w//2]\n",
    "p1 = img[240, 320]\n",
    "\n",
    "print(p1)\n",
    "\n",
    "cv2.imshow('image', img)\n",
    "\n",
    "cv2.waitKey()\n",
    "cv2.destroyAllWindows()"
   ]
  },
  {
   "cell_type": "code",
   "execution_count": null,
   "id": "b7ae3dc4",
   "metadata": {},
   "outputs": [],
   "source": []
  }
 ],
 "metadata": {
  "kernelspec": {
   "display_name": "Python 3 (ipykernel)",
   "language": "python",
   "name": "python3"
  },
  "language_info": {
   "codemirror_mode": {
    "name": "ipython",
    "version": 3
   },
   "file_extension": ".py",
   "mimetype": "text/x-python",
   "name": "python",
   "nbconvert_exporter": "python",
   "pygments_lexer": "ipython3",
   "version": "3.9.12"
  }
 },
 "nbformat": 4,
 "nbformat_minor": 5
}
