{
 "cells": [
  {
   "cell_type": "code",
   "execution_count": 3,
   "id": "6f352bcc",
   "metadata": {},
   "outputs": [],
   "source": [
    "import os\n",
    "import numpy as np\n",
    "import cv2\n",
    "import sys\n",
    "import matplotlib.pyplot as plt\n"
   ]
  },
  {
   "cell_type": "code",
   "execution_count": 4,
   "id": "70e98d8b",
   "metadata": {},
   "outputs": [],
   "source": [
    "img1 = cv2.imread('./fig/cat.bmp')\n",
    "\n",
    "if img1 is None:\n",
    "    print('image read failed')\n",
    "    sys.exit()\n",
    "    \n",
    "cv2.imshow('image1', img1)\n",
    "\n",
    "cv2.waitKey()\n",
    "cv2.destroyAllWindows()"
   ]
  },
  {
   "cell_type": "code",
   "execution_count": 12,
   "id": "0e6acad8",
   "metadata": {},
   "outputs": [
    {
     "name": "stdout",
     "output_type": "stream",
     "text": [
      "<class 'numpy.ndarray'>\n",
      "image1 shape (480, 640, 3)\n",
      "image2 shape (480, 640)\n",
      "data type uint8\n",
      "480 640\n"
     ]
    }
   ],
   "source": [
    "img1 = cv2.imread('./fig/cat.bmp')\n",
    "img2 = cv2.imread('./fig/cat.bmp', cv2.IMREAD_GRAYSCALE)\n",
    "\n",
    "print(type(img1))\n",
    "print('image1 shape', img1.shape)\n",
    "print('image2 shape', img2.shape)\n",
    "print('data type', img1.dtype)\n",
    "\n",
    "\n",
    "\n",
    "# 원래는 3개 받아야 하나 두개만 받겠다\n",
    "h,w = img1.shape[:2]\n",
    "print(h,w)\n",
    "# if img1 is None or img2 is None:\n",
    "#     print('image read failed')\n",
    "#     sys.exit()\n",
    "    \n",
    "# cv2.imshow('image1', img1)\n",
    "# cv2.imshow('image2', img2)\n",
    "\n",
    "# cv2.waitKey()\n",
    "# cv2.destroyAllWindows()"
   ]
  },
  {
   "cell_type": "code",
   "execution_count": 17,
   "id": "dfc806ac",
   "metadata": {},
   "outputs": [
    {
     "name": "stdout",
     "output_type": "stream",
     "text": [
      "114\n"
     ]
    }
   ],
   "source": [
    "img = cv2.imread('./fig/cat.bmp', cv2.IMREAD_GRAYSCALE)\n",
    "\n",
    "# 중간값 찾기 \n",
    "\n",
    "h, w = img.shape[:2]\n",
    "# 매핑\n",
    "# p1 = img[h//2, w//2]\n",
    "p1 = img[240, 320]\n",
    "\n",
    "#영상 바꾸기\n",
    "#numpy 브로드 캐스팅 기능 덕에 255, 255, 255 로 표현하지 않아도 됨\n",
    "img[h//2, w//2] = 255\n",
    "\n",
    "print(p1)\n",
    "\n",
    "cv2.imshow('image', img)\n",
    "\n",
    "cv2.waitKey()\n",
    "cv2.destroyAllWindows()"
   ]
  },
  {
   "cell_type": "code",
   "execution_count": 44,
   "id": "d5b7375e",
   "metadata": {},
   "outputs": [
    {
     "name": "stdout",
     "output_type": "stream",
     "text": [
      "[ 62 103 155]\n"
     ]
    }
   ],
   "source": [
    "img = cv2.imread('./fig/cat.bmp')\n",
    "\n",
    "# 중간값 찾기 \n",
    "\n",
    "h, w = img.shape[:2]\n",
    "\n",
    "p1 = img[h//2, w//2]\n",
    "\n",
    "img[10:200, 20:100] = (0,0,255)\n",
    "\n",
    "print(p1)\n",
    "\n",
    "cv2.imshow('image', img)\n",
    "\n",
    "cv2.waitKey()\n",
    "cv2.destroyAllWindows()"
   ]
  },
  {
   "cell_type": "code",
   "execution_count": 34,
   "id": "04032d8e",
   "metadata": {},
   "outputs": [],
   "source": [
    "img1 = np.zeros((400, 600, 3), dtype = np.uint8)\n",
    "#np.uint8을 항상 붙여줘야 함\n",
    "img2 = np.ones((600, 1200), np.uint8)*255\n",
    "#rgb 값을 조정해서 판넬 색상 변경 가능 \n",
    "img3 = np.full((600, 1200, 3), (64, 64, 128), np.uint8)\n",
    "\n",
    "cv2.imshow('img1', img1)\n",
    "cv2.imshow('img2', img2)\n",
    "cv2.imshow('img3', img3)\n",
    "\n",
    "cv2.waitKey()\n",
    "cv2.destroyAllWindows()"
   ]
  },
  {
   "cell_type": "markdown",
   "id": "d67cc7bb",
   "metadata": {},
   "source": [
    "### 원본을 손상시킨 복원 -  백업을 할때는 사용하지 않는다 "
   ]
  },
  {
   "cell_type": "code",
   "execution_count": 36,
   "id": "f54c65ad",
   "metadata": {},
   "outputs": [],
   "source": [
    "img = cv2.imread('./fig/puppy.bmp')\n",
    "\n",
    "#img1  백업\n",
    "img1 = img\n",
    "\n",
    "# call by reference - 주소값을 복사 \n",
    "\n",
    "img[200:300, 240:400] = (0, 0, 255)\n",
    "\n",
    "cv2.imshow('img', img)\n",
    "cv2.imshow('img1', img1)\n",
    "\n",
    "cv2.waitKey()\n",
    "cv2.destroyAllWindows()"
   ]
  },
  {
   "cell_type": "markdown",
   "id": "ef42d01d",
   "metadata": {},
   "source": [
    "### 원본을 훼손하지 않는 복원"
   ]
  },
  {
   "cell_type": "code",
   "execution_count": 53,
   "id": "d6385770",
   "metadata": {},
   "outputs": [],
   "source": [
    "img = cv2.imread('./fig/puppy.bmp')\n",
    "\n",
    "\n",
    "img1 = img.copy()\n",
    "\n",
    "\n",
    "img[200:300, 240:400] = (0, 0, 255)\n",
    "\n",
    "cv2.imshow('img', img)\n",
    "cv2.imshow('img1', img1)\n",
    "\n",
    "cv2.waitKey()\n",
    "cv2.destroyAllWindows()"
   ]
  },
  {
   "cell_type": "code",
   "execution_count": 75,
   "id": "d33f9de7",
   "metadata": {},
   "outputs": [],
   "source": [
    "img = cv2.imread('./fig/puppy.bmp')\n",
    "\n",
    "# img에서 부분 영상 떼어내기\n",
    "img1 = img[200:400, 300:500]\n",
    "img2 = img[200:400, 300:500].copy()\n",
    "\n",
    "# circle(img, center, radius, color[, thickness[, lineType[, shift]]]) \n",
    "cv2.circle(img1, (100, 100), 50, (0,0,255), -1)\n",
    "cv2.circle(img2, (100, 100), 50, (255,0,0), -1)\n",
    "\n",
    "\n",
    "cv2.imshow('img', img)\n",
    "cv2.imshow('img1', img1)\n",
    "cv2.imshow('img2', img2)\n",
    "\n",
    "cv2.waitKey()\n",
    "cv2.destroyAllWindows()"
   ]
  },
  {
   "cell_type": "markdown",
   "id": "c78d237f",
   "metadata": {},
   "source": [
    "## 과제"
   ]
  },
  {
   "cell_type": "code",
   "execution_count": 74,
   "id": "0d651fd4",
   "metadata": {},
   "outputs": [],
   "source": [
    "img = cv2.imread('./fig/puppy.bmp')\n",
    "\n",
    "\n",
    "\n",
    "img[150:250, 210:500] = (0,0,0)\n",
    "cv2.imwrite('img.jpg', img)\n",
    "cv2.imshow('img', img)\n",
    "\n",
    "cv2.waitKey()\n",
    "cv2.destroyAllWindows()"
   ]
  },
  {
   "cell_type": "code",
   "execution_count": null,
   "id": "e979dee7",
   "metadata": {},
   "outputs": [],
   "source": []
  }
 ],
 "metadata": {
  "kernelspec": {
   "display_name": "Python 3 (ipykernel)",
   "language": "python",
   "name": "python3"
  },
  "language_info": {
   "codemirror_mode": {
    "name": "ipython",
    "version": 3
   },
   "file_extension": ".py",
   "mimetype": "text/x-python",
   "name": "python",
   "nbconvert_exporter": "python",
   "pygments_lexer": "ipython3",
   "version": "3.9.12"
  }
 },
 "nbformat": 4,
 "nbformat_minor": 5
}
