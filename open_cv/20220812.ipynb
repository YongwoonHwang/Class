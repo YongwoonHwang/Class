{
 "cells": [
  {
   "cell_type": "code",
   "execution_count": 4,
   "id": "b57a52c1",
   "metadata": {},
   "outputs": [],
   "source": [
    "import cv2\n",
    "import numpy as np\n",
    "import sys\n",
    "import matplotlib.pyplot as plt\n",
    "import glob"
   ]
  },
  {
   "cell_type": "code",
   "execution_count": 7,
   "id": "c13fc64f",
   "metadata": {},
   "outputs": [],
   "source": [
    "img = cv2.imread('./fig/cow.png', cv2.IMREAD_GRAYSCALE)\n",
    "\n",
    "# img_resize = cv2.resize(img, (400, 300))\n",
    "# cv2.imwrite('img_resize.png', img_resize)\n",
    "\n",
    "# img_rgb = cv2.cvtColor(img, cv2.COLOR_BGR2RGB)\n",
    "\n",
    "if img is None:\n",
    "    print('image read failed')\n",
    "    sys.exit()\n",
    "    \n",
    "cv2.namedWindow('image', cv2.WINDOW_NORMAL)\n",
    "\n",
    "cv2.imshow('image', img)\n",
    "\n",
    "while True:\n",
    "    key = cv2.waitKey()\n",
    "    \n",
    "    if key == 27 or key == ord('q'):\n",
    "        break\n",
    "        \n",
    "cv2.destroyAllWindows()"
   ]
  },
  {
   "cell_type": "code",
   "execution_count": 2,
   "id": "c776ffb7",
   "metadata": {},
   "outputs": [],
   "source": []
  },
  {
   "cell_type": "code",
   "execution_count": 11,
   "id": "31a1badb",
   "metadata": {},
   "outputs": [],
   "source": [
    "# image 불러오기\n",
    "# img_files = glob.glob('./fig/images/*.*')\n",
    "\n",
    "# print(img_files[0])\n",
    "\n",
    "cv2.namedWindow('scene', cv2.WINDOW_NORMAL)\n",
    "cv2.setWindowProperty('scene', cv2.WND_PROP_FULLSCREEN, cv2.WINDOW_FULLSCREEN)\n",
    "\n",
    "idx = 0\n",
    "while True:\n",
    "    img = cv2.imread(img_files[idx])\n",
    "    \n",
    "    if img is None:\n",
    "        print('image read failed')\n",
    "        break\n",
    "        \n",
    "    cv2.imshow('scene', img)\n",
    "    \n",
    "    if cv2.waitKey(3000) == 27:\n",
    "        break\n",
    "        \n",
    "    idx +=1\n",
    "    \n",
    "    if idx >= len(img_files):\n",
    "        idx = 0\n",
    "        \n",
    "cv2.destroyAllWindows()"
   ]
  },
  {
   "cell_type": "markdown",
   "id": "19329cd4",
   "metadata": {},
   "source": [
    "## 판넬 만들기"
   ]
  },
  {
   "cell_type": "code",
   "execution_count": 14,
   "id": "87c10dbb",
   "metadata": {},
   "outputs": [],
   "source": [
    "img1 = np.zeros((400,600,3), np.uint8)\n",
    "img2 = np.ones((400,600,3), np.uint8)*255\n",
    "img3 = np.full((400,600,3), (180,0,0), np.uint8)\n",
    "\n",
    "cv2.imshow('img1', img1)\n",
    "cv2.imshow('img2', img2)\n",
    "cv2.imshow('img3', img3)\n",
    "\n",
    "cv2.waitKey()\n",
    "cv2.destroyAllWindows()"
   ]
  },
  {
   "cell_type": "markdown",
   "id": "81a5b830",
   "metadata": {},
   "source": [
    "## 영상의 복사"
   ]
  },
  {
   "cell_type": "code",
   "execution_count": 15,
   "id": "19650ca9",
   "metadata": {},
   "outputs": [],
   "source": [
    "img = cv2.imread('./fig/cat.bmp')\n",
    "\n",
    "# 합성할 때 필요에 따라 사용\n",
    "## 주소를 복사\n",
    "img1 = img\n",
    "## 이미지를 복사\n",
    "img2 = img.copy()\n",
    "\n",
    "cv2.circle(img, (100,100), 50, (0,0,255), 6, cv2.LINE_AA)\n",
    "\n",
    "cv2.imshow('img', img)\n",
    "cv2.imshow('img1', img1)\n",
    "cv2.imshow('img2', img2)\n",
    "\n",
    "cv2.waitKey()\n",
    "cv2.destroyAllWindows()"
   ]
  },
  {
   "cell_type": "markdown",
   "id": "71b9067f",
   "metadata": {},
   "source": [
    "## 영상 합성"
   ]
  },
  {
   "cell_type": "code",
   "execution_count": 21,
   "id": "7061a397",
   "metadata": {},
   "outputs": [],
   "source": [
    "src = cv2.imread('./fig/airplane.bmp')\n",
    "mask = cv2.imread('./fig/mask_plane.bmp', 0)\n",
    "dst = cv2.imread('./fig/field.bmp')\n",
    "\n",
    "if src is None or mask is None or dst is None:\n",
    "    print('image read failed')\n",
    "    sys.exit()\n",
    "\n",
    "# copyTo(src, mask[, dst]) -> dst\n",
    "# binary image인  mask에서 1인 부분만 source에서 destination으로 옮긴다.\n",
    "# dst = cv2.copyTo(src,mask)\n",
    "cv2.copyTo(src, mask, dst)    \n",
    "\n",
    "# mask가 1인 부분만 빨간색으로 변경 \n",
    "# dst[mask > 0] = (0,0,255)\n",
    "dst[mask > 0] = src[mask > 0]\n",
    "\n",
    "cv2.imshow('src', src)\n",
    "cv2.imshow('mask', mask)\n",
    "cv2.imshow('dst', dst)\n",
    "\n",
    "cv2.waitKey()\n",
    "cv2.destroyAllWindows()"
   ]
  },
  {
   "cell_type": "markdown",
   "id": "f75d1481",
   "metadata": {},
   "source": [
    "## 배경이 단색일경우  mask  영상 만들기"
   ]
  },
  {
   "cell_type": "code",
   "execution_count": 9,
   "id": "8be8684f",
   "metadata": {},
   "outputs": [],
   "source": [
    "src = cv2.imread('./fig/cow.png')\n",
    "dst = cv2.imread('./fig/green.png')\n",
    "\n",
    "src_gray = cv2.cvtColor(src, cv2.COLOR_BGR2GRAY)\n",
    "# 숫자를 주면 0 또는 1로 반으로 나누어 줌\n",
    "# threshold(src, thresh(k값), maxval, type[, dst]) -> retval, dst\n",
    "retval, mask = cv2.threshold(src_gray, 240, 255, cv2.THRESH_BINARY_INV)\n",
    "\n",
    "# 영상의 크기가 반드시 동일해야 한다, dst size 축소\n",
    "## numpy array  행렬 좌표계\n",
    "h , w = src.shape[:2]\n",
    "## cv2 좌표계 (h 와  w 반대로 )\n",
    "dst_resize = cv2.resize(dst, (w, h))\n",
    "\n",
    "cv2.copyTo(src, mask, dst_resize) \n",
    "\n",
    "cv2.imshow('src', src)\n",
    "cv2.imshow('dst', dst)\n",
    "cv2.imshow('dst_resize', dst_resize)\n",
    "cv2.imshow('src_gray', src_gray)\n",
    "cv2.imshow('src_mask', mask)\n",
    "\n",
    "\n",
    "\n",
    "cv2.waitKey()\n",
    "cv2.destroyAllWindows()"
   ]
  },
  {
   "cell_type": "markdown",
   "id": "a0daa64b",
   "metadata": {},
   "source": [
    "## 과제"
   ]
  },
  {
   "cell_type": "code",
   "execution_count": 2,
   "id": "c72e89aa",
   "metadata": {},
   "outputs": [],
   "source": [
    "src = cv2.imread('./fig/cow.png')\n",
    "dst = cv2.imread('./fig/green.png')\n",
    "\n",
    "src_gray = cv2.cvtColor(src, cv2.COLOR_BGR2GRAY)\n",
    "retval, mask = cv2.threshold(src_gray, 240, 255, cv2.THRESH_BINARY_INV)\n",
    "\n",
    "h, w = src.shape[:2]\n",
    "dst_resize = dst[400:400+h, 300:300+w]\n",
    "\n",
    "\n",
    "cv2.copyTo(src, mask, dst_resize) \n",
    "\n",
    "cv2.imshow('src', src)\n",
    "cv2.imshow('dst_resize', dst_resize)\n",
    "# cv2.imshow('dst_resize', dst_resize)\n",
    "cv2.imshow('src_mask', mask)\n",
    "cv2.imshow('dst', dst)\n",
    "\n",
    "cv2.waitKey()\n",
    "cv2.destroyAllWindows()"
   ]
  },
  {
   "cell_type": "code",
   "execution_count": null,
   "id": "1a5e7398",
   "metadata": {},
   "outputs": [],
   "source": []
  },
  {
   "cell_type": "code",
   "execution_count": 91,
   "id": "bc9626c0",
   "metadata": {},
   "outputs": [],
   "source": [
    "src = cv2.imread('./fig/puppy.bmp')\n",
    "sun = cv2.imread('./fig/imgbin_sunglasses_1.png', cv2.IMREAD_UNCHANGED)\n",
    "\n",
    "h,w = src.shape[:2]\n",
    "\n",
    "sun = cv2.resize(sun, (300, 150))\n",
    "\n",
    "crop = src[120:120+150, 220:220+300]\n",
    "\n",
    "mask = sun[:,:,-1]\n",
    "glass = sun[:,:,0:3]\n",
    "\n",
    "# print(src.shape)\n",
    "# print(sun.shape)\n",
    "\n",
    "cv2.copyTo(glass, mask, crop)\n",
    "\n",
    "crop[ mask > 0] = (0,0,255)\n",
    "\n",
    "cv2.imshow('src', src)\n",
    "cv2.imshow('glass', glass)\n",
    "cv2.imshow('mask', mask)\n",
    "cv2.imshow('crop', crop)\n",
    "\n",
    "\n",
    "cv2.waitKey()\n",
    "cv2.destroyAllWindows()"
   ]
  },
  {
   "cell_type": "markdown",
   "id": "0beeca29",
   "metadata": {},
   "source": [
    "## 과제"
   ]
  },
  {
   "cell_type": "code",
   "execution_count": 3,
   "id": "8ec11822",
   "metadata": {},
   "outputs": [],
   "source": [
    "src = cv2.imread('./fig/key_test.png')\n",
    "hat = cv2.imread('./fig/imgbin_hat.png', cv2.IMREAD_UNCHANGED)\n",
    "\n",
    "h,w = src.shape[:2]\n",
    "\n",
    "hat = cv2.resize(hat, (300, 400))\n",
    "\n",
    "crop = src[5:5+400, 210:210+300]\n",
    "\n",
    "mask = hat[:,:,-1]\n",
    "hat1 = hat[:,:,0:3]\n",
    "\n",
    "\n",
    "\n",
    "cv2.copyTo(hat1, mask, crop)\n",
    "\n",
    "# crop[ mask > 0] = (0,0,255)\n",
    "\n",
    "cv2.imshow('src', src)\n",
    "# cv2.imshow('hat1', hat1)\n",
    "# cv2.imshow('mask', mask)\n",
    "# cv2.imshow('crop', crop)\n",
    "\n",
    "\n",
    "# cv2.imwrite('img_resize.png', src)\n",
    "\n",
    "cv2.waitKey()\n",
    "cv2.destroyAllWindows()"
   ]
  },
  {
   "cell_type": "code",
   "execution_count": 94,
   "id": "4c13fbe4",
   "metadata": {},
   "outputs": [
    {
     "name": "stdout",
     "output_type": "stream",
     "text": [
      "(480, 640, 3)\n",
      "(400, 300, 4)\n"
     ]
    }
   ],
   "source": []
  },
  {
   "cell_type": "code",
   "execution_count": null,
   "id": "9723f59e",
   "metadata": {},
   "outputs": [],
   "source": []
  }
 ],
 "metadata": {
  "kernelspec": {
   "display_name": "Python 3 (ipykernel)",
   "language": "python",
   "name": "python3"
  },
  "language_info": {
   "codemirror_mode": {
    "name": "ipython",
    "version": 3
   },
   "file_extension": ".py",
   "mimetype": "text/x-python",
   "name": "python",
   "nbconvert_exporter": "python",
   "pygments_lexer": "ipython3",
   "version": "3.9.12"
  }
 },
 "nbformat": 4,
 "nbformat_minor": 5
}
