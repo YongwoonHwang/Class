{
 "cells": [
  {
   "cell_type": "code",
   "execution_count": null,
   "id": "f6704546",
   "metadata": {},
   "outputs": [],
   "source": [
    "import cv2\n",
    "import sys\n",
    "import numpy as np\n",
    "import matplotlib.pyplot as plt"
   ]
  },
  {
   "cell_type": "code",
   "execution_count": null,
   "id": "f7dadfe6",
   "metadata": {},
   "outputs": [],
   "source": [
    "src =cv2.imread('./fig/puppy_shrink.png', 0)\n",
    "\n",
    "# minMaxLoc(src[, mask]) -> minVal, maxVal, minLoc, maxLoc\n",
    "minVal, maxVal, minLoc, maxLoc = cv2.minMaxLoc(src)\n",
    "# minVal = 100.0, maxVal = 184.0\n",
    "print(minVal, maxVal)\n",
    "\n",
    "dst_norm = np.clip((src - minVal)*255./(maxVal-minVal), 0, 255).astype(np.uint8)\n",
    "\n",
    "# calcHist(images, channels, mask, histSize, ranges[, hist[, accumulate]]) -> hist\n",
    "hist = cv2.calcHist([src], [0], None, [256], [0, 256])\n",
    "hist_norm = cv2.calcHist([dst_norm], [0], None, [256], [0, 256])\n",
    "\n",
    "\n",
    "plt.plot(hist_color= 'b')\n",
    "plt.plot(hist_norm, color='r')\n",
    "\n",
    "plt.plot(hist)\n",
    "plt.show()\n",
    "\n",
    "cv2.imshow('src', src)\n",
    "cv2.imshow('dst_norm', dst_norm)\n",
    "cv2.waitKey()\n",
    "cv2.destroyAllWindows()"
   ]
  },
  {
   "cell_type": "code",
   "execution_count": null,
   "id": "3eb09a89",
   "metadata": {},
   "outputs": [],
   "source": [
    "np.clip(1.1 ).astype(np.uint8)"
   ]
  },
  {
   "cell_type": "code",
   "execution_count": null,
   "id": "24a21df1",
   "metadata": {},
   "outputs": [],
   "source": [
    "# src =cv2.imread('./fig/puppy_shrink.png', 0)\n",
    "src = cv2.imread('./fig/manjang.jpg',cv2.IMREAD_REDUCED_GRAYSCALE_2)\n",
    "\n",
    "\n",
    "dst_norm = cv2.normalize(src, None, 0, 255, cv2.NORM_MINMAX, -1)\n",
    "dst_equal = cv2.equalizeHist(src)\n",
    "\n",
    "# calcHist(images, channels, mask, histSize, ranges[, hist[, accumulate]]) -> hist\n",
    "hist = cv2.calcHist([src], [0], None, [256], [0, 256])\n",
    "hist_norm = cv2.calcHist([dst_norm], [0], None, [256], [0, 256])\n",
    "hist_equal = cv2.calcHist([dst_equal], [0], None, [256], [0, 256])\n",
    "\n",
    "\n",
    "plt.plot(hist_color= 'b')\n",
    "plt.plot(hist_norm, color='r')\n",
    "plt.plot(hist_equal, color='g')\n",
    "\n",
    "plt.show()\n",
    "\n",
    "cv2.imshow('src', src)\n",
    "cv2.imshow('dst_norm', dst_norm)\n",
    "cv2.imshow('dst_equal', dst_equal)\n",
    "\n",
    "cv2.waitKey()\n",
    "cv2.destroyAllWindows()"
   ]
  },
  {
   "cell_type": "code",
   "execution_count": 36,
   "id": "2e9458ff",
   "metadata": {},
   "outputs": [],
   "source": [
    "src = cv2.imread('./fig/spring_in_park.jpg', cv2.IMREAD_REDUCED_COLOR_2)\n",
    "\n",
    "src_hsv = cv2.cvtColor(src, cv2.COLOR_BGR2HSV)\n",
    "h, s, v = cv2.split(src_hsv)\n",
    "\n",
    "v_norm = cv2.normalize(v, None, 0, 255, cv2.NORM_MINMAX, -1)\n",
    "v_equal = cv2.equalizeHist(v)\n",
    "\n",
    "dst_norm = cv2.merge((h, s, v_norm))\n",
    "dst_equal = cv2.merge((h, s, v_equal))\n",
    "\n",
    "dst_norm = cv2.cvtColor(dst_norm, cv2.COLOR_HSV2BGR)\n",
    "dst_equal = cv2.cvtColor(dst_equal, cv2.COLOR_HSV2BGR)\n",
    "\n",
    "cv2.imshow('src', src)\n",
    "cv2.imshow('dst_norm', dst_norm)\n",
    "cv2.imshow('dst_equal', dst_equal)\n",
    "\n",
    "cv2.waitKey()\n",
    "cv2.destroyAllWindows()"
   ]
  },
  {
   "cell_type": "markdown",
   "id": "4d794e52",
   "metadata": {},
   "source": [
    "## 파레트"
   ]
  },
  {
   "cell_type": "code",
   "execution_count": 34,
   "id": "c3fbbf8f",
   "metadata": {},
   "outputs": [],
   "source": [
    "src = cv2.imread('./fig/palette.png')\n",
    "# src = cv2.imread('./fig/palette_dark.png')\n",
    "\n",
    "src_hsv = cv2.cvtColor(src, cv2.COLOR_BGR2HSV)\n",
    "\n",
    "# inRange(src, lowerb, upperb[, dst]) -> dst\n",
    "# src: 입력영상\n",
    "# lowerb: 하한값 (0,0,0)\n",
    "# upperb: 상한값 (255,255,255)\n",
    "\n",
    "dst1 = cv2.inRange(src, (0, 100, 0), (80, 255, 80)) # b, g, r\n",
    "dst2 = cv2.inRange(src_hsv, (50, 50, 0), (70, 255, 255)) # h(색), s(순도), v(밝기)\n",
    "\n",
    "dst = cv2.copyTo(src, dst2)\n",
    "\n",
    "cv2.imshow('src', src)\n",
    "cv2.imshow('dst1', dst1)\n",
    "cv2.imshow('dst_hsv', dst2)\n",
    "cv2.imshow('dst', dst)\n",
    "\n",
    "\n",
    "cv2.waitKey()\n",
    "cv2.destroyAllWindows()"
   ]
  },
  {
   "cell_type": "markdown",
   "id": "3cfedd22",
   "metadata": {},
   "source": [
    "## 트랙바 콜"
   ]
  },
  {
   "cell_type": "code",
   "execution_count": null,
   "id": "58000e88",
   "metadata": {},
   "outputs": [],
   "source": [
    "def call_track(pos):\n",
    "    hmin = cv2.getTrackbarPos('h_min', 'dst')\n",
    "    hmax = cv2.getTrackbarPos('h_max', 'dst')\n",
    "    \n",
    "    dst = cv2.inRange(src, (hmin, 150, 0), (hmax, 255, 255))\n",
    "    cv2.imshow('dst', dst)\n",
    "\n",
    "src = cv2.imread('./fig/palette.png')\n",
    "\n",
    "cv2.imshow('src', src)\n",
    "cv2.namedWindow('dst')\n",
    "cv2.createTrackbar('h_min', 'dst', 50, 179, call_track)\n",
    "cv2.createTrackbar('h_max', 'dst', 100, 179, call_track)\n",
    "\n",
    "\n",
    "cv2.waitKey()\n",
    "cv2.destroyAllWindows()"
   ]
  },
  {
   "cell_type": "markdown",
   "id": "5f48eb4d",
   "metadata": {},
   "source": [
    "## 과제"
   ]
  },
  {
   "cell_type": "code",
   "execution_count": 22,
   "id": "a92e3092",
   "metadata": {},
   "outputs": [
    {
     "ename": "error",
     "evalue": "OpenCV(4.6.0) D:\\a\\opencv-python\\opencv-python\\opencv\\modules\\highgui\\src\\window.cpp:862: error: (-215:Assertion failed) trackbar in function 'cv::getTrackbarPos'\n",
     "output_type": "error",
     "traceback": [
      "\u001b[1;31m---------------------------------------------------------------------------\u001b[0m",
      "\u001b[1;31merror\u001b[0m                                     Traceback (most recent call last)",
      "Input \u001b[1;32mIn [22]\u001b[0m, in \u001b[0;36mcall_track\u001b[1;34m(pos)\u001b[0m\n\u001b[0;32m     14\u001b[0m \u001b[38;5;28;01mdef\u001b[39;00m \u001b[38;5;21mcall_track\u001b[39m(pos):\n\u001b[0;32m     15\u001b[0m     hmin \u001b[38;5;241m=\u001b[39m cv2\u001b[38;5;241m.\u001b[39mgetTrackbarPos(\u001b[38;5;124m'\u001b[39m\u001b[38;5;124mh_min\u001b[39m\u001b[38;5;124m'\u001b[39m, \u001b[38;5;124m'\u001b[39m\u001b[38;5;124mdst_resize\u001b[39m\u001b[38;5;124m'\u001b[39m)\n\u001b[1;32m---> 16\u001b[0m     hmax \u001b[38;5;241m=\u001b[39m \u001b[43mcv2\u001b[49m\u001b[38;5;241;43m.\u001b[39;49m\u001b[43mgetTrackbarPos\u001b[49m\u001b[43m(\u001b[49m\u001b[38;5;124;43m'\u001b[39;49m\u001b[38;5;124;43mh_max\u001b[39;49m\u001b[38;5;124;43m'\u001b[39;49m\u001b[43m,\u001b[49m\u001b[43m \u001b[49m\u001b[38;5;124;43m'\u001b[39;49m\u001b[38;5;124;43mdst_resize\u001b[39;49m\u001b[38;5;124;43m'\u001b[39;49m\u001b[43m)\u001b[49m\n\u001b[0;32m     17\u001b[0m \u001b[38;5;66;03m#     smin = cv2.getTrackbarPos('s_min', 'dst')\u001b[39;00m\n\u001b[0;32m     18\u001b[0m \u001b[38;5;66;03m#     smax = cv2.getTrackbarPos('s_max', 'dst')\u001b[39;00m\n\u001b[0;32m     20\u001b[0m     dst_resize \u001b[38;5;241m=\u001b[39m cv2\u001b[38;5;241m.\u001b[39minRange(src_gray,(hmin, \u001b[38;5;241m150\u001b[39m, \u001b[38;5;241m0\u001b[39m), (hmax, \u001b[38;5;241m255\u001b[39m, \u001b[38;5;241m255\u001b[39m))\n",
      "\u001b[1;31merror\u001b[0m: OpenCV(4.6.0) D:\\a\\opencv-python\\opencv-python\\opencv\\modules\\highgui\\src\\window.cpp:862: error: (-215:Assertion failed) trackbar in function 'cv::getTrackbarPos'\n"
     ]
    }
   ],
   "source": [
    "src = cv2.imread('./fig/chromakey.png')\n",
    "dst = cv2.imread('./fig/autumn.jpg')\n",
    "\n",
    "# src_gray = cv2.cvtColor(src, cv2.COLOR_BGR2HSV)\n",
    "src_hsv = cv2.cvtColor(src, cv2.COLOR_BGR2HSV)\n",
    "# retval, mask = cv2.threshold(src_gray, 150, 255, cv2.THRESH_MASK)\n",
    "dst2 = cv2.inRange(src_hsv, (50, 50, 0), (70, 255, 255)) # h(색), s(순도), v(밝기)\n",
    "dst = cv2.copyTo(src, dst2)\n",
    "\n",
    "h , w = src.shape[:2]\n",
    "dst_resize = cv2.resize(dst, (w, h))\n",
    "\n",
    "\n",
    "def call_track(pos):\n",
    "    hmin = cv2.getTrackbarPos('h_min', 'dst_resize')\n",
    "    hmax = cv2.getTrackbarPos('h_max', 'dst_resize')\n",
    "#     smin = cv2.getTrackbarPos('s_min', 'dst')\n",
    "#     smax = cv2.getTrackbarPos('s_max', 'dst')\n",
    "    \n",
    "    dst_resize = cv2.inRange(src_gray,(hmin, 150, 0), (hmax, 255, 255))\n",
    "    cv2.imshow('dst_resize', dst_resize)\n",
    "\n",
    "cv2.copyTo(src, mask, dst_resize)\n",
    "    \n",
    "cv2.namedWindow('dst_resize')\n",
    "cv2.imshow('dst_resize', dst_resize)\n",
    "cv2.imshow('src_gray', src_gray)\n",
    "cv2.createTrackbar('h_min', 'dst_resize', 50, 179, call_track)\n",
    "cv2.createTrackbar('h_max', 'dst_resize', 100, 179, call_track)\n",
    "# cv2.createTrackbar('s_min', 'dst', 0, 179, call_track)\n",
    "# cv2.createTrackbar('s_max', 'dst', 50, 179, call_track)\n",
    "\n",
    "\n",
    "cv2.waitKey()\n",
    "cv2.destroyAllWindows()"
   ]
  },
  {
   "cell_type": "code",
   "execution_count": 2,
   "id": "775f6162",
   "metadata": {},
   "outputs": [],
   "source": [
    "import cv2\n",
    "import sys\n",
    "import numpy as np\n",
    "import matplotlib.pyplot as plt"
   ]
  },
  {
   "cell_type": "code",
   "execution_count": null,
   "id": "f3d06e4c",
   "metadata": {},
   "outputs": [],
   "source": []
  },
  {
   "cell_type": "code",
   "execution_count": 37,
   "id": "ab136e4f",
   "metadata": {},
   "outputs": [
    {
     "ename": "error",
     "evalue": "OpenCV(4.6.0) D:\\a\\opencv-python\\opencv-python\\opencv\\modules\\highgui\\src\\window.cpp:862: error: (-215:Assertion failed) trackbar in function 'cv::getTrackbarPos'\n",
     "output_type": "error",
     "traceback": [
      "\u001b[1;31m---------------------------------------------------------------------------\u001b[0m",
      "\u001b[1;31merror\u001b[0m                                     Traceback (most recent call last)",
      "Input \u001b[1;32mIn [37]\u001b[0m, in \u001b[0;36mcall_track\u001b[1;34m(pos)\u001b[0m\n\u001b[0;32m     11\u001b[0m \u001b[38;5;28;01mdef\u001b[39;00m \u001b[38;5;21mcall_track\u001b[39m(pos):\n\u001b[0;32m     12\u001b[0m     hmin \u001b[38;5;241m=\u001b[39m cv2\u001b[38;5;241m.\u001b[39mgetTrackbarPos(\u001b[38;5;124m'\u001b[39m\u001b[38;5;124mh_min\u001b[39m\u001b[38;5;124m'\u001b[39m, \u001b[38;5;124m'\u001b[39m\u001b[38;5;124mdst_resize\u001b[39m\u001b[38;5;124m'\u001b[39m)\n\u001b[1;32m---> 13\u001b[0m     hmax \u001b[38;5;241m=\u001b[39m \u001b[43mcv2\u001b[49m\u001b[38;5;241;43m.\u001b[39;49m\u001b[43mgetTrackbarPos\u001b[49m\u001b[43m(\u001b[49m\u001b[38;5;124;43m'\u001b[39;49m\u001b[38;5;124;43mh_max\u001b[39;49m\u001b[38;5;124;43m'\u001b[39;49m\u001b[43m,\u001b[49m\u001b[43m \u001b[49m\u001b[38;5;124;43m'\u001b[39;49m\u001b[38;5;124;43mdst_resize\u001b[39;49m\u001b[38;5;124;43m'\u001b[39;49m\u001b[43m)\u001b[49m\n\u001b[0;32m     14\u001b[0m \u001b[38;5;66;03m#     smin = cv2.getTrackbarPos('s_min', 'dst')\u001b[39;00m\n\u001b[0;32m     15\u001b[0m \u001b[38;5;66;03m#     smax = cv2.getTrackbarPos('s_max', 'dst')\u001b[39;00m\n\u001b[0;32m     17\u001b[0m     dst_resize \u001b[38;5;241m=\u001b[39m cv2\u001b[38;5;241m.\u001b[39minRange(src_gray,(hmin, \u001b[38;5;241m150\u001b[39m, \u001b[38;5;241m0\u001b[39m), (hmax, \u001b[38;5;241m255\u001b[39m, \u001b[38;5;241m255\u001b[39m))\n",
      "\u001b[1;31merror\u001b[0m: OpenCV(4.6.0) D:\\a\\opencv-python\\opencv-python\\opencv\\modules\\highgui\\src\\window.cpp:862: error: (-215:Assertion failed) trackbar in function 'cv::getTrackbarPos'\n"
     ]
    }
   ],
   "source": [
    "src = cv2.imread('./fig/cow.png')\n",
    "dst = cv2.imread('./fig/green.png')\n",
    "\n",
    "src_hsv = cv2.cvtColor(src, cv2.COLOR_BGR2HSV)\n",
    "retval, mask = cv2.threshold(src_hsv, 240, 255, cv2.THRESH_BINARY_INV)\n",
    "\n",
    "h, w = src.shape[:2]\n",
    "dst_resize = dst[400:400+h, 300:300+w]\n",
    "\n",
    "\n",
    "def call_track(pos):\n",
    "    hmin = cv2.getTrackbarPos('h_min', 'dst_resize')\n",
    "    hmax = cv2.getTrackbarPos('h_max', 'dst_resize')\n",
    "#     smin = cv2.getTrackbarPos('s_min', 'dst')\n",
    "#     smax = cv2.getTrackbarPos('s_max', 'dst')\n",
    "    \n",
    "    dst_resize = cv2.inRange(src_gray,(hmin, 150, 0), (hmax, 255, 255))\n",
    "    cv2.imshow('dst_resize', dst_resize)\n",
    "    \n",
    "\n",
    "dst2 = cv2.inRange(src_hsv, (50, 50, 0), (70, 255, 255)) # h(색), s(순도), v(밝기)\n",
    "\n",
    "dst = cv2.copyTo(src, dst2)\n",
    "\n",
    "cv2.imshow('src', src)\n",
    "cv2.imshow('dst_resize', dst_resize)\n",
    "# cv2.imshow('dst_resize', dst_resize)\n",
    "cv2.imshow('src_mask', mask)\n",
    "cv2.imshow('dst', dst)\n",
    "cv2.createTrackbar('h_min', 'dst_resize', 50, 179, call_track)\n",
    "cv2.createTrackbar('h_max', 'dst_resize', 100, 179, call_track)\n",
    "\n",
    "cv2.waitKey()\n",
    "cv2.destroyAllWindows()"
   ]
  },
  {
   "cell_type": "code",
   "execution_count": null,
   "id": "65ca34b8",
   "metadata": {},
   "outputs": [],
   "source": []
  },
  {
   "cell_type": "code",
   "execution_count": null,
   "id": "f2161c32",
   "metadata": {},
   "outputs": [],
   "source": []
  }
 ],
 "metadata": {
  "kernelspec": {
   "display_name": "Python 3 (ipykernel)",
   "language": "python",
   "name": "python3"
  },
  "language_info": {
   "codemirror_mode": {
    "name": "ipython",
    "version": 3
   },
   "file_extension": ".py",
   "mimetype": "text/x-python",
   "name": "python",
   "nbconvert_exporter": "python",
   "pygments_lexer": "ipython3",
   "version": "3.9.12"
  }
 },
 "nbformat": 4,
 "nbformat_minor": 5
}
